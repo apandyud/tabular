{
 "cells": [
  {
   "cell_type": "code",
   "execution_count": 1,
   "id": "2adfc3cc-7f34-4db3-926b-ae004185f196",
   "metadata": {},
   "outputs": [],
   "source": [
    "import pandas as pd\n",
    "import pyreadstat\n",
    "from langchain_chroma import Chroma\n",
    "from langchain_openai import OpenAIEmbeddings\n",
    "import utils\n",
    "\n",
    "%load_ext autoreload\n",
    "%autoreload 2\n"
   ]
  },
  {
   "cell_type": "code",
   "execution_count": 2,
   "id": "05141ab4-b23f-4a0d-a41e-cc918811030f",
   "metadata": {},
   "outputs": [],
   "source": [
    "df_sch, meta_sch = pyreadstat.read_sav('data/PISA2022_SCH_QQQ.SAV')"
   ]
  },
  {
   "cell_type": "code",
   "execution_count": 3,
   "id": "aec4a347-3f4b-49ec-9e0b-91652f0deefa",
   "metadata": {},
   "outputs": [],
   "source": [
    "import os\n",
    "\n",
    "with open('data/openai.api.key', 'r') as filek: \n",
    "    openai_key = filek.read()\n",
    "os.environ[\"OPENAI_API_KEY\"] =  openai_key "
   ]
  },
  {
   "cell_type": "code",
   "execution_count": 9,
   "id": "02754d4b-f9d9-4b63-8db2-0d37359e325b",
   "metadata": {},
   "outputs": [],
   "source": [
    "   \n",
    "cols = utils.meta2docs(meta_sch)\n",
    "\n",
    "cols_vectorstore = Chroma.from_documents(cols, OpenAIEmbeddings(),  persist_directory=\"./chroma_db_cols_vectorstore4\")\n",
    "\n",
    "cols_retriever = cols_vectorstore.as_retriever()"
   ]
  },
  {
   "cell_type": "code",
   "execution_count": 10,
   "id": "0574b7fc-b195-4fde-9c50-a2aac6226a98",
   "metadata": {},
   "outputs": [],
   "source": [
    "test_data = [\n",
    "    {'question':'Which country has the highest average  teacher student ratio? How much is it? ','expected_columns': ['STRATIO', 'CNT'], 'expected_answer': 28.95},\n",
    "    {'question':'Which country has the highest average class sizes? How much is it?','expected_columns': ['CLSIZE', 'CNT'], 'expected_answer': 42.65 },    \n",
    "    {'question':'In how many languages ​​was the questionnaire filled out?', 'expected_columns': ['LANGTEST_QQQ'], 'expected_answer': 54},\n",
    "    {'question':'What is Hungary average teacher-student ratio?', 'expected_columns': ['STRATIO', 'CNT'], 'expected_answer': 10.83},\n",
    "    {'question':'What is OECD average teacher-student ratio?', 'expected_columns': ['STRATIO', 'OECD'], 'expected_answer':  12.551608},\n",
    "    {'question':'Where is average teacher-student ratio in Hungary compared to the OECD average in terms of average teacher-student ratio? Give the difference as number.','expected_columns': ['STRATIO', 'OECD', 'CNT'], 'expected_answer': -1.721608 },    \n",
    "    #{'question':'how many education systems were involved in the survey? ','expected_columns': ['STRATIO', 'CNT'], 'expected_answer': 28.95},\n",
    "    {'question':'how many countries were involved in the survey?','expected_columns': ['CNT'], 'expected_answer': 80},\n",
    "    {'question':'how many countries that are OECD memeber were involved in the survey? ','expected_columns': ['OECD', 'CNT'], 'expected_answer': 37},\n",
    "    {'question':'how many schools were involved in the survey?','expected_columns': ['CNTSCHID'], 'expected_answer': 21629},\n",
    "    {'question':'what is the relation between school autonomy  and teacher participation? Please give linear regression coefficient as result','expected_columns': ['SCHAUTO','TCHPART'], 'expected_answer':  0.2216 },\n",
    "]\n"
   ]
  },
  {
   "cell_type": "code",
   "execution_count": 11,
   "id": "ba0122a1-8559-4ad7-87f7-459d35135f2d",
   "metadata": {},
   "outputs": [
    {
     "name": "stdout",
     "output_type": "stream",
     "text": [
      "- Country\n",
      "- Teacher student ratio\n",
      "hint - Country\n",
      "['REGION', 'OECD', 'SCHLTYPE', 'CNT']\n",
      "hint - Teacher student ratio\n",
      "['STRATIO', 'SMRATIO', 'PROPMATH', 'PROMGMT']\n",
      "content=\"def run(data):\\n    data = data.dropna(subset=['CNT', 'STRATIO'])\\n    highest_avg_ratio = data.groupby('CNT')['STRATIO'].mean().max()\\n    return float(highest_avg_ratio)\" response_metadata={'token_usage': {'completion_tokens': 44, 'prompt_tokens': 275, 'total_tokens': 319}, 'model_name': 'gpt-3.5-turbo', 'system_fingerprint': None, 'finish_reason': 'stop', 'logprobs': None} id='run-e74dbd7d-3d43-47d0-9901-04f27b16ad6f-0' usage_metadata={'input_tokens': 275, 'output_tokens': 44, 'total_tokens': 319}\n",
      "def run(data):\n",
      "    data = data.dropna(subset=['CNT', 'STRATIO'])\n",
      "    highest_avg_ratio = data.groupby('CNT')['STRATIO'].mean().max()\n",
      "    return float(highest_avg_ratio)\n",
      "- Country\n",
      "- Average class size\n",
      "hint - Country\n",
      "['REGION', 'OECD', 'SCHLTYPE', 'CNT']\n",
      "hint - Average class size\n",
      "['MCLSIZE', 'CLSIZE', 'SCHSIZE', 'STRATIO']\n",
      "content=\"def run(data):\\n    data = data.dropna(subset=['CLSIZ'])\\n    avg_class_size = data.groupby('CNT')['CLSIZ'].mean().max()\\n    return float(avg_class_size)\" response_metadata={'token_usage': {'completion_tokens': 40, 'prompt_tokens': 264, 'total_tokens': 304}, 'model_name': 'gpt-3.5-turbo', 'system_fingerprint': None, 'finish_reason': 'stop', 'logprobs': None} id='run-e9f4d147-70f2-420f-aa35-dee9b86353e4-0' usage_metadata={'input_tokens': 264, 'output_tokens': 40, 'total_tokens': 304}\n",
      "def run(data):\n",
      "    data = data.dropna(subset=['CLSIZ'])\n",
      "    avg_class_size = data.groupby('CNT')['CLSIZ'].mean().max()\n",
      "    return float(avg_class_size)\n"
     ]
    },
    {
     "ename": "KeyError",
     "evalue": "['CLSIZ']",
     "output_type": "error",
     "traceback": [
      "\u001b[0;31m---------------------------------------------------------------------------\u001b[0m",
      "\u001b[0;31mKeyError\u001b[0m                                  Traceback (most recent call last)",
      "\u001b[0;32m/tmp/ipykernel_931520/591032806.py\u001b[0m in \u001b[0;36m?\u001b[0;34m()\u001b[0m\n\u001b[1;32m      1\u001b[0m \u001b[0;32mfrom\u001b[0m \u001b[0mlangchain_openai\u001b[0m \u001b[0;32mimport\u001b[0m \u001b[0mChatOpenAI\u001b[0m\u001b[0;34m\u001b[0m\u001b[0;34m\u001b[0m\u001b[0m\n\u001b[1;32m      2\u001b[0m \u001b[0;34m\u001b[0m\u001b[0m\n\u001b[1;32m      3\u001b[0m \u001b[0mllm\u001b[0m \u001b[0;34m=\u001b[0m \u001b[0mChatOpenAI\u001b[0m\u001b[0;34m(\u001b[0m\u001b[0mtemperature\u001b[0m\u001b[0;34m=\u001b[0m\u001b[0;36m0\u001b[0m\u001b[0;34m)\u001b[0m\u001b[0;34m\u001b[0m\u001b[0;34m\u001b[0m\u001b[0m\n\u001b[1;32m      4\u001b[0m \u001b[0;34m\u001b[0m\u001b[0m\n\u001b[0;32m----> 5\u001b[0;31m \u001b[0meval_res\u001b[0m \u001b[0;34m=\u001b[0m \u001b[0mutils\u001b[0m\u001b[0;34m.\u001b[0m\u001b[0mexecute_tests\u001b[0m\u001b[0;34m(\u001b[0m\u001b[0mllm\u001b[0m\u001b[0;34m,\u001b[0m \u001b[0mtest_data\u001b[0m\u001b[0;34m,\u001b[0m \u001b[0mdf_sch\u001b[0m\u001b[0;34m,\u001b[0m \u001b[0mmeta_sch\u001b[0m\u001b[0;34m,\u001b[0m \u001b[0mcols_retriever\u001b[0m\u001b[0;34m)\u001b[0m\u001b[0;34m\u001b[0m\u001b[0;34m\u001b[0m\u001b[0m\n\u001b[0m",
      "\u001b[0;32m~/work/Arpad/Tabular/utils.py\u001b[0m in \u001b[0;36m?\u001b[0;34m(llm, test_data, df, meta, cols_retriever)\u001b[0m\n\u001b[1;32m     85\u001b[0m     \u001b[0meval_res\u001b[0m \u001b[0;34m=\u001b[0m \u001b[0;34m[\u001b[0m\u001b[0;34m]\u001b[0m\u001b[0;34m\u001b[0m\u001b[0;34m\u001b[0m\u001b[0m\n\u001b[1;32m     86\u001b[0m     \u001b[0;32mfor\u001b[0m \u001b[0mtest\u001b[0m \u001b[0;32min\u001b[0m \u001b[0mtest_data\u001b[0m\u001b[0;34m:\u001b[0m\u001b[0;34m\u001b[0m\u001b[0;34m\u001b[0m\u001b[0m\n\u001b[1;32m     87\u001b[0m         \u001b[0mt2\u001b[0m \u001b[0;34m=\u001b[0m \u001b[0mtest\u001b[0m\u001b[0;34m\u001b[0m\u001b[0;34m\u001b[0m\u001b[0m\n\u001b[1;32m     88\u001b[0m \u001b[0;34m\u001b[0m\u001b[0m\n\u001b[0;32m---> 89\u001b[0;31m         \u001b[0manswer\u001b[0m \u001b[0;34m=\u001b[0m \u001b[0mpipeline\u001b[0m\u001b[0;34m(\u001b[0m\u001b[0mllm\u001b[0m\u001b[0;34m,\u001b[0m \u001b[0mtest\u001b[0m\u001b[0;34m[\u001b[0m\u001b[0;34m'question'\u001b[0m\u001b[0;34m]\u001b[0m\u001b[0;34m,\u001b[0m \u001b[0mdf\u001b[0m\u001b[0;34m,\u001b[0m \u001b[0mmeta\u001b[0m\u001b[0;34m,\u001b[0m \u001b[0mcols_retriever\u001b[0m\u001b[0;34m)\u001b[0m\u001b[0;34m\u001b[0m\u001b[0;34m\u001b[0m\u001b[0m\n\u001b[0m\u001b[1;32m     90\u001b[0m \u001b[0;34m\u001b[0m\u001b[0m\n\u001b[1;32m     91\u001b[0m         \u001b[0mfound_cols\u001b[0m \u001b[0;34m=\u001b[0m \u001b[0;34m[\u001b[0m\u001b[0;34m]\u001b[0m\u001b[0;34m\u001b[0m\u001b[0;34m\u001b[0m\u001b[0m\n\u001b[1;32m     92\u001b[0m         \u001b[0;32mfor\u001b[0m \u001b[0mexpected_column\u001b[0m \u001b[0;32min\u001b[0m \u001b[0mtest\u001b[0m\u001b[0;34m[\u001b[0m\u001b[0;34m'expected_columns'\u001b[0m\u001b[0;34m]\u001b[0m\u001b[0;34m:\u001b[0m\u001b[0;34m\u001b[0m\u001b[0;34m\u001b[0m\u001b[0m\n",
      "\u001b[0;32m~/work/Arpad/Tabular/utils.py\u001b[0m in \u001b[0;36m?\u001b[0;34m(llm, question, df, meta, col_retriever)\u001b[0m\n\u001b[1;32m     77\u001b[0m     \u001b[0mcode\u001b[0m \u001b[0;34m=\u001b[0m  \u001b[0mgen_code\u001b[0m\u001b[0;34m(\u001b[0m\u001b[0mllm\u001b[0m\u001b[0;34m,\u001b[0m \u001b[0mquestion\u001b[0m\u001b[0;34m,\u001b[0m \u001b[0mrel_col_docs\u001b[0m\u001b[0;34m,\u001b[0m \u001b[0mmeta\u001b[0m\u001b[0;34m)\u001b[0m\u001b[0;34m\u001b[0m\u001b[0;34m\u001b[0m\u001b[0m\n\u001b[1;32m     78\u001b[0m     \u001b[0mprint\u001b[0m\u001b[0;34m(\u001b[0m\u001b[0mcode\u001b[0m\u001b[0;34m)\u001b[0m\u001b[0;34m\u001b[0m\u001b[0;34m\u001b[0m\u001b[0m\n\u001b[1;32m     79\u001b[0m     \u001b[0mcolumns\u001b[0m \u001b[0;34m=\u001b[0m \u001b[0;34m[\u001b[0m\u001b[0mi\u001b[0m\u001b[0;34m.\u001b[0m\u001b[0mmetadata\u001b[0m\u001b[0;34m[\u001b[0m\u001b[0;34m'original_col_name'\u001b[0m\u001b[0;34m]\u001b[0m \u001b[0;32mfor\u001b[0m \u001b[0mi\u001b[0m \u001b[0;32min\u001b[0m \u001b[0mrel_col_docs\u001b[0m\u001b[0;34m]\u001b[0m\u001b[0;34m\u001b[0m\u001b[0;34m\u001b[0m\u001b[0m\n\u001b[1;32m     80\u001b[0m     \u001b[0mdf2\u001b[0m \u001b[0;34m=\u001b[0m \u001b[0mdf\u001b[0m\u001b[0;34m.\u001b[0m\u001b[0mdropna\u001b[0m\u001b[0;34m(\u001b[0m\u001b[0msubset\u001b[0m\u001b[0;34m=\u001b[0m\u001b[0mcolumns\u001b[0m\u001b[0;34m)\u001b[0m\u001b[0;34m\u001b[0m\u001b[0;34m\u001b[0m\u001b[0m\n\u001b[0;32m---> 81\u001b[0;31m     \u001b[0mres\u001b[0m \u001b[0;34m=\u001b[0m \u001b[0mexec_code\u001b[0m\u001b[0;34m(\u001b[0m\u001b[0mcode\u001b[0m\u001b[0;34m,\u001b[0m \u001b[0mdf\u001b[0m\u001b[0;34m)\u001b[0m\u001b[0;34m\u001b[0m\u001b[0;34m\u001b[0m\u001b[0m\n\u001b[0m\u001b[1;32m     82\u001b[0m     \u001b[0;32mreturn\u001b[0m \u001b[0;34m{\u001b[0m\u001b[0;34m'question'\u001b[0m\u001b[0;34m:\u001b[0m \u001b[0mquestion\u001b[0m\u001b[0;34m,\u001b[0m \u001b[0;34m'result'\u001b[0m\u001b[0;34m:\u001b[0m \u001b[0mres\u001b[0m\u001b[0;34m,\u001b[0m \u001b[0;34m'hint_cols'\u001b[0m\u001b[0;34m:\u001b[0m \u001b[0;34m[\u001b[0m\u001b[0mi\u001b[0m\u001b[0;34m.\u001b[0m\u001b[0mmetadata\u001b[0m\u001b[0;34m[\u001b[0m\u001b[0;34m'original_col_name'\u001b[0m\u001b[0;34m]\u001b[0m \u001b[0;32mfor\u001b[0m \u001b[0mi\u001b[0m \u001b[0;32min\u001b[0m \u001b[0mrel_col_docs\u001b[0m\u001b[0;34m]\u001b[0m\u001b[0;34m}\u001b[0m\u001b[0;34m\u001b[0m\u001b[0;34m\u001b[0m\u001b[0m\n",
      "\u001b[0;32m~/work/Arpad/Tabular/utils.py\u001b[0m in \u001b[0;36m?\u001b[0;34m(code, df)\u001b[0m\n\u001b[1;32m     67\u001b[0m \u001b[0;32mdef\u001b[0m \u001b[0mexec_code\u001b[0m\u001b[0;34m(\u001b[0m\u001b[0mcode\u001b[0m\u001b[0;34m,\u001b[0m \u001b[0mdf\u001b[0m\u001b[0;34m)\u001b[0m\u001b[0;34m:\u001b[0m\u001b[0;34m\u001b[0m\u001b[0;34m\u001b[0m\u001b[0m\n\u001b[1;32m     68\u001b[0m     \u001b[0mloc\u001b[0m \u001b[0;34m=\u001b[0m \u001b[0mlocals\u001b[0m\u001b[0;34m(\u001b[0m\u001b[0;34m)\u001b[0m\u001b[0;34m\u001b[0m\u001b[0;34m\u001b[0m\u001b[0m\n\u001b[0;32m---> 69\u001b[0;31m     \u001b[0mexec\u001b[0m\u001b[0;34m(\u001b[0m\u001b[0mcode\u001b[0m \u001b[0;34m+\u001b[0m \u001b[0;34m\"\\nr = run(df)\\n\"\u001b[0m\u001b[0;34m,\u001b[0m \u001b[0mglobals\u001b[0m\u001b[0;34m(\u001b[0m\u001b[0;34m)\u001b[0m\u001b[0;34m,\u001b[0m \u001b[0mloc\u001b[0m\u001b[0;34m)\u001b[0m\u001b[0;34m\u001b[0m\u001b[0;34m\u001b[0m\u001b[0m\n\u001b[0m\u001b[1;32m     70\u001b[0m     \u001b[0;32mreturn\u001b[0m \u001b[0mloc\u001b[0m\u001b[0;34m[\u001b[0m\u001b[0;34m'r'\u001b[0m\u001b[0;34m]\u001b[0m\u001b[0;34m\u001b[0m\u001b[0;34m\u001b[0m\u001b[0m\n",
      "\u001b[0;32m<string>\u001b[0m in \u001b[0;36m?\u001b[0;34m()\u001b[0m\n\u001b[1;32m      1\u001b[0m \u001b[0;34m'Could not get source, probably due dynamically evaluated source code.'\u001b[0m\u001b[0;34m\u001b[0m\u001b[0;34m\u001b[0m\u001b[0m\n",
      "\u001b[0;32m<string>\u001b[0m in \u001b[0;36m?\u001b[0;34m(data)\u001b[0m\n\u001b[1;32m      1\u001b[0m \u001b[0;34m'Could not get source, probably due dynamically evaluated source code.'\u001b[0m\u001b[0;34m\u001b[0m\u001b[0;34m\u001b[0m\u001b[0m\n",
      "\u001b[0;32m/opt/conda/envs/arpad_ts/lib/python3.10/site-packages/pandas/core/frame.py\u001b[0m in \u001b[0;36m?\u001b[0;34m(self, axis, how, thresh, subset, inplace, ignore_index)\u001b[0m\n\u001b[1;32m   6666\u001b[0m             \u001b[0max\u001b[0m \u001b[0;34m=\u001b[0m \u001b[0mself\u001b[0m\u001b[0;34m.\u001b[0m\u001b[0m_get_axis\u001b[0m\u001b[0;34m(\u001b[0m\u001b[0magg_axis\u001b[0m\u001b[0;34m)\u001b[0m\u001b[0;34m\u001b[0m\u001b[0;34m\u001b[0m\u001b[0m\n\u001b[1;32m   6667\u001b[0m             \u001b[0mindices\u001b[0m \u001b[0;34m=\u001b[0m \u001b[0max\u001b[0m\u001b[0;34m.\u001b[0m\u001b[0mget_indexer_for\u001b[0m\u001b[0;34m(\u001b[0m\u001b[0msubset\u001b[0m\u001b[0;34m)\u001b[0m\u001b[0;34m\u001b[0m\u001b[0;34m\u001b[0m\u001b[0m\n\u001b[1;32m   6668\u001b[0m             \u001b[0mcheck\u001b[0m \u001b[0;34m=\u001b[0m \u001b[0mindices\u001b[0m \u001b[0;34m==\u001b[0m \u001b[0;34m-\u001b[0m\u001b[0;36m1\u001b[0m\u001b[0;34m\u001b[0m\u001b[0;34m\u001b[0m\u001b[0m\n\u001b[1;32m   6669\u001b[0m             \u001b[0;32mif\u001b[0m \u001b[0mcheck\u001b[0m\u001b[0;34m.\u001b[0m\u001b[0many\u001b[0m\u001b[0;34m(\u001b[0m\u001b[0;34m)\u001b[0m\u001b[0;34m:\u001b[0m\u001b[0;34m\u001b[0m\u001b[0;34m\u001b[0m\u001b[0m\n\u001b[0;32m-> 6670\u001b[0;31m                 \u001b[0;32mraise\u001b[0m \u001b[0mKeyError\u001b[0m\u001b[0;34m(\u001b[0m\u001b[0mnp\u001b[0m\u001b[0;34m.\u001b[0m\u001b[0marray\u001b[0m\u001b[0;34m(\u001b[0m\u001b[0msubset\u001b[0m\u001b[0;34m)\u001b[0m\u001b[0;34m[\u001b[0m\u001b[0mcheck\u001b[0m\u001b[0;34m]\u001b[0m\u001b[0;34m.\u001b[0m\u001b[0mtolist\u001b[0m\u001b[0;34m(\u001b[0m\u001b[0;34m)\u001b[0m\u001b[0;34m)\u001b[0m\u001b[0;34m\u001b[0m\u001b[0;34m\u001b[0m\u001b[0m\n\u001b[0m\u001b[1;32m   6671\u001b[0m             \u001b[0magg_obj\u001b[0m \u001b[0;34m=\u001b[0m \u001b[0mself\u001b[0m\u001b[0;34m.\u001b[0m\u001b[0mtake\u001b[0m\u001b[0;34m(\u001b[0m\u001b[0mindices\u001b[0m\u001b[0;34m,\u001b[0m \u001b[0maxis\u001b[0m\u001b[0;34m=\u001b[0m\u001b[0magg_axis\u001b[0m\u001b[0;34m)\u001b[0m\u001b[0;34m\u001b[0m\u001b[0;34m\u001b[0m\u001b[0m\n\u001b[1;32m   6672\u001b[0m \u001b[0;34m\u001b[0m\u001b[0m\n\u001b[1;32m   6673\u001b[0m         \u001b[0;32mif\u001b[0m \u001b[0mthresh\u001b[0m \u001b[0;32mis\u001b[0m \u001b[0;32mnot\u001b[0m \u001b[0mlib\u001b[0m\u001b[0;34m.\u001b[0m\u001b[0mno_default\u001b[0m\u001b[0;34m:\u001b[0m\u001b[0;34m\u001b[0m\u001b[0;34m\u001b[0m\u001b[0m\n",
      "\u001b[0;31mKeyError\u001b[0m: ['CLSIZ']"
     ]
    }
   ],
   "source": [
    "from langchain_openai import ChatOpenAI\n",
    "\n",
    "llm = ChatOpenAI(temperature=0)\n",
    "\n",
    "eval_res = utils.execute_tests(llm, test_data, df_sch, meta_sch, cols_retriever)"
   ]
  },
  {
   "cell_type": "code",
   "execution_count": null,
   "id": "a16d1ac0-c696-4d40-aa31-613fb3af6a42",
   "metadata": {},
   "outputs": [],
   "source": []
  },
  {
   "cell_type": "code",
   "execution_count": 41,
   "id": "d0bbe950-dd8e-44e4-bf39-2d57e6196650",
   "metadata": {},
   "outputs": [
    {
     "name": "stdout",
     "output_type": "stream",
     "text": [
      "1. School autonomy (independent variable)\n",
      "2. Teacher participation (dependent variable)\n",
      "\n",
      "Linear regression coefficient: This will be the coefficient calculated by running a linear regression analysis on the data collected for school autonomy and teacher participation.\n",
      "['School autonomy (WLE)', \"Extent structures your school's math programme: Discretion of individual teachers\", 'How often you/others in [school management team]: Taking actions to support co-operation among teachers to develop new teaching practices', 'School\\xa0Preparation for Remote Instruction, In Response to Pandemic\\xa0(WLE)', 'Proportion of mathematics teachers at school', 'Student-teacher ratio']\n",
      "content=\"```python\\nimport pandas as pd\\nimport numpy as np\\nfrom sklearn.linear_model import LinearRegression\\n\\ndef run(data):\\n    X = data['SCHAUTO'].values.reshape(-1, 1)\\n    y = data['SC201Q04JA'].values\\n\\n    model = LinearRegression()\\n    model.fit(X, y)\\n\\n    return float(model.coef_[0])\\n\\n# Example usage:\\n# result = run(data)\\n# print(result)\\n```\" response_metadata={'token_usage': {'completion_tokens': 92, 'prompt_tokens': 277, 'total_tokens': 369}, 'model_name': 'gpt-3.5-turbo', 'system_fingerprint': None, 'finish_reason': 'stop', 'logprobs': None} id='run-afc43379-c280-4437-b4f1-1eae3125493b-0' usage_metadata={'input_tokens': 277, 'output_tokens': 92, 'total_tokens': 369}\n",
      "\n",
      "import pandas as pd\n",
      "import numpy as np\n",
      "from sklearn.linear_model import LinearRegression\n",
      "\n",
      "def run(data):\n",
      "    X = data['SCHAUTO'].values.reshape(-1, 1)\n",
      "    y = data['SC201Q04JA'].values\n",
      "\n",
      "    model = LinearRegression()\n",
      "    model.fit(X, y)\n",
      "\n",
      "    return float(model.coef_[0])\n",
      "\n",
      "# Example usage:\n",
      "# result = run(data)\n",
      "# print(result)\n",
      "\n"
     ]
    }
   ],
   "source": [
    "from langchain_openai import ChatOpenAI\n",
    "\n",
    "llm = ChatOpenAI(temperature=0)\n",
    "\n",
    "eval_res = utils.execute_tests(llm, [test_data[-1]], df_sch, meta_sch, cols_retriever)"
   ]
  },
  {
   "cell_type": "code",
   "execution_count": 42,
   "id": "a953439a-da0e-4500-8e62-5505dfc78668",
   "metadata": {},
   "outputs": [
    {
     "data": {
      "text/plain": [
       "[{'question': 'what is the relation between school autonomy  and teacher participation? Please give linear regression coefficient as result',\n",
       "  'expected_columns': ['SCHAUTO', 'TCHPART'],\n",
       "  'expected_answer': 0.2216,\n",
       "  'found_cols': ['SCHAUTO'],\n",
       "  'found_cols_ratio': 0.5,\n",
       "  'pipeline_result': -0.009560998571684062,\n",
       "  'hint_cols': ['SCHAUTO',\n",
       "   'SC188Q09JA',\n",
       "   'SC201Q04JA',\n",
       "   'SCPREPAP',\n",
       "   'PROPMATH',\n",
       "   'STRATIO'],\n",
       "  'error': -0.23116099857168404}]"
      ]
     },
     "execution_count": 42,
     "metadata": {},
     "output_type": "execute_result"
    }
   ],
   "source": [
    "eval_res"
   ]
  },
  {
   "cell_type": "code",
   "execution_count": 44,
   "id": "1d281293-60d5-4732-bad9-dd0ce7dfbec4",
   "metadata": {},
   "outputs": [
    {
     "name": "stdout",
     "output_type": "stream",
     "text": [
      "1. School ID\n",
      "2. School autonomy level\n",
      "3. Teacher participation level\n",
      "\n",
      "Linear regression coefficient: 0.65\n",
      "['Intl. School ID', 'School type', 'School autonomy (WLE)', \"Extent structures your school's math programme: Discretion of individual teachers\", 'How often you/others in [school management team]: Taking actions to ensure that teachers take responsibility for improving their teaching skills', 'School\\xa0Preparation for Remote Instruction, In Response to Pandemic\\xa0(WLE)', 'Student-mathematics teacher ratio', 'Student-teacher ratio']\n",
      "content=\"def run(df):\\n    from sklearn.linear_model import LinearRegression\\n    \\n    X = df['SCHAUTO'].values.reshape(-1, 1)\\n    y = df['SC201Q05JA'].values\\n    \\n    model = LinearRegression()\\n    model.fit(X, y)\\n    \\n    return float(model.coef_[0])\" response_metadata={'token_usage': {'completion_tokens': 66, 'prompt_tokens': 334, 'total_tokens': 400}, 'model_name': 'gpt-3.5-turbo', 'system_fingerprint': None, 'finish_reason': 'stop', 'logprobs': None} id='run-01336687-bfb1-4e9d-aa87-b89a50564e00-0' usage_metadata={'input_tokens': 334, 'output_tokens': 66, 'total_tokens': 400}\n",
      "def run(df):\n",
      "    from sklearn.linear_model import LinearRegression\n",
      "    \n",
      "    X = df['SCHAUTO'].values.reshape(-1, 1)\n",
      "    y = df['SC201Q05JA'].values\n",
      "    \n",
      "    model = LinearRegression()\n",
      "    model.fit(X, y)\n",
      "    \n",
      "    return float(model.coef_[0])\n"
     ]
    }
   ],
   "source": [
    "from langchain_openai import ChatOpenAI\n",
    "\n",
    "llm = ChatOpenAI(temperature=0)\n",
    "\n",
    "eval_res = utils.execute_tests(llm, [test_data[-1]], df_sch, meta_sch, cols_retriever)"
   ]
  },
  {
   "cell_type": "code",
   "execution_count": 45,
   "id": "d85d2c42-65a8-4618-805f-17fc355aed27",
   "metadata": {},
   "outputs": [
    {
     "data": {
      "text/plain": [
       "[{'question': 'what is the relation between school autonomy  and teacher participation? Please give linear regression coefficient as result',\n",
       "  'expected_columns': ['SCHAUTO', 'TCHPART'],\n",
       "  'expected_answer': 0.2216,\n",
       "  'found_cols': ['SCHAUTO'],\n",
       "  'found_cols_ratio': 0.5,\n",
       "  'pipeline_result': 0.01855577452108215,\n",
       "  'hint_cols': ['CNTSCHID',\n",
       "   'SCHLTYPE',\n",
       "   'SCHAUTO',\n",
       "   'SC188Q09JA',\n",
       "   'SC201Q05JA',\n",
       "   'SCPREPAP',\n",
       "   'SMRATIO',\n",
       "   'STRATIO'],\n",
       "  'error': -0.20304422547891784}]"
      ]
     },
     "execution_count": 45,
     "metadata": {},
     "output_type": "execute_result"
    }
   ],
   "source": [
    "eval_res"
   ]
  },
  {
   "cell_type": "code",
   "execution_count": null,
   "id": "6816876e-9a8e-46e1-bb30-74f802065a3b",
   "metadata": {},
   "outputs": [],
   "source": []
  }
 ],
 "metadata": {
  "kernelspec": {
   "display_name": "Python [conda env:arpad_ts]",
   "language": "python",
   "name": "conda-env-arpad_ts-py"
  },
  "language_info": {
   "codemirror_mode": {
    "name": "ipython",
    "version": 3
   },
   "file_extension": ".py",
   "mimetype": "text/x-python",
   "name": "python",
   "nbconvert_exporter": "python",
   "pygments_lexer": "ipython3",
   "version": "3.10.14"
  }
 },
 "nbformat": 4,
 "nbformat_minor": 5
}
