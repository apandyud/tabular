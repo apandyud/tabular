{
 "cells": [
  {
   "cell_type": "code",
   "execution_count": 46,
   "id": "2adfc3cc-7f34-4db3-926b-ae004185f196",
   "metadata": {},
   "outputs": [
    {
     "name": "stdout",
     "output_type": "stream",
     "text": [
      "The autoreload extension is already loaded. To reload it, use:\n",
      "  %reload_ext autoreload\n"
     ]
    }
   ],
   "source": [
    "import pandas as pd\n",
    "import pyreadstat\n",
    "from langchain_chroma import Chroma\n",
    "from langchain_openai import OpenAIEmbeddings\n",
    "import utils\n",
    "\n",
    "%load_ext autoreload\n",
    "%autoreload 2\n"
   ]
  },
  {
   "cell_type": "code",
   "execution_count": 48,
   "id": "05141ab4-b23f-4a0d-a41e-cc918811030f",
   "metadata": {},
   "outputs": [],
   "source": [
    "df_sch, meta_sch = pyreadstat.read_sav('data/CY08MSP_STU_QQQ.sav')"
   ]
  },
  {
   "cell_type": "code",
   "execution_count": 84,
   "id": "aec4a347-3f4b-49ec-9e0b-91652f0deefa",
   "metadata": {},
   "outputs": [],
   "source": [
    "import os\n",
    "with open('data/openai.api.key', 'r') as filek: \n",
    "    openai_key = filek.read()\n",
    "os.environ[\"OPENAI_API_KEY\"] =  openai_key "
   ]
  },
  {
   "cell_type": "code",
   "execution_count": 56,
   "id": "02754d4b-f9d9-4b63-8db2-0d37359e325b",
   "metadata": {},
   "outputs": [],
   "source": [
    "   \n",
    "cols = utils.meta2docs(meta_sch, excluded=['test', 'CNTRYID'])\n",
    "\n",
    "cols_vectorstore = Chroma.from_documents(cols, OpenAIEmbeddings())\n",
    "\n",
    "cols_retriever = cols_vectorstore.as_retriever()"
   ]
  },
  {
   "cell_type": "code",
   "execution_count": 35,
   "id": "0574b7fc-b195-4fde-9c50-a2aac6226a98",
   "metadata": {},
   "outputs": [],
   "source": [
    "test_data = [\n",
    "    {'question':'Which country has the highest average  teacher student ratio? How much is it? ','expected_columns': ['STRATIO', 'CNT'], 'expected_answer': 28.95},\n",
    "    {'question':'Which country has the highest average class sizes? How much is it?','expected_columns': ['CLSIZE', 'CNT'], 'expected_answer': 42.65 },    \n",
    "    {'question':'In how many languages ​​was the questionnaire filled out?', 'expected_columns': ['LANGTEST_QQQ'], 'expected_answer': 54},\n",
    "    {'question':'What is Hungary average teacher-student ratio?', 'expected_columns': ['STRATIO', 'CNT'], 'expected_answer': 10.83},\n",
    "    {'question':'What is OECD average teacher-student ratio?', 'expected_columns': ['STRATIO', 'OECD'], 'expected_answer':  12.551608},\n",
    "    {'question':'Where is average teacher-student ratio in Hungary compared to the OECD average in terms of average teacher-student ratio? Give the difference as number.','expected_columns': ['STRATIO', 'OECD', 'CNT'], 'expected_answer': -1.721608 },    \n",
    "    #{'question':'how many education systems were involved in the survey? ','expected_columns': ['STRATIO', 'CNT'], 'expected_answer': 28.95},\n",
    "    {'question':'how many countries were involved in the survey?','expected_columns': ['CNT'], 'expected_answer': 80},\n",
    "    {'question':'how many countries that are OECD memeber were involved in the survey? ','expected_columns': ['OECD', 'CNT'], 'expected_answer': 37},\n",
    "    {'question':'how many schools were involved in the survey?','expected_columns': ['CNTSCHID'], 'expected_answer': 21629},\n",
    "    {'question':'what is the relation between school autonomy  and teacher participation? Please give linear regression coefficient as result','expected_columns': ['SCHAUTO','TCHPART'], 'expected_answer':  0.2216 },\n",
    "]\n"
   ]
  },
  {
   "cell_type": "code",
   "execution_count": 58,
   "id": "ba0122a1-8559-4ad7-87f7-459d35135f2d",
   "metadata": {},
   "outputs": [],
   "source": [
    "from langchain_openai import ChatOpenAI\n",
    "\n",
    "llm = ChatOpenAI(temperature=0)"
   ]
  },
  {
   "cell_type": "code",
   "execution_count": 68,
   "id": "25534470-f429-4566-a73a-97419a2aabc5",
   "metadata": {},
   "outputs": [
    {
     "data": {
      "text/plain": [
       "[Document(page_content='Intl. Student ID', metadata={'original_col_name': 'CNTSTUID', 'year': 2022}),\n",
       " Document(page_content='Intl. Student ID', metadata={'original_col_name': 'CNTSTUID', 'year': 2022}),\n",
       " Document(page_content='Intl. Student ID', metadata={'original_col_name': 'CNTSTUID', 'year': 2022}),\n",
       " Document(page_content='Intl. School ID', metadata={'original_col_name': 'CNTSCHID', 'year': 2022})]"
      ]
     },
     "execution_count": 68,
     "metadata": {},
     "output_type": "execute_result"
    }
   ],
   "source": [
    "cols_retriever.invoke('1. Student ID')"
   ]
  },
  {
   "cell_type": "code",
   "execution_count": 75,
   "id": "d85d2c42-65a8-4618-805f-17fc355aed27",
   "metadata": {},
   "outputs": [
    {
     "name": "stdout",
     "output_type": "stream",
     "text": [
      "1. Student ID\n",
      "2. Interview Date\n",
      "3. Interview Time\n",
      "4. Interviewer Name\n",
      "5. Interview Location\n",
      "6. Interview Duration\n",
      "7. Interview Outcome (e.g. accepted, rejected)\n",
      "8. Interview Feedback\n",
      "['Intl. Student ID', 'Intl. Student ID', 'Intl. Student ID', 'Intl. School ID']\n",
      "['Intl. Student ID', 'Intl. School ID']\n",
      "['Teacher Questionnaire Option', 'Teacher Questionnaire Option', 'Teacher Questionnaire Option', 'Language of Questionnaire']\n",
      "['Teacher Questionnaire Option', 'Language of Questionnaire']\n",
      "['How much time spent: Look for practical information online (e.g. find a place, book a train ticket, buy a product)', 'How much time spent: Look for practical information online (e.g. find a place, book a train ticket, buy a product)', 'How much time spent: Look for practical information online (e.g. find a place, book a train ticket, buy a product)', \"During admission, how often consider: Student's working status\"]\n",
      "['How much time spent: Look for practical information online (e.g. find a place, book a train ticket, buy a product)', \"During admission, how often consider: Student's working status\"]\n",
      "['Teacher Questionnaire Option', 'Teacher Questionnaire Option', 'Teacher Questionnaire Option', 'Language of Questionnaire']\n",
      "['Teacher Questionnaire Option', 'Language of Questionnaire']\n",
      "['During admission, how often consider: Residence in a particular area', 'During admission, how often consider: Residence in a particular area', 'During admission, how often consider: Residence in a particular area', 'REGION']\n",
      "['During admission, how often consider: Residence in a particular area', 'REGION']\n",
      "['Duration in early childhood education and care', 'Duration in early childhood education and care', 'Duration in early childhood education and care', 'Exist at your school: Regular consultation aimed at school improvement with one or more experts over a period of at least six months']\n",
      "['Duration in early childhood education and care', 'Exist at your school: Regular consultation aimed at school improvement with one or more experts over a period of at least six months']\n",
      "['To learn about future study/work, have you: I visited a [job fair].', 'To learn about future study/work, have you: I visited a [job fair].', 'To learn about future study/work, have you: I visited a [job fair].', 'Teacher Questionnaire Option']\n",
      "['To learn about future study/work, have you: I visited a [job fair].', 'Teacher Questionnaire Option']\n",
      "['Exist at your school: Seeking written feedback from students (e.g. regarding lessons, teachers or resources)', 'Exist at your school: Seeking written feedback from students (e.g. regarding lessons, teachers or resources)', 'Exist at your school: Seeking written feedback from students (e.g. regarding lessons, teachers or resources)', 'Feedback to teachers (WLE)']\n",
      "['Exist at your school: Seeking written feedback from students (e.g. regarding lessons, teachers or resources)', 'Feedback to teachers (WLE)']\n",
      "['Intl. Student ID', 'Intl. School ID', 'Teacher Questionnaire Option', 'Language of Questionnaire', 'How much time spent: Look for practical information online (e.g. find a place, book a train ticket, buy a product)', \"During admission, how often consider: Student's working status\", 'Teacher Questionnaire Option', 'Language of Questionnaire', 'During admission, how often consider: Residence in a particular area', 'REGION', 'Duration in early childhood education and care', 'Exist at your school: Regular consultation aimed at school improvement with one or more experts over a period of at least six months', 'To learn about future study/work, have you: I visited a [job fair].', 'Teacher Questionnaire Option', 'Exist at your school: Seeking written feedback from students (e.g. regarding lessons, teachers or resources)', 'Feedback to teachers (WLE)']\n",
      "content=\"def run(df):\\n    return float(df['CNTSTUID'].nunique())\" response_metadata={'token_usage': {'completion_tokens': 16, 'prompt_tokens': 539, 'total_tokens': 555}, 'model_name': 'gpt-3.5-turbo', 'system_fingerprint': None, 'finish_reason': 'stop', 'logprobs': None} id='run-48b7eac8-7307-4028-8e7c-fcbdd80e36ed-0' usage_metadata={'input_tokens': 539, 'output_tokens': 16, 'total_tokens': 555}\n",
      "def run(df):\n",
      "    return float(df['CNTSTUID'].nunique())\n"
     ]
    },
    {
     "data": {
      "text/plain": [
       "{'question': 'How many students were interviewed?',\n",
       " 'result': 0.0,\n",
       " 'hint_cols': ['CNTSTUID',\n",
       "  'CNTSCHID',\n",
       "  'Option_TQ',\n",
       "  'LANGTEST_QQQ',\n",
       "  'IC177Q04JA',\n",
       "  'SC012Q11JA',\n",
       "  'Option_TQ',\n",
       "  'LANGTEST_QQQ',\n",
       "  'SC012Q06TA',\n",
       "  'REGION',\n",
       "  'DURECEC',\n",
       "  'SC037Q09TA',\n",
       "  'ST330Q03WA',\n",
       "  'Option_TQ',\n",
       "  'SC037Q07TA',\n",
       "  'TEAFDBK']}"
      ]
     },
     "execution_count": 75,
     "metadata": {},
     "output_type": "execute_result"
    }
   ],
   "source": [
    "utils.pipeline(llm, 'How many students were interviewed?', df_sch, meta_sch, cols_retriever)"
   ]
  },
  {
   "cell_type": "markdown",
   "id": "6509231c-1cbd-40f2-a123-b85240c8c4b2",
   "metadata": {},
   "source": [
    "df_sch['CNTSTUID'].nunique()"
   ]
  },
  {
   "cell_type": "code",
   "execution_count": 77,
   "id": "37a17d68-e59b-42f6-b6d5-424ed96a0452",
   "metadata": {},
   "outputs": [
    {
     "data": {
      "text/plain": [
       "613744.0"
      ]
     },
     "execution_count": 77,
     "metadata": {},
     "output_type": "execute_result"
    }
   ],
   "source": [
    "float(df_sch['CNTSTUID'].nunique())"
   ]
  },
  {
   "cell_type": "code",
   "execution_count": 78,
   "id": "41c0053f-f319-41b5-939b-144deb376843",
   "metadata": {},
   "outputs": [
    {
     "data": {
      "text/plain": [
       "0           800001.0\n",
       "1           800002.0\n",
       "2           800003.0\n",
       "3           800005.0\n",
       "4           800006.0\n",
       "             ...    \n",
       "613739    86007488.0\n",
       "613740    86007489.0\n",
       "613741    86007490.0\n",
       "613742    86007491.0\n",
       "613743    86007492.0\n",
       "Name: CNTSTUID, Length: 613744, dtype: float64"
      ]
     },
     "execution_count": 78,
     "metadata": {},
     "output_type": "execute_result"
    }
   ],
   "source": [
    "df_sch['CNTSTUID'].dropna()"
   ]
  },
  {
   "cell_type": "code",
   "execution_count": 79,
   "id": "1db6917b-fc43-4f75-b832-a5fef505b3d1",
   "metadata": {},
   "outputs": [
    {
     "data": {
      "text/html": [
       "<div>\n",
       "<style scoped>\n",
       "    .dataframe tbody tr th:only-of-type {\n",
       "        vertical-align: middle;\n",
       "    }\n",
       "\n",
       "    .dataframe tbody tr th {\n",
       "        vertical-align: top;\n",
       "    }\n",
       "\n",
       "    .dataframe thead th {\n",
       "        text-align: right;\n",
       "    }\n",
       "</style>\n",
       "<table border=\"1\" class=\"dataframe\">\n",
       "  <thead>\n",
       "    <tr style=\"text-align: right;\">\n",
       "      <th></th>\n",
       "      <th>CNT</th>\n",
       "      <th>CNTRYID</th>\n",
       "      <th>CNTSCHID</th>\n",
       "      <th>CNTSTUID</th>\n",
       "      <th>CYC</th>\n",
       "      <th>NatCen</th>\n",
       "      <th>STRATUM</th>\n",
       "      <th>SUBNATIO</th>\n",
       "      <th>REGION</th>\n",
       "      <th>OECD</th>\n",
       "      <th>...</th>\n",
       "      <th>PV4MPRE</th>\n",
       "      <th>PV5MPRE</th>\n",
       "      <th>PV6MPRE</th>\n",
       "      <th>PV7MPRE</th>\n",
       "      <th>PV8MPRE</th>\n",
       "      <th>PV9MPRE</th>\n",
       "      <th>PV10MPRE</th>\n",
       "      <th>SENWT</th>\n",
       "      <th>VER_DAT</th>\n",
       "      <th>test</th>\n",
       "    </tr>\n",
       "  </thead>\n",
       "  <tbody>\n",
       "  </tbody>\n",
       "</table>\n",
       "<p>0 rows × 1279 columns</p>\n",
       "</div>"
      ],
      "text/plain": [
       "Empty DataFrame\n",
       "Columns: [CNT, CNTRYID, CNTSCHID, CNTSTUID, CYC, NatCen, STRATUM, SUBNATIO, REGION, OECD, ADMINMODE, LANGTEST_QQQ, LANGTEST_COG, LANGTEST_PAQ, Option_CT, Option_FL, Option_ICTQ, Option_WBQ, Option_PQ, Option_TQ, Option_UH, BOOKID, ST001D01T, ST003D02T, ST003D03T, ST004D01T, ST250Q01JA, ST250Q02JA, ST250Q03JA, ST250Q04JA, ST250Q05JA, ST250D06JA, ST250D07JA, ST251Q01JA, ST251Q02JA, ST251Q03JA, ST251Q04JA, ST251Q06JA, ST251Q07JA, ST251D08JA, ST251D09JA, ST253Q01JA, ST254Q01JA, ST254Q02JA, ST254Q03JA, ST254Q04JA, ST254Q05JA, ST254Q06JA, ST255Q01JA, ST256Q01JA, ST256Q02JA, ST256Q03JA, ST256Q06JA, ST256Q07JA, ST256Q08JA, ST256Q09JA, ST256Q10JA, ST230Q01JA, ST005Q01JA, ST006Q01JA, ST006Q02JA, ST006Q03JA, ST006Q04JA, ST006Q05JA, ST007Q01JA, ST008Q01JA, ST008Q02JA, ST008Q03JA, ST008Q04JA, ST008Q05JA, ST258Q01JA, ST259Q01JA, ST259Q02JA, ST019AQ01T, ST019BQ01T, ST019CQ01T, ST021Q01TA, ST022Q01TA, ST226Q01JA, ST125Q01NA, ST126Q01TA, ST127Q01TA, ST127Q02TA, ST127Q03TA, ST260Q01JA, ST260Q02JA, ST260Q03JA, ST261Q01JA, ST261Q02JA, ST261Q03JA, ST261Q04JA, ST261Q05JA, ST261Q06JA, ST261Q07JA, ST261Q08JA, ST261Q09JA, ST261Q10JA, ST261Q11JA, ST062Q01TA, ST062Q02TA, ...]\n",
       "Index: []\n",
       "\n",
       "[0 rows x 1279 columns]"
      ]
     },
     "execution_count": 79,
     "metadata": {},
     "output_type": "execute_result"
    }
   ],
   "source": [
    "df_sch.dropna()"
   ]
  },
  {
   "cell_type": "code",
   "execution_count": null,
   "id": "59fe7f55-b752-478b-89bc-2f707314e836",
   "metadata": {},
   "outputs": [],
   "source": []
  }
 ],
 "metadata": {
  "kernelspec": {
   "display_name": "Python [conda env:arpad_ts]",
   "language": "python",
   "name": "conda-env-arpad_ts-py"
  },
  "language_info": {
   "codemirror_mode": {
    "name": "ipython",
    "version": 3
   },
   "file_extension": ".py",
   "mimetype": "text/x-python",
   "name": "python",
   "nbconvert_exporter": "python",
   "pygments_lexer": "ipython3",
   "version": "3.10.14"
  }
 },
 "nbformat": 4,
 "nbformat_minor": 5
}
