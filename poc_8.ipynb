{
 "cells": [
  {
   "cell_type": "code",
   "execution_count": 4,
   "id": "2adfc3cc-7f34-4db3-926b-ae004185f196",
   "metadata": {},
   "outputs": [
    {
     "name": "stdout",
     "output_type": "stream",
     "text": [
      "The autoreload extension is already loaded. To reload it, use:\n",
      "  %reload_ext autoreload\n"
     ]
    }
   ],
   "source": [
    "import pandas as pd\n",
    "import pyreadstat\n",
    "from langchain_chroma import Chroma\n",
    "from langchain_openai import OpenAIEmbeddings\n",
    "import utils\n",
    "\n",
    "%load_ext autoreload\n",
    "%autoreload 2\n"
   ]
  },
  {
   "cell_type": "code",
   "execution_count": 2,
   "id": "05141ab4-b23f-4a0d-a41e-cc918811030f",
   "metadata": {},
   "outputs": [
    {
     "ename": "KeyboardInterrupt",
     "evalue": "",
     "output_type": "error",
     "traceback": [
      "\u001b[0;31m---------------------------------------------------------------------------\u001b[0m",
      "\u001b[0;31mKeyboardInterrupt\u001b[0m                         Traceback (most recent call last)",
      "Cell \u001b[0;32mIn[2], line 1\u001b[0m\n\u001b[0;32m----> 1\u001b[0m df_sch, meta_sch \u001b[38;5;241m=\u001b[39m \u001b[43mpyreadstat\u001b[49m\u001b[38;5;241;43m.\u001b[39;49m\u001b[43mread_sav\u001b[49m\u001b[43m(\u001b[49m\u001b[38;5;124;43m'\u001b[39;49m\u001b[38;5;124;43mdata/CY08MSP_STU_QQQ.sav\u001b[39;49m\u001b[38;5;124;43m'\u001b[39;49m\u001b[43m)\u001b[49m\n",
      "File \u001b[0;32mpyreadstat/pyreadstat.pyx:389\u001b[0m, in \u001b[0;36mpyreadstat.pyreadstat.read_sav\u001b[0;34m()\u001b[0m\n",
      "File \u001b[0;32mpyreadstat/_readstat_parser.pyx:1137\u001b[0m, in \u001b[0;36mpyreadstat._readstat_parser.run_conversion\u001b[0;34m()\u001b[0m\n",
      "File \u001b[0;32mpyreadstat/_readstat_parser.pyx:625\u001b[0m, in \u001b[0;36mpyreadstat._readstat_parser.handle_value\u001b[0;34m()\u001b[0m\n",
      "File \u001b[0;32m/opt/conda/envs/arpad_ts/lib/python3.10/site-packages/numpy/lib/function_base.py:5559\u001b[0m, in \u001b[0;36m_append_dispatcher\u001b[0;34m(arr, values, axis)\u001b[0m\n\u001b[1;32m   5555\u001b[0m         \u001b[38;5;28;01mreturn\u001b[39;00m wrap(new)\n\u001b[1;32m   5556\u001b[0m     \u001b[38;5;28;01mreturn\u001b[39;00m new\n\u001b[0;32m-> 5559\u001b[0m \u001b[38;5;28;01mdef\u001b[39;00m \u001b[38;5;21m_append_dispatcher\u001b[39m(arr, values, axis\u001b[38;5;241m=\u001b[39m\u001b[38;5;28;01mNone\u001b[39;00m):\n\u001b[1;32m   5560\u001b[0m     \u001b[38;5;28;01mreturn\u001b[39;00m (arr, values)\n\u001b[1;32m   5563\u001b[0m \u001b[38;5;129m@array_function_dispatch\u001b[39m(_append_dispatcher)\n\u001b[1;32m   5564\u001b[0m \u001b[38;5;28;01mdef\u001b[39;00m \u001b[38;5;21mappend\u001b[39m(arr, values, axis\u001b[38;5;241m=\u001b[39m\u001b[38;5;28;01mNone\u001b[39;00m):\n",
      "\u001b[0;31mKeyboardInterrupt\u001b[0m: "
     ]
    }
   ],
   "source": [
    "df_sch, meta_sch = pyreadstat.read_sav('data/CY08MSP_STU_QQQ.sav')"
   ]
  },
  {
   "cell_type": "code",
   "execution_count": null,
   "id": "aec4a347-3f4b-49ec-9e0b-91652f0deefa",
   "metadata": {},
   "outputs": [],
   "source": [
    "import os\n",
    "with open('data/openai.api.key', 'r') as filek: \n",
    "    openai_key = filek.read()\n",
    "os.environ[\"OPENAI_API_KEY\"] =  openai_key "
   ]
  },
  {
   "cell_type": "code",
   "execution_count": 145,
   "id": "02754d4b-f9d9-4b63-8db2-0d37359e325b",
   "metadata": {},
   "outputs": [],
   "source": [
    "   \n",
    "cols = utils.meta2docs(meta_sch, excluded=['test', 'CNTRYID'])\n",
    "\n",
    "cols_vectorstore = Chroma.from_documents(cols, OpenAIEmbeddings(), persist_directory=\"./chroma_db_cols_vectorstore\")\n",
    "\n",
    "cols_retriever = cols_vectorstore.as_retriever()"
   ]
  },
  {
   "cell_type": "code",
   "execution_count": 146,
   "id": "e5987f47-9b4f-4655-83b0-da78b3938cbd",
   "metadata": {},
   "outputs": [
    {
     "data": {
      "text/plain": [
       "1279"
      ]
     },
     "execution_count": 146,
     "metadata": {},
     "output_type": "execute_result"
    }
   ],
   "source": [
    "len(meta_sch.column_names)"
   ]
  },
  {
   "cell_type": "code",
   "execution_count": 147,
   "id": "5b365ac9-574e-4608-803d-a3e079da9bd8",
   "metadata": {},
   "outputs": [
    {
     "data": {
      "text/plain": [
       "1278"
      ]
     },
     "execution_count": 147,
     "metadata": {},
     "output_type": "execute_result"
    }
   ],
   "source": [
    "len(cols_vectorstore.get()['ids'])"
   ]
  },
  {
   "cell_type": "code",
   "execution_count": 138,
   "id": "1dde2097-b4a7-478b-8b4c-3be1729c8d94",
   "metadata": {},
   "outputs": [
    {
     "data": {
      "text/plain": [
       "1278"
      ]
     },
     "execution_count": 138,
     "metadata": {},
     "output_type": "execute_result"
    }
   ],
   "source": [
    "len(cols)\n"
   ]
  },
  {
   "cell_type": "code",
   "execution_count": 106,
   "id": "0574b7fc-b195-4fde-9c50-a2aac6226a98",
   "metadata": {},
   "outputs": [],
   "source": [
    "test_data = [\n",
    "    {'question':'Which country has the highest average  teacher student ratio? How much is it? ','expected_columns': ['STRATIO', 'CNT'], 'expected_answer': 28.95},\n",
    "    {'question':'Which country has the highest average class sizes? How much is it?','expected_columns': ['CLSIZE', 'CNT'], 'expected_answer': 42.65 },    \n",
    "    {'question':'In how many languages ​​was the questionnaire filled out?', 'expected_columns': ['LANGTEST_QQQ'], 'expected_answer': 54},\n",
    "    {'question':'What is Hungary average teacher-student ratio?', 'expected_columns': ['STRATIO', 'CNT'], 'expected_answer': 10.83},\n",
    "    {'question':'What is OECD average teacher-student ratio?', 'expected_columns': ['STRATIO', 'OECD'], 'expected_answer':  12.551608},\n",
    "    {'question':'Where is average teacher-student ratio in Hungary compared to the OECD average in terms of average teacher-student ratio? Give the difference as number.','expected_columns': ['STRATIO', 'OECD', 'CNT'], 'expected_answer': -1.721608 },    \n",
    "    #{'question':'how many education systems were involved in the survey? ','expected_columns': ['STRATIO', 'CNT'], 'expected_answer': 28.95},\n",
    "    {'question':'how many countries were involved in the survey?','expected_columns': ['CNT'], 'expected_answer': 80},\n",
    "    {'question':'how many countries that are OECD memeber were involved in the survey? ','expected_columns': ['OECD', 'CNT'], 'expected_answer': 37},\n",
    "    {'question':'how many schools were involved in the survey?','expected_columns': ['CNTSCHID'], 'expected_answer': 21629},\n",
    "    {'question':'what is the relation between school autonomy  and teacher participation? Please give linear regression coefficient as result','expected_columns': ['SCHAUTO','TCHPART'], 'expected_answer':  0.2216 },\n",
    "]\n"
   ]
  },
  {
   "cell_type": "code",
   "execution_count": 107,
   "id": "ba0122a1-8559-4ad7-87f7-459d35135f2d",
   "metadata": {},
   "outputs": [],
   "source": [
    "from langchain_openai import ChatOpenAI\n",
    "\n",
    "llm = ChatOpenAI(temperature=0)"
   ]
  },
  {
   "cell_type": "code",
   "execution_count": 108,
   "id": "25534470-f429-4566-a73a-97419a2aabc5",
   "metadata": {},
   "outputs": [
    {
     "data": {
      "text/plain": [
       "[Document(page_content='Intl. Student ID', metadata={'original_col_name': 'CNTSTUID', 'year': 2022}),\n",
       " Document(page_content='Intl. School ID', metadata={'original_col_name': 'CNTSCHID', 'year': 2022}),\n",
       " Document(page_content=\"Students' age\", metadata={'original_col_name': 'AGE', 'year': 2022}),\n",
       " Document(page_content=\"Student's county of birth\", metadata={'original_col_name': 'COBN_S', 'year': 2022})]"
      ]
     },
     "execution_count": 108,
     "metadata": {},
     "output_type": "execute_result"
    }
   ],
   "source": [
    "cols_retriever.invoke('1. Student ID')"
   ]
  },
  {
   "cell_type": "code",
   "execution_count": 110,
   "id": "d85d2c42-65a8-4618-805f-17fc355aed27",
   "metadata": {},
   "outputs": [
    {
     "name": "stdout",
     "output_type": "stream",
     "text": [
      "1. Student ID\n",
      "2. Interview Date\n",
      "3. Interview Time\n",
      "4. Interviewer Name\n",
      "5. Interview Location\n",
      "6. Interview Duration\n",
      "7. Interview Outcome (e.g. pass, fail, pending)\n",
      "8. Interview Feedback\n",
      "9. Interview Notes\n",
      "['CNTSTUID', 'CNTSCHID', 'AGE', 'COBN_S']\n",
      "['CNTSTUID', 'CNTSCHID', 'AGE', 'COBN_S']\n",
      "['VER_DAT', 'ST330Q02WA', 'ST330Q03WA', 'Option_TQ']\n",
      "['VER_DAT', 'ST330Q02WA', 'ST330Q03WA', 'Option_TQ']\n",
      "['IC177Q04JA', 'SISCO', 'ST330Q02WA', 'ST330Q03WA']\n",
      "['IC177Q04JA', 'SISCO', 'ST330Q02WA', 'ST330Q03WA']\n",
      "['Option_TQ', 'LANGTEST_QQQ', 'Option_PQ', 'Option_WBQ']\n",
      "['Option_TQ', 'LANGTEST_QQQ', 'Option_PQ', 'Option_WBQ']\n",
      "['ST330Q02WA', 'ST330Q03WA', 'Option_TQ', 'SISCO']\n",
      "['ST330Q02WA', 'ST330Q03WA', 'Option_TQ', 'SISCO']\n",
      "['ST273Q05JA', 'LANGTEST_QQQ', 'Option_TQ', 'ST327Q06JA']\n",
      "['ST273Q05JA', 'LANGTEST_QQQ', 'Option_TQ', 'ST327Q06JA']\n",
      "['PV7MPIN', 'Option_TQ', 'ST327Q07JA', 'PV6MPIN']\n",
      "['PV7MPIN', 'Option_TQ', 'ST327Q07JA', 'PV6MPIN']\n",
      "['IC175Q02JA', 'IC175Q01JA', 'Option_TQ', 'LANGTEST_QQQ']\n",
      "['IC175Q02JA', 'IC175Q01JA', 'Option_TQ', 'LANGTEST_QQQ']\n",
      "['Option_TQ', 'ST330Q02WA', 'LANGTEST_QQQ', 'PV9READ']\n",
      "['Option_TQ', 'ST330Q02WA', 'LANGTEST_QQQ', 'PV9READ']\n",
      "['Intl. Student ID', 'Intl. School ID', \"Students' age\", \"Student's county of birth\", 'Date of the database creation', 'To learn about future study/work, have you: I attended [job shadowing or work-site visits].', 'To learn about future study/work, have you: I visited a [job fair].', 'Teacher Questionnaire Option', 'How much time spent: Look for practical information online (e.g. find a place, book a train ticket, buy a product)', 'Clear idea about future job', 'To learn about future study/work, have you: I attended [job shadowing or work-site visits].', 'To learn about future study/work, have you: I visited a [job fair].', 'Teacher Questionnaire Option', 'Language of Questionnaire', 'Parent Questionnaire Option', 'Well-Being Questionnaire Option', 'To learn about future study/work, have you: I attended [job shadowing or work-site visits].', 'To learn about future study/work, have you: I visited a [job fair].', 'Teacher Questionnaire Option', 'Clear idea about future job', 'How often: Students do not start working for a long time after the lesson begins.', 'Language of Questionnaire', 'Teacher Questionnaire Option', 'Which of the following qualifications do you expect to complete: [ISCED level 6]', 'Plausible Value 7 in Process Subscale of Mathematics - Interpreting, Applying, and Evaluating Mathematical Outcomes', 'Teacher Questionnaire Option', 'Which of the following qualifications do you expect to complete: [ISCED level 7]', 'Plausible Value 6 in Process Subscale of Mathematics - Interpreting, Applying, and Evaluating Mathematical Outcomes', 'How often used [digital resources] to: Read or listen to feedback sent by other students on my work', 'How often used [digital resources] to: Read or listen to feedback sent by my teachers regarding my work and academic results', 'Teacher Questionnaire Option', 'Language of Questionnaire', 'Teacher Questionnaire Option', 'To learn about future study/work, have you: I attended [job shadowing or work-site visits].', 'Language of Questionnaire', 'Plausible Value 9 in Reading']\n",
      "content=\"```python\\nimport pandas as pd\\n\\ndef run(data):\\n    data = data[['CNTSTUID']].dropna()\\n    return float(data['CNTSTUID'].nunique())\\n```\" response_metadata={'token_usage': {'completion_tokens': 37, 'prompt_tokens': 1259, 'total_tokens': 1296}, 'model_name': 'gpt-3.5-turbo', 'system_fingerprint': None, 'finish_reason': 'stop', 'logprobs': None} id='run-58663d02-2919-4d7a-9568-d8342157e9b4-0' usage_metadata={'input_tokens': 1259, 'output_tokens': 37, 'total_tokens': 1296}\n",
      "\n",
      "import pandas as pd\n",
      "\n",
      "def run(data):\n",
      "    data = data[['CNTSTUID']].dropna()\n",
      "    return float(data['CNTSTUID'].nunique())\n",
      "\n"
     ]
    },
    {
     "data": {
      "text/plain": [
       "{'question': 'How many students were interviewed?',\n",
       " 'result': 613744.0,\n",
       " 'hint_cols': ['CNTSTUID',\n",
       "  'CNTSCHID',\n",
       "  'AGE',\n",
       "  'COBN_S',\n",
       "  'VER_DAT',\n",
       "  'ST330Q02WA',\n",
       "  'ST330Q03WA',\n",
       "  'Option_TQ',\n",
       "  'IC177Q04JA',\n",
       "  'SISCO',\n",
       "  'ST330Q02WA',\n",
       "  'ST330Q03WA',\n",
       "  'Option_TQ',\n",
       "  'LANGTEST_QQQ',\n",
       "  'Option_PQ',\n",
       "  'Option_WBQ',\n",
       "  'ST330Q02WA',\n",
       "  'ST330Q03WA',\n",
       "  'Option_TQ',\n",
       "  'SISCO',\n",
       "  'ST273Q05JA',\n",
       "  'LANGTEST_QQQ',\n",
       "  'Option_TQ',\n",
       "  'ST327Q06JA',\n",
       "  'PV7MPIN',\n",
       "  'Option_TQ',\n",
       "  'ST327Q07JA',\n",
       "  'PV6MPIN',\n",
       "  'IC175Q02JA',\n",
       "  'IC175Q01JA',\n",
       "  'Option_TQ',\n",
       "  'LANGTEST_QQQ',\n",
       "  'Option_TQ',\n",
       "  'ST330Q02WA',\n",
       "  'LANGTEST_QQQ',\n",
       "  'PV9READ']}"
      ]
     },
     "execution_count": 110,
     "metadata": {},
     "output_type": "execute_result"
    }
   ],
   "source": [
    "utils.pipeline(llm, 'How many students were interviewed?', df_sch, meta_sch, cols_retriever)"
   ]
  },
  {
   "cell_type": "markdown",
   "id": "6509231c-1cbd-40f2-a123-b85240c8c4b2",
   "metadata": {},
   "source": [
    "df_sch['CNTSTUID'].nunique()"
   ]
  },
  {
   "cell_type": "code",
   "execution_count": 77,
   "id": "37a17d68-e59b-42f6-b6d5-424ed96a0452",
   "metadata": {},
   "outputs": [
    {
     "data": {
      "text/plain": [
       "613744.0"
      ]
     },
     "execution_count": 77,
     "metadata": {},
     "output_type": "execute_result"
    }
   ],
   "source": [
    "float(df_sch['CNTSTUID'].nunique())"
   ]
  },
  {
   "cell_type": "code",
   "execution_count": 111,
   "id": "59fe7f55-b752-478b-89bc-2f707314e836",
   "metadata": {},
   "outputs": [
    {
     "name": "stdout",
     "output_type": "stream",
     "text": [
      "1. Country Name\n",
      "2. Country Code\n",
      "['CNT', 'COBN_F', 'REGION', 'COBN_M']\n",
      "['CNT', 'COBN_F', 'REGION', 'COBN_M']\n",
      "['CNT', 'NatCen', 'SUBNATIO', 'PROGN']\n",
      "['CNT', 'NatCen', 'SUBNATIO', 'PROGN']\n",
      "['Country code 3-character', \"Student father's country of birth\", 'REGION', \"Student mother's country of birth\", 'Country code 3-character', 'National Centre 6-digit Code', 'Adjudicated sub-region code 7-digit code (3-digit country code + region ID + stratum ID)', 'Unique national study programme code']\n",
      "content=\"def run(df):\\n    return float(df['CNT'].dropna().nunique())\" response_metadata={'token_usage': {'completion_tokens': 17, 'prompt_tokens': 289, 'total_tokens': 306}, 'model_name': 'gpt-3.5-turbo', 'system_fingerprint': None, 'finish_reason': 'stop', 'logprobs': None} id='run-6e6b7baf-9285-47ad-902e-8ce9699a4187-0' usage_metadata={'input_tokens': 289, 'output_tokens': 17, 'total_tokens': 306}\n",
      "def run(df):\n",
      "    return float(df['CNT'].dropna().nunique())\n"
     ]
    },
    {
     "data": {
      "text/plain": [
       "{'question': 'How many countries where in the survey?',\n",
       " 'result': 80.0,\n",
       " 'hint_cols': ['CNT',\n",
       "  'COBN_F',\n",
       "  'REGION',\n",
       "  'COBN_M',\n",
       "  'CNT',\n",
       "  'NatCen',\n",
       "  'SUBNATIO',\n",
       "  'PROGN']}"
      ]
     },
     "execution_count": 111,
     "metadata": {},
     "output_type": "execute_result"
    }
   ],
   "source": [
    "utils.pipeline(llm, 'How many countries where in the survey?', df_sch, meta_sch, cols_retriever)"
   ]
  },
  {
   "cell_type": "code",
   "execution_count": 112,
   "id": "766f94da-2b02-4e99-9c90-712ac1d07c0c",
   "metadata": {},
   "outputs": [
    {
     "name": "stdout",
     "output_type": "stream",
     "text": [
      "1. Student ID\n",
      "2. Student Name\n",
      "3. Performance Score\n",
      "['CNTSTUID', 'CNTSCHID', 'AGE', 'COBN_S']\n",
      "['CNTSTUID', 'CNTSCHID', 'AGE', 'COBN_S']\n",
      "['AGE', 'COBN_S', 'ST004D01T', 'ST003D03T']\n",
      "['AGE', 'COBN_S', 'ST004D01T', 'ST003D03T']\n",
      "['PV3MPIN', 'PV3READ', 'PV4MPIN', 'PV3MPRE']\n",
      "['PV3MPIN', 'PV3READ', 'PV4MPIN', 'PV3MPRE']\n",
      "['Intl. Student ID', 'Intl. School ID', \"Students' age\", \"Student's county of birth\", \"Students' age\", \"Student's county of birth\", 'Student (Standardized) Gender', 'Student (Standardized) Birth -Year', 'Plausible Value 3 in Process Subscale of Mathematics - Interpreting, Applying, and Evaluating Mathematical Outcomes', 'Plausible Value 3 in Reading', 'Plausible Value 4 in Process Subscale of Mathematics - Interpreting, Applying, and Evaluating Mathematical Outcomes', 'Plausible Value 3 in Process Subscale of Mathematics - Reasoning']\n",
      "content=\"def run(df):\\n    return df[['PV3MPIN', 'PV3READ', 'PV4MPIN', 'PV3MPRE']].dropna().sum().sum()\" response_metadata={'token_usage': {'completion_tokens': 37, 'prompt_tokens': 441, 'total_tokens': 478}, 'model_name': 'gpt-3.5-turbo', 'system_fingerprint': None, 'finish_reason': 'stop', 'logprobs': None} id='run-f4fb72ae-4990-423e-9c36-1022c9b98f4d-0' usage_metadata={'input_tokens': 441, 'output_tokens': 37, 'total_tokens': 478}\n",
      "def run(df):\n",
      "    return df[['PV3MPIN', 'PV3READ', 'PV4MPIN', 'PV3MPRE']].dropna().sum().sum()\n"
     ]
    },
    {
     "data": {
      "text/plain": [
       "{'question': 'Which column stores student performance score?',\n",
       " 'result': 1047417385.1069999,\n",
       " 'hint_cols': ['CNTSTUID',\n",
       "  'CNTSCHID',\n",
       "  'AGE',\n",
       "  'COBN_S',\n",
       "  'AGE',\n",
       "  'COBN_S',\n",
       "  'ST004D01T',\n",
       "  'ST003D03T',\n",
       "  'PV3MPIN',\n",
       "  'PV3READ',\n",
       "  'PV4MPIN',\n",
       "  'PV3MPRE']}"
      ]
     },
     "execution_count": 112,
     "metadata": {},
     "output_type": "execute_result"
    }
   ],
   "source": [
    "utils.pipeline(llm, 'Which column stores student performance score?', df_sch, meta_sch, cols_retriever)"
   ]
  },
  {
   "cell_type": "code",
   "execution_count": 117,
   "id": "172d7c15-05c9-4708-a72c-0886dfe94bc0",
   "metadata": {},
   "outputs": [
    {
     "name": "stdout",
     "output_type": "stream",
     "text": [
      "1. Student ID\n",
      "2. Social background (e.g. parental education level, household income)\n",
      "3. Math score\n",
      "hint 1. Student ID\n",
      "['CNTSTUID', 'CNTSCHID', 'AGE', 'COBN_S']\n",
      "hint 2. Social background (e.g. parental education level, household income)\n",
      "['MISCED', 'FISCED', 'HISCED', 'ATTIMMP']\n",
      "hint 3. Math score\n",
      "['PV3MPRE', 'MATHPREF', 'PV3MPFS', 'PV3MPIN']\n",
      "content=\"```python\\nimport pandas as pd\\nimport numpy as np\\nfrom sklearn.linear_model import LinearRegression\\n\\ndef run(data):\\n    data = data[['MISCED', 'FISCED', 'HISCED', 'PV3MPRE', 'MATHPREF', 'PV3MPFS', 'PV3MPIN']].dropna()\\n    \\n    X = data[['MISCED', 'FISCED', 'HISCED', 'MATHPREF']]\\n    y = data['PV3MPRE']\\n    \\n    model = LinearRegression()\\n    model.fit(X, y)\\n    \\n    return float(model.coef_[4])\\n```\" response_metadata={'token_usage': {'completion_tokens': 132, 'prompt_tokens': 461, 'total_tokens': 593}, 'model_name': 'gpt-3.5-turbo', 'system_fingerprint': None, 'finish_reason': 'stop', 'logprobs': None} id='run-c937de8f-d4fb-4f2d-b2c0-b7c9ec793f0e-0' usage_metadata={'input_tokens': 461, 'output_tokens': 132, 'total_tokens': 593}\n",
      "\n",
      "import pandas as pd\n",
      "import numpy as np\n",
      "from sklearn.linear_model import LinearRegression\n",
      "\n",
      "def run(data):\n",
      "    data = data[['MISCED', 'FISCED', 'HISCED', 'PV3MPRE', 'MATHPREF', 'PV3MPFS', 'PV3MPIN']].dropna()\n",
      "    \n",
      "    X = data[['MISCED', 'FISCED', 'HISCED', 'MATHPREF']]\n",
      "    y = data['PV3MPRE']\n",
      "    \n",
      "    model = LinearRegression()\n",
      "    model.fit(X, y)\n",
      "    \n",
      "    return float(model.coef_[4])\n",
      "\n"
     ]
    },
    {
     "ename": "IndexError",
     "evalue": "index 4 is out of bounds for axis 0 with size 4",
     "output_type": "error",
     "traceback": [
      "\u001b[0;31m---------------------------------------------------------------------------\u001b[0m",
      "\u001b[0;31mIndexError\u001b[0m                                Traceback (most recent call last)",
      "Cell \u001b[0;32mIn[117], line 1\u001b[0m\n\u001b[0;32m----> 1\u001b[0m \u001b[43mutils\u001b[49m\u001b[38;5;241;43m.\u001b[39;49m\u001b[43mpipeline\u001b[49m\u001b[43m(\u001b[49m\u001b[43mllm\u001b[49m\u001b[43m,\u001b[49m\u001b[43m \u001b[49m\u001b[38;5;124;43m'\u001b[39;49m\u001b[38;5;124;43mWhat is the relation between social background and math score of students? Please give linear regression coefficient as answer.\u001b[39;49m\u001b[38;5;124;43m'\u001b[39;49m\u001b[43m,\u001b[49m\u001b[43m \u001b[49m\u001b[43mdf_sch\u001b[49m\u001b[43m,\u001b[49m\u001b[43m \u001b[49m\u001b[43mmeta_sch\u001b[49m\u001b[43m,\u001b[49m\u001b[43m \u001b[49m\u001b[43mcols_retriever\u001b[49m\u001b[43m)\u001b[49m\n",
      "File \u001b[0;32m~/work/Arpad/Tabular/utils.py:81\u001b[0m, in \u001b[0;36mpipeline\u001b[0;34m(llm, question, df, meta, col_retriever)\u001b[0m\n\u001b[1;32m     79\u001b[0m columns \u001b[38;5;241m=\u001b[39m [i\u001b[38;5;241m.\u001b[39mmetadata[\u001b[38;5;124m'\u001b[39m\u001b[38;5;124moriginal_col_name\u001b[39m\u001b[38;5;124m'\u001b[39m] \u001b[38;5;28;01mfor\u001b[39;00m i \u001b[38;5;129;01min\u001b[39;00m rel_col_docs]\n\u001b[1;32m     80\u001b[0m df2 \u001b[38;5;241m=\u001b[39m df\u001b[38;5;241m.\u001b[39mdropna(subset\u001b[38;5;241m=\u001b[39mcolumns)\n\u001b[0;32m---> 81\u001b[0m res \u001b[38;5;241m=\u001b[39m \u001b[43mexec_code\u001b[49m\u001b[43m(\u001b[49m\u001b[43mcode\u001b[49m\u001b[43m,\u001b[49m\u001b[43m \u001b[49m\u001b[43mdf\u001b[49m\u001b[43m)\u001b[49m\n\u001b[1;32m     82\u001b[0m \u001b[38;5;28;01mreturn\u001b[39;00m {\u001b[38;5;124m'\u001b[39m\u001b[38;5;124mquestion\u001b[39m\u001b[38;5;124m'\u001b[39m: question, \u001b[38;5;124m'\u001b[39m\u001b[38;5;124mresult\u001b[39m\u001b[38;5;124m'\u001b[39m: res, \u001b[38;5;124m'\u001b[39m\u001b[38;5;124mhint_cols\u001b[39m\u001b[38;5;124m'\u001b[39m: [i\u001b[38;5;241m.\u001b[39mmetadata[\u001b[38;5;124m'\u001b[39m\u001b[38;5;124moriginal_col_name\u001b[39m\u001b[38;5;124m'\u001b[39m] \u001b[38;5;28;01mfor\u001b[39;00m i \u001b[38;5;129;01min\u001b[39;00m rel_col_docs]}\n",
      "File \u001b[0;32m~/work/Arpad/Tabular/utils.py:69\u001b[0m, in \u001b[0;36mexec_code\u001b[0;34m(code, df)\u001b[0m\n\u001b[1;32m     67\u001b[0m \u001b[38;5;28;01mdef\u001b[39;00m \u001b[38;5;21mexec_code\u001b[39m(code, df):            \n\u001b[1;32m     68\u001b[0m     loc \u001b[38;5;241m=\u001b[39m \u001b[38;5;28mlocals\u001b[39m()\n\u001b[0;32m---> 69\u001b[0m     \u001b[43mexec\u001b[49m\u001b[43m(\u001b[49m\u001b[43mcode\u001b[49m\u001b[43m \u001b[49m\u001b[38;5;241;43m+\u001b[39;49m\u001b[43m \u001b[49m\u001b[38;5;124;43m\"\u001b[39;49m\u001b[38;5;130;43;01m\\n\u001b[39;49;00m\u001b[38;5;124;43mr = run(df)\u001b[39;49m\u001b[38;5;130;43;01m\\n\u001b[39;49;00m\u001b[38;5;124;43m\"\u001b[39;49m\u001b[43m,\u001b[49m\u001b[43m \u001b[49m\u001b[38;5;28;43mglobals\u001b[39;49m\u001b[43m(\u001b[49m\u001b[43m)\u001b[49m\u001b[43m,\u001b[49m\u001b[43m \u001b[49m\u001b[43mloc\u001b[49m\u001b[43m)\u001b[49m\n\u001b[1;32m     70\u001b[0m     \u001b[38;5;28;01mreturn\u001b[39;00m loc[\u001b[38;5;124m'\u001b[39m\u001b[38;5;124mr\u001b[39m\u001b[38;5;124m'\u001b[39m]\n",
      "File \u001b[0;32m<string>:17\u001b[0m\n",
      "File \u001b[0;32m<string>:15\u001b[0m, in \u001b[0;36mrun\u001b[0;34m(data)\u001b[0m\n",
      "\u001b[0;31mIndexError\u001b[0m: index 4 is out of bounds for axis 0 with size 4"
     ]
    }
   ],
   "source": [
    "utils.pipeline(llm, 'What is the relation between social background and math score of students? Please give linear regression coefficient as answer.', df_sch, meta_sch, cols_retriever)"
   ]
  },
  {
   "cell_type": "code",
   "execution_count": 114,
   "id": "2b4a2b21-3201-4828-8e1c-59e210792ccd",
   "metadata": {},
   "outputs": [
    {
     "name": "stdout",
     "output_type": "stream",
     "text": [
      "1. Student ID\n",
      "2. Social background (e.g. parental education level, household income)\n",
      "3. Math score\n",
      "\n",
      "Linear regression coefficient: The coefficient will indicate the strength and direction of the relationship between social background and math score.\n",
      "hint 1. Student ID\n",
      "['CNTSTUID', 'CNTSCHID', 'AGE', 'COBN_S']\n",
      "['CNTSTUID', 'CNTSCHID', 'AGE', 'COBN_S']\n",
      "hint 2. Social background (e.g. parental education level, household income)\n",
      "['MISCED', 'FISCED', 'HISCED', 'ATTIMMP']\n",
      "['MISCED', 'FISCED', 'HISCED', 'ATTIMMP']\n",
      "hint 3. Math score\n",
      "['PV3MPRE', 'MATHPREF', 'PV3MPFS', 'PV3MPIN']\n",
      "['PV3MPRE', 'MATHPREF', 'PV3MPFS', 'PV3MPIN']\n",
      "hint \n",
      "['PV2SCIE', 'PV9SCIE', 'SISCO', 'PV2READ']\n",
      "['PV2SCIE', 'PV9SCIE', 'SISCO', 'PV2READ']\n",
      "hint Linear regression coefficient: The coefficient will indicate the strength and direction of the relationship between social background and math score.\n",
      "['MATHMOT', 'PV1MCCR', 'PV4MCCR', 'PV2MCCR']\n",
      "['MATHMOT', 'PV1MCCR', 'PV4MCCR', 'PV2MCCR']\n",
      "['Intl. Student ID', 'Intl. School ID', \"Students' age\", \"Student's county of birth\", 'Mother’s level of education (ISCED)', 'Father’s level of education (ISCED)', 'Highest level of education of parents (ISCED)', \"Parents' Attitudes towards Immigrants (WLE)\", 'Plausible Value 3 in Process Subscale of Mathematics - Reasoning', 'Preference of Math over other core subjects', 'Plausible Value 3 in Process Subscale of Mathematics - Formulating Situations Mathematically', 'Plausible Value 3 in Process Subscale of Mathematics - Interpreting, Applying, and Evaluating Mathematical Outcomes', 'Plausible Value 2 in Science', 'Plausible Value 9 in Science', 'Clear idea about future job', 'Plausible Value 2 in Reading', 'Motivation to do well in mathematics', 'Plausible Value 1 in Content Subscale of Mathematics - Change and Relationships', 'Plausible Value 4 in Content Subscale of Mathematics - Change and Relationships', 'Plausible Value 2 in Content Subscale of Mathematics - Change and Relationships']\n",
      "content=\"```python\\nimport pandas as pd\\nimport numpy as np\\nfrom sklearn.linear_model import LinearRegression\\n\\ndef run(data):\\n    data = data[['MISCED', 'FISCED', 'HISCED', 'PV3MPRE']]\\n    data = data.dropna()\\n    \\n    X = data[['MISCED', 'FISCED', 'HISCED']]\\n    y = data['PV3MPRE']\\n    \\n    model = LinearRegression()\\n    model.fit(X, y)\\n    \\n    return float(model.coef_[0])\\n```\" response_metadata={'token_usage': {'completion_tokens': 112, 'prompt_tokens': 709, 'total_tokens': 821}, 'model_name': 'gpt-3.5-turbo', 'system_fingerprint': None, 'finish_reason': 'stop', 'logprobs': None} id='run-33f95123-f848-4fdd-81d9-1fd6350ca488-0' usage_metadata={'input_tokens': 709, 'output_tokens': 112, 'total_tokens': 821}\n",
      "\n",
      "import pandas as pd\n",
      "import numpy as np\n",
      "from sklearn.linear_model import LinearRegression\n",
      "\n",
      "def run(data):\n",
      "    data = data[['MISCED', 'FISCED', 'HISCED', 'PV3MPRE']]\n",
      "    data = data.dropna()\n",
      "    \n",
      "    X = data[['MISCED', 'FISCED', 'HISCED']]\n",
      "    y = data['PV3MPRE']\n",
      "    \n",
      "    model = LinearRegression()\n",
      "    model.fit(X, y)\n",
      "    \n",
      "    return float(model.coef_[0])\n",
      "\n"
     ]
    },
    {
     "data": {
      "text/plain": [
       "{'question': 'What is the relation between social background and math score of students? Please give linear regression coefficient as answer.',\n",
       " 'result': 8.370679333883233,\n",
       " 'hint_cols': ['CNTSTUID',\n",
       "  'CNTSCHID',\n",
       "  'AGE',\n",
       "  'COBN_S',\n",
       "  'MISCED',\n",
       "  'FISCED',\n",
       "  'HISCED',\n",
       "  'ATTIMMP',\n",
       "  'PV3MPRE',\n",
       "  'MATHPREF',\n",
       "  'PV3MPFS',\n",
       "  'PV3MPIN',\n",
       "  'PV2SCIE',\n",
       "  'PV9SCIE',\n",
       "  'SISCO',\n",
       "  'PV2READ',\n",
       "  'MATHMOT',\n",
       "  'PV1MCCR',\n",
       "  'PV4MCCR',\n",
       "  'PV2MCCR']}"
      ]
     },
     "execution_count": 114,
     "metadata": {},
     "output_type": "execute_result"
    }
   ],
   "source": [
    "utils.pipeline(llm, 'What is the relation between social background and math score of students? Please give linear regression coefficient as answer.', df_sch, meta_sch, cols_retriever)"
   ]
  },
  {
   "cell_type": "code",
   "execution_count": 118,
   "id": "697a92b8-f510-4b95-be98-0dc87043ce13",
   "metadata": {},
   "outputs": [
    {
     "name": "stdout",
     "output_type": "stream",
     "text": [
      "- Country\n",
      "- OECD Member (Yes/No)\n",
      "hint - Country\n",
      "['REGION', 'OECD', 'COBN_F', 'COBN_M']\n",
      "hint - OECD Member (Yes/No)\n",
      "['OECD', 'IMMIG', 'PA018Q02NA', 'ST330D10WA']\n",
      "content=\"import pandas as pd\\n\\ndef run(data):\\n    data.dropna(subset=['OECD'], inplace=True)\\n    num_oecd_countries = len(data['OECD'].unique())\\n    \\n    return float(num_oecd_countries)\" response_metadata={'token_usage': {'completion_tokens': 45, 'prompt_tokens': 319, 'total_tokens': 364}, 'model_name': 'gpt-3.5-turbo', 'system_fingerprint': None, 'finish_reason': 'stop', 'logprobs': None} id='run-5392d2f5-7d3d-4e21-bab1-36ed047cba10-0' usage_metadata={'input_tokens': 319, 'output_tokens': 45, 'total_tokens': 364}\n",
      "import pandas as pd\n",
      "\n",
      "def run(data):\n",
      "    data.dropna(subset=['OECD'], inplace=True)\n",
      "    num_oecd_countries = len(data['OECD'].unique())\n",
      "    \n",
      "    return float(num_oecd_countries)\n"
     ]
    },
    {
     "data": {
      "text/plain": [
       "{'question': 'How many OECD member countries where in the survey? ',\n",
       " 'result': 2.0,\n",
       " 'hint_cols': ['REGION',\n",
       "  'OECD',\n",
       "  'COBN_F',\n",
       "  'COBN_M',\n",
       "  'OECD',\n",
       "  'IMMIG',\n",
       "  'PA018Q02NA',\n",
       "  'ST330D10WA']}"
      ]
     },
     "execution_count": 118,
     "metadata": {},
     "output_type": "execute_result"
    }
   ],
   "source": [
    "utils.pipeline(llm, 'How many OECD member countries where in the survey? ', df_sch, meta_sch, cols_retriever)"
   ]
  },
  {
   "cell_type": "code",
   "execution_count": 119,
   "id": "4fb920d8-c0ae-4387-8fd3-a12f0c801b4c",
   "metadata": {},
   "outputs": [
    {
     "name": "stdout",
     "output_type": "stream",
     "text": [
      "- Country Name\n",
      "- OECD Member Status\n",
      "hint - Country Name\n",
      "['CNT', 'REGION', 'COBN_F', 'OECD']\n",
      "hint - OECD Member Status\n",
      "['OECD', 'ESCS', 'IMMIG', 'BMMJ1']\n",
      "content=\"def run(df):\\n    return float(df['OECD'].dropna().nunique())\" response_metadata={'token_usage': {'completion_tokens': 18, 'prompt_tokens': 285, 'total_tokens': 303}, 'model_name': 'gpt-3.5-turbo', 'system_fingerprint': None, 'finish_reason': 'stop', 'logprobs': None} id='run-4fbad042-c710-4c51-a029-a97cae06eb02-0' usage_metadata={'input_tokens': 285, 'output_tokens': 18, 'total_tokens': 303}\n",
      "def run(df):\n",
      "    return float(df['OECD'].dropna().nunique())\n"
     ]
    },
    {
     "data": {
      "text/plain": [
       "{'question': 'How many countries that are OECD members where in the survey? ',\n",
       " 'result': 2.0,\n",
       " 'hint_cols': ['CNT',\n",
       "  'REGION',\n",
       "  'COBN_F',\n",
       "  'OECD',\n",
       "  'OECD',\n",
       "  'ESCS',\n",
       "  'IMMIG',\n",
       "  'BMMJ1']}"
      ]
     },
     "execution_count": 119,
     "metadata": {},
     "output_type": "execute_result"
    }
   ],
   "source": [
    "utils.pipeline(llm, 'How many countries that are OECD members where in the survey? ', df_sch, meta_sch, cols_retriever)"
   ]
  },
  {
   "cell_type": "code",
   "execution_count": 122,
   "id": "c5739228-ae9b-44f7-a4cc-c08a25e19dda",
   "metadata": {},
   "outputs": [
    {
     "name": "stdout",
     "output_type": "stream",
     "text": [
      "- Country\n",
      "- OECD Member (Yes/No)\n",
      "hint - Country\n",
      "['REGION', 'OECD', 'COBN_F', 'COBN_M']\n",
      "hint - OECD Member (Yes/No)\n",
      "['OECD', 'IMMIG', 'PA018Q02NA', 'ST330D10WA']\n",
      "content=\"def run(data):\\n    return float(data['OECD'].dropna().nunique())\" response_metadata={'token_usage': {'completion_tokens': 18, 'prompt_tokens': 322, 'total_tokens': 340}, 'model_name': 'gpt-3.5-turbo', 'system_fingerprint': None, 'finish_reason': 'stop', 'logprobs': None} id='run-bdb79af0-b6d7-457b-9775-930e1e727194-0' usage_metadata={'input_tokens': 322, 'output_tokens': 18, 'total_tokens': 340}\n",
      "def run(data):\n",
      "    return float(data['OECD'].dropna().nunique())\n"
     ]
    },
    {
     "data": {
      "text/plain": [
       "{'question': 'how many countries that are OECD memeber were involved in the survey?',\n",
       " 'result': 2.0,\n",
       " 'hint_cols': ['REGION',\n",
       "  'OECD',\n",
       "  'COBN_F',\n",
       "  'COBN_M',\n",
       "  'OECD',\n",
       "  'IMMIG',\n",
       "  'PA018Q02NA',\n",
       "  'ST330D10WA']}"
      ]
     },
     "execution_count": 122,
     "metadata": {},
     "output_type": "execute_result"
    }
   ],
   "source": [
    "utils.pipeline(llm, 'how many countries that are OECD memeber were involved in the survey?', df_sch, meta_sch, cols_retriever)"
   ]
  },
  {
   "cell_type": "code",
   "execution_count": 125,
   "id": "5384a27c-53dd-4653-bf39-095d2cd37759",
   "metadata": {},
   "outputs": [
    {
     "name": "stdout",
     "output_type": "stream",
     "text": [
      "1. Country Name\n",
      "2. OECD Member Status\n",
      "3. Survey Participation Status\n",
      "hint 1. Country Name\n",
      "['CNT', 'COBN_F', 'REGION', 'COBN_M']\n",
      "hint 2. OECD Member Status\n",
      "['OECD', 'IMMIG', 'ESCS', 'BMMJ1']\n",
      "hint 3. Survey Participation Status\n",
      "['Option_WBQ', 'Option_PQ', 'Option_TQ', 'BSMJ']\n",
      "content=\"def run(data):\\n    return float(data['CNT'][data['OECD'] == 1].dropna().nunique())\" response_metadata={'token_usage': {'completion_tokens': 26, 'prompt_tokens': 406, 'total_tokens': 432}, 'model_name': 'gpt-3.5-turbo', 'system_fingerprint': None, 'finish_reason': 'stop', 'logprobs': None} id='run-634ec3fd-e830-4e28-9f1f-8c7860e1c0f1-0' usage_metadata={'input_tokens': 406, 'output_tokens': 26, 'total_tokens': 432}\n",
      "def run(data):\n",
      "    return float(data['CNT'][data['OECD'] == 1].dropna().nunique())\n"
     ]
    },
    {
     "data": {
      "text/plain": [
       "{'question': 'how many countries (column name CNT) that are memeber of OECD organisation were involved in the survey?',\n",
       " 'result': 37.0,\n",
       " 'hint_cols': ['CNT',\n",
       "  'COBN_F',\n",
       "  'REGION',\n",
       "  'COBN_M',\n",
       "  'OECD',\n",
       "  'IMMIG',\n",
       "  'ESCS',\n",
       "  'BMMJ1',\n",
       "  'Option_WBQ',\n",
       "  'Option_PQ',\n",
       "  'Option_TQ',\n",
       "  'BSMJ']}"
      ]
     },
     "execution_count": 125,
     "metadata": {},
     "output_type": "execute_result"
    }
   ],
   "source": [
    "utils.pipeline(llm, 'how many countries (column name CNT) that are memeber of OECD organisation were involved in the survey?', df_sch, meta_sch, cols_retriever)"
   ]
  },
  {
   "cell_type": "code",
   "execution_count": 126,
   "id": "5078bae5-4433-4020-98ef-00c8d6d818b6",
   "metadata": {},
   "outputs": [
    {
     "name": "stdout",
     "output_type": "stream",
     "text": [
      "- Country\n",
      "- OECD_member\n",
      "- Survey_involved\n",
      "hint - Country\n",
      "['REGION', 'OECD', 'COBN_F', 'COBN_M']\n",
      "hint - OECD_member\n",
      "['OECD', 'IMMIG', 'OCOD3', 'OCOD1']\n",
      "hint - Survey_involved\n",
      "['LANGTEST_QQQ', 'Option_TQ', 'ADMINMODE', 'Option_WBQ']\n",
      "content=\"def run(df):\\n    return float(df['OECD'].dropna().nunique())\" response_metadata={'token_usage': {'completion_tokens': 18, 'prompt_tokens': 384, 'total_tokens': 402}, 'model_name': 'gpt-3.5-turbo', 'system_fingerprint': None, 'finish_reason': 'stop', 'logprobs': None} id='run-98101135-4bf7-4ce5-867c-170a1dc83ac2-0' usage_metadata={'input_tokens': 384, 'output_tokens': 18, 'total_tokens': 402}\n",
      "def run(df):\n",
      "    return float(df['OECD'].dropna().nunique())\n"
     ]
    },
    {
     "data": {
      "text/plain": [
       "{'question': 'how many different countries that are memeber of OECD organisation were involved in the survey?',\n",
       " 'result': 2.0,\n",
       " 'hint_cols': ['REGION',\n",
       "  'OECD',\n",
       "  'COBN_F',\n",
       "  'COBN_M',\n",
       "  'OECD',\n",
       "  'IMMIG',\n",
       "  'OCOD3',\n",
       "  'OCOD1',\n",
       "  'LANGTEST_QQQ',\n",
       "  'Option_TQ',\n",
       "  'ADMINMODE',\n",
       "  'Option_WBQ']}"
      ]
     },
     "execution_count": 126,
     "metadata": {},
     "output_type": "execute_result"
    }
   ],
   "source": [
    "utils.pipeline(llm, 'how many different countries that are memeber of OECD organisation were involved in the survey?', df_sch, meta_sch, cols_retriever)"
   ]
  },
  {
   "cell_type": "code",
   "execution_count": 148,
   "id": "c667632f-5efc-4e48-8557-06f13bc5954e",
   "metadata": {
    "scrolled": true
   },
   "outputs": [
    {
     "name": "stdout",
     "output_type": "stream",
     "text": [
      "1. Respondent ID\n",
      "2. Language of questionnaire filled out\n",
      "hint 1. Respondent ID\n",
      "['ADMINMODE', 'BOOKID', 'CNTSTUID', 'CNTSCHID']\n",
      "hint 2. Language of questionnaire filled out\n",
      "['LANGTEST_QQQ', 'LANGTEST_PAQ', 'Option_TQ', 'Option_WBQ']\n",
      "content=\"def run(data):\\n    return float(data['LANGTEST_QQQ'].dropna().nunique())\" response_metadata={'token_usage': {'completion_tokens': 20, 'prompt_tokens': 287, 'total_tokens': 307}, 'model_name': 'gpt-3.5-turbo', 'system_fingerprint': None, 'finish_reason': 'stop', 'logprobs': None} id='run-9ec3f902-e705-4d61-acca-6344e15b67d0-0' usage_metadata={'input_tokens': 287, 'output_tokens': 20, 'total_tokens': 307}\n",
      "def run(data):\n",
      "    return float(data['LANGTEST_QQQ'].dropna().nunique())\n"
     ]
    },
    {
     "data": {
      "text/plain": [
       "{'question': 'In how many languages \\u200b\\u200bwas the questionnaire filled out?',\n",
       " 'result': 55.0,\n",
       " 'hint_cols': ['ADMINMODE',\n",
       "  'BOOKID',\n",
       "  'CNTSTUID',\n",
       "  'CNTSCHID',\n",
       "  'LANGTEST_QQQ',\n",
       "  'LANGTEST_PAQ',\n",
       "  'Option_TQ',\n",
       "  'Option_WBQ']}"
      ]
     },
     "execution_count": 148,
     "metadata": {},
     "output_type": "execute_result"
    }
   ],
   "source": [
    "utils.pipeline(llm, 'In how many languages ​​was the questionnaire filled out?', df_sch, meta_sch, cols_retriever)"
   ]
  },
  {
   "cell_type": "code",
   "execution_count": 149,
   "id": "54f3f362-620d-41da-93e8-3337dbdc738b",
   "metadata": {},
   "outputs": [
    {
     "name": "stdout",
     "output_type": "stream",
     "text": [
      "- Student ID\n",
      "- Country\n",
      "- Number of books at home\n",
      "hint - Student ID\n",
      "['CNTSTUID', 'CNTSCHID', 'AGE', 'COBN_S']\n",
      "hint - Country\n",
      "['CNTRYID', 'REGION', 'OECD', 'COBN_F']\n",
      "hint - Number of books at home\n",
      "['PA195Q01JA', 'ST255Q01JA', 'ST256Q10JA', 'ST256Q06JA']\n",
      "content=\"def run(data):\\n    data.dropna(subset=['PA195Q01JA', 'ST255Q01JA'], inplace=True)\\n    data['total_books'] = data['PA195Q01JA'] + data['ST255Q01JA']\\n    country_with_most_books = data.groupby('COBN_S')['total_books'].sum().idxmax()\\n    return float(country_with_most_books)\" response_metadata={'token_usage': {'completion_tokens': 80, 'prompt_tokens': 410, 'total_tokens': 490}, 'model_name': 'gpt-3.5-turbo', 'system_fingerprint': None, 'finish_reason': 'stop', 'logprobs': None} id='run-787e467b-b525-49c8-9fe9-c360e97ac93d-0' usage_metadata={'input_tokens': 410, 'output_tokens': 80, 'total_tokens': 490}\n",
      "def run(data):\n",
      "    data.dropna(subset=['PA195Q01JA', 'ST255Q01JA'], inplace=True)\n",
      "    data['total_books'] = data['PA195Q01JA'] + data['ST255Q01JA']\n",
      "    country_with_most_books = data.groupby('COBN_S')['total_books'].sum().idxmax()\n",
      "    return float(country_with_most_books)\n"
     ]
    },
    {
     "data": {
      "text/plain": [
       "{'question': 'In which country name have students the most books at home?',\n",
       " 'result': 38000.0,\n",
       " 'hint_cols': ['CNTSTUID',\n",
       "  'CNTSCHID',\n",
       "  'AGE',\n",
       "  'COBN_S',\n",
       "  'CNTRYID',\n",
       "  'REGION',\n",
       "  'OECD',\n",
       "  'COBN_F',\n",
       "  'PA195Q01JA',\n",
       "  'ST255Q01JA',\n",
       "  'ST256Q10JA',\n",
       "  'ST256Q06JA']}"
      ]
     },
     "execution_count": 149,
     "metadata": {},
     "output_type": "execute_result"
    }
   ],
   "source": [
    "utils.pipeline(llm, 'In which country name have students the most books at home?', df_sch, meta_sch, cols_retriever)"
   ]
  },
  {
   "cell_type": "code",
   "execution_count": 3,
   "id": "8a767da9-e60d-424c-9706-458379bb6d7b",
   "metadata": {},
   "outputs": [
    {
     "ename": "NameError",
     "evalue": "name 'llm' is not defined",
     "output_type": "error",
     "traceback": [
      "\u001b[0;31m---------------------------------------------------------------------------\u001b[0m",
      "\u001b[0;31mNameError\u001b[0m                                 Traceback (most recent call last)",
      "Cell \u001b[0;32mIn[3], line 1\u001b[0m\n\u001b[0;32m----> 1\u001b[0m utils\u001b[38;5;241m.\u001b[39mpipeline(\u001b[43mllm\u001b[49m, \u001b[38;5;124m'\u001b[39m\u001b[38;5;124mWhat is the relation between social background and math score of students? Please give linear regression coefficient as answer.\u001b[39m\u001b[38;5;124m'\u001b[39m, df_sch, meta_sch, cols_retriever)\n",
      "\u001b[0;31mNameError\u001b[0m: name 'llm' is not defined"
     ]
    }
   ],
   "source": [
    "utils.pipeline(llm, 'What is the relation between social background and math score of students? Please give linear regression coefficient as answer.', df_sch, meta_sch, cols_retriever)"
   ]
  },
  {
   "cell_type": "code",
   "execution_count": null,
   "id": "6464166f-aeb0-4fa3-90b5-6a911806056a",
   "metadata": {},
   "outputs": [],
   "source": []
  }
 ],
 "metadata": {
  "kernelspec": {
   "display_name": "Python [conda env:arpad_ts]",
   "language": "python",
   "name": "conda-env-arpad_ts-py"
  },
  "language_info": {
   "codemirror_mode": {
    "name": "ipython",
    "version": 3
   },
   "file_extension": ".py",
   "mimetype": "text/x-python",
   "name": "python",
   "nbconvert_exporter": "python",
   "pygments_lexer": "ipython3",
   "version": "3.10.14"
  }
 },
 "nbformat": 4,
 "nbformat_minor": 5
}
