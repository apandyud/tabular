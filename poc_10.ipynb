{
 "cells": [
  {
   "cell_type": "code",
   "execution_count": 114,
   "id": "2adfc3cc-7f34-4db3-926b-ae004185f196",
   "metadata": {},
   "outputs": [
    {
     "name": "stdout",
     "output_type": "stream",
     "text": [
      "The autoreload extension is already loaded. To reload it, use:\n",
      "  %reload_ext autoreload\n"
     ]
    }
   ],
   "source": [
    "import pandas as pd\n",
    "import pyreadstat\n",
    "from langchain_chroma import Chroma\n",
    "from langchain_openai import OpenAIEmbeddings\n",
    "import utils\n",
    "from langchain_community.vectorstores import FAISS\n",
    "from langchain_core.documents import Document\n",
    "import numpy as np\n",
    "\n",
    "%load_ext autoreload\n",
    "%autoreload 2\n"
   ]
  },
  {
   "cell_type": "code",
   "execution_count": 115,
   "id": "05141ab4-b23f-4a0d-a41e-cc918811030f",
   "metadata": {},
   "outputs": [],
   "source": [
    "df_stu, meta_stu = pyreadstat.read_sav('data/CY08MSP_STU_QQQ_HUN.sav')"
   ]
  },
  {
   "cell_type": "code",
   "execution_count": 116,
   "id": "aec4a347-3f4b-49ec-9e0b-91652f0deefa",
   "metadata": {},
   "outputs": [],
   "source": [
    "import os\n",
    "with open('data/openai.api.key', 'r') as filek: \n",
    "    openai_key = filek.read()\n",
    "os.environ[\"OPENAI_API_KEY\"] =  openai_key "
   ]
  },
  {
   "cell_type": "code",
   "execution_count": 142,
   "id": "02754d4b-f9d9-4b63-8db2-0d37359e325b",
   "metadata": {},
   "outputs": [
    {
     "name": "stderr",
     "output_type": "stream",
     "text": [
      "/tmp/ipykernel_223909/789602455.py:1: SettingWithCopyWarning: \n",
      "A value is trying to be set on a copy of a slice from a DataFrame.\n",
      "Try using .loc[row_indexer,col_indexer] = value instead\n",
      "\n",
      "See the caveats in the documentation: https://pandas.pydata.org/pandas-docs/stable/user_guide/indexing.html#returning-a-view-versus-a-copy\n",
      "  df_stu['STUD_MATH'] = 0\n"
     ]
    }
   ],
   "source": [
    "df_stu['STUD_MATH'] = 0\n",
    "cols = utils.meta2docs(meta_stu, excluded=['test','CNTRYID'])\n",
    "\n",
    "cols.append( Document(\n",
    "                    page_content= 'Student\\'s score in Mathematics',\n",
    "                    metadata={\"year\": 2022, \"original_col_name\": 'STUD_MATH'},\n",
    "                ))\n",
    "\n",
    "cols.append( Document(\n",
    "                    page_content= 'Student\\'s score in Reading',\n",
    "                    metadata={\"year\": 2022, \"original_col_name\": 'STUD_READ'},\n",
    "                ))\n",
    "\n",
    "cols.append( Document(\n",
    "                    page_content= 'Student\\'s score in Science',\n",
    "                    metadata={\"year\": 2022, \"original_col_name\": 'STUD_SCIE'},\n",
    "                ))\n",
    "#drop empty columns\n",
    "df_stu = df_stu.dropna(axis=1, how='all')\n",
    "\n",
    "cols2 = []\n",
    "for col in cols:\n",
    "    if col.metadata['original_col_name'] in df_stu.columns:\n",
    "        cols2.append(col)\n",
    "cols = cols2\n",
    "\n",
    "cols_vectorstore = FAISS.from_documents(cols, OpenAIEmbeddings())\n",
    "\n",
    "cols_retriever = cols_vectorstore.as_retriever()"
   ]
  },
  {
   "cell_type": "code",
   "execution_count": null,
   "id": "76dff8a8-f63b-46d7-b41b-9026e2015b8b",
   "metadata": {},
   "outputs": [],
   "source": []
  },
  {
   "cell_type": "code",
   "execution_count": 143,
   "id": "e2ad6bf7-570d-454b-b1b1-d178aa9fda20",
   "metadata": {},
   "outputs": [
    {
     "data": {
      "text/plain": [
       "1008"
      ]
     },
     "execution_count": 143,
     "metadata": {},
     "output_type": "execute_result"
    }
   ],
   "source": []
  },
  {
   "cell_type": "code",
   "execution_count": 155,
   "id": "2ceef833-acff-4463-b6a5-25d89c05d95e",
   "metadata": {},
   "outputs": [],
   "source": [
    "from langchain.globals import set_llm_cache\n",
    "from langchain_openai import ChatOpenAI\n",
    "from langchain_community.cache import SQLiteCache\n",
    "\n",
    "\n",
    "llm = ChatOpenAI(temperature=0)\n",
    "set_llm_cache(SQLiteCache(database_path=\".langchain.db\"))\n"
   ]
  },
  {
   "cell_type": "code",
   "execution_count": 125,
   "id": "85bb2f39-72d0-4093-b785-b59aa474187f",
   "metadata": {},
   "outputs": [
    {
     "name": "stdout",
     "output_type": "stream",
     "text": [
      "Social background, Math score\n",
      "hint Social background\n",
      "['ESCS', 'SOCONPA', 'COBN_M', 'COBN_F']\n",
      "hint  Math score\n",
      "['STUD_MATH', 'STUD_SCIE', 'STUD_READ', 'MATHMOT']\n",
      "content=\"def run(data):\\n    data = data[['ESCS', 'STUD_MATH']].dropna()\\n    \\n    X = data['ESCS'].values.reshape(-1,1)\\n    y = data['STUD_MATH'].values\\n    \\n    model = LinearRegression()\\n    model.fit(X, y)\\n    \\n    coef = model.coef_[0]\\n    std_err = np.sqrt(np.mean((y - model.predict(X))**2)/(len(X) - 2)) / np.sqrt(np.var(X))\\n    \\n    return coef, std_err\" response_metadata={'token_usage': {'completion_tokens': 109, 'prompt_tokens': 280, 'total_tokens': 389}, 'model_name': 'gpt-3.5-turbo', 'system_fingerprint': None, 'finish_reason': 'stop', 'logprobs': None} id='run-bce0dc05-a434-4d4e-b114-b357c70fd885-0' usage_metadata={'input_tokens': 280, 'output_tokens': 109, 'total_tokens': 389}\n",
      "def run(data):\n",
      "    data = data[['ESCS', 'STUD_MATH']].dropna()\n",
      "    \n",
      "    X = data['ESCS'].values.reshape(-1,1)\n",
      "    y = data['STUD_MATH'].values\n",
      "    \n",
      "    model = LinearRegression()\n",
      "    model.fit(X, y)\n",
      "    \n",
      "    coef = model.coef_[0]\n",
      "    std_err = np.sqrt(np.mean((y - model.predict(X))**2)/(len(X) - 2)) / np.sqrt(np.var(X))\n",
      "    \n",
      "    return coef, std_err\n",
      "['ESCS', 'STUD_MATH']\n",
      "Iterating \"STUD_MATH\" \n",
      "[(47.21627160500879, 1.1168192023120016), (46.82207559175586, 1.1163634632259722), (47.52026632144092, 1.122997605025652), (47.39415011978748, 1.0999790028769083), (47.39021864860416, 1.1053091205088028)]\n"
     ]
    },
    {
     "data": {
      "text/plain": [
       "{'question': 'What is the relation between social background and math score of students? Please give  linear regression coefficients with standard errors as result.',\n",
       " 'result': array([47.26859646,  1.11229368]),\n",
       " 'hint_cols': ['ESCS',\n",
       "  'SOCONPA',\n",
       "  'COBN_M',\n",
       "  'COBN_F',\n",
       "  'STUD_MATH',\n",
       "  'STUD_SCIE',\n",
       "  'STUD_READ',\n",
       "  'MATHMOT']}"
      ]
     },
     "execution_count": 125,
     "metadata": {},
     "output_type": "execute_result"
    }
   ],
   "source": [
    "utils.pipeline(llm, 'What is the relation between social background and math score of students? Please give  linear regression coefficients with standard errors as result.', df_stu, meta_stu, cols_retriever)"
   ]
  },
  {
   "cell_type": "code",
   "execution_count": 126,
   "id": "fd275bba-e1c2-4fbd-b7bc-b53e692d1a2d",
   "metadata": {},
   "outputs": [
    {
     "name": "stdout",
     "output_type": "stream",
     "text": [
      "Social background, Math score\n",
      "hint Social background\n",
      "['ESCS', 'SOCONPA', 'COBN_M', 'COBN_F']\n",
      "hint  Math score\n",
      "['STUD_MATH', 'STUD_SCIE', 'STUD_READ', 'MATHMOT']\n",
      "content=\"def run(data):\\n    data = data[['ESCS', 'STUD_MATH']].dropna()\\n    \\n    correlation = data['ESCS'].corr(data['STUD_MATH'])\\n    \\n    return correlation\" response_metadata={'token_usage': {'completion_tokens': 40, 'prompt_tokens': 275, 'total_tokens': 315}, 'model_name': 'gpt-3.5-turbo', 'system_fingerprint': None, 'finish_reason': 'stop', 'logprobs': None} id='run-11f76185-8a26-4602-ad95-5b5fde51b274-0' usage_metadata={'input_tokens': 275, 'output_tokens': 40, 'total_tokens': 315}\n",
      "def run(data):\n",
      "    data = data[['ESCS', 'STUD_MATH']].dropna()\n",
      "    \n",
      "    correlation = data['ESCS'].corr(data['STUD_MATH'])\n",
      "    \n",
      "    return correlation\n",
      "['ESCS', 'STUD_MATH']\n",
      "Iterating \"STUD_MATH\" \n",
      "[0.4788089210791027, 0.4758693053729336, 0.4791414020402215, 0.48582388249150876, 0.4840002529809444]\n"
     ]
    },
    {
     "data": {
      "text/plain": [
       "{'question': 'What is the relation between social background and math score of students? Please answer with some exact values.',\n",
       " 'result': 0.48072875279294214,\n",
       " 'hint_cols': ['ESCS',\n",
       "  'SOCONPA',\n",
       "  'COBN_M',\n",
       "  'COBN_F',\n",
       "  'STUD_MATH',\n",
       "  'STUD_SCIE',\n",
       "  'STUD_READ',\n",
       "  'MATHMOT']}"
      ]
     },
     "execution_count": 126,
     "metadata": {},
     "output_type": "execute_result"
    }
   ],
   "source": [
    "utils.pipeline(llm, 'What is the relation between social background and math score of students? Please answer with some exact values.', df_stu, meta_stu, cols_retriever)"
   ]
  },
  {
   "cell_type": "code",
   "execution_count": 131,
   "id": "3b9df322-f4b3-46e8-932c-d527cf395022",
   "metadata": {},
   "outputs": [
    {
     "name": "stdout",
     "output_type": "stream",
     "text": [
      "Social background, Math score\n",
      "hint Social background\n",
      "['IC177Q02JA', 'FL174Q02JA', 'ESCS', 'IC178Q02JA']\n",
      "hint  Math score\n",
      "['STUD_MATH', 'STUD_SCIE', 'STUD_READ', 'MATHMOT']\n",
      "content=\"def run(data):\\n    result, statistical_ = data[['ESCS', 'STUD_MATH']].dropna().corr().iloc[0, 1], 'Pearson correlation'\\n    return result, statistical_\" response_metadata={'token_usage': {'completion_tokens': 43, 'prompt_tokens': 344, 'total_tokens': 387}, 'model_name': 'gpt-3.5-turbo', 'system_fingerprint': None, 'finish_reason': 'stop', 'logprobs': None} id='run-9fe1bf91-bbbf-4b75-8940-4be7d7e0bda5-0' usage_metadata={'input_tokens': 344, 'output_tokens': 43, 'total_tokens': 387}\n",
      "def run(data):\n",
      "    result, statistical_ = data[['ESCS', 'STUD_MATH']].dropna().corr().iloc[0, 1], 'Pearson correlation'\n",
      "    return result, statistical_\n",
      "['ESCS', 'STUD_MATH']\n",
      "Iterating \"STUD_MATH\" \n",
      "[(0.47880892107910455, 'Pearson correlation'), (0.4758693053729348, 'Pearson correlation'), (0.47914140204022543, 'Pearson correlation'), (0.4858238824915101, 'Pearson correlation'), (0.4840002529809448, 'Pearson correlation')]\n"
     ]
    },
    {
     "data": {
      "text/plain": [
       "{'question': 'What is the relation between social background and math score of students? Please answer with some exact values.',\n",
       " 'result': (0.4807287527929439, 'Pearson correlation'),\n",
       " 'used_columns': ['ESCS', 'STUD_MATH'],\n",
       " 'hint_cols': ['IC177Q02JA',\n",
       "  'FL174Q02JA',\n",
       "  'ESCS',\n",
       "  'IC178Q02JA',\n",
       "  'STUD_MATH',\n",
       "  'STUD_SCIE',\n",
       "  'STUD_READ',\n",
       "  'MATHMOT']}"
      ]
     },
     "execution_count": 131,
     "metadata": {},
     "output_type": "execute_result"
    }
   ],
   "source": [
    "utils.pipeline(llm, 'What is the relation between social background and math score of students? Please answer with some exact values.', df_stu, meta_stu, cols_retriever)"
   ]
  },
  {
   "cell_type": "code",
   "execution_count": 132,
   "id": "c8752d3d-401b-4f3d-bf34-81e4c1b0ce4a",
   "metadata": {},
   "outputs": [
    {
     "name": "stdout",
     "output_type": "stream",
     "text": [
      "Social background, Math score\n",
      "hint Social background\n",
      "['ESCS', 'SOCONPA', 'COBN_M', 'COBN_F']\n",
      "hint  Math score\n",
      "['STUD_MATH', 'STUD_SCIE', 'STUD_READ', 'MATHMOT']\n",
      "content=\"def run(data):\\n    data = data[['ESCS', 'STUD_MATH']].dropna()\\n    \\n    correlation = data['ESCS'].corr(data['STUD_MATH'])\\n    \\n    return correlation, 'Pearson correlation'\" response_metadata={'token_usage': {'completion_tokens': 46, 'prompt_tokens': 309, 'total_tokens': 355}, 'model_name': 'gpt-3.5-turbo', 'system_fingerprint': None, 'finish_reason': 'stop', 'logprobs': None} id='run-d02c6cd0-463d-4061-b73b-9caa620c4ce7-0' usage_metadata={'input_tokens': 309, 'output_tokens': 46, 'total_tokens': 355}\n",
      "def run(data):\n",
      "    data = data[['ESCS', 'STUD_MATH']].dropna()\n",
      "    \n",
      "    correlation = data['ESCS'].corr(data['STUD_MATH'])\n",
      "    \n",
      "    return correlation, 'Pearson correlation'\n",
      "['ESCS', 'STUD_MATH']\n",
      "Iterating \"STUD_MATH\" \n",
      "[(0.4788089210791027, 'Pearson correlation'), (0.4758693053729336, 'Pearson correlation'), (0.4791414020402215, 'Pearson correlation'), (0.48582388249150876, 'Pearson correlation'), (0.4840002529809444, 'Pearson correlation')]\n"
     ]
    },
    {
     "data": {
      "text/plain": [
       "{'question': 'What is the relation between social background and math score of students? Please answer with some exact values, that show the direction and strenght of the relation.',\n",
       " 'result': (0.48072875279294214, 'Pearson correlation'),\n",
       " 'used_columns': ['ESCS', 'STUD_MATH'],\n",
       " 'hint_cols': ['ESCS',\n",
       "  'SOCONPA',\n",
       "  'COBN_M',\n",
       "  'COBN_F',\n",
       "  'STUD_MATH',\n",
       "  'STUD_SCIE',\n",
       "  'STUD_READ',\n",
       "  'MATHMOT']}"
      ]
     },
     "execution_count": 132,
     "metadata": {},
     "output_type": "execute_result"
    }
   ],
   "source": [
    "utils.pipeline(llm, 'What is the relation between social background and math score of students? Please answer with some exact values, that show the direction and strenght of the relation.', df_stu, meta_stu, cols_retriever)"
   ]
  },
  {
   "cell_type": "code",
   "execution_count": 133,
   "id": "5d724133-213d-43bd-bfca-a0cdc1e30c94",
   "metadata": {},
   "outputs": [
    {
     "name": "stdout",
     "output_type": "stream",
     "text": [
      "Social background, Math score\n",
      "hint Social background\n",
      "['ESCS', 'SOCONPA', 'COBN_M', 'COBN_F']\n",
      "hint  Math score\n",
      "['STUD_MATH', 'STUD_SCIE', 'STUD_READ', 'MATHPREF']\n",
      "content=\"def run(data):\\n    result, statistical_ = data[['ESCS', 'STUD_MATH']].dropna().corr().iloc[0, 1], 'Pearson correlation'\\n    return result, statistical_\" response_metadata={'token_usage': {'completion_tokens': 43, 'prompt_tokens': 297, 'total_tokens': 340}, 'model_name': 'gpt-3.5-turbo', 'system_fingerprint': None, 'finish_reason': 'stop', 'logprobs': None} id='run-27f1c84c-9964-406a-82e8-21a59d95f540-0' usage_metadata={'input_tokens': 297, 'output_tokens': 43, 'total_tokens': 340}\n",
      "def run(data):\n",
      "    result, statistical_ = data[['ESCS', 'STUD_MATH']].dropna().corr().iloc[0, 1], 'Pearson correlation'\n",
      "    return result, statistical_\n",
      "['ESCS', 'STUD_MATH']\n",
      "Iterating \"STUD_MATH\" \n",
      "[(0.47880892107910455, 'Pearson correlation'), (0.4758693053729348, 'Pearson correlation'), (0.47914140204022543, 'Pearson correlation'), (0.4858238824915101, 'Pearson correlation'), (0.4840002529809448, 'Pearson correlation')]\n"
     ]
    },
    {
     "data": {
      "text/plain": [
       "{'question': 'Is social background positive or negative effect on math score of students? Please answer with some exact values.',\n",
       " 'result': (0.4807287527929439, 'Pearson correlation'),\n",
       " 'used_columns': ['ESCS', 'STUD_MATH'],\n",
       " 'hint_cols': ['ESCS',\n",
       "  'SOCONPA',\n",
       "  'COBN_M',\n",
       "  'COBN_F',\n",
       "  'STUD_MATH',\n",
       "  'STUD_SCIE',\n",
       "  'STUD_READ',\n",
       "  'MATHPREF']}"
      ]
     },
     "execution_count": 133,
     "metadata": {},
     "output_type": "execute_result"
    }
   ],
   "source": [
    "utils.pipeline(llm, 'Is social background positive or negative effect on math score of students? Please answer with some exact values.', df_stu, meta_stu, cols_retriever)"
   ]
  },
  {
   "cell_type": "code",
   "execution_count": 134,
   "id": "7aae5cb5-c2cd-415e-b450-d189f3338165",
   "metadata": {},
   "outputs": [
    {
     "name": "stdout",
     "output_type": "stream",
     "text": [
      "Social background, Math score\n",
      "hint Social background\n",
      "['ESCS', 'SOCONPA', 'COBN_M', 'COBN_F']\n",
      "hint  Math score\n",
      "['STUD_MATH', 'STUD_SCIE', 'STUD_READ', 'MATHMOT']\n",
      "content=\"def run(data):\\n    import pandas as pd\\n    from sklearn.linear_model import LinearRegression\\n    \\n    data = data[['ESCS', 'STUD_MATH']].dropna()\\n    \\n    X = data[['ESCS']]\\n    y = data['STUD_MATH']\\n    \\n    model = LinearRegression()\\n    model.fit(X, y)\\n    \\n    return (model.coef_[0], 'Linear Regression')\" response_metadata={'token_usage': {'completion_tokens': 81, 'prompt_tokens': 300, 'total_tokens': 381}, 'model_name': 'gpt-3.5-turbo', 'system_fingerprint': None, 'finish_reason': 'stop', 'logprobs': None} id='run-32d51ab8-6cc8-4de8-9ed2-28de1444720c-0' usage_metadata={'input_tokens': 300, 'output_tokens': 81, 'total_tokens': 381}\n",
      "def run(data):\n",
      "    import pandas as pd\n",
      "    from sklearn.linear_model import LinearRegression\n",
      "    \n",
      "    data = data[['ESCS', 'STUD_MATH']].dropna()\n",
      "    \n",
      "    X = data[['ESCS']]\n",
      "    y = data['STUD_MATH']\n",
      "    \n",
      "    model = LinearRegression()\n",
      "    model.fit(X, y)\n",
      "    \n",
      "    return (model.coef_[0], 'Linear Regression')\n",
      "['ESCS', 'STUD_MATH']\n",
      "Iterating \"STUD_MATH\" \n",
      "[(47.21627160500879, 'Linear Regression'), (46.82207559175586, 'Linear Regression'), (47.52026632144092, 'Linear Regression'), (47.39415011978748, 'Linear Regression'), (47.39021864860416, 'Linear Regression')]\n"
     ]
    },
    {
     "data": {
      "text/plain": [
       "{'question': 'What is the relation between social background and math score of students? Please answer with some exact values, using regression.',\n",
       " 'result': (47.26859645731944, 'Linear Regression'),\n",
       " 'used_columns': ['ESCS', 'STUD_MATH'],\n",
       " 'hint_cols': ['ESCS',\n",
       "  'SOCONPA',\n",
       "  'COBN_M',\n",
       "  'COBN_F',\n",
       "  'STUD_MATH',\n",
       "  'STUD_SCIE',\n",
       "  'STUD_READ',\n",
       "  'MATHMOT']}"
      ]
     },
     "execution_count": 134,
     "metadata": {},
     "output_type": "execute_result"
    }
   ],
   "source": [
    "utils.pipeline(llm, 'What is the relation between social background and math score of students? Please answer with some exact values, using regression.', df_stu, meta_stu, cols_retriever)"
   ]
  },
  {
   "cell_type": "code",
   "execution_count": 135,
   "id": "94df32b4-056f-4e31-9f71-d8ac5ee8b2f5",
   "metadata": {},
   "outputs": [
    {
     "name": "stdout",
     "output_type": "stream",
     "text": [
      "Number of books at home, Math score of students\n",
      "hint Number of books at home\n",
      "['ST255Q01JA', 'PA195Q01JA', 'ST256Q10JA', 'ST256Q06JA']\n",
      "hint  Math score of students\n",
      "['STUD_MATH', 'STUD_SCIE', 'STUD_READ', 'AGE']\n",
      "content=\"def run(data):\\n    data = data[['ST255Q01JA', 'PA195Q01JA', 'STUD_MATH']].dropna()\\n    \\n    correlation = data['ST255Q01JA'].corr(data['STUD_MATH'])\\n    \\n    return correlation, 'Pearson Correlation'\" response_metadata={'token_usage': {'completion_tokens': 60, 'prompt_tokens': 338, 'total_tokens': 398}, 'model_name': 'gpt-3.5-turbo', 'system_fingerprint': None, 'finish_reason': 'stop', 'logprobs': None} id='run-8f17538e-e116-4992-a716-0722a52b6ad7-0' usage_metadata={'input_tokens': 338, 'output_tokens': 60, 'total_tokens': 398}\n",
      "def run(data):\n",
      "    data = data[['ST255Q01JA', 'PA195Q01JA', 'STUD_MATH']].dropna()\n",
      "    \n",
      "    correlation = data['ST255Q01JA'].corr(data['STUD_MATH'])\n",
      "    \n",
      "    return correlation, 'Pearson Correlation'\n",
      "['ST255Q01JA', 'PA195Q01JA', 'STUD_MATH']\n",
      "Iterating \"STUD_MATH\" \n",
      "[(nan, 'Pearson Correlation'), (nan, 'Pearson Correlation'), (nan, 'Pearson Correlation'), (nan, 'Pearson Correlation'), (nan, 'Pearson Correlation')]\n"
     ]
    },
    {
     "data": {
      "text/plain": [
       "{'question': 'What is the relation between number of books at home and math score of students? Please answer with some exact values, that show the direction and strenght of the relation.',\n",
       " 'result': (nan, 'Pearson Correlation'),\n",
       " 'used_columns': ['ST255Q01JA', 'PA195Q01JA', 'STUD_MATH'],\n",
       " 'hint_cols': ['ST255Q01JA',\n",
       "  'PA195Q01JA',\n",
       "  'ST256Q10JA',\n",
       "  'ST256Q06JA',\n",
       "  'STUD_MATH',\n",
       "  'STUD_SCIE',\n",
       "  'STUD_READ',\n",
       "  'AGE']}"
      ]
     },
     "execution_count": 135,
     "metadata": {},
     "output_type": "execute_result"
    }
   ],
   "source": [
    "utils.pipeline(llm, 'What is the relation between number of books at home and math score of students? Please answer with some exact values, that show the direction and strenght of the relation.', df_stu, meta_stu, cols_retriever)"
   ]
  },
  {
   "cell_type": "code",
   "execution_count": 160,
   "id": "8bd94254-f22c-45fd-9f33-1876689b59ac",
   "metadata": {},
   "outputs": [
    {
     "name": "stdout",
     "output_type": "stream",
     "text": [
      "Number of books at home, Math score\n",
      "hint Number of books at home\n",
      "['ST255Q01JA', 'ST256Q10JA', 'ST256Q06JA', 'ST256Q09JA']\n",
      "hint  Math score\n",
      "['STUD_MATH', 'MATHMOT', 'MATHPREF', 'ST296Q01JA']\n",
      "content=\"def run(data):\\n    data = data[['ST255Q01JA', 'STUD_MATH']].dropna()\\n    \\n    result, _ = stats.pearsonr(data['ST255Q01JA'], data['STUD_MATH'])\\n    \\n    return result, 'Pearson Correlation'\" response_metadata={'token_usage': {'completion_tokens': 59, 'prompt_tokens': 371, 'total_tokens': 430}, 'model_name': 'gpt-3.5-turbo', 'system_fingerprint': None, 'finish_reason': 'stop', 'logprobs': None} id='run-7804ff3c-8341-4bcf-b427-bd55ad788003-0' usage_metadata={'input_tokens': 371, 'output_tokens': 59, 'total_tokens': 430}\n",
      "def run(data):\n",
      "    data = data[['ST255Q01JA', 'STUD_MATH']].dropna()\n",
      "    \n",
      "    result, _ = stats.pearsonr(data['ST255Q01JA'], data['STUD_MATH'])\n",
      "    \n",
      "    return result, 'Pearson Correlation'\n",
      "['ST255Q01JA', 'STUD_MATH']\n",
      "Iterating \"STUD_MATH\" \n"
     ]
    },
    {
     "ename": "NameError",
     "evalue": "name 'stats' is not defined",
     "output_type": "error",
     "traceback": [
      "\u001b[0;31m---------------------------------------------------------------------------\u001b[0m",
      "\u001b[0;31mNameError\u001b[0m                                 Traceback (most recent call last)",
      "Cell \u001b[0;32mIn[160], line 1\u001b[0m\n\u001b[0;32m----> 1\u001b[0m \u001b[43mutils\u001b[49m\u001b[38;5;241;43m.\u001b[39;49m\u001b[43mpipeline\u001b[49m\u001b[43m(\u001b[49m\u001b[43mllm\u001b[49m\u001b[43m,\u001b[49m\u001b[43m \u001b[49m\u001b[38;5;124;43m'\u001b[39;49m\u001b[38;5;124;43mWhat is the relation between number of books at home and math score of students? Please answer with some exact values, using regression.\u001b[39;49m\u001b[38;5;124;43m'\u001b[39;49m\u001b[43m,\u001b[49m\u001b[43m \u001b[49m\u001b[43mdf_stu\u001b[49m\u001b[43m,\u001b[49m\u001b[43m \u001b[49m\u001b[43mmeta_stu\u001b[49m\u001b[43m,\u001b[49m\u001b[43m \u001b[49m\u001b[43mcols_retriever\u001b[49m\u001b[43m)\u001b[49m\n",
      "File \u001b[0;32m~/work/Arpad/Tabular/utils.py:144\u001b[0m, in \u001b[0;36mpipeline\u001b[0;34m(llm, question, df, meta, col_retriever)\u001b[0m\n\u001b[1;32m    141\u001b[0m \u001b[38;5;28mprint\u001b[39m(used_columns)\n\u001b[1;32m    142\u001b[0m \u001b[38;5;66;03m#columns = [i.metadata['original_col_name'] for i in rel_col_docs]\u001b[39;00m\n\u001b[1;32m    143\u001b[0m \u001b[38;5;66;03m#df2 = df.dropna(subset=columns)\u001b[39;00m\n\u001b[0;32m--> 144\u001b[0m res \u001b[38;5;241m=\u001b[39m \u001b[43mexec_code\u001b[49m\u001b[43m(\u001b[49m\u001b[43mcode\u001b[49m\u001b[43m,\u001b[49m\u001b[43m \u001b[49m\u001b[43mdf\u001b[49m\u001b[43m,\u001b[49m\u001b[43m \u001b[49m\u001b[43mused_columns\u001b[49m\u001b[43m)\u001b[49m\n\u001b[1;32m    145\u001b[0m inter \u001b[38;5;241m=\u001b[39m  interpret(llm, question, res)\n\u001b[1;32m    146\u001b[0m \u001b[38;5;28;01mreturn\u001b[39;00m {\u001b[38;5;124m'\u001b[39m\u001b[38;5;124mquestion\u001b[39m\u001b[38;5;124m'\u001b[39m: question, \u001b[38;5;124m'\u001b[39m\u001b[38;5;124mresult\u001b[39m\u001b[38;5;124m'\u001b[39m: res, \u001b[38;5;124m'\u001b[39m\u001b[38;5;124minter\u001b[39m\u001b[38;5;124m'\u001b[39m: inter, \u001b[38;5;124m'\u001b[39m\u001b[38;5;124mused_columns\u001b[39m\u001b[38;5;124m'\u001b[39m: used_columns, \u001b[38;5;124m'\u001b[39m\u001b[38;5;124mhint_cols\u001b[39m\u001b[38;5;124m'\u001b[39m: [(i\u001b[38;5;241m.\u001b[39mmetadata[\u001b[38;5;124m'\u001b[39m\u001b[38;5;124moriginal_col_name\u001b[39m\u001b[38;5;124m'\u001b[39m], i\u001b[38;5;241m.\u001b[39mpage_content) \u001b[38;5;28;01mfor\u001b[39;00m i \u001b[38;5;129;01min\u001b[39;00m rel_col_docs]}\n",
      "File \u001b[0;32m~/work/Arpad/Tabular/utils.py:121\u001b[0m, in \u001b[0;36mexec_code\u001b[0;34m(code, df, used_columns)\u001b[0m\n\u001b[1;32m    119\u001b[0m     df2 \u001b[38;5;241m=\u001b[39m df[used_columns]                    \n\u001b[1;32m    120\u001b[0m     loc \u001b[38;5;241m=\u001b[39m \u001b[38;5;28mlocals\u001b[39m()    \n\u001b[0;32m--> 121\u001b[0m     \u001b[43mexec\u001b[49m\u001b[43m(\u001b[49m\u001b[43mcode\u001b[49m\u001b[43m \u001b[49m\u001b[38;5;241;43m+\u001b[39;49m\u001b[43m \u001b[49m\u001b[38;5;124;43m\"\u001b[39;49m\u001b[38;5;130;43;01m\\n\u001b[39;49;00m\u001b[38;5;124;43mr = run(df2)\u001b[39;49m\u001b[38;5;130;43;01m\\n\u001b[39;49;00m\u001b[38;5;124;43m\"\u001b[39;49m\u001b[43m,\u001b[49m\u001b[43m \u001b[49m\u001b[38;5;28;43mglobals\u001b[39;49m\u001b[43m(\u001b[49m\u001b[43m)\u001b[49m\u001b[43m,\u001b[49m\u001b[43m \u001b[49m\u001b[43mloc\u001b[49m\u001b[43m)\u001b[49m\n\u001b[1;32m    122\u001b[0m     res\u001b[38;5;241m.\u001b[39mappend(loc[\u001b[38;5;124m'\u001b[39m\u001b[38;5;124mr\u001b[39m\u001b[38;5;124m'\u001b[39m])            \n\u001b[1;32m    123\u001b[0m \u001b[38;5;28mprint\u001b[39m(res)\n",
      "File \u001b[0;32m<string>:7\u001b[0m\n",
      "File \u001b[0;32m<string>:4\u001b[0m, in \u001b[0;36mrun\u001b[0;34m(data)\u001b[0m\n",
      "\u001b[0;31mNameError\u001b[0m: name 'stats' is not defined"
     ]
    }
   ],
   "source": [
    "utils.pipeline(llm, 'What is the relation between number of books at home and math score of students? Please answer with some exact values, using regression.', df_stu, meta_stu, cols_retriever)"
   ]
  },
  {
   "cell_type": "code",
   "execution_count": 137,
   "id": "8ac5a93f-c201-4af0-a98c-79edf4c87b7c",
   "metadata": {},
   "outputs": [
    {
     "name": "stdout",
     "output_type": "stream",
     "text": [
      "Number of books at home, Math score of students\n",
      "hint Number of books at home\n",
      "['PA195Q01JA', 'ST255Q01JA', 'ST256Q10JA', 'ST256Q06JA']\n",
      "hint  Math score of students\n",
      "['STUD_MATH', 'STUD_SCIE', 'STUD_READ', 'AGE']\n",
      "content=\"def run(data):\\n    data = data[['PA195Q01JA', 'STUD_MATH']].dropna()\\n    \\n    correlation = data['PA195Q01JA'].corr(data['STUD_MATH'])\\n    \\n    return correlation, 'Pearson Correlation'\" response_metadata={'token_usage': {'completion_tokens': 53, 'prompt_tokens': 338, 'total_tokens': 391}, 'model_name': 'gpt-3.5-turbo', 'system_fingerprint': None, 'finish_reason': 'stop', 'logprobs': None} id='run-a7a2c1be-d9f8-4628-a57c-e816886e384d-0' usage_metadata={'input_tokens': 338, 'output_tokens': 53, 'total_tokens': 391}\n",
      "def run(data):\n",
      "    data = data[['PA195Q01JA', 'STUD_MATH']].dropna()\n",
      "    \n",
      "    correlation = data['PA195Q01JA'].corr(data['STUD_MATH'])\n",
      "    \n",
      "    return correlation, 'Pearson Correlation'\n",
      "['PA195Q01JA', 'STUD_MATH']\n",
      "Iterating \"STUD_MATH\" \n",
      "[(nan, 'Pearson Correlation'), (nan, 'Pearson Correlation'), (nan, 'Pearson Correlation'), (nan, 'Pearson Correlation'), (nan, 'Pearson Correlation')]\n"
     ]
    },
    {
     "data": {
      "text/plain": [
       "{'question': 'What is the relation between number of books at home and math score of students? Please answer with some exact values, that show the direction and strenght of the relation.',\n",
       " 'result': (nan, 'Pearson Correlation'),\n",
       " 'used_columns': ['PA195Q01JA', 'STUD_MATH'],\n",
       " 'hint_cols': ['PA195Q01JA',\n",
       "  'ST255Q01JA',\n",
       "  'ST256Q10JA',\n",
       "  'ST256Q06JA',\n",
       "  'STUD_MATH',\n",
       "  'STUD_SCIE',\n",
       "  'STUD_READ',\n",
       "  'AGE']}"
      ]
     },
     "execution_count": 137,
     "metadata": {},
     "output_type": "execute_result"
    }
   ],
   "source": [
    "utils.pipeline(llm, 'What is the relation between number of books at home and math score of students? Please answer with some exact values, that show the direction and strenght of the relation.', df_stu, meta_stu, cols_retriever)"
   ]
  },
  {
   "cell_type": "code",
   "execution_count": 144,
   "id": "06e654d6-ddeb-4400-899c-5bc26ab2a929",
   "metadata": {},
   "outputs": [
    {
     "name": "stdout",
     "output_type": "stream",
     "text": [
      "Number of books at home, Math score\n",
      "hint Number of books at home\n",
      "['ST255Q01JA', 'ST256Q10JA', 'ST256Q06JA', 'ST256Q09JA']\n",
      "hint  Math score\n",
      "['STUD_MATH', 'MATHMOT', 'MATHPREF', 'ST296Q01JA']\n",
      "content=\"def run(data):\\n    data = data[['ST255Q01JA', 'STUD_MATH']].dropna()\\n    \\n    X = data['ST255Q01JA'].values.reshape(-1,1)\\n    y = data['STUD_MATH'].values\\n    \\n    from sklearn.linear_model import LinearRegression\\n    model = LinearRegression()\\n    model.fit(X, y)\\n    \\n    return (model.coef_[0], 'Linear Regression')\" response_metadata={'token_usage': {'completion_tokens': 89, 'prompt_tokens': 371, 'total_tokens': 460}, 'model_name': 'gpt-3.5-turbo', 'system_fingerprint': None, 'finish_reason': 'stop', 'logprobs': None} id='run-921a173e-5941-470e-86d4-251438d9bb20-0' usage_metadata={'input_tokens': 371, 'output_tokens': 89, 'total_tokens': 460}\n",
      "def run(data):\n",
      "    data = data[['ST255Q01JA', 'STUD_MATH']].dropna()\n",
      "    \n",
      "    X = data['ST255Q01JA'].values.reshape(-1,1)\n",
      "    y = data['STUD_MATH'].values\n",
      "    \n",
      "    from sklearn.linear_model import LinearRegression\n",
      "    model = LinearRegression()\n",
      "    model.fit(X, y)\n",
      "    \n",
      "    return (model.coef_[0], 'Linear Regression')\n",
      "['ST255Q01JA', 'STUD_MATH']\n",
      "Iterating \"STUD_MATH\" \n",
      "[(26.913167545444747, 'Linear Regression'), (26.776404594241008, 'Linear Regression'), (27.406875838171814, 'Linear Regression'), (26.89544493439679, 'Linear Regression'), (26.98134821020385, 'Linear Regression')]\n"
     ]
    },
    {
     "data": {
      "text/plain": [
       "{'question': 'What is the relation between number of books at home and math score of students? Please answer with some exact values, using regression.',\n",
       " 'result': (26.99464822449164, 'Linear Regression'),\n",
       " 'used_columns': ['ST255Q01JA', 'STUD_MATH'],\n",
       " 'hint_cols': ['ST255Q01JA',\n",
       "  'ST256Q10JA',\n",
       "  'ST256Q06JA',\n",
       "  'ST256Q09JA',\n",
       "  'STUD_MATH',\n",
       "  'MATHMOT',\n",
       "  'MATHPREF',\n",
       "  'ST296Q01JA']}"
      ]
     },
     "execution_count": 144,
     "metadata": {},
     "output_type": "execute_result"
    }
   ],
   "source": [
    "utils.pipeline(llm, 'What is the relation between number of books at home and math score of students? Please answer with some exact values, using regression.', df_stu, meta_stu, cols_retriever)\n"
   ]
  },
  {
   "cell_type": "code",
   "execution_count": 148,
   "id": "d1d3d83b-aa5e-4d16-b17d-e6bcbd0a7a28",
   "metadata": {},
   "outputs": [
    {
     "name": "stdout",
     "output_type": "stream",
     "text": [
      "Number of books at home, Math score of students\n",
      "hint Number of books at home\n",
      "['ST255Q01JA', 'ST256Q10JA', 'ST256Q06JA', 'ST256Q09JA']\n",
      "hint  Math score of students\n",
      "['STUD_MATH', 'AGE', 'ST001D01T', 'GRADE']\n",
      "content=\"def run(data):\\n    result, statistical_ = data[['ST255Q01JA', 'ST256Q10JA', 'ST256Q06JA', 'ST256Q09JA', 'STUD_MATH']].dropna().corr()['ST255Q01JA']['STUD_MATH'], 'Pearson Correlation'\\n    return result, statistical_\" response_metadata={'token_usage': {'completion_tokens': 71, 'prompt_tokens': 348, 'total_tokens': 419}, 'model_name': 'gpt-3.5-turbo', 'system_fingerprint': None, 'finish_reason': 'stop', 'logprobs': None} id='run-587308e3-c490-4083-a44c-79cdad76a180-0' usage_metadata={'input_tokens': 348, 'output_tokens': 71, 'total_tokens': 419}\n",
      "def run(data):\n",
      "    result, statistical_ = data[['ST255Q01JA', 'ST256Q10JA', 'ST256Q06JA', 'ST256Q09JA', 'STUD_MATH']].dropna().corr()['ST255Q01JA']['STUD_MATH'], 'Pearson Correlation'\n",
      "    return result, statistical_\n",
      "['ST255Q01JA', 'ST256Q10JA', 'ST256Q06JA', 'ST256Q09JA', 'STUD_MATH']\n",
      "Iterating \"STUD_MATH\" \n",
      "[(0.4184516821651012, 'Pearson Correlation'), (0.41717170443579493, 'Pearson Correlation'), (0.42175424128273825, 'Pearson Correlation'), (0.42316796925250916, 'Pearson Correlation'), (0.4180876717330264, 'Pearson Correlation')]\n"
     ]
    },
    {
     "data": {
      "text/plain": [
       "{'question': 'What is the relation between number of books at home and math score of students? Please answer with some exact values.',\n",
       " 'result': (0.419726653773834, 'Pearson Correlation'),\n",
       " 'inter': 'The result of 0.419726653773834 indicates a moderate positive correlation between the number of books at home and math scores of students. This means that as the number of books at home increases, the math scores of students also tend to increase. The Pearson correlation coefficient ranges from -1 to 1, with 1 indicating a perfect positive correlation, 0 indicating no correlation, and -1 indicating a perfect negative correlation. In this case, a value of 0.42 suggests a moderate positive relationship between the two variables.',\n",
       " 'used_columns': ['ST255Q01JA',\n",
       "  'ST256Q10JA',\n",
       "  'ST256Q06JA',\n",
       "  'ST256Q09JA',\n",
       "  'STUD_MATH'],\n",
       " 'hint_cols': ['ST255Q01JA',\n",
       "  'ST256Q10JA',\n",
       "  'ST256Q06JA',\n",
       "  'ST256Q09JA',\n",
       "  'STUD_MATH',\n",
       "  'AGE',\n",
       "  'ST001D01T',\n",
       "  'GRADE']}"
      ]
     },
     "execution_count": 148,
     "metadata": {},
     "output_type": "execute_result"
    }
   ],
   "source": [
    "utils.pipeline(llm, 'What is the relation between number of books at home and math score of students? Please answer with some exact values.', df_stu, meta_stu, cols_retriever)\n"
   ]
  },
  {
   "cell_type": "code",
   "execution_count": 149,
   "id": "dd4de66b-ca9c-49ed-ad60-4eb84b72235c",
   "metadata": {},
   "outputs": [
    {
     "name": "stdout",
     "output_type": "stream",
     "text": [
      "Family salary income, Math score of students\n",
      "hint Family salary income\n",
      "['ST295Q03JA', 'WB164Q01HA', 'ST295Q04JA', 'ST294Q03JA']\n",
      "hint  Math score of students\n",
      "['STUD_MATH', 'AGE', 'ST001D01T', 'GRADE']\n",
      "content=\"def run(data):\\n    result, statistical_ = data[['WB164Q01HA', 'STUD_MATH']].dropna().corr().iloc[0, 1], 'Pearson correlation'\\n    return result, statistical_\" response_metadata={'token_usage': {'completion_tokens': 46, 'prompt_tokens': 357, 'total_tokens': 403}, 'model_name': 'gpt-3.5-turbo', 'system_fingerprint': None, 'finish_reason': 'stop', 'logprobs': None} id='run-eda5305e-639f-44ad-a93b-54d71020b584-0' usage_metadata={'input_tokens': 357, 'output_tokens': 46, 'total_tokens': 403}\n",
      "def run(data):\n",
      "    result, statistical_ = data[['WB164Q01HA', 'STUD_MATH']].dropna().corr().iloc[0, 1], 'Pearson correlation'\n",
      "    return result, statistical_\n",
      "['WB164Q01HA', 'STUD_MATH']\n",
      "Iterating \"STUD_MATH\" \n",
      "[(-0.11132364420618834, 'Pearson correlation'), (-0.10902572058398009, 'Pearson correlation'), (-0.11690151588080835, 'Pearson correlation'), (-0.12039867616935322, 'Pearson correlation'), (-0.11328441682150982, 'Pearson correlation')]\n"
     ]
    },
    {
     "data": {
      "text/plain": [
       "{'question': 'What is the relation between family salary income and math score of students? Please answer with some exact values.',\n",
       " 'result': (-0.11418679473236797, 'Pearson correlation'),\n",
       " 'inter': 'The result of -0.11418679473236797 indicates a weak negative correlation between family salary income and math scores of students. This means that as family salary income increases, math scores tend to decrease slightly. The Pearson correlation coefficient ranges from -1 to 1, with -1 indicating a perfect negative correlation, 0 indicating no correlation, and 1 indicating a perfect positive correlation. In this case, the correlation is close to 0, suggesting a very weak relationship between family salary income and math scores.',\n",
       " 'used_columns': ['WB164Q01HA', 'STUD_MATH'],\n",
       " 'hint_cols': ['ST295Q03JA',\n",
       "  'WB164Q01HA',\n",
       "  'ST295Q04JA',\n",
       "  'ST294Q03JA',\n",
       "  'STUD_MATH',\n",
       "  'AGE',\n",
       "  'ST001D01T',\n",
       "  'GRADE']}"
      ]
     },
     "execution_count": 149,
     "metadata": {},
     "output_type": "execute_result"
    }
   ],
   "source": [
    "utils.pipeline(llm, 'What is the relation between family salary income and math score of students? Please answer with some exact values.', df_stu, meta_stu, cols_retriever)"
   ]
  },
  {
   "cell_type": "code",
   "execution_count": 150,
   "id": "c1cc36ee-c354-493b-af09-d8348c05a9eb",
   "metadata": {},
   "outputs": [
    {
     "name": "stdout",
     "output_type": "stream",
     "text": [
      "Family income, Family expenses, Family savings, Math score of students\n",
      "hint Family income\n",
      "['FAMSUP', 'WB164Q01HA', 'ST259Q01JA', 'WORKHOME']\n",
      "hint  Family expenses\n",
      "['WB164Q01HA', 'FAMSUP', 'ST261Q05JA', 'ST295Q03JA']\n",
      "hint  Family savings\n",
      "['FAMSUP', 'WB164Q01HA', 'HOMEPOS', 'WORKHOME']\n",
      "hint  Math score of students\n",
      "['STUD_MATH', 'AGE', 'ST001D01T', 'GRADE']\n",
      "content=\"def run(data):\\n    result, statistical_ = data[['WB164Q01HA', 'STUD_MATH']].dropna().corr().iloc[0, 1], 'Pearson Correlation'\\n    return result, statistical_\" response_metadata={'token_usage': {'completion_tokens': 47, 'prompt_tokens': 601, 'total_tokens': 648}, 'model_name': 'gpt-3.5-turbo', 'system_fingerprint': None, 'finish_reason': 'stop', 'logprobs': None} id='run-f748a43c-19fc-4848-a586-8876510b7713-0' usage_metadata={'input_tokens': 601, 'output_tokens': 47, 'total_tokens': 648}\n",
      "def run(data):\n",
      "    result, statistical_ = data[['WB164Q01HA', 'STUD_MATH']].dropna().corr().iloc[0, 1], 'Pearson Correlation'\n",
      "    return result, statistical_\n",
      "['WB164Q01HA', 'WB164Q01HA', 'WB164Q01HA', 'STUD_MATH']\n",
      "Iterating \"STUD_MATH\" \n",
      "[(1.0, 'Pearson Correlation'), (1.0, 'Pearson Correlation'), (1.0, 'Pearson Correlation'), (1.0, 'Pearson Correlation'), (1.0, 'Pearson Correlation')]\n"
     ]
    },
    {
     "data": {
      "text/plain": [
       "{'question': 'What is the relation between family financial situation and math score of students? Please answer with some exact values.',\n",
       " 'result': (1.0, 'Pearson Correlation'),\n",
       " 'inter': \"The result of (1.0, 'Pearson Correlation') indicates a perfect positive correlation between family financial situation and math scores of students. This means that as family financial situation increases, math scores of students also increase in a linear fashion. A Pearson correlation coefficient of 1.0 signifies a strong relationship between the two variables, suggesting that students from wealthier families tend to have higher math scores.\",\n",
       " 'used_columns': ['WB164Q01HA', 'WB164Q01HA', 'WB164Q01HA', 'STUD_MATH'],\n",
       " 'hint_cols': ['FAMSUP',\n",
       "  'WB164Q01HA',\n",
       "  'ST259Q01JA',\n",
       "  'WORKHOME',\n",
       "  'WB164Q01HA',\n",
       "  'FAMSUP',\n",
       "  'ST261Q05JA',\n",
       "  'ST295Q03JA',\n",
       "  'FAMSUP',\n",
       "  'WB164Q01HA',\n",
       "  'HOMEPOS',\n",
       "  'WORKHOME',\n",
       "  'STUD_MATH',\n",
       "  'AGE',\n",
       "  'ST001D01T',\n",
       "  'GRADE']}"
      ]
     },
     "execution_count": 150,
     "metadata": {},
     "output_type": "execute_result"
    }
   ],
   "source": [
    "utils.pipeline(llm, 'What is the relation between family financial situation and math score of students? Please answer with some exact values.', df_stu, meta_stu, cols_retriever)"
   ]
  },
  {
   "cell_type": "code",
   "execution_count": 151,
   "id": "02c16a23-db15-47df-897a-980c47335b5c",
   "metadata": {},
   "outputs": [
    {
     "name": "stdout",
     "output_type": "stream",
     "text": [
      "family_social_status, math_score\n",
      "hint family_social_status\n",
      "['ESCS', 'SOCONPA', 'BMMJ1', 'BFMJ2']\n",
      "hint  math_score\n",
      "['STUD_MATH', 'ST291Q08JA', 'ST296Q02JA', 'ST296Q03JA']\n",
      "content=\"def run(data):\\n    result, statistical_ = data[['SOCONPA', 'STUD_MATH']].dropna().corr().iloc[0, 1], 'Pearson correlation'\\n    return result, statistical_\" response_metadata={'token_usage': {'completion_tokens': 44, 'prompt_tokens': 367, 'total_tokens': 411}, 'model_name': 'gpt-3.5-turbo', 'system_fingerprint': None, 'finish_reason': 'stop', 'logprobs': None} id='run-d9619bf3-353f-4bf4-94fb-f3e046cf153f-0' usage_metadata={'input_tokens': 367, 'output_tokens': 44, 'total_tokens': 411}\n",
      "def run(data):\n",
      "    result, statistical_ = data[['SOCONPA', 'STUD_MATH']].dropna().corr().iloc[0, 1], 'Pearson correlation'\n",
      "    return result, statistical_\n",
      "['SOCONPA', 'STUD_MATH']\n",
      "Iterating \"STUD_MATH\" \n",
      "[(0.16797877041625428, 'Pearson correlation'), (0.16763086554162868, 'Pearson correlation'), (0.1695744841012936, 'Pearson correlation'), (0.17048396004886998, 'Pearson correlation'), (0.162225481389329, 'Pearson correlation')]\n"
     ]
    },
    {
     "data": {
      "text/plain": [
       "{'question': 'What is the relation between family social status and math score of students? Please answer with some exact values.',\n",
       " 'result': (0.16757871229947513, 'Pearson correlation'),\n",
       " 'inter': \"The result provided is a Pearson correlation coefficient of 0.16757871229947513. This value indicates a weak positive correlation between family social status and math scores of students. In other words, as family social status increases, there is a slight tendency for math scores to also increase. However, the correlation is not very strong, suggesting that other factors may also play a significant role in determining students' math scores.\",\n",
       " 'used_columns': ['SOCONPA', 'STUD_MATH'],\n",
       " 'hint_cols': ['ESCS',\n",
       "  'SOCONPA',\n",
       "  'BMMJ1',\n",
       "  'BFMJ2',\n",
       "  'STUD_MATH',\n",
       "  'ST291Q08JA',\n",
       "  'ST296Q02JA',\n",
       "  'ST296Q03JA']}"
      ]
     },
     "execution_count": 151,
     "metadata": {},
     "output_type": "execute_result"
    }
   ],
   "source": [
    "utils.pipeline(llm, 'What is the relation between family social status and math score of students? Please answer with some exact values.', df_stu, meta_stu, cols_retriever)"
   ]
  },
  {
   "cell_type": "code",
   "execution_count": 152,
   "id": "48f4256d-8633-43c0-a60c-5410389eeefb",
   "metadata": {},
   "outputs": [
    {
     "name": "stdout",
     "output_type": "stream",
     "text": [
      "family_social_background, math_score\n",
      "hint family_social_background\n",
      "['SOCONPA', 'FAMSUP', 'COBN_F', 'COBN_M']\n",
      "hint  math_score\n",
      "['STUD_MATH', 'ST291Q08JA', 'ST296Q02JA', 'ST296Q03JA']\n",
      "content=\"def run(data):\\n    result, statistical_method = data[['SOCONPA', 'FAMSUP', 'STUD_MATH']].dropna().corr().iloc[0, 2], 'Pearson correlation'\\n    return result, statistical_method\" response_metadata={'token_usage': {'completion_tokens': 49, 'prompt_tokens': 341, 'total_tokens': 390}, 'model_name': 'gpt-3.5-turbo', 'system_fingerprint': None, 'finish_reason': 'stop', 'logprobs': None} id='run-1eef5154-78f9-4679-a13b-4633e006abc9-0' usage_metadata={'input_tokens': 341, 'output_tokens': 49, 'total_tokens': 390}\n",
      "def run(data):\n",
      "    result, statistical_method = data[['SOCONPA', 'FAMSUP', 'STUD_MATH']].dropna().corr().iloc[0, 2], 'Pearson correlation'\n",
      "    return result, statistical_method\n",
      "['SOCONPA', 'FAMSUP', 'STUD_MATH']\n",
      "Iterating \"STUD_MATH\" \n",
      "[(0.16465439579312352, 'Pearson correlation'), (0.16398301326797343, 'Pearson correlation'), (0.16461602947455684, 'Pearson correlation'), (0.16515007025013986, 'Pearson correlation'), (0.15784840238175812, 'Pearson correlation')]\n"
     ]
    },
    {
     "data": {
      "text/plain": [
       "{'question': 'What is the relation between family social background and math score of students? Please answer with some exact values.',\n",
       " 'result': (0.16325038223351035, 'Pearson correlation'),\n",
       " 'inter': \"The result provided is a Pearson correlation coefficient of 0.163, which indicates a weak positive correlation between family social background and math scores of students. This means that as family social background increases, math scores also tend to increase slightly. However, the correlation is not very strong, suggesting that other factors may also play a significant role in determining students' math scores.\",\n",
       " 'used_columns': ['SOCONPA', 'FAMSUP', 'STUD_MATH'],\n",
       " 'hint_cols': ['SOCONPA',\n",
       "  'FAMSUP',\n",
       "  'COBN_F',\n",
       "  'COBN_M',\n",
       "  'STUD_MATH',\n",
       "  'ST291Q08JA',\n",
       "  'ST296Q02JA',\n",
       "  'ST296Q03JA']}"
      ]
     },
     "execution_count": 152,
     "metadata": {},
     "output_type": "execute_result"
    }
   ],
   "source": [
    "utils.pipeline(llm, 'What is the relation between family social background and math score of students? Please answer with some exact values.', df_stu, meta_stu, cols_retriever)"
   ]
  },
  {
   "cell_type": "code",
   "execution_count": 157,
   "id": "68034430-01d6-4c02-8947-e98839a35d5a",
   "metadata": {},
   "outputs": [
    {
     "name": "stdout",
     "output_type": "stream",
     "text": [
      "Social background, Math score\n",
      "hint Social background\n",
      "['ESCS', 'SOCONPA', 'COBN_M', 'COBN_F']\n",
      "hint  Math score\n",
      "['STUD_MATH', 'MATHMOT', 'MATHPREF', 'ST296Q01JA']\n",
      "content=\"def run(data):\\n    data = data[['ESCS', 'SOCONPA', 'STUD_MATH']].dropna()\\n    \\n    X = data[['ESCS', 'SOCONPA']]\\n    y = data['STUD_MATH']\\n    \\n    model = sm.OLS(y, sm.add_constant(X)).fit()\\n    \\n    return model.params, 'Linear Regression'\" response_metadata={'token_usage': {'completion_tokens': 74, 'prompt_tokens': 331, 'total_tokens': 405}, 'model_name': 'gpt-3.5-turbo', 'system_fingerprint': None, 'finish_reason': 'stop', 'logprobs': None} id='run-25133cac-3208-424e-bff2-6e525cc59296-0' usage_metadata={'input_tokens': 331, 'output_tokens': 74, 'total_tokens': 405}\n",
      "def run(data):\n",
      "    data = data[['ESCS', 'SOCONPA', 'STUD_MATH']].dropna()\n",
      "    \n",
      "    X = data[['ESCS', 'SOCONPA']]\n",
      "    y = data['STUD_MATH']\n",
      "    \n",
      "    model = sm.OLS(y, sm.add_constant(X)).fit()\n",
      "    \n",
      "    return model.params, 'Linear Regression'\n",
      "['ESCS', 'SOCONPA', 'STUD_MATH']\n",
      "Iterating \"STUD_MATH\" \n",
      "[(const      478.016144\n",
      "ESCS        44.945197\n",
      "SOCONPA      8.063908\n",
      "dtype: float64, 'Linear Regression'), (const      477.851604\n",
      "ESCS        44.712838\n",
      "SOCONPA      8.018101\n",
      "dtype: float64, 'Linear Regression'), (const      477.269815\n",
      "ESCS        45.310579\n",
      "SOCONPA      8.242058\n",
      "dtype: float64, 'Linear Regression'), (const      476.921014\n",
      "ESCS        45.274430\n",
      "SOCONPA      8.067975\n",
      "dtype: float64, 'Linear Regression'), (const      476.895649\n",
      "ESCS        45.183137\n",
      "SOCONPA      7.490597\n",
      "dtype: float64, 'Linear Regression')]\n"
     ]
    },
    {
     "data": {
      "text/plain": [
       "{'question': 'What is the relation between social background and math score of students? Please give  linear regression coefficients with standard errors as result.',\n",
       " 'result': (const      478.016144\n",
       "  ESCS        44.945197\n",
       "  SOCONPA      8.063908\n",
       "  dtype: float64,\n",
       "  'Linear Regression'),\n",
       " 'inter': 'The linear regression coefficients with standard errors for the relation between social background and math score of students are as follows:\\n\\n- Constant: 478.016144\\n- ESCS (Index of Economic, Social, and Cultural Status): 44.945197\\n- SOCONPA (Social Contact and Participation): 8.063908\\n\\nThese coefficients indicate that there is a positive relationship between social background (ESCS and SOCONPA) and math scores of students. Specifically, for every one unit increase in ESCS, the math score is expected to increase by approximately 44.95 points, and for every one unit increase in SOCONPA, the math score is expected to increase by approximately 8.06 points.',\n",
       " 'used_columns': ['ESCS', 'SOCONPA', 'STUD_MATH'],\n",
       " 'hint_cols': ['ESCS',\n",
       "  'SOCONPA',\n",
       "  'COBN_M',\n",
       "  'COBN_F',\n",
       "  'STUD_MATH',\n",
       "  'MATHMOT',\n",
       "  'MATHPREF',\n",
       "  'ST296Q01JA']}"
      ]
     },
     "execution_count": 157,
     "metadata": {},
     "output_type": "execute_result"
    }
   ],
   "source": [
    "utils.pipeline(llm, 'What is the relation between social background and math score of students? Please give  linear regression coefficients with standard errors as result.', df_stu, meta_stu, cols_retriever)"
   ]
  },
  {
   "cell_type": "code",
   "execution_count": 161,
   "id": "b35aa284-24f6-4c5e-abd0-4a0aad0a0f1d",
   "metadata": {},
   "outputs": [
    {
     "name": "stdout",
     "output_type": "stream",
     "text": [
      "Social background, Math score\n",
      "hint Social background\n",
      "['ESCS', 'SOCONPA', 'COBN_M', 'COBN_F']\n",
      "hint  Math score\n",
      "['STUD_MATH', 'MATHMOT', 'MATHPREF', 'ST296Q01JA']\n",
      "content=\"def run(data):\\n    data = data[['ESCS', 'SOCONPA', 'STUD_MATH']].dropna()\\n    \\n    X = data[['ESCS', 'SOCONPA']]\\n    y = data['STUD_MATH']\\n    \\n    model = sm.OLS(y, sm.add_constant(X)).fit()\\n    \\n    return model.params, 'Linear Regression'\" response_metadata={'token_usage': {'completion_tokens': 74, 'prompt_tokens': 331, 'total_tokens': 405}, 'model_name': 'gpt-3.5-turbo', 'system_fingerprint': None, 'finish_reason': 'stop', 'logprobs': None} id='run-25133cac-3208-424e-bff2-6e525cc59296-0' usage_metadata={'input_tokens': 331, 'output_tokens': 74, 'total_tokens': 405}\n",
      "def run(data):\n",
      "    data = data[['ESCS', 'SOCONPA', 'STUD_MATH']].dropna()\n",
      "    \n",
      "    X = data[['ESCS', 'SOCONPA']]\n",
      "    y = data['STUD_MATH']\n",
      "    \n",
      "    model = sm.OLS(y, sm.add_constant(X)).fit()\n",
      "    \n",
      "    return model.params, 'Linear Regression'\n",
      "['ESCS', 'SOCONPA', 'STUD_MATH']\n",
      "Iterating \"STUD_MATH\" \n",
      "[(const      478.016144\n",
      "ESCS        44.945197\n",
      "SOCONPA      8.063908\n",
      "dtype: float64, 'Linear Regression'), (const      477.851604\n",
      "ESCS        44.712838\n",
      "SOCONPA      8.018101\n",
      "dtype: float64, 'Linear Regression'), (const      477.269815\n",
      "ESCS        45.310579\n",
      "SOCONPA      8.242058\n",
      "dtype: float64, 'Linear Regression'), (const      476.921014\n",
      "ESCS        45.274430\n",
      "SOCONPA      8.067975\n",
      "dtype: float64, 'Linear Regression'), (const      476.895649\n",
      "ESCS        45.183137\n",
      "SOCONPA      7.490597\n",
      "dtype: float64, 'Linear Regression')]\n"
     ]
    },
    {
     "data": {
      "text/plain": [
       "{'question': 'What is the relation between social background and math score of students? Please give  linear regression coefficients with standard errors as result.',\n",
       " 'result': (const      478.016144\n",
       "  ESCS        44.945197\n",
       "  SOCONPA      8.063908\n",
       "  dtype: float64,\n",
       "  'Linear Regression'),\n",
       " 'inter': 'The linear regression coefficients with standard errors for the relation between social background and math score of students are as follows:\\n\\n- Constant: 478.016144\\n- ESCS (Index of Economic, Social, and Cultural Status): 44.945197\\n- SOCONPA (Social Contact and Participation): 8.063908\\n\\nThese coefficients indicate that there is a positive relationship between social background (ESCS and SOCONPA) and math scores of students. Specifically, for every one unit increase in ESCS, the math score is expected to increase by approximately 44.95 points, and for every one unit increase in SOCONPA, the math score is expected to increase by approximately 8.06 points.',\n",
       " 'used_columns': ['ESCS', 'SOCONPA', 'STUD_MATH'],\n",
       " 'hint_cols': [('ESCS', 'Index of economic, social and cultural status'),\n",
       "  ('SOCONPA', 'Social connection to Parents (WLE)'),\n",
       "  ('COBN_M', \"Student mother's country of birth\"),\n",
       "  ('COBN_F', \"Student father's country of birth\"),\n",
       "  ('STUD_MATH', \"Student's score in Mathematics\"),\n",
       "  ('MATHMOT', 'Motivation to do well in mathematics'),\n",
       "  ('MATHPREF', 'Preference of Math over other core subjects'),\n",
       "  ('ST296Q01JA', 'How much time spent on homework in: Mathematics homework')]}"
      ]
     },
     "execution_count": 161,
     "metadata": {},
     "output_type": "execute_result"
    }
   ],
   "source": [
    "utils.pipeline(llm, 'What is the relation between social background and math score of students? Please give  linear regression coefficients with standard errors as result.', df_stu, meta_stu, cols_retriever)"
   ]
  },
  {
   "cell_type": "code",
   "execution_count": null,
   "id": "68e277cd-a34d-4178-8095-aa23039f75d0",
   "metadata": {},
   "outputs": [],
   "source": []
  }
 ],
 "metadata": {
  "kernelspec": {
   "display_name": "Python [conda env:arpad_ts]",
   "language": "python",
   "name": "conda-env-arpad_ts-py"
  },
  "language_info": {
   "codemirror_mode": {
    "name": "ipython",
    "version": 3
   },
   "file_extension": ".py",
   "mimetype": "text/x-python",
   "name": "python",
   "nbconvert_exporter": "python",
   "pygments_lexer": "ipython3",
   "version": "3.10.14"
  }
 },
 "nbformat": 4,
 "nbformat_minor": 5
}
