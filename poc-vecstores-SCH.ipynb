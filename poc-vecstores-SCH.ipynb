{
 "cells": [
  {
   "cell_type": "code",
   "execution_count": 4,
   "id": "f110af37-bf42-4512-b2ca-d59262ad277c",
   "metadata": {},
   "outputs": [
    {
     "name": "stdout",
     "output_type": "stream",
     "text": [
      "The autoreload extension is already loaded. To reload it, use:\n",
      "  %reload_ext autoreload\n"
     ]
    }
   ],
   "source": [
    "import pandas as pd\n",
    "import pyreadstat\n",
    "from langchain_chroma import Chroma\n",
    "from langchain_openai import OpenAIEmbeddings\n",
    "import utils\n",
    "\n",
    "%load_ext autoreload\n",
    "%autoreload 2\n"
   ]
  },
  {
   "cell_type": "code",
   "execution_count": 5,
   "id": "c047c08c-003e-415c-a2a5-7415798cf302",
   "metadata": {},
   "outputs": [],
   "source": [
    "df_sch, meta_sch = pyreadstat.read_sav('data/PISA2022_SCH_QQQ.SAV')"
   ]
  },
  {
   "cell_type": "code",
   "execution_count": 6,
   "id": "bff632c5-39fc-4515-8d66-147f94dfad15",
   "metadata": {},
   "outputs": [],
   "source": [
    "import os\n",
    "with open('data/openai.api.key', 'r') as filek: \n",
    "    openai_key = filek.read()\n",
    "os.environ[\"OPENAI_API_KEY\"] =  openai_key "
   ]
  },
  {
   "cell_type": "code",
   "execution_count": 7,
   "id": "3bc43ef3-5d62-443a-b88d-cd3bbab34762",
   "metadata": {},
   "outputs": [],
   "source": [
    "cols = utils.meta2docs(meta_sch, excluded=['test', 'CNTRYID'])\n",
    "\n",
    "cols_vectorstore = Chroma.from_documents(cols, OpenAIEmbeddings(), persist_directory=\"./chroma_db_cols_vectorstore_sch1\")\n",
    "\n",
    "cols_retriever = cols_vectorstore.as_retriever()"
   ]
  },
  {
   "cell_type": "code",
   "execution_count": 8,
   "id": "d261eb9d-eb1d-4d9c-a01e-c287497712bb",
   "metadata": {},
   "outputs": [],
   "source": [
    "from langchain_openai import ChatOpenAI\n",
    "\n",
    "llm = ChatOpenAI(temperature=0)"
   ]
  },
  {
   "cell_type": "code",
   "execution_count": 9,
   "id": "709b06b3-da59-46af-ae22-f25442d19325",
   "metadata": {},
   "outputs": [
    {
     "name": "stdout",
     "output_type": "stream",
     "text": [
      "- Country\n",
      "hint - Country\n",
      "['REGION', 'OECD', 'SCHLTYPE', 'CNT']\n",
      "content=\"def run(df):\\n    return float(df['CNT'].dropna().nunique())\" response_metadata={'token_usage': {'completion_tokens': 17, 'prompt_tokens': 168, 'total_tokens': 185}, 'model_name': 'gpt-3.5-turbo', 'system_fingerprint': None, 'finish_reason': 'stop', 'logprobs': None} id='run-57fb3c9d-7227-4ef8-912c-e452262af065-0' usage_metadata={'input_tokens': 168, 'output_tokens': 17, 'total_tokens': 185}\n",
      "def run(df):\n",
      "    return float(df['CNT'].dropna().nunique())\n"
     ]
    },
    {
     "data": {
      "text/plain": [
       "{'question': 'how many different countries were involved in the survey?',\n",
       " 'result': 80.0,\n",
       " 'hint_cols': ['REGION', 'OECD', 'SCHLTYPE', 'CNT']}"
      ]
     },
     "execution_count": 9,
     "metadata": {},
     "output_type": "execute_result"
    }
   ],
   "source": [
    "utils.pipeline(llm, 'how many different countries were involved in the survey?', df_sch, meta_sch, cols_retriever)"
   ]
  },
  {
   "cell_type": "code",
   "execution_count": 10,
   "id": "fa123bf5-2e45-4419-a705-7635b5f87143",
   "metadata": {},
   "outputs": [
    {
     "name": "stdout",
     "output_type": "stream",
     "text": [
      "- Country Name\n",
      "hint - Country Name\n",
      "['CNT', 'REGION', 'OECD', 'NatCen']\n",
      "content=\"def run(df):\\n    return float(df['CNT'].dropna().nunique())\" response_metadata={'token_usage': {'completion_tokens': 17, 'prompt_tokens': 170, 'total_tokens': 187}, 'model_name': 'gpt-3.5-turbo', 'system_fingerprint': None, 'finish_reason': 'stop', 'logprobs': None} id='run-96b274e3-875b-491e-9afc-9fc76875424f-0' usage_metadata={'input_tokens': 170, 'output_tokens': 17, 'total_tokens': 187}\n",
      "def run(df):\n",
      "    return float(df['CNT'].dropna().nunique())\n"
     ]
    },
    {
     "data": {
      "text/plain": [
       "{'question': 'how many countries were involved in the survey?',\n",
       " 'result': 80.0,\n",
       " 'hint_cols': ['CNT', 'REGION', 'OECD', 'NatCen']}"
      ]
     },
     "execution_count": 10,
     "metadata": {},
     "output_type": "execute_result"
    }
   ],
   "source": [
    "utils.pipeline(llm, 'how many countries were involved in the survey?', df_sch, meta_sch, cols_retriever)"
   ]
  },
  {
   "cell_type": "code",
   "execution_count": 11,
   "id": "43f38997-f302-4226-99d5-6a7bd4e52646",
   "metadata": {},
   "outputs": [
    {
     "name": "stdout",
     "output_type": "stream",
     "text": [
      "- Country Name\n",
      "- Country Code\n",
      "hint - Country Name\n",
      "['CNT', 'REGION', 'OECD', 'NatCen']\n",
      "hint - Country Code\n",
      "['CNT', 'NatCen', 'SUBNATIO', 'OECD']\n",
      "content=\"def run(df):\\n    return float(df['CNT'].nunique())\" response_metadata={'token_usage': {'completion_tokens': 14, 'prompt_tokens': 278, 'total_tokens': 292}, 'model_name': 'gpt-3.5-turbo', 'system_fingerprint': None, 'finish_reason': 'stop', 'logprobs': None} id='run-0bf73dab-b228-417e-a2bb-06053aa4ff38-0' usage_metadata={'input_tokens': 278, 'output_tokens': 14, 'total_tokens': 292}\n",
      "def run(df):\n",
      "    return float(df['CNT'].nunique())\n"
     ]
    },
    {
     "data": {
      "text/plain": [
       "{'question': 'how many countries are in the survey?',\n",
       " 'result': 80.0,\n",
       " 'hint_cols': ['CNT',\n",
       "  'REGION',\n",
       "  'OECD',\n",
       "  'NatCen',\n",
       "  'CNT',\n",
       "  'NatCen',\n",
       "  'SUBNATIO',\n",
       "  'OECD']}"
      ]
     },
     "execution_count": 11,
     "metadata": {},
     "output_type": "execute_result"
    }
   ],
   "source": [
    "utils.pipeline(llm, 'how many countries are in the survey?', df_sch, meta_sch, cols_retriever)"
   ]
  },
  {
   "cell_type": "code",
   "execution_count": 12,
   "id": "41f04d04-ed72-4b87-b183-14f5866bd718",
   "metadata": {},
   "outputs": [
    {
     "name": "stdout",
     "output_type": "stream",
     "text": [
      "- Country\n",
      "hint - Country\n",
      "['REGION', 'OECD', 'SCHLTYPE', 'CNT']\n",
      "content=\"def run(df):\\n    return float(df['CNT'].dropna().nunique())\" response_metadata={'token_usage': {'completion_tokens': 17, 'prompt_tokens': 168, 'total_tokens': 185}, 'model_name': 'gpt-3.5-turbo', 'system_fingerprint': None, 'finish_reason': 'stop', 'logprobs': None} id='run-8fb601f9-6281-4b89-bcff-f9615c6ab6d9-0' usage_metadata={'input_tokens': 168, 'output_tokens': 17, 'total_tokens': 185}\n",
      "def run(df):\n",
      "    return float(df['CNT'].dropna().nunique())\n"
     ]
    },
    {
     "data": {
      "text/plain": [
       "{'question': 'how many distinct countries were involved in the survey?',\n",
       " 'result': 80.0,\n",
       " 'hint_cols': ['REGION', 'OECD', 'SCHLTYPE', 'CNT']}"
      ]
     },
     "execution_count": 12,
     "metadata": {},
     "output_type": "execute_result"
    }
   ],
   "source": [
    "utils.pipeline(llm, 'how many distinct countries were involved in the survey?', df_sch, meta_sch, cols_retriever)"
   ]
  },
  {
   "cell_type": "code",
   "execution_count": 13,
   "id": "e5e286f8-49c0-4472-a25d-d5ccc1d06386",
   "metadata": {},
   "outputs": [
    {
     "name": "stdout",
     "output_type": "stream",
     "text": [
      "- Country Name\n",
      "- OECD Member Status\n",
      "hint - Country Name\n",
      "['CNT', 'REGION', 'OECD', 'NatCen']\n",
      "hint - OECD Member Status\n",
      "['OECD', 'CNTSCHID', 'SC053D11TA', 'PROPAT7']\n",
      "content=\"def run(df):\\n    return float(df['OECD'].dropna().nunique())\" response_metadata={'token_usage': {'completion_tokens': 18, 'prompt_tokens': 301, 'total_tokens': 319}, 'model_name': 'gpt-3.5-turbo', 'system_fingerprint': None, 'finish_reason': 'stop', 'logprobs': None} id='run-2e81ab56-3a04-4313-be76-8043374e5612-0' usage_metadata={'input_tokens': 301, 'output_tokens': 18, 'total_tokens': 319}\n",
      "def run(df):\n",
      "    return float(df['OECD'].dropna().nunique())\n"
     ]
    },
    {
     "data": {
      "text/plain": [
       "{'question': 'how many OECD member countries are in the survey?',\n",
       " 'result': 2.0,\n",
       " 'hint_cols': ['CNT',\n",
       "  'REGION',\n",
       "  'OECD',\n",
       "  'NatCen',\n",
       "  'OECD',\n",
       "  'CNTSCHID',\n",
       "  'SC053D11TA',\n",
       "  'PROPAT7']}"
      ]
     },
     "execution_count": 13,
     "metadata": {},
     "output_type": "execute_result"
    }
   ],
   "source": [
    "utils.pipeline(llm, 'how many OECD member countries are in the survey?', df_sch, meta_sch, cols_retriever)"
   ]
  },
  {
   "cell_type": "code",
   "execution_count": 14,
   "id": "1287569d-e252-4ed8-97c2-ee2afa7e5878",
   "metadata": {},
   "outputs": [
    {
     "name": "stdout",
     "output_type": "stream",
     "text": [
      "- Country Name\n",
      "- OECD Member (Yes/No)\n",
      "hint - Country Name\n",
      "['CNT', 'REGION', 'OECD', 'NatCen']\n",
      "hint - OECD Member (Yes/No)\n",
      "['OECD', 'SC053D11TA', 'SC195Q01JA', 'SC034Q01NA']\n",
      "content=\"def run(df):\\n    return float(df['OECD'].dropna().nunique())\" response_metadata={'token_usage': {'completion_tokens': 18, 'prompt_tokens': 328, 'total_tokens': 346}, 'model_name': 'gpt-3.5-turbo', 'system_fingerprint': None, 'finish_reason': 'stop', 'logprobs': None} id='run-48b837ec-0dd9-4ea2-b8c6-ccc0e1840277-0' usage_metadata={'input_tokens': 328, 'output_tokens': 18, 'total_tokens': 346}\n",
      "def run(df):\n",
      "    return float(df['OECD'].dropna().nunique())\n"
     ]
    },
    {
     "data": {
      "text/plain": [
       "{'question': 'how many countries that are OECD memebers are in the survey?',\n",
       " 'result': 2.0,\n",
       " 'hint_cols': ['CNT',\n",
       "  'REGION',\n",
       "  'OECD',\n",
       "  'NatCen',\n",
       "  'OECD',\n",
       "  'SC053D11TA',\n",
       "  'SC195Q01JA',\n",
       "  'SC034Q01NA']}"
      ]
     },
     "execution_count": 14,
     "metadata": {},
     "output_type": "execute_result"
    }
   ],
   "source": [
    "utils.pipeline(llm, 'how many countries that are OECD memebers are in the survey?', df_sch, meta_sch, cols_retriever)"
   ]
  },
  {
   "cell_type": "code",
   "execution_count": 15,
   "id": "3136faad-616e-452e-b499-88f112dd4616",
   "metadata": {},
   "outputs": [
    {
     "name": "stdout",
     "output_type": "stream",
     "text": [
      "- Country\n",
      "- OECD Member (Yes/No)\n",
      "hint - Country\n",
      "['REGION', 'OECD', 'SCHLTYPE', 'CNT']\n",
      "hint - OECD Member (Yes/No)\n",
      "['OECD', 'SC053D11TA', 'SC195Q01JA', 'SC169Q01JA']\n",
      "content=\"def run(df):\\n    return float(df['OECD'].dropna().nunique())\" response_metadata={'token_usage': {'completion_tokens': 18, 'prompt_tokens': 326, 'total_tokens': 344}, 'model_name': 'gpt-3.5-turbo', 'system_fingerprint': None, 'finish_reason': 'stop', 'logprobs': None} id='run-bf4f8cea-c2a9-4224-8afc-7b1569cdf26b-0' usage_metadata={'input_tokens': 326, 'output_tokens': 18, 'total_tokens': 344}\n",
      "def run(df):\n",
      "    return float(df['OECD'].dropna().nunique())\n"
     ]
    },
    {
     "data": {
      "text/plain": [
       "{'question': 'how many countries that are OECD memeber were involved in the survey?',\n",
       " 'result': 2.0,\n",
       " 'hint_cols': ['REGION',\n",
       "  'OECD',\n",
       "  'SCHLTYPE',\n",
       "  'CNT',\n",
       "  'OECD',\n",
       "  'SC053D11TA',\n",
       "  'SC195Q01JA',\n",
       "  'SC169Q01JA']}"
      ]
     },
     "execution_count": 15,
     "metadata": {},
     "output_type": "execute_result"
    }
   ],
   "source": [
    " utils.pipeline(llm, 'how many countries that are OECD memeber were involved in the survey?', df_sch, meta_sch, cols_retriever)"
   ]
  },
  {
   "cell_type": "code",
   "execution_count": null,
   "id": "54ef661a-ded4-48ac-8e6b-71c7afaf999f",
   "metadata": {},
   "outputs": [],
   "source": [
    "question = 'how many countries that are OECD memeber were involved in the survey?'\n",
    "\n",
    "data_explanation = utils.docs2explanation(rel_col_docs, meta_sch)\n",
    "columns = [i.metadata['original_col_name'] for i in rel_col_docs]\n",
    "prompt2 = f\"Given a dataframe with the following columns {columns}, column meaning: {data_explanation}, can you generate a python code, without sample data, which can answer the following question? the code must contain only one function called 'run', that returns an exact number. \\nQuestion: {question}\"\n",
    "res = llm.invoke(prompt2)\n",
    "code = res.content.replace('```python','').replace('```','')\n",
    "code"
   ]
  }
 ],
 "metadata": {
  "kernelspec": {
   "display_name": "Python [conda env:arpad_ts]",
   "language": "python",
   "name": "conda-env-arpad_ts-py"
  },
  "language_info": {
   "codemirror_mode": {
    "name": "ipython",
    "version": 3
   },
   "file_extension": ".py",
   "mimetype": "text/x-python",
   "name": "python",
   "nbconvert_exporter": "python",
   "pygments_lexer": "ipython3",
   "version": "3.10.14"
  }
 },
 "nbformat": 4,
 "nbformat_minor": 5
}
