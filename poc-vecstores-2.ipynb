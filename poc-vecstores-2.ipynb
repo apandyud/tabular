{
 "cells": [
  {
   "cell_type": "markdown",
   "id": "25c42e1f-69ea-44c7-9407-7baf59f60fb3",
   "metadata": {},
   "source": [
    "# V"
   ]
  },
  {
   "cell_type": "code",
   "execution_count": 5,
   "id": "f110af37-bf42-4512-b2ca-d59262ad277c",
   "metadata": {},
   "outputs": [],
   "source": [
    "import pandas as pd\n",
    "import pyreadstat\n",
    "from langchain_chroma import Chroma\n",
    "from langchain_openai import OpenAIEmbeddings\n",
    "import utils\n",
    "\n",
    "%load_ext autoreload\n",
    "%autoreload 2\n"
   ]
  },
  {
   "cell_type": "code",
   "execution_count": 6,
   "id": "c047c08c-003e-415c-a2a5-7415798cf302",
   "metadata": {},
   "outputs": [],
   "source": [
    "df_sch, meta_sch = pyreadstat.read_sav('data/CY08MSP_STU_QQQ.sav')"
   ]
  },
  {
   "cell_type": "code",
   "execution_count": 8,
   "id": "3bc43ef3-5d62-443a-b88d-cd3bbab34762",
   "metadata": {},
   "outputs": [
    {
     "data": {
      "text/plain": [
       "1277"
      ]
     },
     "execution_count": 8,
     "metadata": {},
     "output_type": "execute_result"
    }
   ],
   "source": [
    "cols = utils.meta2docs(meta_sch, excluded=['test', 'CNTRYID'])\n",
    "len(cols)\n"
   ]
  },
  {
   "cell_type": "code",
   "execution_count": 43,
   "id": "dc90fbb8-e70c-4f2a-a12e-3a19b218e4d4",
   "metadata": {},
   "outputs": [],
   "source": [
    "cols_vectorstore = Chroma.from_documents(cols, OpenAIEmbeddings())\n",
    "\n",
    "cols_retriever = cols_vectorstore.as_retriever()"
   ]
  },
  {
   "cell_type": "code",
   "execution_count": 44,
   "id": "ad78a825-9473-4f24-af6c-aba06fad08b2",
   "metadata": {},
   "outputs": [
    {
     "data": {
      "text/plain": [
       "[Document(page_content='REGION', metadata={'original_col_name': 'REGION', 'year': 2022}),\n",
       " Document(page_content='REGION', metadata={'original_col_name': 'REGION', 'year': 2022}),\n",
       " Document(page_content='OECD country', metadata={'original_col_name': 'OECD', 'year': 2022}),\n",
       " Document(page_content='OECD country', metadata={'original_col_name': 'OECD', 'year': 2022})]"
      ]
     },
     "execution_count": 44,
     "metadata": {},
     "output_type": "execute_result"
    }
   ],
   "source": [
    " cols_retriever.invoke('Country') "
   ]
  },
  {
   "cell_type": "code",
   "execution_count": 12,
   "id": "98266a47-94e5-4ec7-a58e-e611c131205c",
   "metadata": {},
   "outputs": [],
   "source": []
  },
  {
   "cell_type": "code",
   "execution_count": 45,
   "id": "7b6a1bb1-0053-4e65-a659-2bd13f913084",
   "metadata": {},
   "outputs": [
    {
     "data": {
      "text/plain": [
       "2554"
      ]
     },
     "execution_count": 45,
     "metadata": {},
     "output_type": "execute_result"
    }
   ],
   "source": [
    "len(cols_vectorstore.get()['ids'])"
   ]
  },
  {
   "cell_type": "code",
   "execution_count": 40,
   "id": "e44f47aa-7415-4a0f-a3bf-19a1fd59d8c6",
   "metadata": {},
   "outputs": [
    {
     "data": {
      "text/plain": [
       "[Document(page_content='REGION', metadata={'original_col_name': 'REGION', 'year': 2022}),\n",
       " Document(page_content='OECD country', metadata={'original_col_name': 'OECD', 'year': 2022}),\n",
       " Document(page_content=\"Student father's country of birth\", metadata={'original_col_name': 'COBN_F', 'year': 2022}),\n",
       " Document(page_content='Country code 3-character', metadata={'original_col_name': 'CNT', 'year': 2022})]"
      ]
     },
     "execution_count": 40,
     "metadata": {},
     "output_type": "execute_result"
    }
   ],
   "source": [
    "cols_retriever = cols_vectorstore.as_retriever()\n",
    "cols_retriever.invoke('Country') "
   ]
  },
  {
   "cell_type": "code",
   "execution_count": null,
   "id": "15f911c4-9064-4357-a33c-94b6d45030d5",
   "metadata": {},
   "outputs": [],
   "source": []
  },
  {
   "cell_type": "code",
   "execution_count": 46,
   "id": "766229d4-5a83-4045-af16-dc3d03f0b6aa",
   "metadata": {},
   "outputs": [],
   "source": [
    "from langchain_community.vectorstores import FAISS"
   ]
  },
  {
   "cell_type": "code",
   "execution_count": 51,
   "id": "7d458d68-d416-47ca-9285-b1efe6fcf3fd",
   "metadata": {},
   "outputs": [
    {
     "name": "stdout",
     "output_type": "stream",
     "text": [
      "1277\n"
     ]
    }
   ],
   "source": [
    "db = FAISS.from_documents(cols, OpenAIEmbeddings())\n",
    "print(db.index.ntotal)"
   ]
  },
  {
   "cell_type": "code",
   "execution_count": 52,
   "id": "e2e9d3e9-2cc9-483b-b916-5a9c7a04cfbc",
   "metadata": {},
   "outputs": [
    {
     "data": {
      "text/plain": [
       "[Document(page_content='REGION', metadata={'year': 2022, 'original_col_name': 'REGION'}),\n",
       " Document(page_content='OECD country', metadata={'year': 2022, 'original_col_name': 'OECD'}),\n",
       " Document(page_content=\"Student father's country of birth\", metadata={'year': 2022, 'original_col_name': 'COBN_F'}),\n",
       " Document(page_content='Country code 3-character', metadata={'year': 2022, 'original_col_name': 'CNT'})]"
      ]
     },
     "execution_count": 52,
     "metadata": {},
     "output_type": "execute_result"
    }
   ],
   "source": [
    "retriever = db.as_retriever()\n",
    "retriever.invoke('Country') "
   ]
  },
  {
   "cell_type": "code",
   "execution_count": 53,
   "id": "4fe911fa-3c04-4742-8165-7e33f84305c8",
   "metadata": {},
   "outputs": [
    {
     "data": {
      "text/plain": [
       "[(Document(page_content='REGION', metadata={'year': 2022, 'original_col_name': 'REGION'}),\n",
       "  0.24116646),\n",
       " (Document(page_content='OECD country', metadata={'year': 2022, 'original_col_name': 'OECD'}),\n",
       "  0.33929497),\n",
       " (Document(page_content=\"Student father's country of birth\", metadata={'year': 2022, 'original_col_name': 'COBN_F'}),\n",
       "  0.3506773),\n",
       " (Document(page_content='Country code 3-character', metadata={'year': 2022, 'original_col_name': 'CNT'}),\n",
       "  0.35337847)]"
      ]
     },
     "execution_count": 53,
     "metadata": {},
     "output_type": "execute_result"
    }
   ],
   "source": [
    " db.similarity_search_with_score('Country')"
   ]
  },
  {
   "cell_type": "code",
   "execution_count": 54,
   "id": "4296a44a-8fca-4e55-bd48-860ae31cea22",
   "metadata": {},
   "outputs": [
    {
     "data": {
      "text/plain": [
       "[Document(page_content='REGION', metadata={'year': 2022, 'original_col_name': 'REGION'}),\n",
       " Document(page_content='OECD country', metadata={'year': 2022, 'original_col_name': 'OECD'}),\n",
       " Document(page_content='Which of the following are in your home? <Country-specific item 1>', metadata={'year': 2022, 'original_col_name': 'ST250D06JA'}),\n",
       " Document(page_content=\"Student father's country of birth\", metadata={'year': 2022, 'original_col_name': 'COBN_F'})]"
      ]
     },
     "execution_count": 54,
     "metadata": {},
     "output_type": "execute_result"
    }
   ],
   "source": [
    "db.max_marginal_relevance_search('Country')"
   ]
  },
  {
   "cell_type": "code",
   "execution_count": null,
   "id": "8c4889c5-c011-471a-8e73-1e0a0a648562",
   "metadata": {},
   "outputs": [],
   "source": []
  },
  {
   "cell_type": "code",
   "execution_count": 56,
   "id": "7dfd0ab8-4f2c-4f07-b1f1-bd5700f5059f",
   "metadata": {},
   "outputs": [],
   "source": [
    "df_sch2, meta_sch2 = pyreadstat.read_sav('data/PISA2022_SCH_QQQ.SAV')"
   ]
  },
  {
   "cell_type": "code",
   "execution_count": 58,
   "id": "af35ec6d-9558-4094-9549-181623f1ab03",
   "metadata": {},
   "outputs": [
    {
     "data": {
      "text/plain": [
       "430"
      ]
     },
     "execution_count": 58,
     "metadata": {},
     "output_type": "execute_result"
    }
   ],
   "source": [
    "cols2 = utils.meta2docs(meta_sch2, excluded=['test', 'CNTRYID'])\n",
    "len(cols2)"
   ]
  },
  {
   "cell_type": "code",
   "execution_count": 59,
   "id": "23bc9555-7b28-434c-a9ee-b60fec980b03",
   "metadata": {},
   "outputs": [
    {
     "name": "stdout",
     "output_type": "stream",
     "text": [
      "430\n"
     ]
    }
   ],
   "source": [
    "db2 = FAISS.from_documents(cols2, OpenAIEmbeddings())\n",
    "print(db2.index.ntotal)"
   ]
  },
  {
   "cell_type": "code",
   "execution_count": 60,
   "id": "7d488dec-6869-4680-91e0-5d1dd5d8abe8",
   "metadata": {},
   "outputs": [
    {
     "data": {
      "text/plain": [
       "[(Document(page_content='REGION', metadata={'year': 2022, 'original_col_name': 'REGION'}),\n",
       "  0.24116646),\n",
       " (Document(page_content='OECD country', metadata={'year': 2022, 'original_col_name': 'OECD'}),\n",
       "  0.33929497),\n",
       " (Document(page_content=\"Student father's country of birth\", metadata={'year': 2022, 'original_col_name': 'COBN_F'}),\n",
       "  0.3506773),\n",
       " (Document(page_content='Country code 3-character', metadata={'year': 2022, 'original_col_name': 'CNT'}),\n",
       "  0.35337847)]"
      ]
     },
     "execution_count": 60,
     "metadata": {},
     "output_type": "execute_result"
    }
   ],
   "source": [
    " db.similarity_search_with_score('Country')"
   ]
  },
  {
   "cell_type": "code",
   "execution_count": null,
   "id": "2721b441-f1d6-4f06-b05e-e2a45861e54c",
   "metadata": {},
   "outputs": [],
   "source": []
  }
 ],
 "metadata": {
  "kernelspec": {
   "display_name": "Python [conda env:arpad_ts]",
   "language": "python",
   "name": "conda-env-arpad_ts-py"
  },
  "language_info": {
   "codemirror_mode": {
    "name": "ipython",
    "version": 3
   },
   "file_extension": ".py",
   "mimetype": "text/x-python",
   "name": "python",
   "nbconvert_exporter": "python",
   "pygments_lexer": "ipython3",
   "version": "3.10.14"
  }
 },
 "nbformat": 4,
 "nbformat_minor": 5
}
