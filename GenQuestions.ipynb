{
 "cells": [
  {
   "cell_type": "code",
   "execution_count": 70,
   "id": "a87c3138-ea02-4ddf-b591-fcecbab4922a",
   "metadata": {},
   "outputs": [],
   "source": [
    "qs = ['What is the relation between social background and math score of students? Please give linear regression coefficients with standard errors as result.', # ESCS 454 .123 40.8 .105\n",
    "\"What is the relation between the number of books at home and students' math score? Please give  linear regression coefficients with standard errors as result.\", # ST255Q01JA 343 0.298 27.76 .077\n",
    "'What is the relation between the number of religious books at home and math score of students? Please give  linear regression coefficients with standard errors as result.', # ST256Q01JA 462 0.315 -4.878 0.315\n",
    "'What is the relation between the number of books on science at home and math score of students? Please give  linear regression coefficients with standard errors as result.', # ST256Q06JA 404 .304 19.73 .109\n",
    "'What is the relation between the highest level of education of the mother and the math score of students? Please give  linear regression coefficients with standard errors as result.', # MISCED 385 .360 8.969 0.53\n",
    "'What is the relation between the highest level of education of the father and the math score of students? Please give  linear regression coefficients with standard errors as result.', # FISCED 389 .360 8.592 .053      \n",
    "'What is the relation between feeling safe in the classroom and math score of students? Please give  linear regression coefficients with standard errors as result.', # ST265Q03JA  473,745966 0.360 -19.321 .199\n",
    "'What is the relation between having a good imagination and math score of students? Please give  linear regression coefficients with standard errors as result.', # ST342Q04JA 431.641 0.678 7.669 0.224\n",
    "'In which country do students most often eat together with their families? Please give the top 5 countries.' , #  ST300Q02JA  Portugal\t4,74 Netherlands\t4,70 Sweden\t4,68 Japan\t4,66 Macao (China)\t4,65\n",
    "'In which country do students less often eat together with their families? Please give the top 5 countries.' , #  ST300Q02JA  Panama\t3,75 Jordan\t3,73 Thailand\t3,71 Indonesia\t3,63 Slovak Republic\t3,54\n",
    "'In which countries have the students the highest average number of laptops ? Please give the top 5 countries.' , # ST250Q02JA Poland\t1,02 Estonia\t1,02 Singapore\t1,02 Norway\t1,03 Slovenia\t1,03\n",
    "'In which countries have the students the lowest average number of laptops? Please give the lowest 5 countries.', # ST250Q02JA Cambodia\t1,79 Paraguay\t1,56 Morocco\t1,52 Mongolia\t1,50 Indonesia\t1,50 \n",
    "'In which countries do the students have the highest math scores? Please give the top 5 countries.' , # PV1MATH Singapore\t574,24 Macao (China)\t551,66 Hong Kong (China)\t545,45 Japan\t535,56 Chinese Taipei\t534,02\n",
    "'In which countries do the students have the lowest math scores? Please give the lowest 5 countries.', # PV1MATH Cambodia\t326,08   Dominican Republic\t339,80  Paraguay\t340,60  Guatemala\t345,52 El Salvador\t345,99  \n",
    "'In which countries do the students have the highest science scores? Please give the top 5 countries.' , # PV1SCIE Singapore\t560,83 Japan\t545,54 Macao (China)\t543,13 Korea\t530,66 Estonia\t527,31\n",
    "'In which countries do the students have the lowest science scores? Please give the lowest 5 countries.', # PV1SCIE Cambodia\t340,47 Kosovo\t353,57 Philippines\t353,77 Uzbekistan\t355,34 Dominican Republic\t361,62\n",
    "'In which countries do the students have the highest reading scores? Please give the top 5 countries.' , # PV1READ Singapore\t544,38 Korea\t519,31 Ireland\t518,04 Japan\t515,33 Estonia\t514,27\n",
    "'In which countries do the students have the lowest reading scores? Please give the lowest 5 countries.']  # PV1READ Cambodia\t320,97 Uzbekistan\t336,61 Morocco\t337,34 Kosovo\t337,70 Jordan\t341,91\n",
    "  \n",
    "\n"
   ]
  },
  {
   "cell_type": "markdown",
   "id": "7fc4fc07-74b9-44d6-8efe-654d82e378ea",
   "metadata": {},
   "source": [
    "##### import pandas as pd\n",
    "import pyreadstat\n",
    "from langchain_chroma import Chroma\n",
    "from langchain_openai import OpenAIEmbeddings\n",
    "import utils\n",
    "from langchain_community.vectorstores import FAISS\n",
    "from langchain_core.documents import Document\n",
    "import numpy as np\n",
    "\n",
    "%load_ext autoreload\n",
    "%autoreload 2"
   ]
  },
  {
   "cell_type": "code",
   "execution_count": 54,
   "id": "7b2b5aed-7541-4d06-9688-7d8a975f15d8",
   "metadata": {},
   "outputs": [],
   "source": [
    "import os\n",
    "with open('data/openai.api.key', 'r') as filek: \n",
    "    openai_key = filek.read()\n",
    "os.environ[\"OPENAI_API_KEY\"] =  openai_key "
   ]
  },
  {
   "cell_type": "code",
   "execution_count": 55,
   "id": "ab321e21-1701-4ce4-a2d3-133a1eaa4fe1",
   "metadata": {},
   "outputs": [],
   "source": [
    "from langchain.globals import set_llm_cache\n",
    "from langchain_openai import ChatOpenAI\n",
    "from langchain_community.cache import SQLiteCache\n",
    "\n",
    "\n",
    "llm = ChatOpenAI(temperature=0)\n",
    "set_llm_cache(SQLiteCache(database_path=\".langchain.db\"))"
   ]
  },
  {
   "cell_type": "code",
   "execution_count": 56,
   "id": "1b630fd7-81bd-45cc-b554-33ecd885eaaf",
   "metadata": {},
   "outputs": [
    {
     "data": {
      "text/plain": [
       "\"- Can you provide the linear regression coefficients with standard errors as a result for the relationship between students' math scores and their social background?\\n- I am interested in knowing the linear regression coefficients with standard errors as a result for the connection between students' math scores and their social background.\\n- Could you share the linear regression coefficients with standard errors as a result for the correlation between students' math scores and their social background?\\n- I would like to see the linear regression coefficients with standard errors as a result for the association between students' math scores and their social background.\\n- Can you show me the linear regression coefficients with standard errors as a result for the link between students' math scores and their social background?\""
      ]
     },
     "execution_count": 56,
     "metadata": {},
     "output_type": "execute_result"
    }
   ],
   "source": [
    "prompt = 'Please take the following text, and rephrase it while keeping the original meaning. Give 5 different versions, separated by new line chars, without numbers. Text: ' + qs[0]\n",
    "llm.invoke(prompt).content"
   ]
  },
  {
   "cell_type": "code",
   "execution_count": 57,
   "id": "6d171817-3647-4fba-924d-84888932c424",
   "metadata": {},
   "outputs": [],
   "source": [
    "def extract_versions(text):\n",
    "    parts = [i.replace('-','').strip() for i in text.split('\\n')] \n",
    "    return [p for p in parts  if p != '']\n",
    "    "
   ]
  },
  {
   "cell_type": "code",
   "execution_count": 58,
   "id": "32ea3dee-3257-49b2-98b1-58e7dfd775ba",
   "metadata": {},
   "outputs": [
    {
     "name": "stdout",
     "output_type": "stream",
     "text": [
      "What is the relation between social background and math score of students? Please give linear regression coefficients with standard errors as result.\n",
      "What is the relation between the number of books at home and students' math score? Please give  linear regression coefficients with standard errors as result.\n",
      "What is the relation between the number of religious books at home and math score of students? Please give  linear regression coefficients with standard errors as result.\n",
      "What is the relation between the number of books on science at home and math score of students? Please give  linear regression coefficients with standard errors as result.\n",
      "What is the relation between the highest level of education of the mother and the math score of students? Please give  linear regression coefficients with standard errors as result.\n",
      "What is the relation between the highest level of education of the father and the math score of students? Please give  linear regression coefficients with standard errors as result.\n",
      "What is the relation between general stress level and math score of students? Please give  linear regression coefficients with standard errors as result.\n",
      "What is the relation between having a good imagination and math score of students? Please give  linear regression coefficients with standard errors as result.\n",
      "In which countries have the students the highest average level of self-confidence? Please give the top 5 countries.\n",
      "In which countries have the students the lowest average level of self-confidence? Please give the lowest 5 countries.\n",
      "In which countries have the students the highest average number of laptops ? Please give the top 5 countries.\n",
      "In which countries have the students the lowest average number of laptops? Please give the lowest 5 countries.\n",
      "In which countries do the students have the highest math scores? Please give the top 5 countries.\n",
      "In which countries do the students have the lowest math scores? Please give the lowest 5 countries.\n",
      "In which countries do the students have the highest science scores? Please give the top 5 countries.\n",
      "In which countries do the students have the lowest science scores? Please give the lowest 5 countries.\n",
      "In which countries do the students have the highest reading scores? Please give the top 5 countries.\n",
      "In which countries do the students have the lowest reading scores? Please give the lowest 5 countries.\n"
     ]
    },
    {
     "data": {
      "text/plain": [
       "['What is the relation between social background and math score of students? Please give linear regression coefficients with standard errors as result.',\n",
       " \"Can you provide the linear regression coefficients with standard errors as a result for the relationship between students' math scores and their social background?\",\n",
       " \"I am interested in knowing the linear regression coefficients with standard errors as a result for the connection between students' math scores and their social background.\",\n",
       " \"Could you share the linear regression coefficients with standard errors as a result for the correlation between students' math scores and their social background?\",\n",
       " \"I would like to see the linear regression coefficients with standard errors as a result for the association between students' math scores and their social background.\",\n",
       " \"Can you show me the linear regression coefficients with standard errors as a result for the link between students' math scores and their social background?\",\n",
       " \"What is the relation between the number of books at home and students' math score? Please give  linear regression coefficients with standard errors as result.\",\n",
       " \"Can you provide the linear regression coefficients with standard errors as a result for the relationship between the number of books at home and students' math scores?\",\n",
       " \"I am interested in knowing the linear regression coefficients with standard errors for the connection between the number of books at home and students' math scores.\",\n",
       " \"Could you share the linear regression coefficients with standard errors as the outcome for the correlation between the number of books at home and students' math scores?\",\n",
       " \"I would like to see the linear regression coefficients with standard errors as the result for the association between the number of books at home and students' math scores.\",\n",
       " \"Can you show me the linear regression coefficients with standard errors for the relationship between the number of books at home and students' math scores?\",\n",
       " 'What is the relation between the number of religious books at home and math score of students? Please give  linear regression coefficients with standard errors as result.',\n",
       " \"Can you provide the linear regression coefficients with standard errors as a result for the relationship between the number of religious books at home and students' math scores?\",\n",
       " \"I would like to know the linear regression coefficients with standard errors for the correlation between the number of religious books at home and students' math scores.\",\n",
       " \"Could you share the linear regression coefficients with standard errors as the outcome for the connection between the number of religious books at home and students' math scores?\",\n",
       " \"I am interested in the linear regression coefficients with standard errors for the association between the number of religious books at home and students' math scores.\",\n",
       " \"What are the linear regression coefficients with standard errors as the outcome for the link between the number of religious books at home and students' math scores?\",\n",
       " 'What is the relation between the number of books on science at home and math score of students? Please give  linear regression coefficients with standard errors as result.',\n",
       " 'Can you determine the connection between the quantity of science books in a household and the math performance of students? I would like to see the linear regression coefficients along with their standard errors.',\n",
       " 'How are the number of science books in a household and the math scores of students related? I am interested in seeing the linear regression coefficients and their standard errors.',\n",
       " 'Is there a correlation between the amount of science books in a home and the math scores of students? I would like to see the results in the form of linear regression coefficients with standard errors.',\n",
       " 'Can you provide the linear regression coefficients with standard errors to show the relationship between the number of science books in a household and the math scores of students?',\n",
       " 'I am curious about the relationship between the number of science books in a home and the math scores of students. Could you please provide the linear regression coefficients along with their standard errors as the outcome?',\n",
       " 'What is the relation between the highest level of education of the mother and the math score of students? Please give  linear regression coefficients with standard errors as result.',\n",
       " \"Can you provide the linear regression coefficients with standard errors as a result for the relationship between the mother's highest level of education and students' math scores?\",\n",
       " \"I would like to know the linear regression coefficients with standard errors for the connection between the mother's education level and students' math scores.\",\n",
       " \"Could you share the linear regression coefficients with standard errors as the outcome for the correlation between the mother's highest education level and students' math scores?\",\n",
       " \"What are the linear regression coefficients with standard errors indicating the relationship between the mother's education level and students' math scores?\",\n",
       " \"Please provide the linear regression coefficients with standard errors for the association between the mother's highest level of education and students' math scores.\",\n",
       " 'What is the relation between the highest level of education of the father and the math score of students? Please give  linear regression coefficients with standard errors as result.',\n",
       " \"Can you provide the linear regression coefficients with standard errors as a result for the relationship between the father's highest level of education and students' math scores?\",\n",
       " \"I would like to know the correlation between the father's education level and the math scores of students, along with the linear regression coefficients and standard errors.\",\n",
       " \"Could you share the linear regression coefficients and standard errors for the connection between the father's highest education level and the math scores of students?\",\n",
       " \"I am interested in the linear regression coefficients and standard errors that show the relationship between the father's education level and the math scores of students.\",\n",
       " \"Please provide the results of the linear regression coefficients with standard errors for the father's highest level of education and its impact on students' math scores.\",\n",
       " 'What is the relation between general stress level and math score of students? Please give  linear regression coefficients with standard errors as result.',\n",
       " 'Can you provide the linear regression coefficients with standard errors as a result for the relationship between the general stress level and math score of students?',\n",
       " 'I would like to know the linear regression coefficients with standard errors for the connection between the general stress level and math score of students.',\n",
       " 'Could you share the linear regression coefficients with standard errors as the outcome for the correlation between the general stress level and math score of students?',\n",
       " 'What are the linear regression coefficients with standard errors indicating the relationship between the general stress level and math score of students?',\n",
       " 'Please provide the linear regression coefficients with standard errors to show the association between the general stress level and math score of students.',\n",
       " 'What is the relation between having a good imagination and math score of students? Please give  linear regression coefficients with standard errors as result.',\n",
       " 'Can you explain the connection between a strong imagination and the math scores of students? I would like to see the linear regression coefficients along with their standard errors as the outcome.',\n",
       " 'How does having a vivid imagination impact the math performance of students? I am interested in seeing the linear regression coefficients and their standard errors as the output.',\n",
       " 'Is there a correlation between a creative imagination and the math scores achieved by students? I am looking for the linear regression coefficients and their standard errors as the final result.',\n",
       " 'Can you elaborate on the relationship between a good imagination and the math scores of students? Please provide the linear regression coefficients along with their standard errors as the outcome.',\n",
       " 'How are a strong imagination and the math scores of students related? I would like to see the linear regression coefficients and their standard errors as the result.',\n",
       " 'In which countries have the students the highest average level of self-confidence? Please give the top 5 countries.',\n",
       " 'Can you provide the top 5 countries where students have the highest average level of selfconfidence?',\n",
       " \"Which countries rank highest in terms of students' average level of selfconfidence? Please list the top 5.\",\n",
       " 'What are the top 5 countries where students exhibit the highest average level of selfconfidence?',\n",
       " 'Please share the top 5 countries where students have the highest average level of selfconfidence.',\n",
       " 'Could you list the top 5 countries with the highest average level of selfconfidence among students?',\n",
       " 'In which countries have the students the lowest average level of self-confidence? Please give the lowest 5 countries.',\n",
       " \"Which countries rank lowest in terms of students' average level of selfconfidence? Please provide the bottom 5 countries.\",\n",
       " 'Which countries have the least amount of selfconfidence among students? Can you list the 5 countries with the lowest levels?',\n",
       " 'Can you identify the countries where students have the lowest average selfconfidence? Please list the bottom 5 countries.',\n",
       " 'Among which countries do students exhibit the lowest average level of selfconfidence? Please specify the 5 countries with the lowest rankings.',\n",
       " 'Which countries have the lowest average level of selfconfidence among students? Kindly provide the bottom 5 countries.',\n",
       " 'In which countries have the students the highest average number of laptops ? Please give the top 5 countries.',\n",
       " 'Which countries rank highest in terms of average number of laptops per student? Can you provide the top 5 countries with the highest average number of laptops per student?',\n",
       " 'Which countries have the highest average number of laptops per student? Can you list the top 5 countries with the highest average number of laptops per student?',\n",
       " 'Among which countries do students have the highest average number of laptops? Please share the top 5 countries with the highest average number of laptops per student.',\n",
       " 'In what countries do students possess the highest average number of laptops? Kindly provide the top 5 countries with the highest average number of laptops per student.',\n",
       " 'Where do students have the highest average number of laptops? Could you list the top 5 countries with the highest average number of laptops per student?',\n",
       " 'In which countries have the students the lowest average number of laptops? Please give the lowest 5 countries.',\n",
       " 'Which countries have the lowest average number of laptops among students? Please provide the bottom 5 countries.',\n",
       " 'Among which countries do students have the fewest laptops on average? Can you list the bottom 5 countries?',\n",
       " 'Where do students have the lowest average number of laptops? Please list the bottom 5 countries.',\n",
       " 'Which countries have the students with the lowest average number of laptops? Please provide the bottom 5 countries.',\n",
       " 'In which countries do students have the lowest average number of laptops? Can you list the bottom 5 countries?',\n",
       " 'In which countries do the students have the highest math scores? Please give the top 5 countries.',\n",
       " 'Can you please provide the top 5 countries where students have the highest math scores?',\n",
       " 'Which countries rank in the top 5 for students with the highest math scores?',\n",
       " 'What are the top 5 countries where students excel in math?',\n",
       " 'Could you list the top 5 countries with the highest math scores among students?',\n",
       " \"I'm curious, which countries have the top 5 highest math scores for students?\",\n",
       " 'In which countries do the students have the lowest math scores? Please give the lowest 5 countries.',\n",
       " 'Can you please provide the names of the five countries where students have the lowest math scores?',\n",
       " 'Which countries rank at the bottom in terms of student math scores? Can you list the lowest five?',\n",
       " \"I'm curious to know which countries have the lowest math scores among students. Could you share the bottom five?\",\n",
       " 'Could you tell me the names of the five countries with the lowest math scores for students?',\n",
       " 'I would like to know the countries that have the lowest math scores for students. Can you list the bottom five?',\n",
       " 'In which countries do the students have the highest science scores? Please give the top 5 countries.',\n",
       " 'Which countries have the highest science scores among students? Can you list the top 5 countries for me?',\n",
       " 'Among which countries do students achieve the highest science scores? Could you provide the top 5 countries?',\n",
       " \"I'm curious, in which countries do students score the highest in science? Can you name the top 5 countries?\",\n",
       " 'Where do students have the highest science scores? Can you share the top 5 countries with me?',\n",
       " 'Which countries rank highest in terms of science scores among students? Please share the top 5 countries.',\n",
       " 'In which countries do the students have the lowest science scores? Please give the lowest 5 countries.',\n",
       " 'Can you identify the countries where students have the lowest science scores? Please provide the bottom 5 countries.',\n",
       " 'Which countries rank at the bottom in terms of student science scores? Please list the lowest 5 countries.',\n",
       " \"I'm curious about the countries with the lowest science scores among students. Can you name the bottom 5 countries?\",\n",
       " 'Do you know which countries have the lowest science scores for students? Please share the bottom 5 countries.',\n",
       " \"Could you tell me the countries where students have the lowest science scores? I'm interested in the bottom 5 countries.\",\n",
       " 'In which countries do the students have the highest reading scores? Please give the top 5 countries.',\n",
       " 'Can you please provide the top 5 countries where students have the highest reading scores?',\n",
       " 'Which countries rank in the top 5 for students with the highest reading scores?',\n",
       " 'What are the top 5 countries where students achieve the highest reading scores?',\n",
       " 'Could you list the top 5 countries with the highest reading scores among students?',\n",
       " \"I'm curious, which countries have the highest reading scores for students? Can you give me the top 5?\",\n",
       " 'In which countries do the students have the lowest reading scores? Please give the lowest 5 countries.',\n",
       " 'Can you identify the countries where students have the lowest reading scores? Please list the bottom 5 countries.',\n",
       " 'Which countries rank at the bottom for student reading scores? Please provide the lowest 5 countries.',\n",
       " \"I'm curious about the countries with the lowest reading scores among students. Can you name the bottom 5 countries?\",\n",
       " 'Do you know which countries have the lowest reading scores for students? Please share the bottom 5 countries.',\n",
       " \"Could you tell me the countries where students have the lowest reading scores? I'm interested in the bottom 5 countries.\"]"
      ]
     },
     "execution_count": 58,
     "metadata": {},
     "output_type": "execute_result"
    }
   ],
   "source": [
    "prompt = 'Please take the following text, and rephrase it while keeping the original meaning. Give 5 different versions, separated by new line chars, without numbers. Text: '\n",
    "\n",
    "res = []\n",
    "for q in qs:    \n",
    "    print(q)\n",
    "    res.append(q)\n",
    "    vs_text = llm.invoke(prompt + q).content\n",
    "    vs = extract_versions(vs_text)\n",
    "    res = res + vs\n",
    "res"
   ]
  },
  {
   "cell_type": "code",
   "execution_count": 59,
   "id": "7e570ab0-1086-4074-bfb9-00acbefd65f8",
   "metadata": {},
   "outputs": [
    {
     "data": {
      "text/plain": [
       "108"
      ]
     },
     "execution_count": 59,
     "metadata": {},
     "output_type": "execute_result"
    }
   ],
   "source": [
    "len(res)"
   ]
  },
  {
   "cell_type": "code",
   "execution_count": 60,
   "id": "330d0fd9-42af-4727-8804-458a8e08908b",
   "metadata": {},
   "outputs": [
    {
     "data": {
      "text/plain": [
       "18"
      ]
     },
     "execution_count": 60,
     "metadata": {},
     "output_type": "execute_result"
    }
   ],
   "source": [
    "len(qs)"
   ]
  },
  {
   "cell_type": "code",
   "execution_count": 61,
   "id": "62f83860-71c7-438f-b4c0-5ced4a792295",
   "metadata": {},
   "outputs": [],
   "source": [
    "import datetime\n",
    "def save_questions(string_list, filename_prefix = 'questions'):    \n",
    "  now = datetime.datetime.now()\n",
    "  filename = f\"{filename_prefix}_c{len(string_list)}_{now.strftime('%Y%m%d_%H%M%S')}.txt\"\n",
    "\n",
    "  with open(filename, 'w') as f:\n",
    "    for item in string_list:\n",
    "      f.write(item + '\\n')"
   ]
  },
  {
   "cell_type": "code",
   "execution_count": 62,
   "id": "6e58c08e-6474-4f6f-8049-08bc1f6255df",
   "metadata": {},
   "outputs": [],
   "source": [
    "save_questions(res)\n"
   ]
  },
  {
   "cell_type": "code",
   "execution_count": 63,
   "id": "2b5d7957-df17-4779-a762-ef79d559db17",
   "metadata": {},
   "outputs": [],
   "source": [
    "def load_questions(filename):    \n",
    "  with open(filename, 'r') as f:\n",
    "    lines = f.readlines()\n",
    "    return lines"
   ]
  },
  {
   "cell_type": "code",
   "execution_count": 65,
   "id": "f590087c-c035-4ed6-914e-140a64147396",
   "metadata": {},
   "outputs": [
    {
     "data": {
      "text/plain": [
       "'MATH'"
      ]
     },
     "execution_count": 65,
     "metadata": {},
     "output_type": "execute_result"
    }
   ],
   "source": [
    "var_name = 'STUD_MATH'\n",
    "var_name.split('_')[1]"
   ]
  },
  {
   "cell_type": "code",
   "execution_count": 68,
   "id": "9d211da6-530c-4205-bd13-de75a3b8e730",
   "metadata": {},
   "outputs": [
    {
     "data": {
      "application/vnd.jupyter.widget-view+json": {
       "model_id": "de2e633aed774db3bb248c305f0c5e92",
       "version_major": 2,
       "version_minor": 0
      },
      "text/plain": [
       "  0%|          | 0/100 [00:00<?, ?it/s]"
      ]
     },
     "metadata": {},
     "output_type": "display_data"
    },
    {
     "ename": "KeyboardInterrupt",
     "evalue": "",
     "output_type": "error",
     "traceback": [
      "\u001b[0;31m---------------------------------------------------------------------------\u001b[0m",
      "\u001b[0;31mKeyboardInterrupt\u001b[0m                         Traceback (most recent call last)",
      "Cell \u001b[0;32mIn[68], line 4\u001b[0m\n\u001b[1;32m      1\u001b[0m \u001b[38;5;28;01mfrom\u001b[39;00m \u001b[38;5;21;01mtqdm\u001b[39;00m\u001b[38;5;21;01m.\u001b[39;00m\u001b[38;5;21;01mnotebook\u001b[39;00m \u001b[38;5;28;01mimport\u001b[39;00m tqdm \u001b[38;5;28;01mas\u001b[39;00m log_progress\n\u001b[1;32m      3\u001b[0m \u001b[38;5;28;01mfor\u001b[39;00m i \u001b[38;5;129;01min\u001b[39;00m log_progress(\u001b[38;5;28mrange\u001b[39m(\u001b[38;5;241m100\u001b[39m)):\n\u001b[0;32m----> 4\u001b[0m     \u001b[43msleep\u001b[49m\u001b[43m(\u001b[49m\u001b[38;5;241;43m0.2\u001b[39;49m\u001b[43m)\u001b[49m\n",
      "\u001b[0;31mKeyboardInterrupt\u001b[0m: "
     ]
    }
   ],
   "source": [
    "from tqdm.notebook import tqdm as log_progress\n",
    "\n",
    "for i in log_progress(range(100)):\n",
    "    sleep(0.2)"
   ]
  },
  {
   "cell_type": "code",
   "execution_count": null,
   "id": "7e847838-8b58-4189-9aa2-ecc48ed88f18",
   "metadata": {},
   "outputs": [],
   "source": []
  }
 ],
 "metadata": {
  "kernelspec": {
   "display_name": "Python [conda env:arpad_ts]",
   "language": "python",
   "name": "conda-env-arpad_ts-py"
  },
  "language_info": {
   "codemirror_mode": {
    "name": "ipython",
    "version": 3
   },
   "file_extension": ".py",
   "mimetype": "text/x-python",
   "name": "python",
   "nbconvert_exporter": "python",
   "pygments_lexer": "ipython3",
   "version": "3.10.14"
  }
 },
 "nbformat": 4,
 "nbformat_minor": 5
}
