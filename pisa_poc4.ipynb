{
 "cells": [
  {
   "cell_type": "code",
   "execution_count": 2,
   "id": "c30ac47a-6a40-4aa9-8683-16219f312af0",
   "metadata": {},
   "outputs": [],
   "source": [
    "import pandas as pd\n",
    "import pyreadstat\n"
   ]
  },
  {
   "cell_type": "code",
   "execution_count": 3,
   "id": "c811bd1d-7254-4148-9418-0bce332b4858",
   "metadata": {},
   "outputs": [],
   "source": [
    "df_sch, meta_sch = pyreadstat.read_sav('data/PISA2022_SCH_QQQ.SAV')"
   ]
  },
  {
   "cell_type": "code",
   "execution_count": 4,
   "id": "b25505a0-9fb0-4049-9a92-e9fa0c4e07ed",
   "metadata": {},
   "outputs": [],
   "source": [
    "import os\n",
    "\n",
    "with open('data/openai.api.key', 'r') as filek: \n",
    "    openai_key = filek.read()\n",
    "os.environ[\"OPENAI_API_KEY\"] =  openai_key"
   ]
  },
  {
   "cell_type": "code",
   "execution_count": 5,
   "id": "faca8a0f-da6a-41e5-9f6a-0c823d298f99",
   "metadata": {
    "scrolled": true
   },
   "outputs": [],
   "source": [
    "from langchain_chroma import Chroma\n",
    "from langchain_core.documents import Document\n",
    "from langchain_openai import OpenAIEmbeddings\n",
    "\n",
    "def meta2docs(spss_meta):\n",
    "    excluded = ['CNTRYID']\n",
    "    docs = []\n",
    "    for col in  spss_meta.column_names:\n",
    "        #if col in spss_meta.variable_value_labels:\n",
    "        if col not in excluded:\n",
    "            docs.append(\n",
    "                Document(\n",
    "                    page_content=spss_meta.column_names_to_labels[col],\n",
    "                    metadata={\"year\": 2022, \"original_col_name\": col},\n",
    "                ),\n",
    "            )\n",
    "    return docs\n",
    "    \n",
    "cols = meta2docs(meta_sch)\n",
    "\n",
    "cols_vectorstore = Chroma.from_documents(cols, OpenAIEmbeddings())"
   ]
  },
  {
   "cell_type": "code",
   "execution_count": 6,
   "id": "d1932f7f-d6cb-479d-a172-20bdb989e888",
   "metadata": {
    "scrolled": true
   },
   "outputs": [
    {
     "data": {
      "text/plain": [
       "[Document(page_content='Country code 3-character', metadata={'year': 2022, 'original_col_name': 'CNT'}),\n",
       " Document(page_content='Intl. School ID', metadata={'year': 2022, 'original_col_name': 'CNTSCHID'}),\n",
       " Document(page_content='PISA Assessment Cycle (2 digits + 2 character Assessment type - MS/FT)', metadata={'year': 2022, 'original_col_name': 'CYC'}),\n",
       " Document(page_content='National Centre 6-digit Code', metadata={'year': 2022, 'original_col_name': 'NatCen'}),\n",
       " Document(page_content='Stratum ID 5-character (cnt + original stratum ID)', metadata={'year': 2022, 'original_col_name': 'STRATUM'}),\n",
       " Document(page_content='Adjudicated sub-region code 7-digit code (3-digit country code + region ID + stratum ID)', metadata={'year': 2022, 'original_col_name': 'SUBNATIO'}),\n",
       " Document(page_content='REGION', metadata={'year': 2022, 'original_col_name': 'REGION'}),\n",
       " Document(page_content='OECD country', metadata={'year': 2022, 'original_col_name': 'OECD'}),\n",
       " Document(page_content='Mode of Respondent', metadata={'year': 2022, 'original_col_name': 'ADMINMODE'}),\n",
       " Document(page_content='Language of Questionnaire', metadata={'year': 2022, 'original_col_name': 'LANGTEST_QQQ'}),\n",
       " Document(page_content='Which of the following definitions best describes the community in which your school is located?', metadata={'year': 2022, 'original_col_name': 'SC001Q01TA'}),\n",
       " Document(page_content='Is your school a public or a private school?', metadata={'year': 2022, 'original_col_name': 'SC013Q01TA'}),\n",
       " Document(page_content='What kind of organisation runs your school?', metadata={'year': 2022, 'original_col_name': 'SC014Q01TA'}),\n",
       " Document(page_content='Percentage of schoolyr funding comes from: Government (includes departments, local, regional, state and national)', metadata={'year': 2022, 'original_col_name': 'SC016Q01TA'}),\n",
       " Document(page_content='Percentage of schoolyr funding comes from: Student fees or school charges paid by parents or guardians', metadata={'year': 2022, 'original_col_name': 'SC016Q02TA'}),\n",
       " Document(page_content='Percentage of schoolyr funding comes from: Benefactors, donations, bequests, sponsorships, parent or guardian fundraising', metadata={'year': 2022, 'original_col_name': 'SC016Q03TA'}),\n",
       " Document(page_content='Percentage of schoolyr funding comes from: Other', metadata={'year': 2022, 'original_col_name': 'SC016Q04TA'}),\n",
       " Document(page_content='Which of the following statements best describes the schooling available to students in your location?', metadata={'year': 2022, 'original_col_name': 'SC011Q01TA'}),\n",
       " Document(page_content='As of [February 1, 2021], what was the total school enrolment (number of students): Number of boys:', metadata={'year': 2022, 'original_col_name': 'SC002Q01TA'}),\n",
       " Document(page_content='As of [February 1, 2021], what was the total school enrolment (number of students): Number of girls:', metadata={'year': 2022, 'original_col_name': 'SC002Q02TA'}),\n",
       " Document(page_content='Percentage [15-year-old modal grade] students who: Students whose [heritage language] is different from [test language]', metadata={'year': 2022, 'original_col_name': 'SC211Q01JA'}),\n",
       " Document(page_content='Percentage [15-year-old modal grade] students who: Students with special learning needs', metadata={'year': 2022, 'original_col_name': 'SC211Q02JA'}),\n",
       " Document(page_content='Percentage [15-year-old modal grade] students who: Students from socioeconomically disadvantaged homes', metadata={'year': 2022, 'original_col_name': 'SC211Q03JA'}),\n",
       " Document(page_content='Percentage [15-year-old modal grade] students who: Students who are immigrants (not including refugees)', metadata={'year': 2022, 'original_col_name': 'SC211Q04JA'}),\n",
       " Document(page_content='Percentage [15-year-old modal grade] students who: Students who have parents who have immigrated', metadata={'year': 2022, 'original_col_name': 'SC211Q05JA'}),\n",
       " Document(page_content='Percentage [15-year-old modal grade] students who: Students who are refugees', metadata={'year': 2022, 'original_col_name': 'SC211Q06JA'}),\n",
       " Document(page_content='Teachers in TOTAL: Full-time', metadata={'year': 2022, 'original_col_name': 'SC018Q01TA01'}),\n",
       " Document(page_content='Teachers in TOTAL: Part-time', metadata={'year': 2022, 'original_col_name': 'SC018Q01TA02'}),\n",
       " Document(page_content='Teachers [fully certified] by [the appropriate authority]: Full-time', metadata={'year': 2022, 'original_col_name': 'SC018Q02TA01'}),\n",
       " Document(page_content='Teachers [fully certified] by [the appropriate authority]: Part-time', metadata={'year': 2022, 'original_col_name': 'SC018Q02TA02'}),\n",
       " Document(page_content=\"Teachers with an [ISCED Level 6 - Bachelor's or equivalent level] qualification: Full-time\", metadata={'year': 2022, 'original_col_name': 'SC018Q08JA01'}),\n",
       " Document(page_content=\"Teachers with an [ISCED Level 6 - Bachelor's or equivalent level] qualification: Part-time\", metadata={'year': 2022, 'original_col_name': 'SC018Q08JA02'}),\n",
       " Document(page_content=\"Teachers with an [ISCED Level 7 - Master's or equivalent level] qualification: Full-time\", metadata={'year': 2022, 'original_col_name': 'SC018Q09JA01'}),\n",
       " Document(page_content=\"Teachers with an [ISCED Level 7 - Master's or equivalent level] qualification: Part-time\", metadata={'year': 2022, 'original_col_name': 'SC018Q09JA02'}),\n",
       " Document(page_content='Teachers with an [ISCED Level 8 - Doctoral or equivalent level] qualification: Full-time', metadata={'year': 2022, 'original_col_name': 'SC018Q10JA01'}),\n",
       " Document(page_content='Teachers with an [ISCED Level 8 - Doctoral or equivalent level] qualification: Part-time', metadata={'year': 2022, 'original_col_name': 'SC018Q10JA02'}),\n",
       " Document(page_content='Teachers of mathematics in TOTAL: Full-time', metadata={'year': 2022, 'original_col_name': 'SC182Q01WA01'}),\n",
       " Document(page_content='Teachers of mathematics in TOTAL: Part-time', metadata={'year': 2022, 'original_col_name': 'SC182Q01WA02'}),\n",
       " Document(page_content='Teachers of math [fully certified] by [the appropriate authority]: Full-time', metadata={'year': 2022, 'original_col_name': 'SC182Q06WA01'}),\n",
       " Document(page_content='Teachers of math [fully certified] by [the appropriate authority]: Part-time', metadata={'year': 2022, 'original_col_name': 'SC182Q06WA02'}),\n",
       " Document(page_content='Teachers of math with at least an [ISCED Level 6 ] qualification: Full-time', metadata={'year': 2022, 'original_col_name': 'SC182Q07JA01'}),\n",
       " Document(page_content='Teachers of math with at least an [ISCED Level 6 ] qualification: Part-time', metadata={'year': 2022, 'original_col_name': 'SC182Q07JA02'}),\n",
       " Document(page_content='Teachers of math with at least an [ISCED Level 6 ] qualification [with a major] in mathematics: Full-time', metadata={'year': 2022, 'original_col_name': 'SC182Q08JA01'}),\n",
       " Document(page_content='Teachers of math with at least an [ISCED Level 6 ] qualification [with a major] in mathematics: Part-time', metadata={'year': 2022, 'original_col_name': 'SC182Q08JA02'}),\n",
       " Document(page_content='Teachers of math with at least an [ISCED Level 6 ] qualification in [pedagogy]: Full-time', metadata={'year': 2022, 'original_col_name': 'SC182Q09JA01'}),\n",
       " Document(page_content='Teachers of math with at least an [ISCED Level 6 ] qualification in [pedagogy]: Part-time', metadata={'year': 2022, 'original_col_name': 'SC182Q09JA02'}),\n",
       " Document(page_content='Teachers of math with an [ISCED Level 5] but not an [ISCED Level 6] qualification: Full-time', metadata={'year': 2022, 'original_col_name': 'SC182Q10JA01'}),\n",
       " Document(page_content='Teachers of math with an [ISCED Level 5] but not an [ISCED Level 6] qualification: Part-time', metadata={'year': 2022, 'original_col_name': 'SC182Q10JA02'}),\n",
       " Document(page_content='Number of non-teaching staff working in school who are: Personnel for pedagogical support, irrespective of the [grade levels]/ages they support', metadata={'year': 2022, 'original_col_name': 'SC168Q01JA'}),\n",
       " Document(page_content='Number of non-teaching staff working in school who are: School administrative personnel', metadata={'year': 2022, 'original_col_name': 'SC168Q02JA'}),\n",
       " Document(page_content='Number of non-teaching staff working in school who are: School management personnel', metadata={'year': 2022, 'original_col_name': 'SC168Q03JA'}),\n",
       " Document(page_content='Number of non-teaching staff working in school who are: Other non-teaching staff', metadata={'year': 2022, 'original_col_name': 'SC168Q04JA'}),\n",
       " Document(page_content=\"During admission, how often consider: Student's record of academic performance (including placement tests)\", metadata={'year': 2022, 'original_col_name': 'SC012Q01TA'}),\n",
       " Document(page_content='During admission, how often consider: Recommendation of feeder schools', metadata={'year': 2022, 'original_col_name': 'SC012Q02TA'}),\n",
       " Document(page_content=\"During admission, how often consider: Parents' or guardians' endorsement of the instructional or religious philosophy of the school\", metadata={'year': 2022, 'original_col_name': 'SC012Q03TA'}),\n",
       " Document(page_content='During admission, how often consider: Whether the student requires or is interested in a special programme', metadata={'year': 2022, 'original_col_name': 'SC012Q04TA'}),\n",
       " Document(page_content='During admission, how often consider: Preference given to family members of current or former students', metadata={'year': 2022, 'original_col_name': 'SC012Q05TA'}),\n",
       " Document(page_content='During admission, how often consider: Residence in a particular area', metadata={'year': 2022, 'original_col_name': 'SC012Q06TA'}),\n",
       " Document(page_content=\"During admission, how often consider: Student's disciplinary record in this or another school\", metadata={'year': 2022, 'original_col_name': 'SC012Q08JA'}),\n",
       " Document(page_content=\"During admission, how often consider: Student's parental status or pregnancy\", metadata={'year': 2022, 'original_col_name': 'SC012Q10JA'}),\n",
       " Document(page_content=\"During admission, how often consider: Student's working status\", metadata={'year': 2022, 'original_col_name': 'SC012Q11JA'}),\n",
       " Document(page_content=\"During admission, how often consider: Student's cultural or ethnic background\", metadata={'year': 2022, 'original_col_name': 'SC012Q12JA'}),\n",
       " Document(page_content='How likely a student in your school would be transferred to another school for: Low academic achievement', metadata={'year': 2022, 'original_col_name': 'SC185Q01WA'}),\n",
       " Document(page_content='How likely a student in your school would be transferred to another school for: High academic achievement', metadata={'year': 2022, 'original_col_name': 'SC185Q02WA'}),\n",
       " Document(page_content='How likely a student in your school would be transferred to another school for: Behavioural problems', metadata={'year': 2022, 'original_col_name': 'SC185Q03WA'}),\n",
       " Document(page_content='How likely a student in your school would be transferred to another school for: Special learning needs', metadata={'year': 2022, 'original_col_name': 'SC185Q04WA'}),\n",
       " Document(page_content=\"How likely a student in your school would be transferred to another school for: Parents' or guardians' request\", metadata={'year': 2022, 'original_col_name': 'SC185Q05WA'}),\n",
       " Document(page_content='At your school, who is responsible for: Appointing or hiring teachers', metadata={'year': 2022, 'original_col_name': 'SC202Q01JA'}),\n",
       " Document(page_content='At your school, who is responsible for: Dismissing or suspending teachers from employment', metadata={'year': 2022, 'original_col_name': 'SC202Q02JA'}),\n",
       " Document(page_content=\"At your school, who is responsible for: Establishing teachers' starting salaries, including setting pay scales\", metadata={'year': 2022, 'original_col_name': 'SC202Q03JA'}),\n",
       " Document(page_content=\"At your school, who is responsible for: Determining teachers' salary increases\", metadata={'year': 2022, 'original_col_name': 'SC202Q04JA'}),\n",
       " Document(page_content='At your school, who is responsible for: Formulating the school budget', metadata={'year': 2022, 'original_col_name': 'SC202Q05JA'}),\n",
       " Document(page_content='At your school, who is responsible for: Deciding on budget allocations', metadata={'year': 2022, 'original_col_name': 'SC202Q06JA'}),\n",
       " Document(page_content='At your school, who is responsible for: Establishing student disciplinary policies and procedures', metadata={'year': 2022, 'original_col_name': 'SC202Q07JA'}),\n",
       " Document(page_content='At your school, who is responsible for: Establishing student assessment policies, including [national/regional] assessments', metadata={'year': 2022, 'original_col_name': 'SC202Q08JA'}),\n",
       " Document(page_content='At your school, who is responsible for: Approving students for admission to the school', metadata={'year': 2022, 'original_col_name': 'SC202Q09JA'}),\n",
       " Document(page_content='At your school, who is responsible for: Choosing which learning materials are used', metadata={'year': 2022, 'original_col_name': 'SC202Q10JA'}),\n",
       " Document(page_content='At your school, who is responsible for: Determining course content, including [national/regional] curricula', metadata={'year': 2022, 'original_col_name': 'SC202Q11JA'}),\n",
       " Document(page_content='At your school, who is responsible for: Deciding which courses are offered', metadata={'year': 2022, 'original_col_name': 'SC202Q12JA'}),\n",
       " Document(page_content='How often you/others in [school management team]: Collaborating with teachers to solve classroom discipline problems', metadata={'year': 2022, 'original_col_name': 'SC201Q01JA'}),\n",
       " Document(page_content='How often you/others in [school management team]: Providing feedback to teachers based on observations of instruction in the classroom', metadata={'year': 2022, 'original_col_name': 'SC201Q03JA'}),\n",
       " Document(page_content='How often you/others in [school management team]: Taking actions to support co-operation among teachers to develop new teaching practices', metadata={'year': 2022, 'original_col_name': 'SC201Q04JA'}),\n",
       " Document(page_content='How often you/others in [school management team]: Taking actions to ensure that teachers take responsibility for improving their teaching skills', metadata={'year': 2022, 'original_col_name': 'SC201Q05JA'}),\n",
       " Document(page_content=\"How often you/others in [school management team]: Taking actions to ensure that teachers feel responsible for their students' learning outcomes\", metadata={'year': 2022, 'original_col_name': 'SC201Q06JA'}),\n",
       " Document(page_content='How often you/others in [school management team]: Providing parents or guardians with information on the school and student performance', metadata={'year': 2022, 'original_col_name': 'SC201Q07JA'}),\n",
       " Document(page_content='How often you/others in [school management team]: Working on a professional development plan for this school', metadata={'year': 2022, 'original_col_name': 'SC201Q11JA'}),\n",
       " Document(page_content='[Stem] At your school, what is the total number of students in the [national modal grade for 15-year-olds]?', metadata={'year': 2022, 'original_col_name': 'SC004Q01TA'}),\n",
       " Document(page_content='[Stem] Approximately, how many desktop or laptop computers are available for these students for educational purposes?', metadata={'year': 2022, 'original_col_name': 'SC004Q02TA'}),\n",
       " Document(page_content='[Stem] Approximately, how many of these desktop or laptop computers are connected to the Internet?', metadata={'year': 2022, 'original_col_name': 'SC004Q03TA'}),\n",
       " Document(page_content='[Stem] Approximately, how many tablet devices (e.g. [iPad®], [Galaxy Book®], [Fire®]) or e-book readers (i.e. portable device for reading books on screen, e.g. [Amazon® KindleTM], [Kobo]) are available for these students for educational purposes?', metadata={'year': 2022, 'original_col_name': 'SC004Q08JA'}),\n",
       " Document(page_content='[Stem] Approximately, how many interactive whiteboards are available in the school altogether?', metadata={'year': 2022, 'original_col_name': 'SC004Q05NA'}),\n",
       " Document(page_content='[Stem] Approximately, how many data projectors are available in the school altogether?', metadata={'year': 2022, 'original_col_name': 'SC004Q06NA'}),\n",
       " Document(page_content='[Stem] Approximately, how many desktop or laptop computers with internet connection are available for teachers in your school?', metadata={'year': 2022, 'original_col_name': 'SC004Q07NA'}),\n",
       " Document(page_content='Apply to your school: The school has a written statement about the general use of digital devices on the school premises.', metadata={'year': 2022, 'original_col_name': 'SC190Q01JA'}),\n",
       " Document(page_content='Apply to your school: The use of [cell phones] is not allowed on the school premises.', metadata={'year': 2022, 'original_col_name': 'SC190Q02JA'}),\n",
       " Document(page_content='Apply to your school: The school has formal guidelines for the use of digital devices for teaching and learning in specific subjects.', metadata={'year': 2022, 'original_col_name': 'SC190Q05JA'}),\n",
       " Document(page_content='Apply to your school: Teachers establish rules for when students may use digital devices during lessons.', metadata={'year': 2022, 'original_col_name': 'SC190Q06JA'}),\n",
       " Document(page_content='Apply to your school: Teachers establish rules in collaboration with students about their use of [digital resources] at school or in class.', metadata={'year': 2022, 'original_col_name': 'SC190Q07JA'}),\n",
       " Document(page_content='Apply to your school: The school has a specific programme to prepare students for responsible internet behaviour.', metadata={'year': 2022, 'original_col_name': 'SC190Q08JA'}),\n",
       " Document(page_content='Apply to your school: The school has a specific policy about using social networks (e.g. [Facebook®]) in teaching and learning.', metadata={'year': 2022, 'original_col_name': 'SC190Q09JA'}),\n",
       " Document(page_content='Apply to your school: The school has a specific programme to promote collaboration on the use of digital devices among teachers.', metadata={'year': 2022, 'original_col_name': 'SC190Q10JA'}),\n",
       " Document(page_content='Apply to your school: The school has a scheduled time for teachers to meet to share, evaluate or develop instructional materials and approaches that employ digital devices.', metadata={'year': 2022, 'original_col_name': 'SC190Q11JA'}),\n",
       " Document(page_content='Exist at your school: Internal evaluation / Self-evaluation', metadata={'year': 2022, 'original_col_name': 'SC037Q01TA'}),\n",
       " Document(page_content='Exist at your school: External evaluation', metadata={'year': 2022, 'original_col_name': 'SC037Q02TA'}),\n",
       " Document(page_content=\"Exist at your school: Written specification of the school's curricular profile and educational goals\", metadata={'year': 2022, 'original_col_name': 'SC037Q03TA'}),\n",
       " Document(page_content='Exist at your school: Written specification of student performance standards', metadata={'year': 2022, 'original_col_name': 'SC037Q04TA'}),\n",
       " Document(page_content='Exist at your school: Systematic recording of data such as teacher or student attendance and professional development', metadata={'year': 2022, 'original_col_name': 'SC037Q05NA'}),\n",
       " Document(page_content='Exist at your school: Systematic recording of student test results and graduation rates', metadata={'year': 2022, 'original_col_name': 'SC037Q06NA'}),\n",
       " Document(page_content='Exist at your school: Seeking written feedback from students (e.g. regarding lessons, teachers or resources)', metadata={'year': 2022, 'original_col_name': 'SC037Q07TA'}),\n",
       " Document(page_content='Exist at your school: Teacher mentoring', metadata={'year': 2022, 'original_col_name': 'SC037Q08TA'}),\n",
       " Document(page_content='Exist at your school: Regular consultation aimed at school improvement with one or more experts over a period of at least six months', metadata={'year': 2022, 'original_col_name': 'SC037Q09TA'}),\n",
       " Document(page_content='Exist at your school: Implementation of a standardised policy for mathematics subjects (i.e. school curriculum with shared instructional materials accompanied by staff development and training)', metadata={'year': 2022, 'original_col_name': 'SC037Q11JA'}),\n",
       " Document(page_content=\"Occur in school's external evals:  The results of external evaluation led to changes in school policies.\", metadata={'year': 2022, 'original_col_name': 'SC200Q01JA'}),\n",
       " Document(page_content=\"Occur in school's external evals:  We used the data to plan specific action for school development.\", metadata={'year': 2022, 'original_col_name': 'SC200Q02JA'}),\n",
       " Document(page_content=\"Occur in school's external evals:  We used the data to plan specific action for the improvement of teaching.\", metadata={'year': 2022, 'original_col_name': 'SC200Q03JA'}),\n",
       " Document(page_content=\"Occur in school's external evals:  We put measures derived from the results of external evaluations into practice.\", metadata={'year': 2022, 'original_col_name': 'SC200Q04JA'}),\n",
       " Document(page_content='Last school yr, teachers monitored by? Tests or assessments of student achievement', metadata={'year': 2022, 'original_col_name': 'SC032Q01TA'}),\n",
       " Document(page_content='Last school yr, teachers monitored by? Teacher peer review (of lesson plans, assessment instruments, lessons)', metadata={'year': 2022, 'original_col_name': 'SC032Q02TA'}),\n",
       " Document(page_content='Last school yr, teachers monitored by? Principal or senior staff observations of lessons', metadata={'year': 2022, 'original_col_name': 'SC032Q03TA'}),\n",
       " Document(page_content='Last school yr, teachers monitored by? Observation of classes by inspectors or other persons external to the school', metadata={'year': 2022, 'original_col_name': 'SC032Q04TA'}),\n",
       " Document(page_content='Do teacher evals impact: A change in salary', metadata={'year': 2022, 'original_col_name': 'SC193Q01WA'}),\n",
       " Document(page_content='Do teacher evals impact: A financial bonus or another kind of monetary reward', metadata={'year': 2022, 'original_col_name': 'SC193Q02WA'}),\n",
       " Document(page_content='Do teacher evals impact: Opportunities for professional development activities', metadata={'year': 2022, 'original_col_name': 'SC193Q03WA'}),\n",
       " Document(page_content='Do teacher evals impact: A change in the likelihood of career advancement', metadata={'year': 2022, 'original_col_name': 'SC193Q04WA'}),\n",
       " Document(page_content='Do teacher evals impact: Public recognition from you', metadata={'year': 2022, 'original_col_name': 'SC193Q05WA'}),\n",
       " Document(page_content='Do teacher evals impact: Changes in work responsibilities that make the job more attractive', metadata={'year': 2022, 'original_col_name': 'SC193Q06WA'}),\n",
       " Document(page_content='Do teacher evals impact: A role in school development initiatives (e.g. curriculum development group, development of school objectives)', metadata={'year': 2022, 'original_col_name': 'SC193Q07WA'}),\n",
       " Document(page_content='Last 3 mnths, percentage teaching staff attended professional dev: All teaching staff at your school', metadata={'year': 2022, 'original_col_name': 'SC025Q01NA'}),\n",
       " Document(page_content='Last 3 mnths, percentage teaching staff attended professional dev:  Staff who teach mathematics at your school', metadata={'year': 2022, 'original_col_name': 'SC025Q02NA'}),\n",
       " Document(page_content='In-house professional dev: Our school invites specialists to conduct in-service training for teachers.', metadata={'year': 2022, 'original_col_name': 'SC027Q02NA'}),\n",
       " Document(page_content='In-house professional dev: Our school organises in-service workshops which deal with specific issues that our school faces.', metadata={'year': 2022, 'original_col_name': 'SC027Q03NA'}),\n",
       " Document(page_content='In-house professional dev: Our school organises in-service workshops for specific groups of teachers (e.g. newly appointed teachers).', metadata={'year': 2022, 'original_col_name': 'SC027Q04NA'}),\n",
       " Document(page_content='In-house professional dev for math teachers: Our school invites specialists to conduct in-service training for mathematics teachers.', metadata={'year': 2022, 'original_col_name': 'SC183Q02JA'}),\n",
       " Document(page_content='In-house professional dev for math teachers: Our school organises in-service workshops, which deal with specific issues that our mathematics teachers face.', metadata={'year': 2022, 'original_col_name': 'SC183Q03JA'}),\n",
       " Document(page_content='In-house professional dev for math teachers: Our school organises in-service workshops for specific mathematics teachers (e.g. newly appointed teachers).', metadata={'year': 2022, 'original_col_name': 'SC183Q04JA'}),\n",
       " Document(page_content='Offers math teachers professional dev in: Mathematics content', metadata={'year': 2022, 'original_col_name': 'SC184Q01JA'}),\n",
       " Document(page_content='Offers math teachers professional dev in: Mathematics pedagogy/instruction', metadata={'year': 2022, 'original_col_name': 'SC184Q02JA'}),\n",
       " Document(page_content='Offers math teachers professional dev in: Mathematics curriculum', metadata={'year': 2022, 'original_col_name': 'SC184Q03JA'}),\n",
       " Document(page_content='Offers math teachers professional dev in: Integrating digital resources into mathematics instruction', metadata={'year': 2022, 'original_col_name': 'SC184Q04JA'}),\n",
       " Document(page_content=\"Offers math teachers professional dev in: Improving students' critical thinking or problem solving skills\", metadata={'year': 2022, 'original_col_name': 'SC184Q05JA'}),\n",
       " Document(page_content='Offers math teachers professional dev in: Mathematics assessment', metadata={'year': 2022, 'original_col_name': 'SC184Q06JA'}),\n",
       " Document(page_content=\"Offers math teachers professional dev in: Addressing individual students' needs (e.g. differentiated learning, differentiated instruction)\", metadata={'year': 2022, 'original_col_name': 'SC184Q07JA'}),\n",
       " Document(page_content='Instruction hindered by: A lack of teaching staff', metadata={'year': 2022, 'original_col_name': 'SC017Q01NA'}),\n",
       " Document(page_content='Instruction hindered by: Inadequate or poorly qualified teaching staff', metadata={'year': 2022, 'original_col_name': 'SC017Q02NA'}),\n",
       " Document(page_content='Instruction hindered by: A lack of assisting staff', metadata={'year': 2022, 'original_col_name': 'SC017Q03NA'}),\n",
       " Document(page_content='Instruction hindered by: Inadequate or poorly qualified assisting staff', metadata={'year': 2022, 'original_col_name': 'SC017Q04NA'}),\n",
       " Document(page_content='Instruction hindered by: A lack of educational material (e.g. textbooks, IT equipment, library or laboratory material)', metadata={'year': 2022, 'original_col_name': 'SC017Q05NA'}),\n",
       " Document(page_content='Instruction hindered by: Inadequate or poor quality educational material (e.g. textbooks, IT equipment, library or laboratory material)', metadata={'year': 2022, 'original_col_name': 'SC017Q06NA'}),\n",
       " Document(page_content='Instruction hindered by: A lack of physical infrastructure (e.g. building, grounds, heating/cooling, lighting and acoustic systems)', metadata={'year': 2022, 'original_col_name': 'SC017Q07NA'}),\n",
       " Document(page_content='Instruction hindered by: Inadequate or poor quality physical infrastructure (e.g. building, grounds, heating/cooling, lighting and acoustic systems)', metadata={'year': 2022, 'original_col_name': 'SC017Q08NA'}),\n",
       " Document(page_content='Instruction hindered by: A lack of [digital resources] (e.g. desktop or laptop computers, internet access, learning management systems or school learning platforms)', metadata={'year': 2022, 'original_col_name': 'SC017Q09JA'}),\n",
       " Document(page_content='Instruction hindered by: Inadequate or poor quality [digital resources] (e.g. desktop or laptop computers, internet access, learning management systems or school learning platforms)', metadata={'year': 2022, 'original_col_name': 'SC017Q10JA'}),\n",
       " Document(page_content='Learning hindered by: Student truancy', metadata={'year': 2022, 'original_col_name': 'SC061Q01TA'}),\n",
       " Document(page_content='Learning hindered by: Students skipping classes', metadata={'year': 2022, 'original_col_name': 'SC061Q02TA'}),\n",
       " Document(page_content='Learning hindered by: Students lacking respect for teachers', metadata={'year': 2022, 'original_col_name': 'SC061Q03TA'}),\n",
       " Document(page_content='Learning hindered by: Student use of alcohol or illegal drugs', metadata={'year': 2022, 'original_col_name': 'SC061Q04TA'}),\n",
       " Document(page_content='Learning hindered by: Students intimidating or bullying other students', metadata={'year': 2022, 'original_col_name': 'SC061Q05TA'}),\n",
       " Document(page_content='Learning hindered by: Students not being attentive', metadata={'year': 2022, 'original_col_name': 'SC061Q11HA'}),\n",
       " Document(page_content=\"Learning hindered by: Teachers not meeting individual students' needs\", metadata={'year': 2022, 'original_col_name': 'SC061Q06TA'}),\n",
       " Document(page_content='Learning hindered by: Teacher absenteeism', metadata={'year': 2022, 'original_col_name': 'SC061Q07TA'}),\n",
       " Document(page_content='Learning hindered by: Staff resisting change', metadata={'year': 2022, 'original_col_name': 'SC061Q08TA'}),\n",
       " Document(page_content='Learning hindered by: Teachers being too strict with students', metadata={'year': 2022, 'original_col_name': 'SC061Q09TA'}),\n",
       " Document(page_content='Learning hindered by: Teachers not being well prepared for classes', metadata={'year': 2022, 'original_col_name': 'SC061Q10TA'}),\n",
       " Document(page_content='Extent a problem in your school: Profanity', metadata={'year': 2022, 'original_col_name': 'SC172Q02JA'}),\n",
       " Document(page_content='Extent a problem in your school: Vandalism', metadata={'year': 2022, 'original_col_name': 'SC172Q03JA'}),\n",
       " Document(page_content='Extent a problem in your school: Theft', metadata={'year': 2022, 'original_col_name': 'SC172Q04JA'}),\n",
       " Document(page_content='Extent a problem in your school: Intimidation or verbal abuse among students (including texting, emailing, etc.)', metadata={'year': 2022, 'original_col_name': 'SC172Q05JA'}),\n",
       " Document(page_content='Extent a problem in your school: Physical injury caused by students to other students', metadata={'year': 2022, 'original_col_name': 'SC172Q06JA'}),\n",
       " Document(page_content='Extent a problem in your school: Intimidation or verbal abuse of teachers or non-teaching staff (including texting, emailing, etc.)', metadata={'year': 2022, 'original_col_name': 'SC172Q07JA'}),\n",
       " Document(page_content='Last yr, how often staff: They helped students of different backgrounds to recognise the similarities that exist between them.', metadata={'year': 2022, 'original_col_name': 'SC173Q01JA'}),\n",
       " Document(page_content='Last yr, how often staff: They encouraged students of different backgrounds to resolve disagreements by finding common ground.', metadata={'year': 2022, 'original_col_name': 'SC173Q02JA'}),\n",
       " Document(page_content=\"Last yr, how often staff: They supported activities or organisations that encourage students' expression of diverse identities.\", metadata={'year': 2022, 'original_col_name': 'SC173Q03JA'}),\n",
       " Document(page_content='Last yr, how often staff: They taught students how to respond to discrimination.', metadata={'year': 2022, 'original_col_name': 'SC173Q04JA'}),\n",
       " Document(page_content='Last yr, how often staff: They taught students to be inclusive of others with different backgrounds.', metadata={'year': 2022, 'original_col_name': 'SC173Q05JA'}),\n",
       " Document(page_content='Last yr, how often staff: They provided additional support for students from disadvantaged backgrounds.', metadata={'year': 2022, 'original_col_name': 'SC173Q06JA'}),\n",
       " Document(page_content=\"Proportion parent/guardians who: Discussed their child's behaviour with a teacher on the parents' or guardians' own initiative\", metadata={'year': 2022, 'original_col_name': 'SC064Q05WA'}),\n",
       " Document(page_content=\"Proportion parent/guardians who: Discussed their child's behaviour on the initiative of one of their child's teachers\", metadata={'year': 2022, 'original_col_name': 'SC064Q06WA'}),\n",
       " Document(page_content=\"Proportion parent/guardians who: Discussed their child's progress with a teacher on the parents' or guardians' own initiative\", metadata={'year': 2022, 'original_col_name': 'SC064Q01TA'}),\n",
       " Document(page_content=\"Proportion parent/guardians who: Discussed their child's progress on the initiative of one of their child's teachers\", metadata={'year': 2022, 'original_col_name': 'SC064Q02TA'}),\n",
       " Document(page_content='Proportion parent/guardians who: Volunteered in physical or extra-curricular activities, (e.g. building maintenance, carpentry, gardening or yard work, school play, sports, field trip)', metadata={'year': 2022, 'original_col_name': 'SC064Q04NA'}),\n",
       " Document(page_content='Proportion parent/guardians who: Participated in local school government (e.g. parent council or school management committee)', metadata={'year': 2022, 'original_col_name': 'SC064Q03TA'}),\n",
       " Document(page_content='Proportion parent/guardians who: Assisted in fundraising for the school', metadata={'year': 2022, 'original_col_name': 'SC064Q07WA'}),\n",
       " Document(page_content='Last school yr, how often has school staff: Invited parents or guardians to volunteer for school activities', metadata={'year': 2022, 'original_col_name': 'SC192Q01JA'}),\n",
       " Document(page_content='Last school yr, how often has school staff: Initiated communications with parents or guardians about school programmes', metadata={'year': 2022, 'original_col_name': 'SC192Q02JA'}),\n",
       " Document(page_content=\"Last school yr, how often has school staff: Initiated communications with parents or guardians about their child's progress\", metadata={'year': 2022, 'original_col_name': 'SC192Q03JA'}),\n",
       " Document(page_content='Last school yr, how often has school staff: Included parents or guardians in making school decisions', metadata={'year': 2022, 'original_col_name': 'SC192Q04JA'}),\n",
       " Document(page_content='Last school yr, how often has school staff: Provided information to parents or guardians about how to help students with homework and other curriculum-related activities', metadata={'year': 2022, 'original_col_name': 'SC192Q05JA'}),\n",
       " Document(page_content='Last school yr, how often has school staff: Provided information to parents or guardians about how to help students improve their skills in mathematics', metadata={'year': 2022, 'original_col_name': 'SC192Q06JA'}),\n",
       " Document(page_content='Minutes in [class period] for: Mathematics', metadata={'year': 2022, 'original_col_name': 'SC175Q01JA'}),\n",
       " Document(page_content='Minutes in [class period] for: Average minutes in a [class period] across all subjects, including Mathematics', metadata={'year': 2022, 'original_col_name': 'SC175Q02JA'}),\n",
       " Document(page_content='What is the average size of mathematics classes in <national modal grade for 15-year-olds> in your school?', metadata={'year': 2022, 'original_col_name': 'SC176Q01JA'}),\n",
       " Document(page_content='What is the average size of <test language> classes in <national modal grade for 15-year-olds> in your school?', metadata={'year': 2022, 'original_col_name': 'SC003Q01TA'}),\n",
       " Document(page_content='How many foreign languages are being taught at your school <this academic year>?', metadata={'year': 2022, 'original_col_name': 'SC174Q01JA'}),\n",
       " Document(page_content='Does school offer this school yr: Band, orchestra or choir', metadata={'year': 2022, 'original_col_name': 'SC053Q01TA'}),\n",
       " Document(page_content='Does school offer this school yr: School play or school musical', metadata={'year': 2022, 'original_col_name': 'SC053Q02TA'}),\n",
       " Document(page_content='Does school offer this school yr: School yearbook, newspaper or magazine', metadata={'year': 2022, 'original_col_name': 'SC053Q03TA'}),\n",
       " Document(page_content='Does school offer this school yr: Volunteering or service activities, e.g. [national examples]', metadata={'year': 2022, 'original_col_name': 'SC053Q04TA'}),\n",
       " Document(page_content='Does school offer this school yr: Mathematics club', metadata={'year': 2022, 'original_col_name': 'SC053Q05NA'}),\n",
       " Document(page_content='Does school offer this school yr: Mathematics competitions, e.g. [national examples]', metadata={'year': 2022, 'original_col_name': 'SC053Q06NA'}),\n",
       " Document(page_content='Does school offer this school yr: Chess club', metadata={'year': 2022, 'original_col_name': 'SC053Q07TA'}),\n",
       " Document(page_content='Does school offer this school yr: Club with a focus on computers (e.g. programming or coding)', metadata={'year': 2022, 'original_col_name': 'SC053Q08TA'}),\n",
       " Document(page_content='Does school offer this school yr: Art club or art activities', metadata={'year': 2022, 'original_col_name': 'SC053Q09TA'}),\n",
       " Document(page_content='Does school offer this school yr: Sporting team or sporting activities', metadata={'year': 2022, 'original_col_name': 'SC053Q10TA'}),\n",
       " Document(page_content='<This academic year>,follow. activities/school offers<national modal grade for 15-year-olds>? <country specific item>', metadata={'year': 2022, 'original_col_name': 'SC053D11TA'}),\n",
       " Document(page_content='Study help for [national modal grade for 15-year-olds] students: Room(s) where the students can do their homework', metadata={'year': 2022, 'original_col_name': 'SC212Q01JA'}),\n",
       " Document(page_content='Study help for [national modal grade for 15-year-olds] students: Staff help with homework', metadata={'year': 2022, 'original_col_name': 'SC212Q02JA'}),\n",
       " Document(page_content='Study help for [national modal grade for 15-year-olds] students: Peer-to-peer tutoring', metadata={'year': 2022, 'original_col_name': 'SC212Q03JA'}),\n",
       " Document(page_content='How often students assessed by: Mandatory [standardised tests], e.g. [country specific example]', metadata={'year': 2022, 'original_col_name': 'SC034Q01NA'}),\n",
       " Document(page_content='How often students assessed by: Non-mandatory [standardised tests] (e.g. publicly or commercially available standardised test material like [country specific example])', metadata={'year': 2022, 'original_col_name': 'SC034Q02NA'}),\n",
       " Document(page_content='How often students assessed by: Teacher-developed tests', metadata={'year': 2022, 'original_col_name': 'SC034Q03TA'}),\n",
       " Document(page_content=\"How often students assessed by: Teachers' judgmental ratings\", metadata={'year': 2022, 'original_col_name': 'SC034Q04TA'}),\n",
       " Document(page_content=\"How student tests are used: [Standardised tests]: To guide students' learning\", metadata={'year': 2022, 'original_col_name': 'SC035Q01NA'}),\n",
       " Document(page_content=\"How student tests are used: Teacher-developed tests: To guide students' learning\", metadata={'year': 2022, 'original_col_name': 'SC035Q01NB'}),\n",
       " Document(page_content=\"How student tests are used: [Standardised tests]: To inform parents or guardians about their child's progress\", metadata={'year': 2022, 'original_col_name': 'SC035Q02TA'}),\n",
       " Document(page_content=\"How student tests are used: Teacher-developed tests: To inform parents or guardians about their child's progress\", metadata={'year': 2022, 'original_col_name': 'SC035Q02TB'}),\n",
       " Document(page_content=\"How student tests are used: [Standardised tests]: To make decisions about students' retention or promotion\", metadata={'year': 2022, 'original_col_name': 'SC035Q03TA'}),\n",
       " Document(page_content=\"How student tests are used: Teacher-developed tests: To make decisions about students' retention or promotion\", metadata={'year': 2022, 'original_col_name': 'SC035Q03TB'}),\n",
       " Document(page_content='How student tests are used: [Standardised tests]: To group students for instructional purposes', metadata={'year': 2022, 'original_col_name': 'SC035Q04TA'}),\n",
       " Document(page_content='How student tests are used: Teacher-developed tests: To group students for instructional purposes', metadata={'year': 2022, 'original_col_name': 'SC035Q04TB'}),\n",
       " Document(page_content='How student tests are used: [Standardised tests]: To compare the school to [district or national] performance', metadata={'year': 2022, 'original_col_name': 'SC035Q05TA'}),\n",
       " Document(page_content='How student tests are used: Teacher-developed tests: To compare the school to [district or national] performance', metadata={'year': 2022, 'original_col_name': 'SC035Q05TB'}),\n",
       " Document(page_content=\"How student tests are used: [Standardised tests]: To monitor the school's progress from year to year\", metadata={'year': 2022, 'original_col_name': 'SC035Q06TA'}),\n",
       " Document(page_content=\"How student tests are used: Teacher-developed tests: To monitor the school's progress from year to year\", metadata={'year': 2022, 'original_col_name': 'SC035Q06TB'}),\n",
       " Document(page_content=\"How student tests are used: [Standardised tests]: To make judgements about teachers' effectiveness\", metadata={'year': 2022, 'original_col_name': 'SC035Q07TA'}),\n",
       " Document(page_content=\"How student tests are used: Teacher-developed tests: To make judgements about teachers' effectiveness\", metadata={'year': 2022, 'original_col_name': 'SC035Q07TB'}),\n",
       " Document(page_content='How student tests are used: [Standardised tests]: To identify aspects of instruction or the curriculum that could be improved', metadata={'year': 2022, 'original_col_name': 'SC035Q08TA'}),\n",
       " Document(page_content='How student tests are used: Teacher-developed tests: To identify aspects of instruction or the curriculum that could be improved', metadata={'year': 2022, 'original_col_name': 'SC035Q08TB'}),\n",
       " Document(page_content=\"How student tests are used: [Standardised tests]: To adapt teaching to the students' needs\", metadata={'year': 2022, 'original_col_name': 'SC035Q09NA'}),\n",
       " Document(page_content=\"How student tests are used: Teacher-developed tests: To adapt teaching to the students' needs\", metadata={'year': 2022, 'original_col_name': 'SC035Q09NB'}),\n",
       " Document(page_content='How student tests are used: [Standardised tests]: To compare the school with other schools', metadata={'year': 2022, 'original_col_name': 'SC035Q10TA'}),\n",
       " Document(page_content='How student tests are used: Teacher-developed tests: To compare the school with other schools', metadata={'year': 2022, 'original_col_name': 'SC035Q10TB'}),\n",
       " Document(page_content='How student tests are used: [Standardised tests]: To award certificates to students', metadata={'year': 2022, 'original_col_name': 'SC035Q11NA'}),\n",
       " Document(page_content='How student tests are used: Teacher-developed tests: To award certificates to students', metadata={'year': 2022, 'original_col_name': 'SC035Q11NB'}),\n",
       " Document(page_content=\"School's policy for [national modal grade for 15-year-olds] students: Students are grouped by ability into different classes.\", metadata={'year': 2022, 'original_col_name': 'SC042Q01TA'}),\n",
       " Document(page_content=\"School's policy for [national modal grade for 15-year-olds] students: Students are grouped by ability within their classes.\", metadata={'year': 2022, 'original_col_name': 'SC042Q02TA'}),\n",
       " Document(page_content=\"Which describes school's math classes: Mathematics classes study similar content, but at different levels of difficulty.\", metadata={'year': 2022, 'original_col_name': 'SC187Q01WA'}),\n",
       " Document(page_content=\"Which describes school's math classes: Different classes study different content or sets of mathematics topics that have different levels of difficulty.\", metadata={'year': 2022, 'original_col_name': 'SC187Q02WA'}),\n",
       " Document(page_content=\"Which describes school's math classes: Students are grouped by ability within their mathematics classes.\", metadata={'year': 2022, 'original_col_name': 'SC187Q03WA'}),\n",
       " Document(page_content=\"Which describes school's math classes: In mathematics classes, teachers use pedagogy suitable for students with heterogeneous abilities (i.e. students are not grouped by ability).\", metadata={'year': 2022, 'original_col_name': 'SC187Q04WA'}),\n",
       " Document(page_content=\"Who is responsible for this at your school: Choosing a student's mathematics course(s)\", metadata={'year': 2022, 'original_col_name': 'SC177Q01JA'}),\n",
       " Document(page_content=\"Who is responsible for this at your school: Choosing the level of difficulty of a student's mathematics course(s)\", metadata={'year': 2022, 'original_col_name': 'SC177Q02JA'}),\n",
       " Document(page_content='Who is responsible for this at your school: Choosing the number of mathematics courses or [class periods] that a student takes', metadata={'year': 2022, 'original_col_name': 'SC177Q03JA'}),\n",
       " Document(page_content=\"Extent structures your school's math programme: [Local or municipal] curriculum standards or curriculum guides\", metadata={'year': 2022, 'original_col_name': 'SC188Q01JA'}),\n",
       " Document(page_content=\"Extent structures your school's math programme: [Regional or state] curriculum standards or curriculum guides\", metadata={'year': 2022, 'original_col_name': 'SC188Q02JA'}),\n",
       " Document(page_content=\"Extent structures your school's math programme: [National or federal] curriculum standards or frameworks\", metadata={'year': 2022, 'original_col_name': 'SC188Q03JA'}),\n",
       " Document(page_content=\"Extent structures your school's math programme: In-school curriculum frameworks and standards for learning\", metadata={'year': 2022, 'original_col_name': 'SC188Q04JA'}),\n",
       " Document(page_content=\"Extent structures your school's math programme: Results from [local or municipal] assessments\", metadata={'year': 2022, 'original_col_name': 'SC188Q05JA'}),\n",
       " Document(page_content=\"Extent structures your school's math programme: Results from [regional or state] assessments\", metadata={'year': 2022, 'original_col_name': 'SC188Q06JA'}),\n",
       " Document(page_content=\"Extent structures your school's math programme: Results from [national or federal ] assessments\", metadata={'year': 2022, 'original_col_name': 'SC188Q07JA'}),\n",
       " Document(page_content=\"Extent structures your school's math programme: Recommendations from school mathematics department\", metadata={'year': 2022, 'original_col_name': 'SC188Q08JA'}),\n",
       " Document(page_content=\"Extent structures your school's math programme: Discretion of individual teachers\", metadata={'year': 2022, 'original_col_name': 'SC188Q09JA'}),\n",
       " Document(page_content=\"Extent structures your school's math programme: Results from school assessments (e.g. quizzes or tests created by teachers)\", metadata={'year': 2022, 'original_col_name': 'SC188Q10JA'}),\n",
       " Document(page_content=\"Extent structures your school's math programme: Commercially designed programmes\", metadata={'year': 2022, 'original_col_name': 'SC188Q11JA'}),\n",
       " Document(page_content='How often students assessed by: Mandatory [standardised tests], e.g. [country specific example]', metadata={'year': 2022, 'original_col_name': 'SC195Q01JA'}),\n",
       " Document(page_content='How often students assessed by: Non-mandatory [standardised tests] (e.g. publicly or commercially available standardised test material like [country specific example])', metadata={'year': 2022, 'original_col_name': 'SC195Q02JA'}),\n",
       " Document(page_content='How often students assessed by: Teacher-developed tests', metadata={'year': 2022, 'original_col_name': 'SC195Q03JA'}),\n",
       " Document(page_content=\"How often students assessed by: Teachers' judgmental ratings\", metadata={'year': 2022, 'original_col_name': 'SC195Q04JA'}),\n",
       " Document(page_content='Use of math achievement data in your school: Mathematics achievement data are posted publicly (e.g. in the media)', metadata={'year': 2022, 'original_col_name': 'SC198Q01JA'}),\n",
       " Document(page_content='Use of math achievement data in your school: Mathematics achievement data are tracked over time by an administrative authority', metadata={'year': 2022, 'original_col_name': 'SC198Q02JA'}),\n",
       " Document(page_content='Use of math achievement data in your school: Mathematics achievement data are provided directly to parents or guardians', metadata={'year': 2022, 'original_col_name': 'SC198Q03JA'}),\n",
       " Document(page_content='Percentage of students who received these [marks] in math in last [school report]: [Marks] at or above the [pass mark]', metadata={'year': 2022, 'original_col_name': 'SC178Q01JA'}),\n",
       " Document(page_content='Percentage of students who received these [marks] in math in last [school report]: [Marks] below the [pass mark]', metadata={'year': 2022, 'original_col_name': 'SC178Q02JA'}),\n",
       " Document(page_content='Does your school offer additional math lessons apart from math lessons offered during the usual school hours?', metadata={'year': 2022, 'original_col_name': 'SC180Q01JA'}),\n",
       " Document(page_content='Other types of math lessons offered: [Enrichment]', metadata={'year': 2022, 'original_col_name': 'SC181Q01JA'}),\n",
       " Document(page_content='Other types of math lessons offered: [Remedial]', metadata={'year': 2022, 'original_col_name': 'SC181Q02JA'}),\n",
       " Document(page_content='Other types of math lessons offered: Without differentiation depending on the prior achievement level of the students', metadata={'year': 2022, 'original_col_name': 'SC181Q03JA'}),\n",
       " Document(page_content='Applies to your school? The school has a policy on how to use [digital devices] in mathematics instruction (e.g. amount of computer use in mathematics lessons, use of specific mathematics computer programs).', metadata={'year': 2022, 'original_col_name': 'SC189Q02WA'}),\n",
       " Document(page_content='Applies to your school? All [national modal grade for 15-year-olds] mathematics classes in the school use the same textbook.', metadata={'year': 2022, 'original_col_name': 'SC189Q03WA'}),\n",
       " Document(page_content='Applies to your school? Mathematics teachers in the school follow a standardised curriculum that specifies content at least on a monthly basis.', metadata={'year': 2022, 'original_col_name': 'SC189Q04WA'}),\n",
       " Document(page_content='Applies to your school? The school has a specific policy to encourage the teaching and learning of [social and emotional skills].', metadata={'year': 2022, 'original_col_name': 'SC189Q01JA'}),\n",
       " Document(page_content='Applies to your school? There is a mission statement describing the [social and emotional skills] we aim to foster in our school.', metadata={'year': 2022, 'original_col_name': 'SC189Q05JA'}),\n",
       " Document(page_content=\"Applies to your school? Teachers are asked to evaluate students' [social and emotional skills] as a part of their grading.\", metadata={'year': 2022, 'original_col_name': 'SC189Q06JA'}),\n",
       " Document(page_content='Does your school offer career guidance to students in <national modal grade for 15-year-olds>?', metadata={'year': 2022, 'original_col_name': 'SC169Q01JA'}),\n",
       " Document(page_content='Which statements best describe the situation for [national modal grade for 15-year-olds] students at your school?', metadata={'year': 2022, 'original_col_name': 'SC210Q01JA'}),\n",
       " Document(page_content='Who has main responsibility for career guidance for [national modal grade for 15-year-olds] students at your school?', metadata={'year': 2022, 'original_col_name': 'SC170Q01JA'}),\n",
       " Document(page_content='Does school offer this info to [national modal grade for 15-year-olds] students: Information about internships', metadata={'year': 2022, 'original_col_name': 'SC171Q01JA'}),\n",
       " Document(page_content='Does school offer this info to [national modal grade for 15-year-olds] students: Information about future careers', metadata={'year': 2022, 'original_col_name': 'SC171Q02JA'}),\n",
       " Document(page_content='Does school offer this info to [national modal grade for 15-year-olds] students: Information about future educational opportunities', metadata={'year': 2022, 'original_col_name': 'SC171Q03JA'}),\n",
       " Document(page_content='Does school offer this info to [national modal grade for 15-year-olds] students: Information about student financing (e.g. student loans or grants)', metadata={'year': 2022, 'original_col_name': 'SC171Q04JA'}),\n",
       " Document(page_content='Agree/disagree: Creativity can be trained.', metadata={'year': 2022, 'original_col_name': 'SC204Q01JA'}),\n",
       " Document(page_content='Agree/disagree: People can be creative if they keep trying.', metadata={'year': 2022, 'original_col_name': 'SC204Q02JA'}),\n",
       " Document(page_content='Agree/disagree: There are many different ways to be creative.', metadata={'year': 2022, 'original_col_name': 'SC204Q05JA'}),\n",
       " Document(page_content='Agree/disagree: It is possible to be creative in nearly any subject.', metadata={'year': 2022, 'original_col_name': 'SC204Q06JA'}),\n",
       " Document(page_content='Agree/disagree: Teachers in our school give students enough time to come up with creative solutions on assignments.', metadata={'year': 2022, 'original_col_name': 'SC205Q01JA'}),\n",
       " Document(page_content=\"Agree/disagree: Teachers in our school value students' creativity.\", metadata={'year': 2022, 'original_col_name': 'SC205Q02JA'}),\n",
       " Document(page_content='Agree/disagree: Class activities in our school help students think about new ways to solve complex tasks.', metadata={'year': 2022, 'original_col_name': 'SC205Q03JA'}),\n",
       " Document(page_content='Agree/disagree: Mathematics assignments at our school require students to come up with different solutions for a complex task.', metadata={'year': 2022, 'original_col_name': 'SC205Q05JA'}),\n",
       " Document(page_content='Agree/disagree: Teachers in our school encourage students to come up with original answers.', metadata={'year': 2022, 'original_col_name': 'SC205Q06JA'}),\n",
       " Document(page_content='Agree/disagree: At our school, students are given a chance to express their ideas.', metadata={'year': 2022, 'original_col_name': 'SC205Q07JA'}),\n",
       " Document(page_content='Is this offered at your school, and how often offered: Art classes/activities (e.g. painting, drawing)', metadata={'year': 2022, 'original_col_name': 'SC207Q01JA'}),\n",
       " Document(page_content='Is this offered at your school, and how often offered: Creative writing classes/activities', metadata={'year': 2022, 'original_col_name': 'SC207Q02JA'}),\n",
       " Document(page_content='Is this offered at your school, and how often offered: Music classes/activities (e.g. chorus, band)', metadata={'year': 2022, 'original_col_name': 'SC207Q03JA'}),\n",
       " Document(page_content='Is this offered at your school, and how often offered: Debate [club]', metadata={'year': 2022, 'original_col_name': 'SC207Q04JA'}),\n",
       " Document(page_content='Is this offered at your school, and how often offered: Dramatics, theatre class/activities', metadata={'year': 2022, 'original_col_name': 'SC207Q05JA'}),\n",
       " Document(page_content='Is this offered at your school, and how often offered: Publications (e.g. newspaper, [yearbooks], literary magazine)', metadata={'year': 2022, 'original_col_name': 'SC207Q06JA'}),\n",
       " Document(page_content='Is this offered at your school, and how often offered: Science [club]', metadata={'year': 2022, 'original_col_name': 'SC207Q07JA'}),\n",
       " Document(page_content='Is this offered at your school, and how often offered: Computer programming classes/activities', metadata={'year': 2022, 'original_col_name': 'SC207Q08JA'}),\n",
       " Document(page_content='Agree/disagree: Most students at my school are creative.', metadata={'year': 2022, 'original_col_name': 'SC208Q01JA'}),\n",
       " Document(page_content='Agree/disagree: Most students at my school enjoy doing creative projects.', metadata={'year': 2022, 'original_col_name': 'SC208Q02JA'}),\n",
       " Document(page_content='Agree/disagree: Most students at my school perform well when given the freedom to be creative.', metadata={'year': 2022, 'original_col_name': 'SC208Q03JA'}),\n",
       " Document(page_content='Agree/disagree: Most students at my school enjoy work that is challenging.', metadata={'year': 2022, 'original_col_name': 'SC208Q04JA'}),\n",
       " Document(page_content='Agree/disagree: Most students at my school enjoy learning new things.', metadata={'year': 2022, 'original_col_name': 'SC208Q05JA'}),\n",
       " Document(page_content='Agree/disagree: Most students at my school perform well when given complex problems to solve.', metadata={'year': 2022, 'original_col_name': 'SC208Q06JA'}),\n",
       " Document(page_content='Agree/disagree: Most students at my school are artistic.', metadata={'year': 2022, 'original_col_name': 'SC208Q07JA'}),\n",
       " Document(page_content='Agree/disagree: Most students at my school are imaginative.', metadata={'year': 2022, 'original_col_name': 'SC208Q08JA'}),\n",
       " Document(page_content='Agree/disagree: Most students at my school are able to think of many new ideas.', metadata={'year': 2022, 'original_col_name': 'SC208Q09JA'}),\n",
       " Document(page_content='In last 3 yrs, how many school days was school closed due to: Number of school days closed because of COVID-19:', metadata={'year': 2022, 'original_col_name': 'SC213Q01JA'}),\n",
       " Document(page_content='In last 3 yrs, how many school days was school closed due to: Number of school days closed for another reason (e.g. a natural disaster, strikes or demonstrations, air pollution):', metadata={'year': 2022, 'original_col_name': 'SC213Q02JA'}),\n",
       " Document(page_content='During COVID closures, instruction organized: Classes were taught remotely using digital devices.', metadata={'year': 2022, 'original_col_name': 'SC214Q01JA'}),\n",
       " Document(page_content='During COVID closures, instruction organized: Students were asked to complete classes on their own based on materials distributed to them.', metadata={'year': 2022, 'original_col_name': 'SC214Q02JA'}),\n",
       " Document(page_content='During COVID closures, instruction organized: Classes were cancelled and not replaced by remote instruction.', metadata={'year': 2022, 'original_col_name': 'SC214Q03JA'}),\n",
       " Document(page_content='During COVID closures, did school offer students: Paper textbooks, workbooks, or worksheets', metadata={'year': 2022, 'original_col_name': 'SC215Q01JA'}),\n",
       " Document(page_content='During COVID closures, did school offer students: Digital textbooks, workbooks, or worksheets', metadata={'year': 2022, 'original_col_name': 'SC215Q02JA'}),\n",
       " Document(page_content='During COVID closures, did school offer students: Real-time lessons by a teacher from my school on a video communication program (e.g. [ZoomTM], [SkypeTM], [Google® MeetTM], [Microsoft® Teams])', metadata={'year': 2022, 'original_col_name': 'SC215Q03JA'}),\n",
       " Document(page_content='During COVID closures, did school offer students: Recorded lessons or other digital material created by teachers from my school', metadata={'year': 2022, 'original_col_name': 'SC215Q04JA'}),\n",
       " Document(page_content='During COVID closures, did school offer students: Recorded lessons or other digital material created by others outside of school', metadata={'year': 2022, 'original_col_name': 'SC215Q05JA'}),\n",
       " Document(page_content='During COVID closures, did school offer students: Additional instructional resources for students with special learning needs', metadata={'year': 2022, 'original_col_name': 'SC215Q06JA'}),\n",
       " Document(page_content='During COVID closures, did school offer students: Additional instructional resources for students whose [heritage language] is different from [test language]', metadata={'year': 2022, 'original_col_name': 'SC215Q07JA'}),\n",
       " Document(page_content='During COVID closures, did school offer students: Lessons broadcast over television or radio', metadata={'year': 2022, 'original_col_name': 'SC215Q08JA'}),\n",
       " Document(page_content='During COVID closures, remote instruction hindered by: Lack of access to digital devices among students', metadata={'year': 2022, 'original_col_name': 'SC216Q01JA'}),\n",
       " Document(page_content='During COVID closures, remote instruction hindered by: Lack of access to digital devices among teachers', metadata={'year': 2022, 'original_col_name': 'SC216Q02JA'}),\n",
       " Document(page_content='During COVID closures, remote instruction hindered by: Lack of access to the Internet among students', metadata={'year': 2022, 'original_col_name': 'SC216Q03JA'}),\n",
       " Document(page_content='During COVID closures, remote instruction hindered by: Lack of access to the Internet among teachers', metadata={'year': 2022, 'original_col_name': 'SC216Q04JA'}),\n",
       " Document(page_content='During COVID closures, remote instruction hindered by: Lack of learning management systems or school learning platforms (e.g. [Blackboard®], [Edmodo®], [Moodle®], [Google® Classroom™])', metadata={'year': 2022, 'original_col_name': 'SC216Q05JA'}),\n",
       " Document(page_content='During COVID closures, remote instruction hindered by: Lack of educational materials for distance learning (e.g. textbooks, workbooks, worksheets, instructional videos)', metadata={'year': 2022, 'original_col_name': 'SC216Q06JA'}),\n",
       " Document(page_content='During COVID closures, remote instruction hindered by: Difficulty getting in touch with students while school buildings were closed', metadata={'year': 2022, 'original_col_name': 'SC216Q07JA'}),\n",
       " Document(page_content='During COVID closures, remote instruction hindered by: Shortage of teachers available to provide remote instruction', metadata={'year': 2022, 'original_col_name': 'SC216Q08JA'}),\n",
       " Document(page_content='During COVID closures, remote instruction hindered by: Lack of experience in providing remote instruction among teachers', metadata={'year': 2022, 'original_col_name': 'SC216Q09JA'}),\n",
       " Document(page_content='During COVID closures, were teachers asked to: Communicate with students through written notes or letters', metadata={'year': 2022, 'original_col_name': 'SC217Q01JA'}),\n",
       " Document(page_content='During COVID closures, were teachers asked to: Communicate with students through email', metadata={'year': 2022, 'original_col_name': 'SC217Q02JA'}),\n",
       " Document(page_content='During COVID closures, were teachers asked to: Conduct virtual office hours or meetings with students', metadata={'year': 2022, 'original_col_name': 'SC217Q03JA'}),\n",
       " Document(page_content=\"During COVID closures, were teachers asked to: Answer students' questions over the phone\", metadata={'year': 2022, 'original_col_name': 'SC217Q04JA'}),\n",
       " Document(page_content='During COVID closures, were teachers asked to: Initiate calls to students (e.g. phone, Skype™)', metadata={'year': 2022, 'original_col_name': 'SC217Q05JA'}),\n",
       " Document(page_content=\"During COVID closures, were teachers asked to: Ask parents or guardians for their help with their child's distance learning\", metadata={'year': 2022, 'original_col_name': 'SC217Q06JA'}),\n",
       " Document(page_content=\"During COVID closures, were teachers asked to:  Initiate communications (e.g. email, phone, [SkypeTM]) with parents or guardians about their child's progress\", metadata={'year': 2022, 'original_col_name': 'SC217Q07JA'}),\n",
       " Document(page_content='During COVID closures, were teachers asked to: Provide information to parents or guardians about how to help their child with school work', metadata={'year': 2022, 'original_col_name': 'SC217Q08JA'}),\n",
       " Document(page_content=\"During COVID closures, were teachers asked to: Keep track of students' completion of distance learning assignments\", metadata={'year': 2022, 'original_col_name': 'SC217Q10JA'}),\n",
       " Document(page_content=\"During COVID closures, did the school keep track of students' attendance in distance learning activities?\", metadata={'year': 2022, 'original_col_name': 'SC218Q01JA'}),\n",
       " Document(page_content='During COVID closures, approximately what percentage of students attended distance learning activities in a typical week?', metadata={'year': 2022, 'original_col_name': 'SC219Q01JA'}),\n",
       " Document(page_content='During COVID closures, approximately what percentage of students did not attend any distance learning activities?', metadata={'year': 2022, 'original_col_name': 'SC220Q01JA'}),\n",
       " Document(page_content=\"During COVID closures, resources for teachers' remote instruction: Regular meetings with other teachers and staff\", metadata={'year': 2022, 'original_col_name': 'SC221Q01JA'}),\n",
       " Document(page_content=\"During COVID closures, resources for teachers' remote instruction: Online platforms and tools for self-directed or collaborative learning (e.g. online forums, discussion boards, professional communities)\", metadata={'year': 2022, 'original_col_name': 'SC221Q02JA'}),\n",
       " Document(page_content=\"During COVID closures, resources for teachers' remote instruction: Tools that help teachers develop remote instruction plans (e.g. digital lesson planners, compiled resources and guides offered by organisations)\", metadata={'year': 2022, 'original_col_name': 'SC221Q03JA'}),\n",
       " Document(page_content=\"During COVID closures, resources for teachers' remote instruction: Professional development activities focused on how to provide remote instruction\", metadata={'year': 2022, 'original_col_name': 'SC221Q04JA'}),\n",
       " Document(page_content='During COVID closures, extent you felt these groups supported your school:  A national educational authority', metadata={'year': 2022, 'original_col_name': 'SC222Q01JA'}),\n",
       " Document(page_content='During COVID closures, extent you felt these groups supported your school:  A regional educational authority', metadata={'year': 2022, 'original_col_name': 'SC222Q02JA'}),\n",
       " Document(page_content='During COVID closures, extent you felt these groups supported your school:  A local educational authority', metadata={'year': 2022, 'original_col_name': 'SC222Q03JA'}),\n",
       " Document(page_content=\"During COVID closures, extent you felt these groups supported your school:  Students' parents or guardians\", metadata={'year': 2022, 'original_col_name': 'SC222Q04JA'}),\n",
       " Document(page_content='During COVID closures, extent you felt these groups supported your school:  Private donors', metadata={'year': 2022, 'original_col_name': 'SC222Q05JA'}),\n",
       " Document(page_content='School prepare by? Training teaching staff on the use of video communication programs (e.g. Zoom™, Skype™, Google® Meet™, Microsoft® Teams) for remote instruction', metadata={'year': 2022, 'original_col_name': 'SC223Q01JA'}),\n",
       " Document(page_content='School prepare by? Training students on the use of video communication programs (e.g. Zoom™, Skype™, Google® Meet™, Microsoft® Teams) for remote instruction', metadata={'year': 2022, 'original_col_name': 'SC223Q02JA'}),\n",
       " Document(page_content='School prepare by? Preparing digital material for remote instruction (e.g. reorganising existing resources, designing new resources)', metadata={'year': 2022, 'original_col_name': 'SC223Q03JA'}),\n",
       " Document(page_content='School prepare by? Preparing paper-based material for remote instruction (e.g. reorganising existing resources, designing new resources)', metadata={'year': 2022, 'original_col_name': 'SC223Q04JA'}),\n",
       " Document(page_content='School prepare by? Adapting existing curriculum plans for remote instruction (e.g. modifying course requirements, sequence of lessons, grading policies)', metadata={'year': 2022, 'original_col_name': 'SC223Q05JA'}),\n",
       " Document(page_content='School prepare by? Preparing digital materials for assessing student learning via online assessment (e.g. quizzes, tests)', metadata={'year': 2022, 'original_col_name': 'SC223Q06JA'}),\n",
       " Document(page_content=\"School prepare by? Compiling instructional resources for parents or guardians to support their child's learning outside the school\", metadata={'year': 2022, 'original_col_name': 'SC223Q07JA'}),\n",
       " Document(page_content='School prepare by? Ensuring that students have access to digital devices for remote instruction', metadata={'year': 2022, 'original_col_name': 'SC223Q08JA'}),\n",
       " Document(page_content='School prepare by? Ensuring that teaching staff have access to digital resources for remote instruction', metadata={'year': 2022, 'original_col_name': 'SC223Q09JA'}),\n",
       " Document(page_content='School prepare by? Preparing a plan for transitioning students and teachers from classroom-based instruction to remote instruction', metadata={'year': 2022, 'original_col_name': 'SC223Q10JA'}),\n",
       " Document(page_content='Agree/disagree: Teachers have the necessary technical and pedagogical skills to integrate digital devices in instruction.', metadata={'year': 2022, 'original_col_name': 'SC155Q06HA'}),\n",
       " Document(page_content='Agree/disagree: Teachers have sufficient time to prepare lessons integrating digital devices.', metadata={'year': 2022, 'original_col_name': 'SC155Q07HA'}),\n",
       " Document(page_content='Agree/disagree: Effective professional resources for teachers to learn how to use digital devices are available.', metadata={'year': 2022, 'original_col_name': 'SC155Q08HA'}),\n",
       " Document(page_content='Agree/disagree: An effective online learning support platform is available.', metadata={'year': 2022, 'original_col_name': 'SC155Q09HA'}),\n",
       " Document(page_content='Agree/disagree: Teachers are provided with incentives to integrate digital devices in their teaching.', metadata={'year': 2022, 'original_col_name': 'SC155Q10HA'}),\n",
       " Document(page_content='Agree/disagree: The school has sufficient qualified technical assistant staff.', metadata={'year': 2022, 'original_col_name': 'SC155Q11HA'}),\n",
       " Document(page_content='How prepared is your school to provide remote instruction if closed to students for an extended period in the future?', metadata={'year': 2022, 'original_col_name': 'SC224Q01JA'}),\n",
       " Document(page_content='Have you: I have spoken to teachers at my school about the importance of the PISA test.', metadata={'year': 2022, 'original_col_name': 'SC209Q04JA'}),\n",
       " Document(page_content='Have you: I have spoken to parents or guardians about the importance of the PISA test.', metadata={'year': 2022, 'original_col_name': 'SC209Q05JA'}),\n",
       " Document(page_content='Have you: I have encouraged the students at my school to do their best during the PISA test.', metadata={'year': 2022, 'original_col_name': 'SC209Q06JA'}),\n",
       " Document(page_content='School type derived from sampling information; values = public, private, missing', metadata={'year': 2022, 'original_col_name': 'PRIVATESCH'}),\n",
       " Document(page_content='School type', metadata={'year': 2022, 'original_col_name': 'SCHLTYPE'}),\n",
       " Document(page_content='School size (Sum)', metadata={'year': 2022, 'original_col_name': 'SCHSIZE'}),\n",
       " Document(page_content='Total number of all teachers at school (Sum)', metadata={'year': 2022, 'original_col_name': 'TOTAT'}),\n",
       " Document(page_content='Proportion of all teachers fully certified', metadata={'year': 2022, 'original_col_name': 'PROATCE'}),\n",
       " Document(page_content='Proportion of all teachers with at least ISCED level 6 Bachelor qualification', metadata={'year': 2022, 'original_col_name': 'PROPAT6'}),\n",
       " Document(page_content='Proportion of all teachers with at least ISCED level 7 Master qualification', metadata={'year': 2022, 'original_col_name': 'PROPAT7'}),\n",
       " Document(page_content='Proportion of all teachers with ISCED level 8 Doctoral qualification', metadata={'year': 2022, 'original_col_name': 'PROPAT8'}),\n",
       " Document(page_content='Student-teacher ratio', metadata={'year': 2022, 'original_col_name': 'STRATIO'}),\n",
       " Document(page_content='Total number of mathematics teachers at school (Sum)', metadata={'year': 2022, 'original_col_name': 'TOTMATH'}),\n",
       " Document(page_content='Proportion of mathematics teachers at school', metadata={'year': 2022, 'original_col_name': 'PROPMATH'}),\n",
       " Document(page_content='Student-mathematics teacher ratio', metadata={'year': 2022, 'original_col_name': 'SMRATIO'}),\n",
       " Document(page_content='Total number of non-teaching staff at school', metadata={'year': 2022, 'original_col_name': 'TOTSTAFF'}),\n",
       " Document(page_content='Proportion of personnel for pedagogical support', metadata={'year': 2022, 'original_col_name': 'PROPSUPP'}),\n",
       " Document(page_content='Proportion of school administrative personnel', metadata={'year': 2022, 'original_col_name': 'PROADMIN'}),\n",
       " Document(page_content='Proportion of school management personnel', metadata={'year': 2022, 'original_col_name': 'PROMGMT'}),\n",
       " Document(page_content='Proportion of other non-teaching staff', metadata={'year': 2022, 'original_col_name': 'PROOSTAF'}),\n",
       " Document(page_content='School selectivity', metadata={'year': 2022, 'original_col_name': 'SCHSEL'}),\n",
       " Document(page_content='School autonomy (WLE)', metadata={'year': 2022, 'original_col_name': 'SCHAUTO'}),\n",
       " Document(page_content='Teacher participation (WLE)', metadata={'year': 2022, 'original_col_name': 'TCHPART'}),\n",
       " Document(page_content='School responsibility for curriculum', metadata={'year': 2022, 'original_col_name': 'SRESPCUR'}),\n",
       " Document(page_content='School responsibility for resources', metadata={'year': 2022, 'original_col_name': 'SRESPRES'}),\n",
       " Document(page_content='Educational leadership (WLE)', metadata={'year': 2022, 'original_col_name': 'EDULEAD'}),\n",
       " Document(page_content='Instructional leadership (WLE)', metadata={'year': 2022, 'original_col_name': 'INSTLEAD'}),\n",
       " Document(page_content='School encouragement of parent or guardian involvement (WLE)', metadata={'year': 2022, 'original_col_name': 'ENCOURPG'}),\n",
       " Document(page_content='Availability of computers', metadata={'year': 2022, 'original_col_name': 'RATCMP1'}),\n",
       " Document(page_content='Computers connected to the Internet', metadata={'year': 2022, 'original_col_name': 'RATCMP2'}),\n",
       " Document(page_content='Availability of tablet devices', metadata={'year': 2022, 'original_col_name': 'RATTAB'}),\n",
       " Document(page_content='Digital device policies at school (WLE)', metadata={'year': 2022, 'original_col_name': 'DIGDVPOL'}),\n",
       " Document(page_content='Feedback to teachers (WLE)', metadata={'year': 2022, 'original_col_name': 'TEAFDBK'}),\n",
       " Document(page_content='Mathematics teacher training (WLE)', metadata={'year': 2022, 'original_col_name': 'MTTRAIN'}),\n",
       " Document(page_content='School diversity and multi-cultural views (WLE)', metadata={'year': 2022, 'original_col_name': 'DMCVIEWS'}),\n",
       " Document(page_content='Negative school climate (WLE)', metadata={'year': 2022, 'original_col_name': 'NEGSCLIM'}),\n",
       " Document(page_content='Shortage of educational staff (WLE)', metadata={'year': 2022, 'original_col_name': 'STAFFSHORT'}),\n",
       " Document(page_content='Shortage of educational material (WLE)', metadata={'year': 2022, 'original_col_name': 'EDUSHORT'}),\n",
       " Document(page_content='Student-related factors affecting school climate (WLE)', metadata={'year': 2022, 'original_col_name': 'STUBEHA'}),\n",
       " Document(page_content='Teacher-related factors affecting school climate (WLE)', metadata={'year': 2022, 'original_col_name': 'TEACHBEHA'}),\n",
       " Document(page_content='Math class size', metadata={'year': 2022, 'original_col_name': 'MCLSIZE'}),\n",
       " Document(page_content='Class size (test language class)', metadata={'year': 2022, 'original_col_name': 'CLSIZE'}),\n",
       " Document(page_content='Use of standardized tests (WLE)', metadata={'year': 2022, 'original_col_name': 'STDTEST'}),\n",
       " Document(page_content='Use of teacher-developed tests (WLE)', metadata={'year': 2022, 'original_col_name': 'TDTEST'}),\n",
       " Document(page_content='Creative extra-curricular activities (3 activities)', metadata={'year': 2022, 'original_col_name': 'CREACTIV'}),\n",
       " Document(page_content='Extra-curricular activities offered (all) (WLE)', metadata={'year': 2022, 'original_col_name': 'ALLACTIV'}),\n",
       " Document(page_content='Mathematics-related extra-curricular activities at school', metadata={'year': 2022, 'original_col_name': 'MACTIV'}),\n",
       " Document(page_content='Mathematics extension courses offered at school', metadata={'year': 2022, 'original_col_name': 'MATHEXC'}),\n",
       " Document(page_content='Ability grouping for mathematics classes', metadata={'year': 2022, 'original_col_name': 'ABGMATH'}),\n",
       " Document(page_content='Beliefs about creativity (WLE)', metadata={'year': 2022, 'original_col_name': 'BCREATSC'}),\n",
       " Document(page_content='Creative school environment (WLE)', metadata={'year': 2022, 'original_col_name': 'CREENVSC'}),\n",
       " Document(page_content='Creative school activities offered (WLE)', metadata={'year': 2022, 'original_col_name': 'ACTCRESC'}),\n",
       " Document(page_content='Openness culture/climate (WLE)', metadata={'year': 2022, 'original_col_name': 'OPENCUL'}),\n",
       " Document(page_content='School Closure Support from Education Authorities', metadata={'year': 2022, 'original_col_name': 'SCSUPRTED'}),\n",
       " Document(page_content='School Closure Support from Other Sources', metadata={'year': 2022, 'original_col_name': 'SCSUPRT'}),\n",
       " Document(page_content='Problems with\\xa0Schools’\\xa0Capacity to\\xa0Provide\\xa0Remote\\xa0Instruction\\xa0(WLE)', metadata={'year': 2022, 'original_col_name': 'PROBSCRI'}),\n",
       " Document(page_content='School\\xa0Preparation for Remote Instruction, Before Pandemic\\xa0(WLE)', metadata={'year': 2022, 'original_col_name': 'SCPREPBP'}),\n",
       " Document(page_content='School\\xa0Preparation for Remote Instruction, In Response to Pandemic\\xa0(WLE)', metadata={'year': 2022, 'original_col_name': 'SCPREPAP'}),\n",
       " Document(page_content='Preparedness for\\xa0Digital\\xa0Learning (WLE)', metadata={'year': 2022, 'original_col_name': 'DIGPREP'}),\n",
       " Document(page_content='GRADE NONRESPONSE ADJUSTED SCHOOL BASE WEIGHT', metadata={'year': 2022, 'original_col_name': 'W_SCHGRNRABWT'}),\n",
       " Document(page_content='Sum of W_FSTUWT', metadata={'year': 2022, 'original_col_name': 'W_FSTUWT_SCH_SUM'}),\n",
       " Document(page_content='N of W_FSTUWT', metadata={'year': 2022, 'original_col_name': 'W_FSTUWT_SCH_N'}),\n",
       " Document(page_content='Senate Weight (sum of 5000 per country)', metadata={'year': 2022, 'original_col_name': 'SENWT'}),\n",
       " Document(page_content='Date of the database creation', metadata={'year': 2022, 'original_col_name': 'VER_DAT'})]"
      ]
     },
     "execution_count": 6,
     "metadata": {},
     "output_type": "execute_result"
    }
   ],
   "source": [
    "cols"
   ]
  },
  {
   "cell_type": "code",
   "execution_count": 7,
   "id": "3f407ec6-0254-47a5-9f66-a944b00e9db5",
   "metadata": {},
   "outputs": [],
   "source": [
    "cols_retriever = cols_vectorstore.as_retriever()"
   ]
  },
  {
   "cell_type": "code",
   "execution_count": 8,
   "id": "ddb1fd9a-cb1e-4848-bcf0-86c16c856fab",
   "metadata": {},
   "outputs": [],
   "source": [
    "from langchain_openai import ChatOpenAI\n",
    "\n",
    "llm = ChatOpenAI(temperature=0)"
   ]
  },
  {
   "cell_type": "code",
   "execution_count": 9,
   "id": "214278d8-80cc-40cc-b7af-e7f4647e0228",
   "metadata": {},
   "outputs": [],
   "source": [
    "def extract_column_name_hints(question):\n",
    "    prompt1 = f\"Please list the typical database column fields, that required to answer the following question: {question}\"\n",
    "    relevant_col_list_msg = llm.invoke(prompt1)\n",
    "    relevant_col_list = relevant_col_list_msg.content\n",
    "    return relevant_col_list"
   ]
  },
  {
   "cell_type": "code",
   "execution_count": 10,
   "id": "2a36f8f1-225b-4927-a52c-263544dc0ede",
   "metadata": {},
   "outputs": [],
   "source": [
    "from langchain_community.document_transformers import EmbeddingsRedundantFilter\n",
    "\n",
    "def match_column_names(hints_text, retriever):\n",
    "    filter = EmbeddingsRedundantFilter(embeddings=OpenAIEmbeddings())\n",
    "    res = []\n",
    "    hints = hints_text.split('\\n')\n",
    "    for hint in hints:\n",
    "        rel_col_docs = cols_retriever.invoke(hint)    \n",
    "        rel_col_docs = filter.transform_documents(rel_col_docs)\n",
    "        res = res+rel_col_docs\n",
    "    return res\n",
    "\n",
    "def docs2explanation(docs, meta):\n",
    "    t = ''\n",
    "    for idx, doc in enumerate(docs):\n",
    "        col_name = doc.metadata['original_col_name']\n",
    "        if meta.variable_measure[col_name] != 'unknown':\n",
    "            scale = meta.variable_measure[col_name]            \n",
    "            if scale == 'scale':\n",
    "                scale = 'interval'                \n",
    "            measure = ' A ' + meta.readstat_variable_types[col_name] + ' variable with ' +scale  + ' scale measure.'\n",
    "        else:\n",
    "            measure = ''\n",
    "        t =  t + str(idx+1)+ '. ' + col_name + \" : \" + doc.page_content +'.' + measure +'\\n'\n",
    "    t = t + ''\n",
    "    return t"
   ]
  },
  {
   "cell_type": "code",
   "execution_count": 11,
   "id": "bec4b31f-4459-4b76-8e55-35279009bb77",
   "metadata": {},
   "outputs": [],
   "source": [
    "def gen_code(question, rel_col_docs, meta_sch):\n",
    "    data_explanation = docs2explanation(rel_col_docs, meta_sch)\n",
    "    columns = [i.metadata['original_col_name'] for i in rel_col_docs]\n",
    "    prompt2 = f\"Given a dataframe with the following columns {columns}, column meaning: {data_explanation}, can you generate a python code, without sample data, which can answer the following question? the code must contain only one function called 'run', that returns an exact number. \\nQuestion: {question}\"\n",
    "    res = llm.invoke(prompt2)\n",
    "    code = res.content.replace('```python','').replace('```','')\n",
    "    return code\n",
    "\n",
    "def exec_code(code, df):    \n",
    "    loc = {}\n",
    "    exec(code + \"\\nr = run(df)\\n\", {'df':df}, loc)\n",
    "    return loc['r']\n"
   ]
  },
  {
   "cell_type": "code",
   "execution_count": 12,
   "id": "98556a02-10ef-4402-8bbd-74fc4724a8bc",
   "metadata": {},
   "outputs": [],
   "source": [
    "def pipeline(question, df, meta, col_retriever):\n",
    "    col_hints = extract_column_name_hints(question)\n",
    "    print(col_hints)\n",
    "    rel_col_docs = match_column_names(col_hints, col_retriever)    \n",
    "    print([i.page_content for i in rel_col_docs])\n",
    "    code =  gen_code(question, rel_col_docs, meta_sch)    \n",
    "    print(code)\n",
    "    res = exec_code(code, df)    \n",
    "    return res"
   ]
  },
  {
   "cell_type": "code",
   "execution_count": 12,
   "id": "3c056281-b8b0-43bc-b5b2-f08e0ec8476b",
   "metadata": {},
   "outputs": [
    {
     "name": "stdout",
     "output_type": "stream",
     "text": [
      "1. Respondent ID\n",
      "2. Language field\n",
      "3. Date and time of questionnaire completion\n",
      "['Mode of Respondent', 'Intl. School ID', 'Language of Questionnaire', 'Stratum ID 5-character (cnt + original stratum ID)', 'Language of Questionnaire', 'Class size (test language class)', 'How many foreign languages are being taught at your school <this academic year>?', 'Percentage [15-year-old modal grade] students who: Students whose [heritage language] is different from [test language]', 'Language of Questionnaire', 'Date of the database creation', 'Mode of Respondent', '<This academic year>,follow. activities/school offers<national modal grade for 15-year-olds>? <country specific item>']\n",
      "\n",
      "import pandas as pd\n",
      "\n",
      "def run(df):\n",
      "    num_languages = df['LANGTEST_QQQ'].nunique()\n",
      "    return num_languages\n",
      "\n"
     ]
    },
    {
     "data": {
      "text/plain": [
       "54"
      ]
     },
     "execution_count": 12,
     "metadata": {},
     "output_type": "execute_result"
    }
   ],
   "source": [
    "pipeline('in how many languages ​​was the questionnaire filled out?', df_sch, meta_sch, cols_retriever)"
   ]
  },
  {
   "cell_type": "code",
   "execution_count": 13,
   "id": "d54b0786-c623-41ab-9380-c0ea38a9de49",
   "metadata": {},
   "outputs": [
    {
     "name": "stdout",
     "output_type": "stream",
     "text": [
      "1. Country\n",
      "2. School\n",
      "3. Number of teachers\n",
      "4. Number of students\n",
      "['REGION', 'OECD country', 'Senate Weight (sum of 5000 per country)', 'Country code 3-character', 'School type', 'School size (Sum)', 'School selectivity', 'Is your school a public or a private school?', 'Proportion of mathematics teachers at school', 'Student-teacher ratio', 'Total number of non-teaching staff at school', 'Student-mathematics teacher ratio', 'Student-teacher ratio', 'School size (Sum)', 'Student-mathematics teacher ratio', 'Total number of mathematics teachers at school (Sum)']\n",
      "\n",
      "import pandas as pd\n",
      "\n",
      "def run(data):\n",
      "    hungary_data = data[data['CNT'] == 'HUN']\n",
      "    avg_teacher_student_ratio = hungary_data['STRATIO'].mean()\n",
      "    \n",
      "    return avg_teacher_student_ratio\n",
      "\n"
     ]
    },
    {
     "data": {
      "text/plain": [
       "10.829131944444445"
      ]
     },
     "execution_count": 13,
     "metadata": {},
     "output_type": "execute_result"
    }
   ],
   "source": [
    "pipeline('What is Hungary average teacher-student ratio?', df_sch, meta_sch, cols_retriever)"
   ]
  },
  {
   "cell_type": "code",
   "execution_count": 14,
   "id": "9d8ea7f3-dfc5-4818-95b8-f0345bd78f35",
   "metadata": {},
   "outputs": [
    {
     "name": "stdout",
     "output_type": "stream",
     "text": [
      "1. Country\n",
      "2. Teacher-student ratio\n",
      "3. OECD average\n",
      "['REGION', 'OECD country', 'Senate Weight (sum of 5000 per country)', 'Country code 3-character', 'Student-teacher ratio', 'Student-mathematics teacher ratio', 'Proportion of mathematics teachers at school', 'Proportion of school management personnel', 'OECD country', 'Proportion of all teachers with ISCED level 8 Doctoral qualification', 'Proportion of all teachers with at least ISCED level 6 Bachelor qualification']\n",
      "\n",
      "import pandas as pd\n",
      "\n",
      "def run(data):\n",
      "    oecd_avg_stratio = data[data['OECD'] == 1]['STRATIO'].mean()\n",
      "    return oecd_avg_stratio\n",
      "\n"
     ]
    },
    {
     "data": {
      "text/plain": [
       "12.551608245736977"
      ]
     },
     "execution_count": 14,
     "metadata": {},
     "output_type": "execute_result"
    }
   ],
   "source": [
    "pipeline('What is OECD average teacher-student ratio?', df_sch, meta_sch, cols_retriever)"
   ]
  },
  {
   "cell_type": "code",
   "execution_count": 15,
   "id": "cf4ef9e4-1669-4856-8a88-7b91552a02c4",
   "metadata": {},
   "outputs": [
    {
     "name": "stdout",
     "output_type": "stream",
     "text": [
      "1. Country (e.g. Hungary)\n",
      "2. Teacher-student ratio in Hungary\n",
      "3. OECD average teacher-student ratio\n",
      "['OECD country', 'REGION', 'Senate Weight (sum of 5000 per country)', 'Country code 3-character', 'Student-teacher ratio', 'Student-mathematics teacher ratio', 'Proportion of mathematics teachers at school', 'Proportion of school management personnel', 'Student-teacher ratio', 'Student-mathematics teacher ratio', 'Proportion of mathematics teachers at school', 'Proportion of all teachers with at least ISCED level 7 Master qualification']\n",
      "\n",
      "import pandas as pd\n",
      "\n",
      "def run(data):\n",
      "    oecd_avg_stratio = data[data['OECD'] == 1]['STRATIO'].mean()\n",
      "    hungary_stratio = data[data['CNT'] == 'HUN']['STRATIO'].values[0]\n",
      "    \n",
      "    difference = hungary_stratio - oecd_avg_stratio\n",
      "    \n",
      "    return difference\n",
      "\n"
     ]
    },
    {
     "data": {
      "text/plain": [
       "2.883191754263022"
      ]
     },
     "execution_count": 15,
     "metadata": {},
     "output_type": "execute_result"
    }
   ],
   "source": [
    "pipeline('Where does Hungary stand compared to the OECD average in terms of teacher-student ratio? Give the difference in number.', df_sch, meta_sch, cols_retriever)"
   ]
  },
  {
   "cell_type": "code",
   "execution_count": 16,
   "id": "6d71788b-a299-401f-9df0-c287d59a3d4d",
   "metadata": {},
   "outputs": [
    {
     "name": "stdout",
     "output_type": "stream",
     "text": [
      "1. Country (e.g. Hungary)\n",
      "2. Average teacher-student ratio in Hungary\n",
      "3. OECD average teacher-student ratio\n",
      "4. Difference in number between Hungary and OECD average\n",
      "['OECD country', 'REGION', 'Senate Weight (sum of 5000 per country)', 'Country code 3-character', 'Student-teacher ratio', 'Student-mathematics teacher ratio', 'Proportion of mathematics teachers at school', 'Proportion of school management personnel', 'Student-teacher ratio', 'Student-mathematics teacher ratio', 'Proportion of mathematics teachers at school', 'Proportion of all teachers with at least ISCED level 7 Master qualification', 'OECD country', 'Proportion of mathematics teachers at school', 'Proportion of all teachers with ISCED level 8 Doctoral qualification', 'Student-mathematics teacher ratio']\n",
      "\n",
      "import pandas as pd\n",
      "\n",
      "def run(data):\n",
      "    # Filter data for Hungary\n",
      "    hungary_data = data[data['CNT'] == 'HUN']\n",
      "    \n",
      "    # Calculate average teacher-student ratio for Hungary\n",
      "    hungary_avg_ratio = (hungary_data['STRATIO'] + hungary_data['SMRATIO']) / 2\n",
      "    \n",
      "    # Calculate OECD average teacher-student ratio\n",
      "    oecd_avg_ratio = data[data['OECD'] == 1]['STRATIO'].mean()\n",
      "    \n",
      "    # Calculate the difference in number\n",
      "    difference = hungary_avg_ratio.values[0] - oecd_avg_ratio\n",
      "    \n",
      "    return difference\n",
      "\n"
     ]
    },
    {
     "data": {
      "text/plain": [
       "45.16579175426302"
      ]
     },
     "execution_count": 16,
     "metadata": {},
     "output_type": "execute_result"
    }
   ],
   "source": [
    "pipeline('Where does Hungary stand compared to the OECD average in terms of average teacher-student ratio? Give the difference in number.', df_sch, meta_sch, cols_retriever)"
   ]
  },
  {
   "cell_type": "code",
   "execution_count": 15,
   "id": "5ed94551-7fe8-4e44-b1d7-e07ed4f4db9f",
   "metadata": {},
   "outputs": [
    {
     "name": "stdout",
     "output_type": "stream",
     "text": [
      "1. Country (e.g. Hungary)\n",
      "2. Average teacher-student ratio in Hungary\n",
      "3. OECD average teacher-student ratio\n",
      "['OECD country', 'REGION', 'Senate Weight (sum of 5000 per country)', 'Country code 3-character', 'Student-teacher ratio', 'Student-mathematics teacher ratio', 'Proportion of mathematics teachers at school', 'Proportion of school management personnel', 'Student-teacher ratio', 'Student-mathematics teacher ratio', 'Proportion of mathematics teachers at school', 'Proportion of all teachers with at least ISCED level 7 Master qualification']\n",
      "def run(df):\n",
      "    hungary_avg_ratio = df[df['CNT'] == 'HUN']['STRATIO'].mean()\n",
      "    oecd_avg_ratio = df[df['OECD'] == 1]['STRATIO'].mean()\n",
      "    \n",
      "    difference = hungary_avg_ratio - oecd_avg_ratio\n",
      "    \n",
      "    return difference\n"
     ]
    },
    {
     "data": {
      "text/plain": [
       "-1.7224763012925326"
      ]
     },
     "execution_count": 15,
     "metadata": {},
     "output_type": "execute_result"
    }
   ],
   "source": [
    "pipeline('Where is average teacher-student ratio in Hungary compared to the OECD average in terms of average teacher-student ratio? Give the difference as number.', df_sch, meta_sch, cols_retriever)"
   ]
  },
  {
   "cell_type": "code",
   "execution_count": 14,
   "id": "0d9ddab0-d5cc-4638-96f2-b2a97b19a2db",
   "metadata": {},
   "outputs": [
    {
     "name": "stdout",
     "output_type": "stream",
     "text": [
      "1. Country (e.g. Hungary, OECD)\n",
      "2. Teacher count\n",
      "3. Student count\n",
      "4. Average teacher-student ratio\n",
      "['OECD country', 'REGION', 'How often students assessed by: Mandatory [standardised tests], e.g. [country specific example]', 'Student-teacher ratio', 'Total number of mathematics teachers at school (Sum)', 'Student-mathematics teacher ratio', 'Student-teacher ratio', 'School size (Sum)', 'Student-mathematics teacher ratio', 'Total number of all teachers at school (Sum)', 'Student-teacher ratio', 'Student-mathematics teacher ratio', 'Proportion of mathematics teachers at school', 'Proportion of school management personnel']\n",
      "\n",
      "import pandas as pd\n",
      "\n",
      "def run(data):\n",
      "    hungary_avg_ratio = data[data['OECD'] == 'Hungary']['STRATIO'].mean()\n",
      "    oecd_avg_ratio = data[data['OECD'] == 'OECD']['STRATIO'].mean()\n",
      "    \n",
      "    difference = hungary_avg_ratio - oecd_avg_ratio\n",
      "    \n",
      "    return difference\n",
      "\n"
     ]
    },
    {
     "data": {
      "text/plain": [
       "nan"
      ]
     },
     "execution_count": 14,
     "metadata": {},
     "output_type": "execute_result"
    }
   ],
   "source": [
    "pipeline('What is average teacher-student ratio in Hungary compared to the OECD average ? Give the difference in number.', df_sch, meta_sch, cols_retriever)"
   ]
  },
  {
   "cell_type": "code",
   "execution_count": 26,
   "id": "94514487-8a3e-4d22-a475-a54b63fb8582",
   "metadata": {},
   "outputs": [
    {
     "name": "stdout",
     "output_type": "stream",
     "text": [
      "1. Country\n",
      "2. Class size\n",
      "['REGION', 'OECD country', 'Senate Weight (sum of 5000 per country)', 'Country code 3-character', 'Math class size', 'Class size (test language class)', 'School size (Sum)', 'Student-teacher ratio']\n",
      "\n",
      "import pandas as pd\n",
      "\n",
      "def run(data):\n",
      "    max_class_size = data['CLSIZE'].max()\n",
      "    country_with_max_class_size = data.loc[data['CLSIZE'] == max_class_size, 'CNT'].values[0]\n",
      "    \n",
      "    return max_class_size, country_with_max_class_size\n",
      "\n"
     ]
    },
    {
     "data": {
      "text/plain": [
       "(53.0, 'ALB')"
      ]
     },
     "execution_count": 26,
     "metadata": {},
     "output_type": "execute_result"
    }
   ],
   "source": [
    "pipeline('Which country has the highest class sizes? How much is it? ', df_sch, meta_sch, cols_retriever)"
   ]
  },
  {
   "cell_type": "code",
   "execution_count": 27,
   "id": "17dc48d4-f2b8-49ac-afde-4dbb85b901f1",
   "metadata": {},
   "outputs": [
    {
     "name": "stdout",
     "output_type": "stream",
     "text": [
      "1. Country\n",
      "2. Class size\n",
      "['REGION', 'OECD country', 'Senate Weight (sum of 5000 per country)', 'Country code 3-character', 'Math class size', 'Class size (test language class)', 'School size (Sum)', 'Student-teacher ratio']\n",
      "\n",
      "import pandas as pd\n",
      "\n",
      "def run(data):\n",
      "    avg_class_sizes = data.groupby('CNT')['CLSIZE'].mean()\n",
      "    country_highest_avg_class_size = avg_class_sizes.idxmax()\n",
      "    highest_avg_class_size = avg_class_sizes.max()\n",
      "    \n",
      "    return highest_avg_class_size\n",
      "\n",
      "# Example usage\n",
      "# data = pd.read_csv('data.csv')\n",
      "# result = run(data)\n",
      "# print(result)\n",
      "\n"
     ]
    },
    {
     "data": {
      "text/plain": [
       "42.65"
      ]
     },
     "execution_count": 27,
     "metadata": {},
     "output_type": "execute_result"
    }
   ],
   "source": [
    "pipeline('Which country has the highest average class sizes? How much is it? ', df_sch, meta_sch, cols_retriever)"
   ]
  },
  {
   "cell_type": "code",
   "execution_count": 28,
   "id": "4bd1e0fe-9ed8-49d0-8394-af8d50fa8a33",
   "metadata": {},
   "outputs": [
    {
     "name": "stdout",
     "output_type": "stream",
     "text": [
      "1. Country\n",
      "2. Teacher student ratio\n",
      "['REGION', 'OECD country', 'Senate Weight (sum of 5000 per country)', 'Country code 3-character', 'Student-teacher ratio', 'Student-mathematics teacher ratio', 'Proportion of mathematics teachers at school', 'Proportion of school management personnel']\n",
      "\n",
      "import pandas as pd\n",
      "\n",
      "def run(data):\n",
      "    highest_avg_ratio = data.groupby('CNT')['STRATIO'].mean().max()\n",
      "    country_highest_avg_ratio = data.groupby('CNT')['STRATIO'].mean().idxmax()\n",
      "    \n",
      "    return highest_avg_ratio, country_highest_avg_ratio\n",
      "\n"
     ]
    },
    {
     "data": {
      "text/plain": [
       "(28.952087700534758, 'PHL')"
      ]
     },
     "execution_count": 28,
     "metadata": {},
     "output_type": "execute_result"
    }
   ],
   "source": [
    "pipeline('Which country has the highest average  teacher student ratio? How much is it? ', df_sch, meta_sch, cols_retriever)"
   ]
  },
  {
   "cell_type": "code",
   "execution_count": 29,
   "id": "2d7ee6b1-3059-42e8-b547-b562a13cb183",
   "metadata": {},
   "outputs": [
    {
     "name": "stdout",
     "output_type": "stream",
     "text": [
      "1. Education System Name\n",
      "2. Education System ID\n",
      "3. Location\n",
      "4. Number of Schools\n",
      "5. Number of Students\n",
      "6. Number of Teachers\n",
      "7. Number of Administrators\n",
      "8. Funding Source\n",
      "9. Curriculum Type\n",
      "10. Language of Instruction\n",
      "['School type', \"Exist at your school: Written specification of the school's curricular profile and educational goals\", 'School size (Sum)', \"Extent structures your school's math programme: Discretion of individual teachers\", 'Intl. School ID', 'School type', \"Exist at your school: Written specification of the school's curricular profile and educational goals\", 'School size (Sum)', 'REGION', 'During admission, how often consider: Residence in a particular area', 'Which of the following statements best describes the schooling available to students in your location?', 'Which of the following definitions best describes the community in which your school is located?', 'School size (Sum)', 'Total number of all teachers at school (Sum)', 'Proportion of school management personnel', 'Student-teacher ratio', 'School size (Sum)', '[Stem] At your school, what is the total number of students in the [national modal grade for 15-year-olds]?', 'Student-mathematics teacher ratio', 'Total number of non-teaching staff at school', 'Total number of all teachers at school (Sum)', 'Student-teacher ratio', 'Proportion of mathematics teachers at school', 'Proportion of school management personnel', 'Number of non-teaching staff working in school who are: School management personnel', 'Percentage of schoolyr funding comes from: Benefactors, donations, bequests, sponsorships, parent or guardian fundraising', 'Percentage of schoolyr funding comes from: Other', 'Percentage of schoolyr funding comes from: Government (includes departments, local, regional, state and national)', 'Percentage of schoolyr funding comes from: Student fees or school charges paid by parents or guardians', 'School type', 'School responsibility for curriculum', \"Extent structures your school's math programme: [Local or municipal] curriculum standards or curriculum guides\", \"Exist at your school: Written specification of the school's curricular profile and educational goals\", 'Instruction hindered by: Inadequate or poorly qualified teaching staff', 'Instruction hindered by: A lack of educational material (e.g. textbooks, IT equipment, library or laboratory material)']\n",
      "\n",
      "import pandas as pd\n",
      "\n",
      "def run(data):\n",
      "    unique_education_systems = data['CNTSCHID'].nunique()\n",
      "    return unique_education_systems\n",
      "\n"
     ]
    },
    {
     "data": {
      "text/plain": [
       "21629"
      ]
     },
     "execution_count": 29,
     "metadata": {},
     "output_type": "execute_result"
    }
   ],
   "source": [
    "pipeline('how many education systems were involved in the survey? ', df_sch, meta_sch, cols_retriever)"
   ]
  },
  {
   "cell_type": "code",
   "execution_count": 30,
   "id": "6d2fc2c3-ef48-474c-acbd-733c1b5e2063",
   "metadata": {},
   "outputs": [
    {
     "name": "stdout",
     "output_type": "stream",
     "text": [
      "1. Country Name\n",
      "2. Country Code\n",
      "['Country code 3-character', 'REGION', 'OECD country', 'National Centre 6-digit Code', 'Country code 3-character', 'National Centre 6-digit Code', 'Adjudicated sub-region code 7-digit code (3-digit country code + region ID + stratum ID)', 'REGION']\n",
      "def run(df):\n",
      "    num_countries = df['CNT'].nunique()\n",
      "    return num_countries\n"
     ]
    },
    {
     "data": {
      "text/plain": [
       "80"
      ]
     },
     "execution_count": 30,
     "metadata": {},
     "output_type": "execute_result"
    }
   ],
   "source": [
    "pipeline('how many countries were involved in the survey? ', df_sch, meta_sch, cols_retriever)"
   ]
  },
  {
   "cell_type": "code",
   "execution_count": 31,
   "id": "7b5742f5-1445-4f11-90d7-2ef6a9d5adb1",
   "metadata": {},
   "outputs": [
    {
     "name": "stdout",
     "output_type": "stream",
     "text": [
      "1. Country Name\n",
      "2. OECD Membership Status\n",
      "['Country code 3-character', 'REGION', 'OECD country', 'National Centre 6-digit Code', 'OECD country', \"During admission, how often consider: Student's working status\", 'School selectivity', 'Proportion of all teachers with ISCED level 8 Doctoral qualification']\n",
      "\n",
      "import pandas as pd\n",
      "\n",
      "def run(data):\n",
      "    num_oecd_countries = data['OECD'].nunique()\n",
      "    return num_oecd_countries\n",
      "\n"
     ]
    },
    {
     "data": {
      "text/plain": [
       "2"
      ]
     },
     "execution_count": 31,
     "metadata": {},
     "output_type": "execute_result"
    }
   ],
   "source": [
    "pipeline('how many OECD countries were involved in the survey? ', df_sch, meta_sch, cols_retriever)"
   ]
  },
  {
   "cell_type": "code",
   "execution_count": 32,
   "id": "e42e9eb9-285b-4ba8-af8a-19c8d35514af",
   "metadata": {},
   "outputs": [
    {
     "name": "stdout",
     "output_type": "stream",
     "text": [
      "1. Country Name\n",
      "2. OECD Membership Status\n",
      "3. Survey Participation Status\n",
      "['Country code 3-character', 'REGION', 'OECD country', 'National Centre 6-digit Code', 'OECD country', \"During admission, how often consider: Student's working status\", 'School selectivity', 'Proportion of all teachers with ISCED level 8 Doctoral qualification', \"During admission, how often consider: Student's working status\", 'Mode of Respondent', 'Proportion parent/guardians who: Participated in local school government (e.g. parent council or school management committee)', 'Language of Questionnaire']\n",
      "\n",
      "import pandas as pd\n",
      "\n",
      "def run(data):\n",
      "    oecd_countries = data[data['OECD'] == 1]['CNT'].nunique()\n",
      "    return oecd_countries\n",
      "\n"
     ]
    },
    {
     "data": {
      "text/plain": [
       "37"
      ]
     },
     "execution_count": 32,
     "metadata": {},
     "output_type": "execute_result"
    }
   ],
   "source": [
    "pipeline('how many countries that are OECD memeber were involved in the survey? ', df_sch, meta_sch, cols_retriever)"
   ]
  },
  {
   "cell_type": "code",
   "execution_count": 33,
   "id": "e78250ea-da1d-4ebf-9aca-d95bfa3f3171",
   "metadata": {},
   "outputs": [
    {
     "name": "stdout",
     "output_type": "stream",
     "text": [
      "1. School ID\n",
      "2. School Name\n",
      "3. Location\n",
      "4. Number of Students\n",
      "5. Number of Teachers\n",
      "6. Survey Participation Status\n",
      "['Intl. School ID', 'School type', \"Exist at your school: Written specification of the school's curricular profile and educational goals\", 'School size (Sum)', 'School type', 'School size (Sum)', 'Is your school a public or a private school?', 'Intl. School ID', 'REGION', 'During admission, how often consider: Residence in a particular area', 'Which of the following statements best describes the schooling available to students in your location?', 'Which of the following definitions best describes the community in which your school is located?', 'Student-teacher ratio', 'School size (Sum)', 'Student-mathematics teacher ratio', 'Total number of mathematics teachers at school (Sum)', 'Proportion of mathematics teachers at school', 'Total number of all teachers at school (Sum)', 'Total number of non-teaching staff at school', 'Student-teacher ratio', \"During admission, how often consider: Student's working status\", 'Language of Questionnaire', 'Mode of Respondent', 'Proportion parent/guardians who: Participated in local school government (e.g. parent council or school management committee)']\n",
      "\n",
      "import pandas as pd\n",
      "\n",
      "def run(data):\n",
      "    num_schools = data['CNTSCHID'].nunique()\n",
      "    return num_schools\n",
      "\n"
     ]
    },
    {
     "data": {
      "text/plain": [
       "21629"
      ]
     },
     "execution_count": 33,
     "metadata": {},
     "output_type": "execute_result"
    }
   ],
   "source": [
    "pipeline('how many schools were involved in the survey? ', df_sch, meta_sch, cols_retriever)"
   ]
  },
  {
   "cell_type": "code",
   "execution_count": 35,
   "id": "836b2173-15ed-4db9-b15d-0621cc49e0fe",
   "metadata": {},
   "outputs": [
    {
     "name": "stdout",
     "output_type": "stream",
     "text": [
      "1. School ID\n",
      "2. School Name\n",
      "3. School Location\n",
      "4. School Type\n",
      "5. School District\n",
      "6. School Contact Information\n",
      "7. School Enrollment\n",
      "8. School Website\n",
      "9. School Principal\n",
      "10. School Grade Levels\n",
      "['Intl. School ID', 'School type', \"Exist at your school: Written specification of the school's curricular profile and educational goals\", 'School size (Sum)', 'School type', 'School size (Sum)', 'Is your school a public or a private school?', 'Intl. School ID', 'Which of the following statements best describes the schooling available to students in your location?', 'School type', 'Which of the following definitions best describes the community in which your school is located?', 'School size (Sum)', 'School type', 'Which of the following statements best describes the schooling available to students in your location?', 'School size (Sum)', 'Is your school a public or a private school?', 'School type', 'Which of the following statements best describes the schooling available to students in your location?', 'Proportion of school administrative personnel', 'During COVID closures, extent you felt these groups supported your school:  A local educational authority', 'School type', 'Intl. School ID', 'How often you/others in [school management team]: Providing parents or guardians with information on the school and student performance', 'Does school offer this info to [national modal grade for 15-year-olds] students: Information about future educational opportunities', 'School selectivity', 'School size (Sum)', 'Proportion of school management personnel', 'School type', 'School type', \"Exist at your school: Written specification of the school's curricular profile and educational goals\", 'Apply to your school: The school has a specific policy about using social networks (e.g. [Facebook®]) in teaching and learning.', 'How often you/others in [school management team]: Providing parents or guardians with information on the school and student performance', 'Proportion of school administrative personnel', 'Number of non-teaching staff working in school who are: School management personnel', 'How often you/others in [school management team]: Providing parents or guardians with information on the school and student performance', \"School's policy for [national modal grade for 15-year-olds] students: Students are grouped by ability within their classes.\", 'School type', 'Which statements best describe the situation for [national modal grade for 15-year-olds] students at your school?']\n",
      "\n",
      "import pandas as pd\n",
      "\n",
      "def run(data):\n",
      "    unique_schools = data['CNTSCHID'].nunique()\n",
      "    return unique_schools\n",
      "\n"
     ]
    },
    {
     "data": {
      "text/plain": [
       "21629"
      ]
     },
     "execution_count": 35,
     "metadata": {},
     "output_type": "execute_result"
    }
   ],
   "source": [
    "\n",
    "pipeline('How many schools are the answers from?', df_sch, meta_sch, cols_retriever)"
   ]
  },
  {
   "cell_type": "code",
   "execution_count": null,
   "id": "1f22b8dd-318d-4c4d-88f6-bde926f1b73c",
   "metadata": {},
   "outputs": [],
   "source": []
  },
  {
   "cell_type": "code",
   "execution_count": 42,
   "id": "df13faa2-1371-4001-a7b9-5338476d8198",
   "metadata": {},
   "outputs": [
    {
     "data": {
      "text/html": [
       "<div>\n",
       "<style scoped>\n",
       "    .dataframe tbody tr th:only-of-type {\n",
       "        vertical-align: middle;\n",
       "    }\n",
       "\n",
       "    .dataframe tbody tr th {\n",
       "        vertical-align: top;\n",
       "    }\n",
       "\n",
       "    .dataframe thead th {\n",
       "        text-align: right;\n",
       "    }\n",
       "</style>\n",
       "<table border=\"1\" class=\"dataframe\">\n",
       "  <thead>\n",
       "    <tr style=\"text-align: right;\">\n",
       "      <th></th>\n",
       "      <th>CNT</th>\n",
       "      <th>CNTRYID</th>\n",
       "      <th>CNTSCHID</th>\n",
       "      <th>CYC</th>\n",
       "      <th>NatCen</th>\n",
       "      <th>STRATUM</th>\n",
       "      <th>SUBNATIO</th>\n",
       "      <th>REGION</th>\n",
       "      <th>OECD</th>\n",
       "      <th>ADMINMODE</th>\n",
       "      <th>...</th>\n",
       "      <th>SCSUPRT</th>\n",
       "      <th>PROBSCRI</th>\n",
       "      <th>SCPREPBP</th>\n",
       "      <th>SCPREPAP</th>\n",
       "      <th>DIGPREP</th>\n",
       "      <th>W_SCHGRNRABWT</th>\n",
       "      <th>W_FSTUWT_SCH_SUM</th>\n",
       "      <th>W_FSTUWT_SCH_N</th>\n",
       "      <th>SENWT</th>\n",
       "      <th>VER_DAT</th>\n",
       "    </tr>\n",
       "  </thead>\n",
       "  <tbody>\n",
       "    <tr>\n",
       "      <th>0</th>\n",
       "      <td>ALB</td>\n",
       "      <td>8.0</td>\n",
       "      <td>800001.0</td>\n",
       "      <td>08MS</td>\n",
       "      <td>000800</td>\n",
       "      <td>ALB05</td>\n",
       "      <td>0080000</td>\n",
       "      <td>800.0</td>\n",
       "      <td>0.0</td>\n",
       "      <td>2.0</td>\n",
       "      <td>...</td>\n",
       "      <td>2.0</td>\n",
       "      <td>0.7965</td>\n",
       "      <td>-0.8314</td>\n",
       "      <td>0.8462</td>\n",
       "      <td>0.5908</td>\n",
       "      <td>1.43376</td>\n",
       "      <td>160.58080</td>\n",
       "      <td>41.0</td>\n",
       "      <td>5.76182</td>\n",
       "      <td>03MAY23:10:11:34</td>\n",
       "    </tr>\n",
       "    <tr>\n",
       "      <th>1</th>\n",
       "      <td>ALB</td>\n",
       "      <td>8.0</td>\n",
       "      <td>800002.0</td>\n",
       "      <td>08MS</td>\n",
       "      <td>000800</td>\n",
       "      <td>ALB07</td>\n",
       "      <td>0080000</td>\n",
       "      <td>800.0</td>\n",
       "      <td>0.0</td>\n",
       "      <td>2.0</td>\n",
       "      <td>...</td>\n",
       "      <td>1.0</td>\n",
       "      <td>-0.5687</td>\n",
       "      <td>-0.8314</td>\n",
       "      <td>0.8462</td>\n",
       "      <td>-0.3475</td>\n",
       "      <td>2.85278</td>\n",
       "      <td>133.71140</td>\n",
       "      <td>36.0</td>\n",
       "      <td>11.46442</td>\n",
       "      <td>03MAY23:10:11:34</td>\n",
       "    </tr>\n",
       "    <tr>\n",
       "      <th>2</th>\n",
       "      <td>ALB</td>\n",
       "      <td>8.0</td>\n",
       "      <td>800003.0</td>\n",
       "      <td>08MS</td>\n",
       "      <td>000800</td>\n",
       "      <td>ALB06</td>\n",
       "      <td>0080000</td>\n",
       "      <td>800.0</td>\n",
       "      <td>0.0</td>\n",
       "      <td>2.0</td>\n",
       "      <td>...</td>\n",
       "      <td>1.0</td>\n",
       "      <td>0.1896</td>\n",
       "      <td>-0.8314</td>\n",
       "      <td>-0.8711</td>\n",
       "      <td>0.4409</td>\n",
       "      <td>7.40007</td>\n",
       "      <td>25.61079</td>\n",
       "      <td>3.0</td>\n",
       "      <td>29.73857</td>\n",
       "      <td>03MAY23:10:11:34</td>\n",
       "    </tr>\n",
       "    <tr>\n",
       "      <th>3</th>\n",
       "      <td>ALB</td>\n",
       "      <td>8.0</td>\n",
       "      <td>800004.0</td>\n",
       "      <td>08MS</td>\n",
       "      <td>000800</td>\n",
       "      <td>ALB05</td>\n",
       "      <td>0080000</td>\n",
       "      <td>800.0</td>\n",
       "      <td>0.0</td>\n",
       "      <td>2.0</td>\n",
       "      <td>...</td>\n",
       "      <td>NaN</td>\n",
       "      <td>NaN</td>\n",
       "      <td>NaN</td>\n",
       "      <td>NaN</td>\n",
       "      <td>-0.7414</td>\n",
       "      <td>4.34319</td>\n",
       "      <td>192.24130</td>\n",
       "      <td>39.0</td>\n",
       "      <td>17.45392</td>\n",
       "      <td>03MAY23:10:11:34</td>\n",
       "    </tr>\n",
       "    <tr>\n",
       "      <th>4</th>\n",
       "      <td>ALB</td>\n",
       "      <td>8.0</td>\n",
       "      <td>800005.0</td>\n",
       "      <td>08MS</td>\n",
       "      <td>000800</td>\n",
       "      <td>ALB03</td>\n",
       "      <td>0080000</td>\n",
       "      <td>800.0</td>\n",
       "      <td>0.0</td>\n",
       "      <td>2.0</td>\n",
       "      <td>...</td>\n",
       "      <td>2.0</td>\n",
       "      <td>0.6649</td>\n",
       "      <td>-0.8314</td>\n",
       "      <td>0.8462</td>\n",
       "      <td>-0.0102</td>\n",
       "      <td>7.52060</td>\n",
       "      <td>45.69535</td>\n",
       "      <td>5.0</td>\n",
       "      <td>30.22293</td>\n",
       "      <td>03MAY23:10:11:34</td>\n",
       "    </tr>\n",
       "    <tr>\n",
       "      <th>...</th>\n",
       "      <td>...</td>\n",
       "      <td>...</td>\n",
       "      <td>...</td>\n",
       "      <td>...</td>\n",
       "      <td>...</td>\n",
       "      <td>...</td>\n",
       "      <td>...</td>\n",
       "      <td>...</td>\n",
       "      <td>...</td>\n",
       "      <td>...</td>\n",
       "      <td>...</td>\n",
       "      <td>...</td>\n",
       "      <td>...</td>\n",
       "      <td>...</td>\n",
       "      <td>...</td>\n",
       "      <td>...</td>\n",
       "      <td>...</td>\n",
       "      <td>...</td>\n",
       "      <td>...</td>\n",
       "      <td>...</td>\n",
       "      <td>...</td>\n",
       "    </tr>\n",
       "    <tr>\n",
       "      <th>21624</th>\n",
       "      <td>QUR</td>\n",
       "      <td>901.0</td>\n",
       "      <td>90100178.0</td>\n",
       "      <td>08MS</td>\n",
       "      <td>080400</td>\n",
       "      <td>UKR26</td>\n",
       "      <td>9010000</td>\n",
       "      <td>90100.0</td>\n",
       "      <td>0.0</td>\n",
       "      <td>2.0</td>\n",
       "      <td>...</td>\n",
       "      <td>NaN</td>\n",
       "      <td>NaN</td>\n",
       "      <td>NaN</td>\n",
       "      <td>NaN</td>\n",
       "      <td>2.2897</td>\n",
       "      <td>53.75000</td>\n",
       "      <td>459.78720</td>\n",
       "      <td>8.0</td>\n",
       "      <td>40.82246</td>\n",
       "      <td>01MAY23:18:14:40</td>\n",
       "    </tr>\n",
       "    <tr>\n",
       "      <th>21625</th>\n",
       "      <td>QUR</td>\n",
       "      <td>901.0</td>\n",
       "      <td>90100179.0</td>\n",
       "      <td>08MS</td>\n",
       "      <td>080400</td>\n",
       "      <td>UKR26</td>\n",
       "      <td>9010000</td>\n",
       "      <td>90100.0</td>\n",
       "      <td>0.0</td>\n",
       "      <td>2.0</td>\n",
       "      <td>...</td>\n",
       "      <td>1.0</td>\n",
       "      <td>0.4590</td>\n",
       "      <td>-0.8314</td>\n",
       "      <td>0.8462</td>\n",
       "      <td>-0.2793</td>\n",
       "      <td>53.75000</td>\n",
       "      <td>280.33170</td>\n",
       "      <td>5.0</td>\n",
       "      <td>40.82246</td>\n",
       "      <td>01MAY23:18:14:40</td>\n",
       "    </tr>\n",
       "    <tr>\n",
       "      <th>21626</th>\n",
       "      <td>QUR</td>\n",
       "      <td>901.0</td>\n",
       "      <td>90100180.0</td>\n",
       "      <td>08MS</td>\n",
       "      <td>080400</td>\n",
       "      <td>UKR12</td>\n",
       "      <td>9010000</td>\n",
       "      <td>90100.0</td>\n",
       "      <td>0.0</td>\n",
       "      <td>2.0</td>\n",
       "      <td>...</td>\n",
       "      <td>1.0</td>\n",
       "      <td>0.9920</td>\n",
       "      <td>1.3112</td>\n",
       "      <td>0.8462</td>\n",
       "      <td>0.3470</td>\n",
       "      <td>25.49544</td>\n",
       "      <td>1726.41200</td>\n",
       "      <td>45.0</td>\n",
       "      <td>19.36347</td>\n",
       "      <td>01MAY23:18:14:40</td>\n",
       "    </tr>\n",
       "    <tr>\n",
       "      <th>21627</th>\n",
       "      <td>QUR</td>\n",
       "      <td>901.0</td>\n",
       "      <td>90100181.0</td>\n",
       "      <td>08MS</td>\n",
       "      <td>080400</td>\n",
       "      <td>UKR21</td>\n",
       "      <td>9010000</td>\n",
       "      <td>90100.0</td>\n",
       "      <td>0.0</td>\n",
       "      <td>2.0</td>\n",
       "      <td>...</td>\n",
       "      <td>1.0</td>\n",
       "      <td>0.1896</td>\n",
       "      <td>0.7399</td>\n",
       "      <td>0.8462</td>\n",
       "      <td>2.2897</td>\n",
       "      <td>18.33558</td>\n",
       "      <td>1684.65500</td>\n",
       "      <td>48.0</td>\n",
       "      <td>13.92564</td>\n",
       "      <td>01MAY23:18:14:40</td>\n",
       "    </tr>\n",
       "    <tr>\n",
       "      <th>21628</th>\n",
       "      <td>QUR</td>\n",
       "      <td>901.0</td>\n",
       "      <td>90100182.0</td>\n",
       "      <td>08MS</td>\n",
       "      <td>080400</td>\n",
       "      <td>UKR14</td>\n",
       "      <td>9010000</td>\n",
       "      <td>90100.0</td>\n",
       "      <td>0.0</td>\n",
       "      <td>2.0</td>\n",
       "      <td>...</td>\n",
       "      <td>1.0</td>\n",
       "      <td>0.3285</td>\n",
       "      <td>1.2019</td>\n",
       "      <td>0.8462</td>\n",
       "      <td>0.1178</td>\n",
       "      <td>23.00685</td>\n",
       "      <td>1234.79500</td>\n",
       "      <td>22.0</td>\n",
       "      <td>17.47341</td>\n",
       "      <td>01MAY23:18:14:40</td>\n",
       "    </tr>\n",
       "  </tbody>\n",
       "</table>\n",
       "<p>21629 rows × 431 columns</p>\n",
       "</div>"
      ],
      "text/plain": [
       "       CNT  CNTRYID    CNTSCHID   CYC  NatCen STRATUM SUBNATIO   REGION  OECD  \\\n",
       "0      ALB      8.0    800001.0  08MS  000800   ALB05  0080000    800.0   0.0   \n",
       "1      ALB      8.0    800002.0  08MS  000800   ALB07  0080000    800.0   0.0   \n",
       "2      ALB      8.0    800003.0  08MS  000800   ALB06  0080000    800.0   0.0   \n",
       "3      ALB      8.0    800004.0  08MS  000800   ALB05  0080000    800.0   0.0   \n",
       "4      ALB      8.0    800005.0  08MS  000800   ALB03  0080000    800.0   0.0   \n",
       "...    ...      ...         ...   ...     ...     ...      ...      ...   ...   \n",
       "21624  QUR    901.0  90100178.0  08MS  080400   UKR26  9010000  90100.0   0.0   \n",
       "21625  QUR    901.0  90100179.0  08MS  080400   UKR26  9010000  90100.0   0.0   \n",
       "21626  QUR    901.0  90100180.0  08MS  080400   UKR12  9010000  90100.0   0.0   \n",
       "21627  QUR    901.0  90100181.0  08MS  080400   UKR21  9010000  90100.0   0.0   \n",
       "21628  QUR    901.0  90100182.0  08MS  080400   UKR14  9010000  90100.0   0.0   \n",
       "\n",
       "       ADMINMODE  ...  SCSUPRT  PROBSCRI  SCPREPBP  SCPREPAP  DIGPREP  \\\n",
       "0            2.0  ...      2.0    0.7965   -0.8314    0.8462   0.5908   \n",
       "1            2.0  ...      1.0   -0.5687   -0.8314    0.8462  -0.3475   \n",
       "2            2.0  ...      1.0    0.1896   -0.8314   -0.8711   0.4409   \n",
       "3            2.0  ...      NaN       NaN       NaN       NaN  -0.7414   \n",
       "4            2.0  ...      2.0    0.6649   -0.8314    0.8462  -0.0102   \n",
       "...          ...  ...      ...       ...       ...       ...      ...   \n",
       "21624        2.0  ...      NaN       NaN       NaN       NaN   2.2897   \n",
       "21625        2.0  ...      1.0    0.4590   -0.8314    0.8462  -0.2793   \n",
       "21626        2.0  ...      1.0    0.9920    1.3112    0.8462   0.3470   \n",
       "21627        2.0  ...      1.0    0.1896    0.7399    0.8462   2.2897   \n",
       "21628        2.0  ...      1.0    0.3285    1.2019    0.8462   0.1178   \n",
       "\n",
       "       W_SCHGRNRABWT  W_FSTUWT_SCH_SUM  W_FSTUWT_SCH_N     SENWT  \\\n",
       "0            1.43376         160.58080            41.0   5.76182   \n",
       "1            2.85278         133.71140            36.0  11.46442   \n",
       "2            7.40007          25.61079             3.0  29.73857   \n",
       "3            4.34319         192.24130            39.0  17.45392   \n",
       "4            7.52060          45.69535             5.0  30.22293   \n",
       "...              ...               ...             ...       ...   \n",
       "21624       53.75000         459.78720             8.0  40.82246   \n",
       "21625       53.75000         280.33170             5.0  40.82246   \n",
       "21626       25.49544        1726.41200            45.0  19.36347   \n",
       "21627       18.33558        1684.65500            48.0  13.92564   \n",
       "21628       23.00685        1234.79500            22.0  17.47341   \n",
       "\n",
       "                  VER_DAT  \n",
       "0        03MAY23:10:11:34  \n",
       "1        03MAY23:10:11:34  \n",
       "2        03MAY23:10:11:34  \n",
       "3        03MAY23:10:11:34  \n",
       "4        03MAY23:10:11:34  \n",
       "...                   ...  \n",
       "21624    01MAY23:18:14:40  \n",
       "21625    01MAY23:18:14:40  \n",
       "21626    01MAY23:18:14:40  \n",
       "21627    01MAY23:18:14:40  \n",
       "21628    01MAY23:18:14:40  \n",
       "\n",
       "[21629 rows x 431 columns]"
      ]
     },
     "execution_count": 42,
     "metadata": {},
     "output_type": "execute_result"
    }
   ],
   "source": [
    "df_sch[df_sch['CNTRYID'] != 'HUN']"
   ]
  },
  {
   "cell_type": "code",
   "execution_count": null,
   "id": "8a22d7b2-c1d9-44ce-85ed-3351b5b1fd9b",
   "metadata": {},
   "outputs": [],
   "source": []
  }
 ],
 "metadata": {
  "kernelspec": {
   "display_name": "Python [conda env:arpad_ts]",
   "language": "python",
   "name": "conda-env-arpad_ts-py"
  },
  "language_info": {
   "codemirror_mode": {
    "name": "ipython",
    "version": 3
   },
   "file_extension": ".py",
   "mimetype": "text/x-python",
   "name": "python",
   "nbconvert_exporter": "python",
   "pygments_lexer": "ipython3",
   "version": "3.10.14"
  }
 },
 "nbformat": 4,
 "nbformat_minor": 5
}
