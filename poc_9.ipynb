{
 "cells": [
  {
   "cell_type": "code",
   "execution_count": 12,
   "id": "2adfc3cc-7f34-4db3-926b-ae004185f196",
   "metadata": {},
   "outputs": [
    {
     "name": "stdout",
     "output_type": "stream",
     "text": [
      "The autoreload extension is already loaded. To reload it, use:\n",
      "  %reload_ext autoreload\n"
     ]
    }
   ],
   "source": [
    "import pandas as pd\n",
    "import pyreadstat\n",
    "from langchain_chroma import Chroma\n",
    "from langchain_openai import OpenAIEmbeddings\n",
    "import utils\n",
    "from langchain_community.vectorstores import FAISS\n",
    "from langchain_core.documents import Document\n",
    "\n",
    "%load_ext autoreload\n",
    "%autoreload 2\n"
   ]
  },
  {
   "cell_type": "code",
   "execution_count": 13,
   "id": "05141ab4-b23f-4a0d-a41e-cc918811030f",
   "metadata": {},
   "outputs": [],
   "source": [
    "df_sch, meta_sch = pyreadstat.read_sav('data/CY08MSP_STU_QQQ_HUN.sav')"
   ]
  },
  {
   "cell_type": "code",
   "execution_count": 14,
   "id": "aec4a347-3f4b-49ec-9e0b-91652f0deefa",
   "metadata": {},
   "outputs": [],
   "source": [
    "import os\n",
    "with open('data/openai.api.key', 'r') as filek: \n",
    "    openai_key = filek.read()\n",
    "os.environ[\"OPENAI_API_KEY\"] =  openai_key "
   ]
  },
  {
   "cell_type": "code",
   "execution_count": 17,
   "id": "02754d4b-f9d9-4b63-8db2-0d37359e325b",
   "metadata": {},
   "outputs": [],
   "source": [
    "   \n",
    "cols = utils.meta2docs(meta_sch, excluded=['test','CNTRYID'])\n",
    "\n",
    "cols_vectorstore = FAISS.from_documents(cols, OpenAIEmbeddings())\n",
    "\n",
    "cols_retriever = cols_vectorstore.as_retriever()"
   ]
  },
  {
   "cell_type": "code",
   "execution_count": 10,
   "id": "649ab6a8-6918-4201-bf47-6b1572bf34b2",
   "metadata": {},
   "outputs": [
    {
     "data": {
      "text/plain": [
       "<pyreadstat._readstat_parser.metadata_container at 0x7f152aeb0250>"
      ]
     },
     "execution_count": 10,
     "metadata": {},
     "output_type": "execute_result"
    }
   ],
   "source": [
    "meta_sch"
   ]
  },
  {
   "cell_type": "code",
   "execution_count": 7,
   "id": "c2dfd2d0-d74a-4a44-a351-08505cb590f1",
   "metadata": {},
   "outputs": [
    {
     "ename": "PyreadstatError",
     "evalue": "File data/PISA2022_SCH_QQQ.SAV does not exist!",
     "output_type": "error",
     "traceback": [
      "\u001b[0;31m---------------------------------------------------------------------------\u001b[0m",
      "\u001b[0;31mPyreadstatError\u001b[0m                           Traceback (most recent call last)",
      "Cell \u001b[0;32mIn[7], line 1\u001b[0m\n\u001b[0;32m----> 1\u001b[0m df_sch2, meta_sch2 \u001b[38;5;241m=\u001b[39m \u001b[43mpyreadstat\u001b[49m\u001b[38;5;241;43m.\u001b[39;49m\u001b[43mread_sav\u001b[49m\u001b[43m(\u001b[49m\u001b[38;5;124;43m'\u001b[39;49m\u001b[38;5;124;43mdata/PISA2022_SCH_QQQ.SAV\u001b[39;49m\u001b[38;5;124;43m'\u001b[39;49m\u001b[43m)\u001b[49m\n\u001b[1;32m      2\u001b[0m cols2 \u001b[38;5;241m=\u001b[39m utils\u001b[38;5;241m.\u001b[39mmeta2docs(meta_sch2, excluded\u001b[38;5;241m=\u001b[39m[\u001b[38;5;124m'\u001b[39m\u001b[38;5;124mtest\u001b[39m\u001b[38;5;124m'\u001b[39m, \u001b[38;5;124m'\u001b[39m\u001b[38;5;124mCNTRYID\u001b[39m\u001b[38;5;124m'\u001b[39m])\n",
      "File \u001b[0;32mpyreadstat/pyreadstat.pyx:389\u001b[0m, in \u001b[0;36mpyreadstat.pyreadstat.read_sav\u001b[0;34m()\u001b[0m\n",
      "File \u001b[0;32mpyreadstat/_readstat_parser.pyx:1075\u001b[0m, in \u001b[0;36mpyreadstat._readstat_parser.run_conversion\u001b[0;34m()\u001b[0m\n",
      "\u001b[0;31mPyreadstatError\u001b[0m: File data/PISA2022_SCH_QQQ.SAV does not exist!"
     ]
    }
   ],
   "source": [
    "df_sch2, meta_sch2 = pyreadstat.read_sav('data/PISA2022_SCH_QQQ.SAV')\n",
    "cols2 = utils.meta2docs(meta_sch2, excluded=['test', 'CNTRYID'])"
   ]
  },
  {
   "cell_type": "code",
   "execution_count": null,
   "id": "e5987f47-9b4f-4655-83b0-da78b3938cbd",
   "metadata": {},
   "outputs": [],
   "source": [
    "len(meta_sch.column_names)"
   ]
  },
  {
   "cell_type": "code",
   "execution_count": null,
   "id": "1dde2097-b4a7-478b-8b4c-3be1729c8d94",
   "metadata": {},
   "outputs": [],
   "source": [
    "len(cols)\n"
   ]
  },
  {
   "cell_type": "code",
   "execution_count": 14,
   "id": "85bb2f39-72d0-4093-b785-b59aa474187f",
   "metadata": {},
   "outputs": [
    {
     "name": "stdout",
     "output_type": "stream",
     "text": [
      "Social background, Math score\n",
      "hint Social background\n",
      "['ESCS', 'SOCONPA', 'COBN_M', 'COBN_F']\n",
      "hint  Math score\n",
      "['MATHMOT', 'MATHPREF', 'ST296Q01JA', 'ST296Q02JA']\n",
      "content=\"```python\\nimport pandas as pd\\nimport numpy as np\\nfrom utils import pv_reg_math\\n\\ndef run(data: pd.DataFrame) -> float:\\n    data = data[['ESCS', 'SOCONPA', 'MATHMOT', 'MATHPREF']].dropna()\\n    independent_vars = ['ESCS', 'SOCONPA']\\n    regression_coefficients = pv_reg_math(independent_vars)\\n    \\n    return float(regression_coefficients)\\n```\" response_metadata={'token_usage': {'completion_tokens': 93, 'prompt_tokens': 356, 'total_tokens': 449}, 'model_name': 'gpt-3.5-turbo', 'system_fingerprint': None, 'finish_reason': 'stop', 'logprobs': None} id='run-1357fd1a-e082-4167-a758-ed84ca561853-0' usage_metadata={'input_tokens': 356, 'output_tokens': 93, 'total_tokens': 449}\n",
      "\n",
      "import pandas as pd\n",
      "import numpy as np\n",
      "from utils import pv_reg_math\n",
      "\n",
      "def run(data: pd.DataFrame) -> float:\n",
      "    data = data[['ESCS', 'SOCONPA', 'MATHMOT', 'MATHPREF']].dropna()\n",
      "    independent_vars = ['ESCS', 'SOCONPA']\n",
      "    regression_coefficients = pv_reg_math(independent_vars)\n",
      "    \n",
      "    return float(regression_coefficients)\n",
      "\n"
     ]
    },
    {
     "ename": "ImportError",
     "evalue": "cannot import name 'pv_reg_math' from 'utils' (/home/jovyan/work/Arpad/Tabular/utils.py)",
     "output_type": "error",
     "traceback": [
      "\u001b[0;31m---------------------------------------------------------------------------\u001b[0m",
      "\u001b[0;31mImportError\u001b[0m                               Traceback (most recent call last)",
      "Cell \u001b[0;32mIn[14], line 1\u001b[0m\n\u001b[0;32m----> 1\u001b[0m \u001b[43mutils\u001b[49m\u001b[38;5;241;43m.\u001b[39;49m\u001b[43mpipeline\u001b[49m\u001b[43m(\u001b[49m\u001b[43mllm\u001b[49m\u001b[43m,\u001b[49m\u001b[43m \u001b[49m\u001b[38;5;124;43m'\u001b[39;49m\u001b[38;5;124;43mWhat is the relation between social background and math score of students? Please give linear regression coefficients as answer.\u001b[39;49m\u001b[38;5;124;43m'\u001b[39;49m\u001b[43m,\u001b[49m\u001b[43m \u001b[49m\u001b[43mdf_sch\u001b[49m\u001b[43m,\u001b[49m\u001b[43m \u001b[49m\u001b[43mmeta_sch\u001b[49m\u001b[43m,\u001b[49m\u001b[43m \u001b[49m\u001b[43mcols_retriever\u001b[49m\u001b[43m)\u001b[49m\n",
      "File \u001b[0;32m~/work/Arpad/Tabular/utils.py:81\u001b[0m, in \u001b[0;36mpipeline\u001b[0;34m(llm, question, df, meta, col_retriever)\u001b[0m\n\u001b[1;32m     79\u001b[0m columns \u001b[38;5;241m=\u001b[39m [i\u001b[38;5;241m.\u001b[39mmetadata[\u001b[38;5;124m'\u001b[39m\u001b[38;5;124moriginal_col_name\u001b[39m\u001b[38;5;124m'\u001b[39m] \u001b[38;5;28;01mfor\u001b[39;00m i \u001b[38;5;129;01min\u001b[39;00m rel_col_docs]\n\u001b[1;32m     80\u001b[0m df2 \u001b[38;5;241m=\u001b[39m df\u001b[38;5;241m.\u001b[39mdropna(subset\u001b[38;5;241m=\u001b[39mcolumns)\n\u001b[0;32m---> 81\u001b[0m res \u001b[38;5;241m=\u001b[39m \u001b[43mexec_code\u001b[49m\u001b[43m(\u001b[49m\u001b[43mcode\u001b[49m\u001b[43m,\u001b[49m\u001b[43m \u001b[49m\u001b[43mdf\u001b[49m\u001b[43m)\u001b[49m\n\u001b[1;32m     82\u001b[0m \u001b[38;5;28;01mreturn\u001b[39;00m {\u001b[38;5;124m'\u001b[39m\u001b[38;5;124mquestion\u001b[39m\u001b[38;5;124m'\u001b[39m: question, \u001b[38;5;124m'\u001b[39m\u001b[38;5;124mresult\u001b[39m\u001b[38;5;124m'\u001b[39m: res, \u001b[38;5;124m'\u001b[39m\u001b[38;5;124mhint_cols\u001b[39m\u001b[38;5;124m'\u001b[39m: [i\u001b[38;5;241m.\u001b[39mmetadata[\u001b[38;5;124m'\u001b[39m\u001b[38;5;124moriginal_col_name\u001b[39m\u001b[38;5;124m'\u001b[39m] \u001b[38;5;28;01mfor\u001b[39;00m i \u001b[38;5;129;01min\u001b[39;00m rel_col_docs]}\n",
      "File \u001b[0;32m~/work/Arpad/Tabular/utils.py:69\u001b[0m, in \u001b[0;36mexec_code\u001b[0;34m(code, df)\u001b[0m\n\u001b[1;32m     67\u001b[0m \u001b[38;5;28;01mdef\u001b[39;00m \u001b[38;5;21mexec_code\u001b[39m(code, df):            \n\u001b[1;32m     68\u001b[0m     loc \u001b[38;5;241m=\u001b[39m \u001b[38;5;28mlocals\u001b[39m()\n\u001b[0;32m---> 69\u001b[0m     \u001b[43mexec\u001b[49m\u001b[43m(\u001b[49m\u001b[43mcode\u001b[49m\u001b[43m \u001b[49m\u001b[38;5;241;43m+\u001b[39;49m\u001b[43m \u001b[49m\u001b[38;5;124;43m\"\u001b[39;49m\u001b[38;5;130;43;01m\\n\u001b[39;49;00m\u001b[38;5;124;43mr = run(df)\u001b[39;49m\u001b[38;5;130;43;01m\\n\u001b[39;49;00m\u001b[38;5;124;43m\"\u001b[39;49m\u001b[43m,\u001b[49m\u001b[43m \u001b[49m\u001b[38;5;28;43mglobals\u001b[39;49m\u001b[43m(\u001b[49m\u001b[43m)\u001b[49m\u001b[43m,\u001b[49m\u001b[43m \u001b[49m\u001b[43mloc\u001b[49m\u001b[43m)\u001b[49m\n\u001b[1;32m     70\u001b[0m     \u001b[38;5;28;01mreturn\u001b[39;00m loc[\u001b[38;5;124m'\u001b[39m\u001b[38;5;124mr\u001b[39m\u001b[38;5;124m'\u001b[39m]\n",
      "File \u001b[0;32m<string>:4\u001b[0m\n",
      "\u001b[0;31mImportError\u001b[0m: cannot import name 'pv_reg_math' from 'utils' (/home/jovyan/work/Arpad/Tabular/utils.py)"
     ]
    }
   ],
   "source": [
    "utils.pipeline(llm, 'What is the relation between social background and math score of students? Please give linear regression coefficients as answer.', df_sch, meta_sch, cols_retriever)"
   ]
  },
  {
   "cell_type": "code",
   "execution_count": 23,
   "id": "0574b7fc-b195-4fde-9c50-a2aac6226a98",
   "metadata": {},
   "outputs": [],
   "source": [
    "test_data = [\n",
    "    {'question':'Which country has the highest average  teacher student ratio? How much is it? ','expected_columns': ['STRATIO', 'CNT'], 'expected_answer': 28.95},\n",
    "    {'question':'Which country has the highest average class sizes? How much is it?','expected_columns': ['CLSIZE', 'CNT'], 'expected_answer': 42.65 },    \n",
    "    {'question':'In how many languages ​​was the questionnaire filled out?', 'expected_columns': ['LANGTEST_QQQ'], 'expected_answer': 54},\n",
    "    {'question':'What is Hungary average teacher-student ratio?', 'expected_columns': ['STRATIO', 'CNT'], 'expected_answer': 10.83},\n",
    "    {'question':'What is OECD average teacher-student ratio?', 'expected_columns': ['STRATIO', 'OECD'], 'expected_answer':  12.551608},\n",
    "    {'question':'Where is average teacher-student ratio in Hungary compared to the OECD average in terms of average teacher-student ratio? Give the difference as number.','expected_columns': ['STRATIO', 'OECD', 'CNT'], 'expected_answer': -1.721608 },    \n",
    "    #{'question':'how many education systems were involved in the survey? ','expected_columns': ['STRATIO', 'CNT'], 'expected_answer': 28.95},\n",
    "    {'question':'how many countries were involved in the survey?','expected_columns': ['CNT'], 'expected_answer': 80},\n",
    "    {'question':'how many countries that are OECD memeber were involved in the survey? ','expected_columns': ['OECD', 'CNT'], 'expected_answer': 37},\n",
    "    {'question':'how many schools were involved in the survey?','expected_columns': ['CNTSCHID'], 'expected_answer': 21629},\n",
    "    {'question':'what is the relation between school autonomy  and teacher participation? Please give linear regression coefficient as result','expected_columns': ['SCHAUTO','TCHPART'], 'expected_answer':  0.2216 },\n",
    "]\n"
   ]
  },
  {
   "cell_type": "code",
   "execution_count": null,
   "id": "47f1bbec-d546-4ff1-bf29-a216362da188",
   "metadata": {},
   "outputs": [],
   "source": [
    "test_data  = [\n",
    "    {'question':'How many students were interviewed?','expected_columns': [ 'CNTSTUID','ST255Q01JA'], 'expected_answer': 613744},\n",
    "    {'question':'How many countries where in the survey?','expected_columns': [ 'CNT'], 'expected_answer': 88},\n",
    "    {'question':'In which country have students the most books at home? How much is it?','expected_columns': [ 'CNT','ST255Q01JA'], 'expected_answer': 0},    \n",
    "    {'question':'What is the relation between social background and math score of students? Please give linear regression coefficients as answer.','expected_columns': ['ESCS', 'PV1MATH', 'PV2MATH', 'PV3MATH', 'PV4MATH', 'PV5MATH', 'PV6MATH', 'PV7MATH', 'PV8MATH', 'PV9MATH', 'PV10MATH'],  'expected_answer': 0],\n",
    "]"
   ]
  },
  {
   "cell_type": "code",
   "execution_count": 68,
   "id": "35e92707-d3fd-4c69-a619-363fd0d0e2c7",
   "metadata": {},
   "outputs": [
    {
     "name": "stdout",
     "output_type": "stream",
     "text": [
      "Country, Number of books at home\n",
      "hint Country\n",
      "['REGION', 'OECD', 'COBN_F', 'CNT']\n",
      "hint  Number of books at home\n",
      "['PA195Q01JA', 'ST255Q01JA', 'ST256Q10JA', 'ST256Q06JA']\n",
      "content=\"def run(data):\\n    data.dropna(subset=['CNT', 'ST255Q01JA'], inplace=True)\\n    max_books = data.groupby('CNT')['ST255Q01JA'].sum().idxmax()\\n    total_books = data.groupby('CNT')['ST255Q01JA'].sum().max()\\n    \\n    return float(total_books)\" response_metadata={'token_usage': {'completion_tokens': 69, 'prompt_tokens': 318, 'total_tokens': 387}, 'model_name': 'gpt-3.5-turbo', 'system_fingerprint': None, 'finish_reason': 'stop', 'logprobs': None} id='run-3399eb83-40fe-439a-8cee-d13c5ed21378-0' usage_metadata={'input_tokens': 318, 'output_tokens': 69, 'total_tokens': 387}\n",
      "def run(data):\n",
      "    data.dropna(subset=['CNT', 'ST255Q01JA'], inplace=True)\n",
      "    max_books = data.groupby('CNT')['ST255Q01JA'].sum().idxmax()\n",
      "    total_books = data.groupby('CNT')['ST255Q01JA'].sum().max()\n",
      "    \n",
      "    return float(total_books)\n"
     ]
    },
    {
     "data": {
      "text/plain": [
       "{'question': 'In which country have students the most books at home? How much is it?',\n",
       " 'result': 36617.0,\n",
       " 'hint_cols': ['REGION',\n",
       "  'OECD',\n",
       "  'COBN_F',\n",
       "  'CNT',\n",
       "  'PA195Q01JA',\n",
       "  'ST255Q01JA',\n",
       "  'ST256Q10JA',\n",
       "  'ST256Q06JA']}"
      ]
     },
     "execution_count": 68,
     "metadata": {},
     "output_type": "execute_result"
    }
   ],
   "source": [
    "utils.pipeline(llm, 'In which country have students the most books at home? How much is it?', df_sch, meta_sch, cols_retriever)"
   ]
  },
  {
   "cell_type": "code",
   "execution_count": 72,
   "id": "ba2bf40f-a693-421c-ab24-9e8de7dc5e21",
   "metadata": {},
   "outputs": [
    {
     "name": "stdout",
     "output_type": "stream",
     "text": [
      "Country, Number of books at home\n",
      "hint Country\n",
      "['REGION', 'OECD', 'COBN_F', 'CNT']\n",
      "hint  Number of books at home\n",
      "['PA195Q01JA', 'ST255Q01JA', 'ST256Q10JA', 'ST256Q06JA']\n",
      "content=\"def run(data):\\n    data = data.dropna(subset=['CNT', 'ST255Q01JA'])\\n    avg_books_per_country = data.groupby('CNT')['ST255Q01JA'].mean()\\n    max_avg_books = avg_books_per_country.max()\\n    \\n    return float(max_avg_books)\" response_metadata={'token_usage': {'completion_tokens': 60, 'prompt_tokens': 319, 'total_tokens': 379}, 'model_name': 'gpt-3.5-turbo', 'system_fingerprint': None, 'finish_reason': 'stop', 'logprobs': None} id='run-6577ad3f-ff51-4154-963b-e80d34773fb2-0' usage_metadata={'input_tokens': 319, 'output_tokens': 60, 'total_tokens': 379}\n",
      "def run(data):\n",
      "    data = data.dropna(subset=['CNT', 'ST255Q01JA'])\n",
      "    avg_books_per_country = data.groupby('CNT')['ST255Q01JA'].mean()\n",
      "    max_avg_books = avg_books_per_country.max()\n",
      "    \n",
      "    return float(max_avg_books)\n"
     ]
    },
    {
     "data": {
      "text/plain": [
       "{'question': 'Which country have students the most books at home? How much is it in average?',\n",
       " 'result': 4.803861625100563,\n",
       " 'hint_cols': ['REGION',\n",
       "  'OECD',\n",
       "  'COBN_F',\n",
       "  'CNT',\n",
       "  'PA195Q01JA',\n",
       "  'ST255Q01JA',\n",
       "  'ST256Q10JA',\n",
       "  'ST256Q06JA']}"
      ]
     },
     "execution_count": 72,
     "metadata": {},
     "output_type": "execute_result"
    }
   ],
   "source": [
    "utils.pipeline(llm, 'Which country have students the most books at home? How much is it in average?', df_sch, meta_sch, cols_retriever)"
   ]
  },
  {
   "cell_type": "code",
   "execution_count": null,
   "id": "0794c56e-1b65-4fa1-848b-ff59019439da",
   "metadata": {},
   "outputs": [],
   "source": [
    "\n",
    "utils.pipeline_l2(llm, 'Which country have students the most books at home? How much is it in average?', )"
   ]
  },
  {
   "cell_type": "code",
   "execution_count": 75,
   "id": "f78da599-3b90-4f79-982a-717b2f932896",
   "metadata": {},
   "outputs": [
    {
     "data": {
      "text/plain": [
       "'STUDENT'"
      ]
     },
     "execution_count": 75,
     "metadata": {},
     "output_type": "execute_result"
    }
   ],
   "source": [
    "utils.pipeline_l2(llm, 'Which country have students the most books at home? How much is it in average?', df_sch, meta_sch, cols_retriever)"
   ]
  },
  {
   "cell_type": "code",
   "execution_count": 76,
   "id": "b1719910-4280-401e-b747-9bc30fdf5b77",
   "metadata": {},
   "outputs": [
    {
     "data": {
      "text/plain": [
       "'SCHOOL'"
      ]
     },
     "execution_count": 76,
     "metadata": {},
     "output_type": "execute_result"
    }
   ],
   "source": [
    "utils.pipeline_l2(llm, 'Which country has the highest average  teacher student ratio? How much is it?', df_sch, meta_sch, cols_retriever)"
   ]
  },
  {
   "cell_type": "code",
   "execution_count": 77,
   "id": "283de81d-a406-43ea-a885-2421fca8c60e",
   "metadata": {},
   "outputs": [
    {
     "data": {
      "text/plain": [
       "'NONE'"
      ]
     },
     "execution_count": 77,
     "metadata": {},
     "output_type": "execute_result"
    }
   ],
   "source": [
    "utils.pipeline_l2(llm, 'how many countries were involved in the survey?', df_sch, meta_sch, cols_retriever)"
   ]
  },
  {
   "cell_type": "code",
   "execution_count": 9,
   "id": "ba0122a1-8559-4ad7-87f7-459d35135f2d",
   "metadata": {},
   "outputs": [],
   "source": [
    "from langchain_openai import ChatOpenAI\n",
    "\n",
    "llm = ChatOpenAI(temperature=0)"
   ]
  },
  {
   "cell_type": "code",
   "execution_count": 36,
   "id": "25534470-f429-4566-a73a-97419a2aabc5",
   "metadata": {},
   "outputs": [
    {
     "data": {
      "text/plain": [
       "[Document(page_content='Intl. Student ID', metadata={'year': 2022, 'original_col_name': 'CNTSTUID'}),\n",
       " Document(page_content='Intl. School ID', metadata={'year': 2022, 'original_col_name': 'CNTSCHID'}),\n",
       " Document(page_content=\"Students' age\", metadata={'year': 2022, 'original_col_name': 'AGE'}),\n",
       " Document(page_content=\"Student's county of birth\", metadata={'year': 2022, 'original_col_name': 'COBN_S'})]"
      ]
     },
     "execution_count": 36,
     "metadata": {},
     "output_type": "execute_result"
    }
   ],
   "source": [
    "cols_retriever.invoke('1. Student ID')"
   ]
  },
  {
   "cell_type": "code",
   "execution_count": 37,
   "id": "d85d2c42-65a8-4618-805f-17fc355aed27",
   "metadata": {},
   "outputs": [
    {
     "name": "stdout",
     "output_type": "stream",
     "text": [
      "1. Student ID\n",
      "2. Interview Date\n",
      "3. Interviewer Name\n",
      "4. Interview Location\n",
      "5. Interview Duration\n",
      "6. Interview Notes\n",
      "hint 1. Student ID\n",
      "['CNTSTUID', 'CNTSCHID', 'AGE', 'COBN_S']\n",
      "hint 2. Interview Date\n",
      "['VER_DAT', 'ST330Q03WA', 'ST330Q02WA', 'Option_TQ']\n",
      "hint 3. Interviewer Name\n",
      "['Option_TQ', 'LANGTEST_QQQ', 'Option_PQ', 'Option_WBQ']\n",
      "hint 4. Interview Location\n",
      "['ST330Q02WA', 'Option_TQ', 'ST330Q03WA', 'REGION']\n",
      "hint 5. Interview Duration\n",
      "['DURECEC', 'Option_TQ', 'ST273Q05JA', 'LANGTEST_QQQ']\n",
      "hint 6. Interview Notes\n",
      "['LANGTEST_QQQ', 'Option_TQ', 'ST330Q02WA', 'PV6READ']\n",
      "content=\"def run(df):\\n    return float(df['CNTSTUID'].dropna().nunique())\" response_metadata={'token_usage': {'completion_tokens': 19, 'prompt_tokens': 782, 'total_tokens': 801}, 'model_name': 'gpt-3.5-turbo', 'system_fingerprint': None, 'finish_reason': 'stop', 'logprobs': None} id='run-b7dc621e-bcce-4465-8f65-015e9dce1c78-0' usage_metadata={'input_tokens': 782, 'output_tokens': 19, 'total_tokens': 801}\n",
      "def run(df):\n",
      "    return float(df['CNTSTUID'].dropna().nunique())\n"
     ]
    },
    {
     "data": {
      "text/plain": [
       "{'question': 'How many students were interviewed?',\n",
       " 'result': 613744.0,\n",
       " 'hint_cols': ['CNTSTUID',\n",
       "  'CNTSCHID',\n",
       "  'AGE',\n",
       "  'COBN_S',\n",
       "  'VER_DAT',\n",
       "  'ST330Q03WA',\n",
       "  'ST330Q02WA',\n",
       "  'Option_TQ',\n",
       "  'Option_TQ',\n",
       "  'LANGTEST_QQQ',\n",
       "  'Option_PQ',\n",
       "  'Option_WBQ',\n",
       "  'ST330Q02WA',\n",
       "  'Option_TQ',\n",
       "  'ST330Q03WA',\n",
       "  'REGION',\n",
       "  'DURECEC',\n",
       "  'Option_TQ',\n",
       "  'ST273Q05JA',\n",
       "  'LANGTEST_QQQ',\n",
       "  'LANGTEST_QQQ',\n",
       "  'Option_TQ',\n",
       "  'ST330Q02WA',\n",
       "  'PV6READ']}"
      ]
     },
     "execution_count": 37,
     "metadata": {},
     "output_type": "execute_result"
    }
   ],
   "source": [
    "utils.pipeline(llm, 'How many students were interviewed?', df_sch, meta_sch, cols_retriever)"
   ]
  },
  {
   "cell_type": "code",
   "execution_count": 27,
   "id": "37a17d68-e59b-42f6-b6d5-424ed96a0452",
   "metadata": {},
   "outputs": [
    {
     "data": {
      "text/plain": [
       "85537.0"
      ]
     },
     "execution_count": 27,
     "metadata": {},
     "output_type": "execute_result"
    }
   ],
   "source": [
    "float(df_sch['CNTSTUID'].nunique())"
   ]
  },
  {
   "cell_type": "code",
   "execution_count": 38,
   "id": "59fe7f55-b752-478b-89bc-2f707314e836",
   "metadata": {},
   "outputs": [
    {
     "name": "stdout",
     "output_type": "stream",
     "text": [
      "- Country ID\n",
      "- Country Name\n",
      "hint - Country ID\n",
      "['CNTSTUID', 'CNTSCHID', 'CNT', 'SUBNATIO']\n",
      "hint - Country Name\n",
      "['CNT', 'REGION', 'COBN_F', 'OECD']\n",
      "content=\"def run(df):\\n    return float(df['CNT'].dropna().nunique())\" response_metadata={'token_usage': {'completion_tokens': 17, 'prompt_tokens': 285, 'total_tokens': 302}, 'model_name': 'gpt-3.5-turbo', 'system_fingerprint': None, 'finish_reason': 'stop', 'logprobs': None} id='run-62841e7b-131a-4de5-960a-3f53c96f0fdb-0' usage_metadata={'input_tokens': 285, 'output_tokens': 17, 'total_tokens': 302}\n",
      "def run(df):\n",
      "    return float(df['CNT'].dropna().nunique())\n"
     ]
    },
    {
     "data": {
      "text/plain": [
       "{'question': 'How many countries where in the survey?',\n",
       " 'result': 80.0,\n",
       " 'hint_cols': ['CNTSTUID',\n",
       "  'CNTSCHID',\n",
       "  'CNT',\n",
       "  'SUBNATIO',\n",
       "  'CNT',\n",
       "  'REGION',\n",
       "  'COBN_F',\n",
       "  'OECD']}"
      ]
     },
     "execution_count": 38,
     "metadata": {},
     "output_type": "execute_result"
    }
   ],
   "source": [
    "utils.pipeline(llm, 'How many countries where in the survey?', df_sch, meta_sch, cols_retriever)"
   ]
  },
  {
   "cell_type": "code",
   "execution_count": 12,
   "id": "172d7c15-05c9-4708-a72c-0886dfe94bc0",
   "metadata": {},
   "outputs": [
    {
     "name": "stdout",
     "output_type": "stream",
     "text": [
      "1. Student ID\n",
      "2. Social background (e.g. parental education level, household income)\n",
      "3. Math score\n",
      "hint 1. Student ID\n",
      "['CNTSTUID', 'CNTSCHID', 'AGE', 'COBN_S']\n",
      "hint 2. Social background (e.g. parental education level, household income)\n",
      "['MISCED', 'FISCED', 'HISCED', 'ATTIMMP']\n",
      "hint 3. Math score\n",
      "['PV3MPRE', 'MATHPREF', 'PV3MPFS', 'PV3MPIN']\n",
      "content=\"def run(data):\\n    data = data[['MISCED', 'FISCED', 'HISCED', 'PV3MPRE', 'MATHPREF', 'PV3MPFS', 'PV3MPIN']].dropna()\\n    \\n    X = data[['MISCED', 'FISCED', 'HISCED', 'MATHPREF']]\\n    y = data['PV3MPRE']\\n    \\n    from sklearn.linear_model import LinearRegression\\n    model = LinearRegression()\\n    model.fit(X, y)\\n    \\n    return float(model.coef_[4])\" response_metadata={'token_usage': {'completion_tokens': 119, 'prompt_tokens': 461, 'total_tokens': 580}, 'model_name': 'gpt-3.5-turbo', 'system_fingerprint': None, 'finish_reason': 'stop', 'logprobs': None} id='run-59ceebc5-d35e-411b-928e-1897177e2339-0' usage_metadata={'input_tokens': 461, 'output_tokens': 119, 'total_tokens': 580}\n",
      "def run(data):\n",
      "    data = data[['MISCED', 'FISCED', 'HISCED', 'PV3MPRE', 'MATHPREF', 'PV3MPFS', 'PV3MPIN']].dropna()\n",
      "    \n",
      "    X = data[['MISCED', 'FISCED', 'HISCED', 'MATHPREF']]\n",
      "    y = data['PV3MPRE']\n",
      "    \n",
      "    from sklearn.linear_model import LinearRegression\n",
      "    model = LinearRegression()\n",
      "    model.fit(X, y)\n",
      "    \n",
      "    return float(model.coef_[4])\n"
     ]
    },
    {
     "ename": "IndexError",
     "evalue": "index 4 is out of bounds for axis 0 with size 4",
     "output_type": "error",
     "traceback": [
      "\u001b[0;31m---------------------------------------------------------------------------\u001b[0m",
      "\u001b[0;31mIndexError\u001b[0m                                Traceback (most recent call last)",
      "Cell \u001b[0;32mIn[12], line 1\u001b[0m\n\u001b[0;32m----> 1\u001b[0m \u001b[43mutils\u001b[49m\u001b[38;5;241;43m.\u001b[39;49m\u001b[43mpipeline\u001b[49m\u001b[43m(\u001b[49m\u001b[43mllm\u001b[49m\u001b[43m,\u001b[49m\u001b[43m \u001b[49m\u001b[38;5;124;43m'\u001b[39;49m\u001b[38;5;124;43mWhat is the relation between social background and math score of students? Please give linear regression coefficient as answer.\u001b[39;49m\u001b[38;5;124;43m'\u001b[39;49m\u001b[43m,\u001b[49m\u001b[43m \u001b[49m\u001b[43mdf_sch\u001b[49m\u001b[43m,\u001b[49m\u001b[43m \u001b[49m\u001b[43mmeta_sch\u001b[49m\u001b[43m,\u001b[49m\u001b[43m \u001b[49m\u001b[43mcols_retriever\u001b[49m\u001b[43m)\u001b[49m\n",
      "File \u001b[0;32m~/work/Arpad/Tabular/utils.py:81\u001b[0m, in \u001b[0;36mpipeline\u001b[0;34m(llm, question, df, meta, col_retriever)\u001b[0m\n\u001b[1;32m     79\u001b[0m columns \u001b[38;5;241m=\u001b[39m [i\u001b[38;5;241m.\u001b[39mmetadata[\u001b[38;5;124m'\u001b[39m\u001b[38;5;124moriginal_col_name\u001b[39m\u001b[38;5;124m'\u001b[39m] \u001b[38;5;28;01mfor\u001b[39;00m i \u001b[38;5;129;01min\u001b[39;00m rel_col_docs]\n\u001b[1;32m     80\u001b[0m df2 \u001b[38;5;241m=\u001b[39m df\u001b[38;5;241m.\u001b[39mdropna(subset\u001b[38;5;241m=\u001b[39mcolumns)\n\u001b[0;32m---> 81\u001b[0m res \u001b[38;5;241m=\u001b[39m \u001b[43mexec_code\u001b[49m\u001b[43m(\u001b[49m\u001b[43mcode\u001b[49m\u001b[43m,\u001b[49m\u001b[43m \u001b[49m\u001b[43mdf\u001b[49m\u001b[43m)\u001b[49m\n\u001b[1;32m     82\u001b[0m \u001b[38;5;28;01mreturn\u001b[39;00m {\u001b[38;5;124m'\u001b[39m\u001b[38;5;124mquestion\u001b[39m\u001b[38;5;124m'\u001b[39m: question, \u001b[38;5;124m'\u001b[39m\u001b[38;5;124mresult\u001b[39m\u001b[38;5;124m'\u001b[39m: res, \u001b[38;5;124m'\u001b[39m\u001b[38;5;124mhint_cols\u001b[39m\u001b[38;5;124m'\u001b[39m: [i\u001b[38;5;241m.\u001b[39mmetadata[\u001b[38;5;124m'\u001b[39m\u001b[38;5;124moriginal_col_name\u001b[39m\u001b[38;5;124m'\u001b[39m] \u001b[38;5;28;01mfor\u001b[39;00m i \u001b[38;5;129;01min\u001b[39;00m rel_col_docs]}\n",
      "File \u001b[0;32m~/work/Arpad/Tabular/utils.py:69\u001b[0m, in \u001b[0;36mexec_code\u001b[0;34m(code, df)\u001b[0m\n\u001b[1;32m     67\u001b[0m \u001b[38;5;28;01mdef\u001b[39;00m \u001b[38;5;21mexec_code\u001b[39m(code, df):            \n\u001b[1;32m     68\u001b[0m     loc \u001b[38;5;241m=\u001b[39m \u001b[38;5;28mlocals\u001b[39m()\n\u001b[0;32m---> 69\u001b[0m     \u001b[43mexec\u001b[49m\u001b[43m(\u001b[49m\u001b[43mcode\u001b[49m\u001b[43m \u001b[49m\u001b[38;5;241;43m+\u001b[39;49m\u001b[43m \u001b[49m\u001b[38;5;124;43m\"\u001b[39;49m\u001b[38;5;130;43;01m\\n\u001b[39;49;00m\u001b[38;5;124;43mr = run(df)\u001b[39;49m\u001b[38;5;130;43;01m\\n\u001b[39;49;00m\u001b[38;5;124;43m\"\u001b[39;49m\u001b[43m,\u001b[49m\u001b[43m \u001b[49m\u001b[38;5;28;43mglobals\u001b[39;49m\u001b[43m(\u001b[49m\u001b[43m)\u001b[49m\u001b[43m,\u001b[49m\u001b[43m \u001b[49m\u001b[43mloc\u001b[49m\u001b[43m)\u001b[49m\n\u001b[1;32m     70\u001b[0m     \u001b[38;5;28;01mreturn\u001b[39;00m loc[\u001b[38;5;124m'\u001b[39m\u001b[38;5;124mr\u001b[39m\u001b[38;5;124m'\u001b[39m]\n",
      "File \u001b[0;32m<string>:12\u001b[0m\n",
      "File \u001b[0;32m<string>:11\u001b[0m, in \u001b[0;36mrun\u001b[0;34m(data)\u001b[0m\n",
      "\u001b[0;31mIndexError\u001b[0m: index 4 is out of bounds for axis 0 with size 4"
     ]
    }
   ],
   "source": [
    "utils.pipeline(llm, 'What is the relation between social background and math score of students? Please give linear regression coefficient as answer.', df_sch, meta_sch, cols_retriever)"
   ]
  },
  {
   "cell_type": "code",
   "execution_count": 114,
   "id": "2b4a2b21-3201-4828-8e1c-59e210792ccd",
   "metadata": {},
   "outputs": [
    {
     "name": "stdout",
     "output_type": "stream",
     "text": [
      "1. Student ID\n",
      "2. Social background (e.g. parental education level, household income)\n",
      "3. Math score\n",
      "\n",
      "Linear regression coefficient: The coefficient will indicate the strength and direction of the relationship between social background and math score.\n",
      "hint 1. Student ID\n",
      "['CNTSTUID', 'CNTSCHID', 'AGE', 'COBN_S']\n",
      "['CNTSTUID', 'CNTSCHID', 'AGE', 'COBN_S']\n",
      "hint 2. Social background (e.g. parental education level, household income)\n",
      "['MISCED', 'FISCED', 'HISCED', 'ATTIMMP']\n",
      "['MISCED', 'FISCED', 'HISCED', 'ATTIMMP']\n",
      "hint 3. Math score\n",
      "['PV3MPRE', 'MATHPREF', 'PV3MPFS', 'PV3MPIN']\n",
      "['PV3MPRE', 'MATHPREF', 'PV3MPFS', 'PV3MPIN']\n",
      "hint \n",
      "['PV2SCIE', 'PV9SCIE', 'SISCO', 'PV2READ']\n",
      "['PV2SCIE', 'PV9SCIE', 'SISCO', 'PV2READ']\n",
      "hint Linear regression coefficient: The coefficient will indicate the strength and direction of the relationship between social background and math score.\n",
      "['MATHMOT', 'PV1MCCR', 'PV4MCCR', 'PV2MCCR']\n",
      "['MATHMOT', 'PV1MCCR', 'PV4MCCR', 'PV2MCCR']\n",
      "['Intl. Student ID', 'Intl. School ID', \"Students' age\", \"Student's county of birth\", 'Mother’s level of education (ISCED)', 'Father’s level of education (ISCED)', 'Highest level of education of parents (ISCED)', \"Parents' Attitudes towards Immigrants (WLE)\", 'Plausible Value 3 in Process Subscale of Mathematics - Reasoning', 'Preference of Math over other core subjects', 'Plausible Value 3 in Process Subscale of Mathematics - Formulating Situations Mathematically', 'Plausible Value 3 in Process Subscale of Mathematics - Interpreting, Applying, and Evaluating Mathematical Outcomes', 'Plausible Value 2 in Science', 'Plausible Value 9 in Science', 'Clear idea about future job', 'Plausible Value 2 in Reading', 'Motivation to do well in mathematics', 'Plausible Value 1 in Content Subscale of Mathematics - Change and Relationships', 'Plausible Value 4 in Content Subscale of Mathematics - Change and Relationships', 'Plausible Value 2 in Content Subscale of Mathematics - Change and Relationships']\n",
      "content=\"```python\\nimport pandas as pd\\nimport numpy as np\\nfrom sklearn.linear_model import LinearRegression\\n\\ndef run(data):\\n    data = data[['MISCED', 'FISCED', 'HISCED', 'PV3MPRE']]\\n    data = data.dropna()\\n    \\n    X = data[['MISCED', 'FISCED', 'HISCED']]\\n    y = data['PV3MPRE']\\n    \\n    model = LinearRegression()\\n    model.fit(X, y)\\n    \\n    return float(model.coef_[0])\\n```\" response_metadata={'token_usage': {'completion_tokens': 112, 'prompt_tokens': 709, 'total_tokens': 821}, 'model_name': 'gpt-3.5-turbo', 'system_fingerprint': None, 'finish_reason': 'stop', 'logprobs': None} id='run-33f95123-f848-4fdd-81d9-1fd6350ca488-0' usage_metadata={'input_tokens': 709, 'output_tokens': 112, 'total_tokens': 821}\n",
      "\n",
      "import pandas as pd\n",
      "import numpy as np\n",
      "from sklearn.linear_model import LinearRegression\n",
      "\n",
      "def run(data):\n",
      "    data = data[['MISCED', 'FISCED', 'HISCED', 'PV3MPRE']]\n",
      "    data = data.dropna()\n",
      "    \n",
      "    X = data[['MISCED', 'FISCED', 'HISCED']]\n",
      "    y = data['PV3MPRE']\n",
      "    \n",
      "    model = LinearRegression()\n",
      "    model.fit(X, y)\n",
      "    \n",
      "    return float(model.coef_[0])\n",
      "\n"
     ]
    },
    {
     "data": {
      "text/plain": [
       "{'question': 'What is the relation between social background and math score of students? Please give linear regression coefficient as answer.',\n",
       " 'result': 8.370679333883233,\n",
       " 'hint_cols': ['CNTSTUID',\n",
       "  'CNTSCHID',\n",
       "  'AGE',\n",
       "  'COBN_S',\n",
       "  'MISCED',\n",
       "  'FISCED',\n",
       "  'HISCED',\n",
       "  'ATTIMMP',\n",
       "  'PV3MPRE',\n",
       "  'MATHPREF',\n",
       "  'PV3MPFS',\n",
       "  'PV3MPIN',\n",
       "  'PV2SCIE',\n",
       "  'PV9SCIE',\n",
       "  'SISCO',\n",
       "  'PV2READ',\n",
       "  'MATHMOT',\n",
       "  'PV1MCCR',\n",
       "  'PV4MCCR',\n",
       "  'PV2MCCR']}"
      ]
     },
     "execution_count": 114,
     "metadata": {},
     "output_type": "execute_result"
    }
   ],
   "source": [
    "utils.pipeline(llm, 'What is the relation between social background and math score of students? Please give linear regression coefficient as answer.', df_sch, meta_sch, cols_retriever)"
   ]
  },
  {
   "cell_type": "code",
   "execution_count": 49,
   "id": "697a92b8-f510-4b95-be98-0dc87043ce13",
   "metadata": {},
   "outputs": [
    {
     "name": "stdout",
     "output_type": "stream",
     "text": [
      "Country Name, OECD Member Status\n",
      "hint Country Name\n",
      "['CNT', 'REGION', 'COBN_F', 'OECD']\n",
      "hint  OECD Member Status\n",
      "['OECD', 'ESCS', 'BMMJ1', 'CNTSTUID']\n",
      "content=\"def run(df):\\n    return float(df['OECD'].dropna().nunique())\" response_metadata={'token_usage': {'completion_tokens': 18, 'prompt_tokens': 281, 'total_tokens': 299}, 'model_name': 'gpt-3.5-turbo', 'system_fingerprint': None, 'finish_reason': 'stop', 'logprobs': None} id='run-a50936ba-b226-44a3-b52e-fc50ac667fd7-0' usage_metadata={'input_tokens': 281, 'output_tokens': 18, 'total_tokens': 299}\n",
      "def run(df):\n",
      "    return float(df['OECD'].dropna().nunique())\n"
     ]
    },
    {
     "data": {
      "text/plain": [
       "{'question': 'How many OECD member countries where in the survey? ',\n",
       " 'result': 2.0,\n",
       " 'hint_cols': ['CNT',\n",
       "  'REGION',\n",
       "  'COBN_F',\n",
       "  'OECD',\n",
       "  'OECD',\n",
       "  'ESCS',\n",
       "  'BMMJ1',\n",
       "  'CNTSTUID']}"
      ]
     },
     "execution_count": 49,
     "metadata": {},
     "output_type": "execute_result"
    }
   ],
   "source": [
    "utils.pipeline(llm, 'How many OECD member countries where in the survey? ', df_sch, meta_sch, cols_retriever)"
   ]
  },
  {
   "cell_type": "code",
   "execution_count": 48,
   "id": "4fb920d8-c0ae-4387-8fd3-a12f0c801b4c",
   "metadata": {},
   "outputs": [
    {
     "name": "stdout",
     "output_type": "stream",
     "text": [
      "Country Name, OECD Member\n",
      "hint Country Name\n",
      "['CNT', 'REGION', 'COBN_F', 'OECD']\n",
      "hint  OECD Member\n",
      "['OECD', 'REGION', 'CNTSTUID', 'CNTSCHID']\n",
      "content=\"def run(df):\\n    return float(df['OECD'].dropna().nunique())\" response_metadata={'token_usage': {'completion_tokens': 18, 'prompt_tokens': 262, 'total_tokens': 280}, 'model_name': 'gpt-3.5-turbo', 'system_fingerprint': None, 'finish_reason': 'stop', 'logprobs': None} id='run-e0f70ddc-3818-4a75-9382-dd3c7c6e6458-0' usage_metadata={'input_tokens': 262, 'output_tokens': 18, 'total_tokens': 280}\n",
      "def run(df):\n",
      "    return float(df['OECD'].dropna().nunique())\n"
     ]
    },
    {
     "data": {
      "text/plain": [
       "{'question': 'How many countries that are OECD members where in the survey? ',\n",
       " 'result': 2.0,\n",
       " 'hint_cols': ['CNT',\n",
       "  'REGION',\n",
       "  'COBN_F',\n",
       "  'OECD',\n",
       "  'OECD',\n",
       "  'REGION',\n",
       "  'CNTSTUID',\n",
       "  'CNTSCHID']}"
      ]
     },
     "execution_count": 48,
     "metadata": {},
     "output_type": "execute_result"
    }
   ],
   "source": [
    "utils.pipeline(llm, 'How many countries that are OECD members where in the survey? ', df_sch, meta_sch, cols_retriever)"
   ]
  },
  {
   "cell_type": "code",
   "execution_count": 50,
   "id": "c5739228-ae9b-44f7-a4cc-c08a25e19dda",
   "metadata": {},
   "outputs": [
    {
     "name": "stdout",
     "output_type": "stream",
     "text": [
      "Country Name, OECD Member\n",
      "hint Country Name\n",
      "['CNT', 'REGION', 'COBN_F', 'OECD']\n",
      "hint  OECD Member\n",
      "['OECD', 'REGION', 'CNTSTUID', 'CNTSCHID']\n",
      "content=\"def run(df):\\n    return df['CNT'][df['OECD'].dropna().astype(int) == 1].nunique() * 1.0\" response_metadata={'token_usage': {'completion_tokens': 33, 'prompt_tokens': 263, 'total_tokens': 296}, 'model_name': 'gpt-3.5-turbo', 'system_fingerprint': None, 'finish_reason': 'stop', 'logprobs': None} id='run-f0bb32c7-fd08-4804-a311-aa3e3494fd98-0' usage_metadata={'input_tokens': 263, 'output_tokens': 33, 'total_tokens': 296}\n",
      "def run(df):\n",
      "    return df['CNT'][df['OECD'].dropna().astype(int) == 1].nunique() * 1.0\n"
     ]
    },
    {
     "data": {
      "text/plain": [
       "{'question': 'how many countries that are OECD memeber were involved in the survey?',\n",
       " 'result': 37.0,\n",
       " 'hint_cols': ['CNT',\n",
       "  'REGION',\n",
       "  'COBN_F',\n",
       "  'OECD',\n",
       "  'OECD',\n",
       "  'REGION',\n",
       "  'CNTSTUID',\n",
       "  'CNTSCHID']}"
      ]
     },
     "execution_count": 50,
     "metadata": {},
     "output_type": "execute_result"
    }
   ],
   "source": [
    "utils.pipeline(llm, 'how many countries that are OECD memeber were involved in the survey?', df_sch, meta_sch, cols_retriever)"
   ]
  },
  {
   "cell_type": "code",
   "execution_count": 51,
   "id": "5384a27c-53dd-4653-bf39-095d2cd37759",
   "metadata": {},
   "outputs": [
    {
     "name": "stdout",
     "output_type": "stream",
     "text": [
      "Country Name, OECD Member Status, Survey Participation\n",
      "hint Country Name\n",
      "['CNT', 'REGION', 'COBN_F', 'OECD']\n",
      "hint  OECD Member Status\n",
      "['OECD', 'ESCS', 'BMMJ1', 'CNTSTUID']\n",
      "hint  Survey Participation\n",
      "['Option_TQ', 'Option_PQ', 'Option_WBQ', 'Option_ICTQ']\n",
      "content=\"def run(df):\\n    return float(df['CNT'][df['OECD'].dropna() == 1].nunique())\" response_metadata={'token_usage': {'completion_tokens': 26, 'prompt_tokens': 394, 'total_tokens': 420}, 'model_name': 'gpt-3.5-turbo', 'system_fingerprint': None, 'finish_reason': 'stop', 'logprobs': None} id='run-b8091720-3e01-4bd3-896c-5cdb0a1c8ffc-0' usage_metadata={'input_tokens': 394, 'output_tokens': 26, 'total_tokens': 420}\n",
      "def run(df):\n",
      "    return float(df['CNT'][df['OECD'].dropna() == 1].nunique())\n"
     ]
    },
    {
     "data": {
      "text/plain": [
       "{'question': 'how many countries (column name CNT) that are memeber of OECD organisation were involved in the survey?',\n",
       " 'result': 37.0,\n",
       " 'hint_cols': ['CNT',\n",
       "  'REGION',\n",
       "  'COBN_F',\n",
       "  'OECD',\n",
       "  'OECD',\n",
       "  'ESCS',\n",
       "  'BMMJ1',\n",
       "  'CNTSTUID',\n",
       "  'Option_TQ',\n",
       "  'Option_PQ',\n",
       "  'Option_WBQ',\n",
       "  'Option_ICTQ']}"
      ]
     },
     "execution_count": 51,
     "metadata": {},
     "output_type": "execute_result"
    }
   ],
   "source": [
    "utils.pipeline(llm, 'how many countries (column name CNT) that are memeber of OECD organisation were involved in the survey?', df_sch, meta_sch, cols_retriever)"
   ]
  },
  {
   "cell_type": "code",
   "execution_count": 52,
   "id": "5078bae5-4433-4020-98ef-00c8d6d818b6",
   "metadata": {},
   "outputs": [
    {
     "name": "stdout",
     "output_type": "stream",
     "text": [
      "Country, OECD_member\n",
      "hint Country\n",
      "['REGION', 'OECD', 'COBN_F', 'CNT']\n",
      "hint  OECD_member\n",
      "['OECD', 'REGION', 'OCOD1', 'BMMJ1']\n",
      "content=\"def run(data):\\n    return len(data['OECD'].dropna().unique())\" response_metadata={'token_usage': {'completion_tokens': 17, 'prompt_tokens': 281, 'total_tokens': 298}, 'model_name': 'gpt-3.5-turbo', 'system_fingerprint': None, 'finish_reason': 'stop', 'logprobs': None} id='run-0974d546-b1ff-4c03-98b3-de512a7d1a92-0' usage_metadata={'input_tokens': 281, 'output_tokens': 17, 'total_tokens': 298}\n",
      "def run(data):\n",
      "    return len(data['OECD'].dropna().unique())\n"
     ]
    },
    {
     "data": {
      "text/plain": [
       "{'question': 'how many different countries that are memeber of OECD organisation were involved in the survey?',\n",
       " 'result': 2,\n",
       " 'hint_cols': ['REGION',\n",
       "  'OECD',\n",
       "  'COBN_F',\n",
       "  'CNT',\n",
       "  'OECD',\n",
       "  'REGION',\n",
       "  'OCOD1',\n",
       "  'BMMJ1']}"
      ]
     },
     "execution_count": 52,
     "metadata": {},
     "output_type": "execute_result"
    }
   ],
   "source": [
    "utils.pipeline(llm, 'how many different countries that are memeber of OECD organisation were involved in the survey?', df_sch, meta_sch, cols_retriever)"
   ]
  },
  {
   "cell_type": "code",
   "execution_count": 53,
   "id": "c667632f-5efc-4e48-8557-06f13bc5954e",
   "metadata": {
    "scrolled": true
   },
   "outputs": [
    {
     "name": "stdout",
     "output_type": "stream",
     "text": [
      "Language, Questionnaire ID\n",
      "hint Language\n",
      "['LANGTEST_COG', 'LANGN', 'LANGTEST_QQQ', 'LANGTEST_PAQ']\n",
      "hint  Questionnaire ID\n",
      "['BOOKID', 'LANGTEST_QQQ', 'Option_TQ', 'Option_PQ']\n",
      "content=\"def run(data):\\n    return float(data['LANGTEST_QQQ'].dropna().nunique())\" response_metadata={'token_usage': {'completion_tokens': 20, 'prompt_tokens': 282, 'total_tokens': 302}, 'model_name': 'gpt-3.5-turbo', 'system_fingerprint': None, 'finish_reason': 'stop', 'logprobs': None} id='run-9dbe103c-bc1e-4eb8-8e10-4eff083d4210-0' usage_metadata={'input_tokens': 282, 'output_tokens': 20, 'total_tokens': 302}\n",
      "def run(data):\n",
      "    return float(data['LANGTEST_QQQ'].dropna().nunique())\n"
     ]
    },
    {
     "data": {
      "text/plain": [
       "{'question': 'In how many languages \\u200b\\u200bwas the questionnaire filled out?',\n",
       " 'result': 55.0,\n",
       " 'hint_cols': ['LANGTEST_COG',\n",
       "  'LANGN',\n",
       "  'LANGTEST_QQQ',\n",
       "  'LANGTEST_PAQ',\n",
       "  'BOOKID',\n",
       "  'LANGTEST_QQQ',\n",
       "  'Option_TQ',\n",
       "  'Option_PQ']}"
      ]
     },
     "execution_count": 53,
     "metadata": {},
     "output_type": "execute_result"
    }
   ],
   "source": [
    "utils.pipeline(llm, 'In how many languages ​​was the questionnaire filled out?', df_sch, meta_sch, cols_retriever)"
   ]
  },
  {
   "cell_type": "code",
   "execution_count": 54,
   "id": "54f3f362-620d-41da-93e8-3337dbdc738b",
   "metadata": {},
   "outputs": [
    {
     "name": "stdout",
     "output_type": "stream",
     "text": [
      "Country name, Number of books at home\n",
      "hint Country name\n",
      "['CNT', 'REGION', 'COBN_F', 'OECD']\n",
      "hint  Number of books at home\n",
      "['PA195Q01JA', 'ST255Q01JA', 'ST256Q10JA', 'ST256Q06JA']\n",
      "content=\"def run(data):\\n    data.dropna(subset=['PA195Q01JA', 'ST255Q01JA'], inplace=True)\\n    data['total_books'] = data['PA195Q01JA'] + data['ST255Q01JA']\\n    max_books_country = data.loc[data['total_books'].idxmax()]['CNT']\\n    return max_books_country\" response_metadata={'token_usage': {'completion_tokens': 74, 'prompt_tokens': 314, 'total_tokens': 388}, 'model_name': 'gpt-3.5-turbo', 'system_fingerprint': None, 'finish_reason': 'stop', 'logprobs': None} id='run-4422aaf1-15cb-43f7-b330-e06df1e73117-0' usage_metadata={'input_tokens': 314, 'output_tokens': 74, 'total_tokens': 388}\n",
      "def run(data):\n",
      "    data.dropna(subset=['PA195Q01JA', 'ST255Q01JA'], inplace=True)\n",
      "    data['total_books'] = data['PA195Q01JA'] + data['ST255Q01JA']\n",
      "    max_books_country = data.loc[data['total_books'].idxmax()]['CNT']\n",
      "    return max_books_country\n"
     ]
    },
    {
     "data": {
      "text/plain": [
       "{'question': 'In which country name have students the most books at home?',\n",
       " 'result': 'BEL',\n",
       " 'hint_cols': ['CNT',\n",
       "  'REGION',\n",
       "  'COBN_F',\n",
       "  'OECD',\n",
       "  'PA195Q01JA',\n",
       "  'ST255Q01JA',\n",
       "  'ST256Q10JA',\n",
       "  'ST256Q06JA']}"
      ]
     },
     "execution_count": 54,
     "metadata": {},
     "output_type": "execute_result"
    }
   ],
   "source": [
    "utils.pipeline(llm, 'In which country name have students the most books at home?', df_sch, meta_sch, cols_retriever)"
   ]
  },
  {
   "cell_type": "code",
   "execution_count": 45,
   "id": "8a767da9-e60d-424c-9706-458379bb6d7b",
   "metadata": {},
   "outputs": [
    {
     "data": {
      "text/plain": [
       "[Document(page_content='REGION', metadata={'year': 2022, 'original_col_name': 'REGION'}),\n",
       " Document(page_content='OECD country', metadata={'year': 2022, 'original_col_name': 'OECD'}),\n",
       " Document(page_content=\"Student father's country of birth\", metadata={'year': 2022, 'original_col_name': 'COBN_F'}),\n",
       " Document(page_content=\"Student mother's country of birth\", metadata={'year': 2022, 'original_col_name': 'COBN_M'})]"
      ]
     },
     "execution_count": 45,
     "metadata": {},
     "output_type": "execute_result"
    }
   ],
   "source": [
    "cols_retriever.invoke('- Country')"
   ]
  },
  {
   "cell_type": "code",
   "execution_count": 63,
   "id": "19be2a1b-93ad-4b8b-bb0d-04fca0890124",
   "metadata": {},
   "outputs": [
    {
     "name": "stdout",
     "output_type": "stream",
     "text": [
      "Social background, Math score\n",
      "hint Social background\n",
      "['ESCS', 'SOCONPA', 'COBN_M', 'COBN_F']\n",
      "hint  Math score\n",
      "['MATHMOT', 'MATHPREF', 'ST296Q01JA', 'ST296Q02JA']\n",
      "content=\"```python\\nimport pandas as pd\\nfrom sklearn.linear_model import LinearRegression\\n\\ndef run(data):\\n    data = data[['ESCS', 'MATHMOT']]\\n    data = data.dropna()\\n    \\n    X = data[['ESCS']]\\n    y = data['MATHMOT']\\n    \\n    model = LinearRegression()\\n    model.fit(X, y)\\n    \\n    return float(model.coef_[0])\\n```\" response_metadata={'token_usage': {'completion_tokens': 85, 'prompt_tokens': 353, 'total_tokens': 438}, 'model_name': 'gpt-3.5-turbo', 'system_fingerprint': None, 'finish_reason': 'stop', 'logprobs': None} id='run-30a3fca1-755e-4388-860f-873872491a3b-0' usage_metadata={'input_tokens': 353, 'output_tokens': 85, 'total_tokens': 438}\n",
      "\n",
      "import pandas as pd\n",
      "from sklearn.linear_model import LinearRegression\n",
      "\n",
      "def run(data):\n",
      "    data = data[['ESCS', 'MATHMOT']]\n",
      "    data = data.dropna()\n",
      "    \n",
      "    X = data[['ESCS']]\n",
      "    y = data['MATHMOT']\n",
      "    \n",
      "    model = LinearRegression()\n",
      "    model.fit(X, y)\n",
      "    \n",
      "    return float(model.coef_[0])\n",
      "\n"
     ]
    },
    {
     "data": {
      "text/plain": [
       "{'question': 'What is the relation between social background and math score of students? Please give linear regression coefficients as answer. Mathematics score is stored as plausible values. To calculate math score take the average of plausible values of mathematics.',\n",
       " 'result': -0.0022778274099931424,\n",
       " 'hint_cols': ['ESCS',\n",
       "  'SOCONPA',\n",
       "  'COBN_M',\n",
       "  'COBN_F',\n",
       "  'MATHMOT',\n",
       "  'MATHPREF',\n",
       "  'ST296Q01JA',\n",
       "  'ST296Q02JA']}"
      ]
     },
     "execution_count": 63,
     "metadata": {},
     "output_type": "execute_result"
    }
   ],
   "source": [
    "utils.pipeline(llm, 'What is the relation between social background and math score of students? Please give linear regression coefficients as answer. Mathematics score is stored as plausible values. To calculate math score take the average of plausible values of mathematics.', df_sch, meta_sch, cols_retriever)"
   ]
  },
  {
   "cell_type": "code",
   "execution_count": 65,
   "id": "23c98380-66f5-4d9d-ae25-c1b9135e4ffd",
   "metadata": {},
   "outputs": [
    {
     "data": {
      "text/plain": [
       "AIMessage(content='\"Please analyze the OECD PISA assessment results dataset to determine the relationship between social background index and math scores of students. Utilize the plausible values for math scores and consider the average of the 10 values for each student. Provide insights on how social background influences math performance among students.\"', response_metadata={'token_usage': {'completion_tokens': 57, 'prompt_tokens': 96, 'total_tokens': 153}, 'model_name': 'gpt-3.5-turbo', 'system_fingerprint': None, 'finish_reason': 'stop', 'logprobs': None}, id='run-0cefd587-0aa0-4cf4-a617-c43ba9f8ec48-0', usage_metadata={'input_tokens': 96, 'output_tokens': 57, 'total_tokens': 153})"
      ]
     },
     "execution_count": 65,
     "metadata": {},
     "output_type": "execute_result"
    }
   ],
   "source": [
    "llm.invoke('I am analysing OECD PISA assessment results. In this dataset math scores are stored as \"plausible values\". It means, that each student has 10 different value, and their average should be used. social background has a specific index.  I want to find the answer for the question \"What is the relation between social background and math score of students?\" Can you generate a prompt that makes an LLM to answer the question? ')"
   ]
  },
  {
   "cell_type": "code",
   "execution_count": 67,
   "id": "64a9a202-f186-43ed-861a-75a5caff5b6d",
   "metadata": {},
   "outputs": [
    {
     "name": "stdout",
     "output_type": "stream",
     "text": [
      "social background index, math scores, student ID\n",
      "hint social background index\n",
      "['ESCS', 'IMMIG', 'STUBMI', 'BMMJ1']\n",
      "hint  math scores\n",
      "['MATHMOT', 'MATHPREF', 'IC176Q01JA', 'ST331Q02JA']\n",
      "hint  student ID\n",
      "['CNTSTUID', 'CNTSCHID', 'AGE', 'BOOKID']\n",
      "content=\"def run(data):\\n    data = data[['ESCS', 'MATHMOT']]\\n    data = data.dropna()\\n    \\n    avg_math_scores = data['MATHMOT'].mean()\\n    avg_escs = data['ESCS'].mean()\\n    \\n    return avg_math_scores / avg_escs\" response_metadata={'token_usage': {'completion_tokens': 62, 'prompt_tokens': 493, 'total_tokens': 555}, 'model_name': 'gpt-3.5-turbo', 'system_fingerprint': None, 'finish_reason': 'stop', 'logprobs': None} id='run-6e7a8180-6c02-44bd-b3d9-c47c582067d5-0' usage_metadata={'input_tokens': 493, 'output_tokens': 62, 'total_tokens': 555}\n",
      "def run(data):\n",
      "    data = data[['ESCS', 'MATHMOT']]\n",
      "    data = data.dropna()\n",
      "    \n",
      "    avg_math_scores = data['MATHMOT'].mean()\n",
      "    avg_escs = data['ESCS'].mean()\n",
      "    \n",
      "    return avg_math_scores / avg_escs\n"
     ]
    },
    {
     "data": {
      "text/plain": [
       "{'question': 'Please analyze the OECD PISA assessment results dataset to determine the relationship between social background index and math scores of students. Utilize the plausible values for math scores and consider the average of the 10 values for each student. Provide insights on how social background influences math performance among students.',\n",
       " 'result': -0.17518989987969524,\n",
       " 'hint_cols': ['ESCS',\n",
       "  'IMMIG',\n",
       "  'STUBMI',\n",
       "  'BMMJ1',\n",
       "  'MATHMOT',\n",
       "  'MATHPREF',\n",
       "  'IC176Q01JA',\n",
       "  'ST331Q02JA',\n",
       "  'CNTSTUID',\n",
       "  'CNTSCHID',\n",
       "  'AGE',\n",
       "  'BOOKID']}"
      ]
     },
     "execution_count": 67,
     "metadata": {},
     "output_type": "execute_result"
    }
   ],
   "source": [
    "utils.pipeline(llm, 'Please analyze the OECD PISA assessment results dataset to determine the relationship between social background index and math scores of students. Utilize the plausible values for math scores and consider the average of the 10 values for each student. Provide insights on how social background influences math performance among students.', df_sch, meta_sch, cols_retriever)"
   ]
  },
  {
   "cell_type": "code",
   "execution_count": null,
   "id": "30cc3e89-6726-4b50-8fe1-61475c73b858",
   "metadata": {},
   "outputs": [],
   "source": [
    "utils.pipeline(llm, 'What is the relation between social background and math score of students? Please give linear regression coefficients as answer. Mathematics score is stored as plausible values. To calculate math score take the average of plausible values of mathematics.', df_sch, meta_sch, cols_retriever)"
   ]
  }
 ],
 "metadata": {
  "kernelspec": {
   "display_name": "Python [conda env:arpad_ts]",
   "language": "python",
   "name": "conda-env-arpad_ts-py"
  },
  "language_info": {
   "codemirror_mode": {
    "name": "ipython",
    "version": 3
   },
   "file_extension": ".py",
   "mimetype": "text/x-python",
   "name": "python",
   "nbconvert_exporter": "python",
   "pygments_lexer": "ipython3",
   "version": "3.10.14"
  }
 },
 "nbformat": 4,
 "nbformat_minor": 5
}
