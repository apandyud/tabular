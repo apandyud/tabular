{
 "cells": [
  {
   "cell_type": "code",
   "execution_count": 70,
   "id": "2adfc3cc-7f34-4db3-926b-ae004185f196",
   "metadata": {},
   "outputs": [
    {
     "name": "stdout",
     "output_type": "stream",
     "text": [
      "The autoreload extension is already loaded. To reload it, use:\n",
      "  %reload_ext autoreload\n"
     ]
    }
   ],
   "source": [
    "import pandas as pd\n",
    "import pyreadstat\n",
    "from langchain_chroma import Chroma\n",
    "from langchain_openai import OpenAIEmbeddings\n",
    "import utils\n",
    "from langchain_community.vectorstores import FAISS\n",
    "from langchain_core.documents import Document\n",
    "import numpy as np\n",
    "from progress.bar import Bar\n",
    "%load_ext autoreload\n",
    "%autoreload 2\n"
   ]
  },
  {
   "cell_type": "code",
   "execution_count": 63,
   "id": "e73c9812-4060-4a18-bb3e-5b9380841b90",
   "metadata": {},
   "outputs": [],
   "source": [
    "#pip3 install progress progressbar2 alive-progress tqdm"
   ]
  },
  {
   "cell_type": "code",
   "execution_count": 64,
   "id": "05141ab4-b23f-4a0d-a41e-cc918811030f",
   "metadata": {},
   "outputs": [],
   "source": [
    "df_stu, meta_stu = pyreadstat.read_sav('data/CY08MSP_STU_QQQ_HUN.sav')"
   ]
  },
  {
   "cell_type": "code",
   "execution_count": 65,
   "id": "aec4a347-3f4b-49ec-9e0b-91652f0deefa",
   "metadata": {},
   "outputs": [],
   "source": [
    "import os\n",
    "with open('data/openai.api.key', 'r') as filek: \n",
    "    openai_key = filek.read()\n",
    "os.environ[\"OPENAI_API_KEY\"] =  openai_key "
   ]
  },
  {
   "cell_type": "code",
   "execution_count": 66,
   "id": "02754d4b-f9d9-4b63-8db2-0d37359e325b",
   "metadata": {},
   "outputs": [],
   "source": [
    "df_stu['STUD_MATH'] = 0\n",
    "df_stu['STUD_READ'] = 0\n",
    "df_stu['STUD_SCIE'] = 0\n",
    "\n",
    "cols = utils.meta2docs(meta_stu, excluded=['test','CNTRYID'])\n",
    "\n",
    "cols.append( Document(\n",
    "                    page_content= 'Student\\'s score in Mathematics',\n",
    "                    metadata={\"year\": 2022, \"original_col_name\": 'STUD_MATH'},\n",
    "                ))\n",
    "\n",
    "cols.append( Document(\n",
    "                    page_content= 'Student\\'s score in Reading',\n",
    "                    metadata={\"year\": 2022, \"original_col_name\": 'STUD_READ'},\n",
    "                ))\n",
    "\n",
    "cols.append( Document(\n",
    "                    page_content= 'Student\\'s score in Science',\n",
    "                    metadata={\"year\": 2022, \"original_col_name\": 'STUD_SCIE'},\n",
    "                ))\n",
    "#drop empty columns\n",
    "df_stu = df_stu.dropna(axis=1, how='all')\n",
    "\n",
    "cols2 = []\n",
    "for col in cols:\n",
    "    if col.metadata['original_col_name'] in df_stu.columns:\n",
    "        cols2.append(col)\n",
    "cols = cols2\n",
    "\n",
    "cols_vectorstore = FAISS.from_documents(cols, OpenAIEmbeddings())\n",
    "\n",
    "cols_retriever = cols_vectorstore.as_retriever()"
   ]
  },
  {
   "cell_type": "code",
   "execution_count": 67,
   "id": "2ceef833-acff-4463-b6a5-25d89c05d95e",
   "metadata": {},
   "outputs": [],
   "source": [
    "from langchain.globals import set_llm_cache\n",
    "from langchain_openai import ChatOpenAI\n",
    "from langchain_community.cache import SQLiteCache\n",
    "\n",
    "\n",
    "llm = ChatOpenAI(temperature=0)\n",
    "set_llm_cache(SQLiteCache(database_path=\".langchain.db\"))\n"
   ]
  },
  {
   "cell_type": "code",
   "execution_count": 68,
   "id": "68e277cd-a34d-4178-8095-aa23039f75d0",
   "metadata": {},
   "outputs": [],
   "source": [
    "qs = utils.load_questions('questions_c108_20240901_193906.txt')"
   ]
  },
  {
   "cell_type": "code",
   "execution_count": 76,
   "id": "ca18e091-203e-4f76-bf38-61940488fe6a",
   "metadata": {
    "scrolled": true
   },
   "outputs": [
    {
     "data": {
      "application/vnd.jupyter.widget-view+json": {
       "model_id": "a0fd68187e2a4fccb26e817fd2facdf4",
       "version_major": 2,
       "version_minor": 0
      },
      "text/plain": [
       "  0%|          | 0/108 [00:00<?, ?it/s]"
      ]
     },
     "metadata": {},
     "output_type": "display_data"
    },
    {
     "name": "stdout",
     "output_type": "stream",
     "text": [
      "[Error] Pandas data cast to numpy dtype of object. Check input data with np.asarray(data).\n",
      "[Error] Pandas data cast to numpy dtype of object. Check input data with np.asarray(data).\n",
      "[Error] name 'mean_squared_error' is not defined\n",
      "[Error] '(' was never closed (<string>, line 7)\n",
      "[Error] name 'mean_squared_error' is not defined\n",
      "[Error] name 'loc' is not defined\n",
      "[Error] name 'loc' is not defined\n",
      "[Error] name 'loc' is not defined\n",
      "[Error] name 'loc' is not defined\n",
      "[Error] name 'loc' is not defined\n",
      "[Error] name 'loc' is not defined\n",
      "[Error] name 'loc' is not defined\n",
      "[Error] name 'loc' is not defined\n",
      "[Error] name 'loc' is not defined\n",
      "[Error] name 'loc' is not defined\n",
      "[Error] name 'loc' is not defined\n",
      "[Error] name 'loc' is not defined\n",
      "[Error] name 'loc' is not defined\n",
      "[Error] name 'loc' is not defined\n",
      "[Error] name 'loc' is not defined\n",
      "[Error] name 'loc' is not defined\n",
      "[Error] name 'loc' is not defined\n",
      "[Error] name 'loc' is not defined\n",
      "[Error] name 'loc' is not defined\n",
      "[Error] name 'loc' is not defined\n",
      "[Error] name 'loc' is not defined\n",
      "[Error] name 'loc' is not defined\n",
      "[Error] name 'loc' is not defined\n",
      "[Error] name 'loc' is not defined\n",
      "[Error] name 'loc' is not defined\n",
      "[Error] name 'loc' is not defined\n",
      "[Error] name 'loc' is not defined\n",
      "[Error] name 'loc' is not defined\n",
      "[Error] name 'loc' is not defined\n",
      "[Error] name 'loc' is not defined\n"
     ]
    }
   ],
   "source": [
    "res = utils.execute_tests(llm, qs, df_stu, meta_stu, cols_retriever)"
   ]
  },
  {
   "cell_type": "code",
   "execution_count": 72,
   "id": "bb4de0ac-453f-4ac8-a603-4c3236731816",
   "metadata": {},
   "outputs": [
    {
     "data": {
      "text/plain": [
       "35"
      ]
     },
     "execution_count": 72,
     "metadata": {},
     "output_type": "execute_result"
    }
   ],
   "source": [
    "pdres = pd.DataFrame(res)\n",
    "len(pdres[pdres['result'].isnull()])\n"
   ]
  },
  {
   "cell_type": "code",
   "execution_count": 73,
   "id": "4bb59dd8-8d31-4998-ac6c-b439a015e93e",
   "metadata": {},
   "outputs": [
    {
     "data": {
      "text/html": [
       "<div>\n",
       "<style scoped>\n",
       "    .dataframe tbody tr th:only-of-type {\n",
       "        vertical-align: middle;\n",
       "    }\n",
       "\n",
       "    .dataframe tbody tr th {\n",
       "        vertical-align: top;\n",
       "    }\n",
       "\n",
       "    .dataframe thead th {\n",
       "        text-align: right;\n",
       "    }\n",
       "</style>\n",
       "<table border=\"1\" class=\"dataframe\">\n",
       "  <thead>\n",
       "    <tr style=\"text-align: right;\">\n",
       "      <th></th>\n",
       "      <th>question</th>\n",
       "      <th>result</th>\n",
       "      <th>inter</th>\n",
       "      <th>used_columns</th>\n",
       "      <th>hint_cols</th>\n",
       "      <th>code</th>\n",
       "    </tr>\n",
       "  </thead>\n",
       "  <tbody>\n",
       "    <tr>\n",
       "      <th>0</th>\n",
       "      <td>What is the relation between social background...</td>\n",
       "      <td>(47.26859645731944, Linear Regression)</td>\n",
       "      <td>The linear regression coefficient for the rela...</td>\n",
       "      <td>[ESCS, STUD_MATH]</td>\n",
       "      <td>[(ESCS, Index of economic, social and cultural...</td>\n",
       "      <td>def run(data):\\n    data = data[['ESCS', 'STUD...</td>\n",
       "    </tr>\n",
       "    <tr>\n",
       "      <th>1</th>\n",
       "      <td>Can you provide the linear regression coeffici...</td>\n",
       "      <td>(([47.216271605008814], 1.1168192023120016), L...</td>\n",
       "      <td>The linear regression coefficient for the rela...</td>\n",
       "      <td>[STUD_MATH, ESCS, STUD_MATH, STUD_MATH]</td>\n",
       "      <td>[(STUD_MATH, Student's score in Mathematics), ...</td>\n",
       "      <td>def run(data):\\n    data = data[['STUD_MATH', ...</td>\n",
       "    </tr>\n",
       "    <tr>\n",
       "      <th>2</th>\n",
       "      <td>I am interested in knowing the linear regressi...</td>\n",
       "      <td>None</td>\n",
       "      <td>The result \"None\" likely means that there was ...</td>\n",
       "      <td>[STUD_MATH, COBN_F, COBN_M, ESCS]</td>\n",
       "      <td>[(STUD_MATH, Student's score in Mathematics), ...</td>\n",
       "      <td>def run(data):\\n    data = data[['STUD_MATH', ...</td>\n",
       "    </tr>\n",
       "    <tr>\n",
       "      <th>3</th>\n",
       "      <td>Could you share the linear regression coeffici...</td>\n",
       "      <td>(([47.216271605008814], 1.1168192023120016), L...</td>\n",
       "      <td>The linear regression coefficient for the corr...</td>\n",
       "      <td>[STUD_MATH, ESCS, STUD_MATH, STUD_MATH]</td>\n",
       "      <td>[(STUD_MATH, Student's score in Mathematics), ...</td>\n",
       "      <td>def run(data):\\n    data = data[['STUD_MATH', ...</td>\n",
       "    </tr>\n",
       "    <tr>\n",
       "      <th>4</th>\n",
       "      <td>I would like to see the linear regression coef...</td>\n",
       "      <td>((47.21627160500879, 1.1168192023120016), Line...</td>\n",
       "      <td>The result provided is the linear regression c...</td>\n",
       "      <td>[STUD_MATH, ESCS]</td>\n",
       "      <td>[(STUD_MATH, Student's score in Mathematics), ...</td>\n",
       "      <td>def run(data):\\n    data = data[['STUD_MATH', ...</td>\n",
       "    </tr>\n",
       "    <tr>\n",
       "      <th>...</th>\n",
       "      <td>...</td>\n",
       "      <td>...</td>\n",
       "      <td>...</td>\n",
       "      <td>...</td>\n",
       "      <td>...</td>\n",
       "      <td>...</td>\n",
       "    </tr>\n",
       "    <tr>\n",
       "      <th>103</th>\n",
       "      <td>Can you identify the countries where students ...</td>\n",
       "      <td>None</td>\n",
       "      <td>Based on the result provided, it appears that ...</td>\n",
       "      <td>[CNT, PV10READ]</td>\n",
       "      <td>[(REGION, REGION), (OECD, OECD country), (COBN...</td>\n",
       "      <td>def run(data):\\n    result = data.dropna(subse...</td>\n",
       "    </tr>\n",
       "    <tr>\n",
       "      <th>104</th>\n",
       "      <td>Which countries rank at the bottom for student...</td>\n",
       "      <td>([479.5922458857696], Mean)</td>\n",
       "      <td>The lowest 5 countries for student reading sco...</td>\n",
       "      <td>[CNT, STUD_READ]</td>\n",
       "      <td>[(REGION, REGION), (OECD, OECD country), (COBN...</td>\n",
       "      <td>def run(data):\\n    result = data.dropna(subse...</td>\n",
       "    </tr>\n",
       "    <tr>\n",
       "      <th>105</th>\n",
       "      <td>I'm curious about the countries with the lowes...</td>\n",
       "      <td>([479.5922458857696], mean)</td>\n",
       "      <td>The bottom 5 countries with the lowest reading...</td>\n",
       "      <td>[CNT, STUD_READ]</td>\n",
       "      <td>[(REGION, REGION), (OECD, OECD country), (COBN...</td>\n",
       "      <td>def run(data):\\n    result = data.dropna(subse...</td>\n",
       "    </tr>\n",
       "    <tr>\n",
       "      <th>106</th>\n",
       "      <td>Do you know which countries have the lowest re...</td>\n",
       "      <td>None</td>\n",
       "      <td>Based on the provided result, it appears that ...</td>\n",
       "      <td>[CNT, PV10READ]</td>\n",
       "      <td>[(REGION, REGION), (OECD, OECD country), (COBN...</td>\n",
       "      <td>def run(data):\\n    result = data.dropna(subse...</td>\n",
       "    </tr>\n",
       "    <tr>\n",
       "      <th>107</th>\n",
       "      <td>Could you tell me the countries where students...</td>\n",
       "      <td>([479.5922458857696], mean)</td>\n",
       "      <td>Based on the result provided, it appears that ...</td>\n",
       "      <td>[CNT, STUD_READ]</td>\n",
       "      <td>[(REGION, REGION), (OECD, OECD country), (COBN...</td>\n",
       "      <td>def run(data):\\n    result = data.dropna(subse...</td>\n",
       "    </tr>\n",
       "  </tbody>\n",
       "</table>\n",
       "<p>108 rows × 6 columns</p>\n",
       "</div>"
      ],
      "text/plain": [
       "                                              question  \\\n",
       "0    What is the relation between social background...   \n",
       "1    Can you provide the linear regression coeffici...   \n",
       "2    I am interested in knowing the linear regressi...   \n",
       "3    Could you share the linear regression coeffici...   \n",
       "4    I would like to see the linear regression coef...   \n",
       "..                                                 ...   \n",
       "103  Can you identify the countries where students ...   \n",
       "104  Which countries rank at the bottom for student...   \n",
       "105  I'm curious about the countries with the lowes...   \n",
       "106  Do you know which countries have the lowest re...   \n",
       "107  Could you tell me the countries where students...   \n",
       "\n",
       "                                                result  \\\n",
       "0               (47.26859645731944, Linear Regression)   \n",
       "1    (([47.216271605008814], 1.1168192023120016), L...   \n",
       "2                                                 None   \n",
       "3    (([47.216271605008814], 1.1168192023120016), L...   \n",
       "4    ((47.21627160500879, 1.1168192023120016), Line...   \n",
       "..                                                 ...   \n",
       "103                                               None   \n",
       "104                        ([479.5922458857696], Mean)   \n",
       "105                        ([479.5922458857696], mean)   \n",
       "106                                               None   \n",
       "107                        ([479.5922458857696], mean)   \n",
       "\n",
       "                                                 inter  \\\n",
       "0    The linear regression coefficient for the rela...   \n",
       "1    The linear regression coefficient for the rela...   \n",
       "2    The result \"None\" likely means that there was ...   \n",
       "3    The linear regression coefficient for the corr...   \n",
       "4    The result provided is the linear regression c...   \n",
       "..                                                 ...   \n",
       "103  Based on the result provided, it appears that ...   \n",
       "104  The lowest 5 countries for student reading sco...   \n",
       "105  The bottom 5 countries with the lowest reading...   \n",
       "106  Based on the provided result, it appears that ...   \n",
       "107  Based on the result provided, it appears that ...   \n",
       "\n",
       "                                used_columns  \\\n",
       "0                          [ESCS, STUD_MATH]   \n",
       "1    [STUD_MATH, ESCS, STUD_MATH, STUD_MATH]   \n",
       "2          [STUD_MATH, COBN_F, COBN_M, ESCS]   \n",
       "3    [STUD_MATH, ESCS, STUD_MATH, STUD_MATH]   \n",
       "4                          [STUD_MATH, ESCS]   \n",
       "..                                       ...   \n",
       "103                          [CNT, PV10READ]   \n",
       "104                         [CNT, STUD_READ]   \n",
       "105                         [CNT, STUD_READ]   \n",
       "106                          [CNT, PV10READ]   \n",
       "107                         [CNT, STUD_READ]   \n",
       "\n",
       "                                             hint_cols  \\\n",
       "0    [(ESCS, Index of economic, social and cultural...   \n",
       "1    [(STUD_MATH, Student's score in Mathematics), ...   \n",
       "2    [(STUD_MATH, Student's score in Mathematics), ...   \n",
       "3    [(STUD_MATH, Student's score in Mathematics), ...   \n",
       "4    [(STUD_MATH, Student's score in Mathematics), ...   \n",
       "..                                                 ...   \n",
       "103  [(REGION, REGION), (OECD, OECD country), (COBN...   \n",
       "104  [(REGION, REGION), (OECD, OECD country), (COBN...   \n",
       "105  [(REGION, REGION), (OECD, OECD country), (COBN...   \n",
       "106  [(REGION, REGION), (OECD, OECD country), (COBN...   \n",
       "107  [(REGION, REGION), (OECD, OECD country), (COBN...   \n",
       "\n",
       "                                                  code  \n",
       "0    def run(data):\\n    data = data[['ESCS', 'STUD...  \n",
       "1    def run(data):\\n    data = data[['STUD_MATH', ...  \n",
       "2    def run(data):\\n    data = data[['STUD_MATH', ...  \n",
       "3    def run(data):\\n    data = data[['STUD_MATH', ...  \n",
       "4    def run(data):\\n    data = data[['STUD_MATH', ...  \n",
       "..                                                 ...  \n",
       "103  def run(data):\\n    result = data.dropna(subse...  \n",
       "104  def run(data):\\n    result = data.dropna(subse...  \n",
       "105  def run(data):\\n    result = data.dropna(subse...  \n",
       "106  def run(data):\\n    result = data.dropna(subse...  \n",
       "107  def run(data):\\n    result = data.dropna(subse...  \n",
       "\n",
       "[108 rows x 6 columns]"
      ]
     },
     "execution_count": 73,
     "metadata": {},
     "output_type": "execute_result"
    }
   ],
   "source": [
    "pdres"
   ]
  },
  {
   "cell_type": "code",
   "execution_count": 74,
   "id": "d4ebfa29-0c86-4519-bf5a-cd7284b15a61",
   "metadata": {},
   "outputs": [],
   "source": [
    "pdres.to_csv('result.csv')"
   ]
  },
  {
   "cell_type": "code",
   "execution_count": null,
   "id": "11b39737-d8a6-42b2-b74f-65901968fe0d",
   "metadata": {},
   "outputs": [],
   "source": []
  }
 ],
 "metadata": {
  "kernelspec": {
   "display_name": "Python [conda env:arpad_ts]",
   "language": "python",
   "name": "conda-env-arpad_ts-py"
  },
  "language_info": {
   "codemirror_mode": {
    "name": "ipython",
    "version": 3
   },
   "file_extension": ".py",
   "mimetype": "text/x-python",
   "name": "python",
   "nbconvert_exporter": "python",
   "pygments_lexer": "ipython3",
   "version": "3.10.14"
  }
 },
 "nbformat": 4,
 "nbformat_minor": 5
}
