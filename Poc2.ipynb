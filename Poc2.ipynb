{
 "cells": [
  {
   "cell_type": "code",
   "execution_count": 4,
   "id": "7096b7af-ff61-4640-82b4-b513fa971e34",
   "metadata": {},
   "outputs": [
    {
     "name": "stdout",
     "output_type": "stream",
     "text": [
      "The autoreload extension is already loaded. To reload it, use:\n",
      "  %reload_ext autoreload\n"
     ]
    },
    {
     "name": "stderr",
     "output_type": "stream",
     "text": [
      "/home/jovyan/work/Arpad/Tabular/agri.py:22: DtypeWarning: Columns (0) have mixed types. Specify dtype option on import or set low_memory=False.\n",
      "  df = pd.read_csv('data/met_data_Kismacs_2013.csv').iloc[:-1]\n"
     ]
    }
   ],
   "source": [
    "import agri\n",
    "\n",
    "%load_ext autoreload\n",
    "%autoreload 2\n",
    "    \n",
    "datasets = agri.get_agri_daily_dataset_whole()\n",
    "        \n",
    "def agri_to_flat(ds):\n",
    "    return [{'year': year, 'month': month, 'day':day, 'location': 'Kismacs', 'subject': 'sun radiation',  'value':value } for ((year, month, day), value) in ds.astype(int).items()]\n",
    " \n",
    "data = agri_to_flat(datasets['sugárzás visug'])\n",
    "    "
   ]
  },
  {
   "cell_type": "code",
   "execution_count": null,
   "id": "242a8b54-6fdd-4651-979b-86e321132e2e",
   "metadata": {},
   "outputs": [],
   "source": [
    "Given the following formatted list of data of sun radiation: [{'year': year, 'month': month, 'day':day, 'location': location, 'value':value }], can you generate a python code, which can answer the following question, teken into account the Context? the code must return a human readable text. \n",
    "Context: The sunflower must be sown between April 10 and 14. After three weeks, you need sunlight the most. It needs sun radiation above 200 unit.\n",
    "Question: Is it possible to grow sunflowers in Kismacs?"
   ]
  },
  {
   "cell_type": "code",
   "execution_count": 6,
   "id": "1e80c240-1fef-4bfc-8b2f-0a808c80b664",
   "metadata": {},
   "outputs": [
    {
     "name": "stdout",
     "output_type": "stream",
     "text": [
      "No, it is not possible to grow sunflowers in Kismacs. During the critical period, there is insufficient sun radiation above 200 units.\n"
     ]
    }
   ],
   "source": [
    "sun_radiation_data = data\n",
    "\n",
    "from datetime import datetime, timedelta\n",
    "\n",
    "# Define the sowing window and the period to check\n",
    "sowing_start = datetime(2023, 4, 10)\n",
    "sowing_end = datetime(2023, 4, 14)\n",
    "critical_period_start = sowing_start + timedelta(weeks=3)\n",
    "critical_period_end = sowing_end + timedelta(weeks=3)\n",
    "\n",
    "# Filter data for Kismacs and the critical period\n",
    "filtered_data = [\n",
    "    entry for entry in sun_radiation_data\n",
    "    if entry['location'] == 'Kismacs' and \n",
    "       critical_period_start <= datetime(entry['year'], entry['month'], entry['day']) <= critical_period_end\n",
    "]\n",
    "\n",
    "# Check if any day in the critical period has sun radiation above 200 units\n",
    "sun_radiation_above_200 = any(entry['value'] > 200 for entry in filtered_data)\n",
    "\n",
    "# Generate human-readable text based on the findings\n",
    "if sun_radiation_above_200:\n",
    "    result_text = \"Yes, it is possible to grow sunflowers in Kismacs. During the critical period, there is sufficient sun radiation above 200 units.\"\n",
    "else:\n",
    "    result_text = \"No, it is not possible to grow sunflowers in Kismacs. During the critical period, there is insufficient sun radiation above 200 units.\"\n",
    "\n",
    "print(result_text)"
   ]
  },
  {
   "cell_type": "code",
   "execution_count": null,
   "id": "ec5f2382-0d4c-4b2f-b003-08a84353e9af",
   "metadata": {},
   "outputs": [],
   "source": [
    "Given the following formatted list of data of sun radiation: [{'year': year, 'month': month, 'day':day, 'location': location, 'value':value }], can you generate a python code, which can answer the following question, taking into account the Context? the code must return a human readable text. The code should work for each year, if no year is defined in question. \n",
    "Context: The sunflower must be sown between April 10 and 14. After three weeks, you need sunlight the most. It needs sun radiation above 200 unit.\n",
    "Question: Is it possible to grow sunflowers in Kismacs?"
   ]
  },
  {
   "cell_type": "code",
   "execution_count": 7,
   "id": "ca4b9328-c069-4160-82f5-d9f3b7bed603",
   "metadata": {},
   "outputs": [
    {
     "name": "stdout",
     "output_type": "stream",
     "text": [
      "In 2013, it is possible to grow sunflowers in Kismacs.\n",
      "In 2014, it is not possible to grow sunflowers in Kismacs.\n"
     ]
    }
   ],
   "source": [
    "import pandas as pd\n",
    "from datetime import datetime, timedelta\n",
    "\n",
    "def can_grow_sunflowers(data, location='Kismacs'):\n",
    "    # Convert list of dictionaries to a DataFrame\n",
    "    df = pd.DataFrame(data)\n",
    "    \n",
    "    # Filter for the specified location\n",
    "    df = df[df['location'] == location]\n",
    "    \n",
    "    # Initialize a list to store results for each year\n",
    "    results = []\n",
    "\n",
    "    # Iterate through each unique year in the dataset\n",
    "    for year in df['year'].unique():\n",
    "        # Define the sowing period and the critical period three weeks later\n",
    "        sowing_start = datetime(year, 4, 10)\n",
    "        sowing_end = datetime(year, 4, 14)\n",
    "        critical_start = sowing_start + timedelta(weeks=3)\n",
    "        critical_end = sowing_end + timedelta(weeks=3)\n",
    "\n",
    "        # Filter the dataframe for the critical period\n",
    "        critical_period = df[(df['year'] == year) & \n",
    "                             (df['month'] == critical_start.month) & \n",
    "                             (df['day'] >= critical_start.day) & \n",
    "                             (df['day'] <= critical_end.day)]\n",
    "        \n",
    "        # Check if any day in the critical period has sun radiation above 200\n",
    "        if not critical_period.empty and any(critical_period['value'] > 200):\n",
    "            results.append(f\"In {year}, it is possible to grow sunflowers in {location}.\")\n",
    "        else:\n",
    "            results.append(f\"In {year}, it is not possible to grow sunflowers in {location}.\")\n",
    "    \n",
    "    # Join the results for all years into a single string\n",
    "    return \"\\n\".join(results)\n",
    "\n",
    "\n",
    "# Example usage\n",
    "result = can_grow_sunflowers(data)\n",
    "print(result)\n"
   ]
  },
  {
   "cell_type": "code",
   "execution_count": null,
   "id": "2914042f-dff2-4e7c-bce4-6f21165eb1ee",
   "metadata": {},
   "outputs": [],
   "source": [
    "Given the following formatted list of data of sun radiation: [{'year': year, 'month': month, 'day':day, 'location': location, 'value':value }], can you generate a python code, which can answer the following question, taking into account the Context? the code must return a human readable text. The code should work generic way, if no year is defined in question. \n",
    "Context: The sunflower must be sown between April 10 and 14. After three weeks, you need sunlight the most. It needs sun radiation above 200 unit.\n",
    "Question: Is it possible to grow sunflowers in Kismacs?"
   ]
  },
  {
   "cell_type": "code",
   "execution_count": 8,
   "id": "b2762a9b-efcf-4cd5-9999-16eef4032552",
   "metadata": {},
   "outputs": [
    {
     "name": "stdout",
     "output_type": "stream",
     "text": [
      "No, it is not possible to grow sunflowers in Kismacs. The average sun radiation does not exceed 200 units.\n"
     ]
    }
   ],
   "source": [
    "from datetime import datetime, timedelta\n",
    "\n",
    "\n",
    "def can_grow_sunflowers(data, location='Kismacs'):\n",
    "    # Define the sowing date range\n",
    "    sowing_start = datetime(datetime.now().year, 4, 10)\n",
    "    sowing_end = datetime(datetime.now().year, 4, 14)\n",
    "    \n",
    "    # Filter data for the given location and date range\n",
    "    filtered_data = [\n",
    "        entry for entry in data\n",
    "        if entry['location'] == location\n",
    "    ]\n",
    "    \n",
    "    # Check if there is sufficient data for the required period\n",
    "    for sowing_date in (sowing_start + timedelta(days=i) for i in range((sowing_end - sowing_start).days + 1)):\n",
    "        three_weeks_later = sowing_date + timedelta(weeks=3)\n",
    "        required_period = [\n",
    "            entry for entry in filtered_data\n",
    "            if sowing_date <= datetime(entry['year'], entry['month'], entry['day']) <= three_weeks_later\n",
    "        ]\n",
    "        \n",
    "        # Calculate total sun radiation over this period\n",
    "        total_radiation = sum(entry['value'] for entry in required_period)\n",
    "        days_with_radiation = len(required_period)\n",
    "        \n",
    "        # Calculate the average radiation per day\n",
    "        if days_with_radiation > 0:\n",
    "            average_radiation = total_radiation / days_with_radiation\n",
    "        else:\n",
    "            average_radiation = 0\n",
    "        \n",
    "        if average_radiation > 200:\n",
    "            return f\"Yes, it is possible to grow sunflowers in {location}. The average sun radiation is {average_radiation:.2f} units.\"\n",
    "    \n",
    "    return f\"No, it is not possible to grow sunflowers in {location}. The average sun radiation does not exceed 200 units.\"\n",
    "\n",
    "# Example usage\n",
    "print(can_grow_sunflowers(data))\n"
   ]
  },
  {
   "cell_type": "code",
   "execution_count": null,
   "id": "b3ec960d-26e3-4535-844f-876f248f786d",
   "metadata": {},
   "outputs": [],
   "source": [
    "Given the following formatted list of data of sun radiation: [{'year': year, 'month': month, 'day':day, 'location': location, 'value':value }], can you generate a python code, which can answer the following question, taking into account the Context? the code must return a human readable text. Do not take into account year, if no year is defined in question. \n",
    "Context: The sunflower must be sown between April 10 and 14. After three weeks, you need sunlight the most. It needs sun radiation above 200 unit.\n",
    "Question: Is it possible to grow sunflowers in Kismacs?"
   ]
  },
  {
   "cell_type": "code",
   "execution_count": 9,
   "id": "e19b6bc8-74e1-4568-9cb2-688126975637",
   "metadata": {},
   "outputs": [
    {
     "name": "stdout",
     "output_type": "stream",
     "text": [
      "Yes, it is possible to grow sunflowers in Kismacs. Week starting April 10: sufficient sunlight. Week starting April 17: sufficient sunlight. Week starting April 24: sufficient sunlight.\n"
     ]
    }
   ],
   "source": [
    "from datetime import datetime, timedelta\n",
    "\n",
    "\n",
    "\n",
    "def can_grow_sunflowers(data, location, sowing_start, sowing_end, required_radiation, period_weeks):\n",
    "    # Filter data for the specified location\n",
    "    location_data = [entry for entry in data if entry['location'] == location]\n",
    "    \n",
    "    # Create datetime objects for the sowing period\n",
    "    sowing_start_date = datetime.strptime(sowing_start, \"%m-%d\")\n",
    "    sowing_end_date = datetime.strptime(sowing_end, \"%m-%d\")\n",
    "    \n",
    "    # Initialize variables to track the results\n",
    "    is_possible = False\n",
    "    details = []\n",
    "\n",
    "    for sowing_day in range((sowing_end_date - sowing_start_date).days + 1):\n",
    "        current_date = sowing_start_date + timedelta(days=sowing_day)\n",
    "        sunlight_sufficient = True\n",
    "        \n",
    "        # Check the radiation data for the period_weeks after the sowing date\n",
    "        for week in range(period_weeks):\n",
    "            week_start_date = current_date + timedelta(weeks=week)\n",
    "            week_end_date = week_start_date + timedelta(days=6)\n",
    "\n",
    "            weekly_data = [entry for entry in location_data\n",
    "                           if datetime(entry['year'], entry['month'], entry['day']) >= week_start_date and\n",
    "                           datetime(entry['year'], entry['month'], entry['day']) <= week_end_date]\n",
    "\n",
    "            if all(entry['value'] >= required_radiation for entry in weekly_data):\n",
    "                details.append(f\"Week starting {week_start_date.strftime('%B %d')}: sufficient sunlight.\")\n",
    "            else:\n",
    "                sunlight_sufficient = False\n",
    "                details.append(f\"Week starting {week_start_date.strftime('%B %d')}: insufficient sunlight.\")\n",
    "                break\n",
    "        \n",
    "        if sunlight_sufficient:\n",
    "            is_possible = True\n",
    "            break\n",
    "\n",
    "    if is_possible:\n",
    "        return \"Yes, it is possible to grow sunflowers in Kismacs. \" + \" \".join(details)\n",
    "    else:\n",
    "        return \"No, it is not possible to grow sunflowers in Kismacs. \" + \" \".join(details)\n",
    "\n",
    "# Define the context parameters\n",
    "location = 'Kismacs'\n",
    "sowing_start = \"04-10\"\n",
    "sowing_end = \"04-14\"\n",
    "required_radiation = 200\n",
    "period_weeks = 3\n",
    "\n",
    "# Call the function and print the result\n",
    "result = can_grow_sunflowers(data, location, sowing_start, sowing_end, required_radiation, period_weeks)\n",
    "print(result)\n"
   ]
  },
  {
   "cell_type": "code",
   "execution_count": null,
   "id": "ea9a7f9e-89ba-4d1d-bdb3-e4b5adf5d07f",
   "metadata": {},
   "outputs": [],
   "source": []
  }
 ],
 "metadata": {
  "kernelspec": {
   "display_name": "Python [conda env:arpad_ts2]",
   "language": "python",
   "name": "conda-env-arpad_ts2-py"
  },
  "language_info": {
   "codemirror_mode": {
    "name": "ipython",
    "version": 3
   },
   "file_extension": ".py",
   "mimetype": "text/x-python",
   "name": "python",
   "nbconvert_exporter": "python",
   "pygments_lexer": "ipython3",
   "version": "3.10.14"
  }
 },
 "nbformat": 4,
 "nbformat_minor": 5
}
